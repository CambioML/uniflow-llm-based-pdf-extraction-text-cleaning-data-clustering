{
 "cells": [
  {
   "cell_type": "markdown",
   "id": "7cbc4c4a",
   "metadata": {},
   "source": [
    "# Example of Parsing PDF using Unstructured\n",
    "Source: https://github.com/Unstructured-IO/unstructured"
   ]
  },
  {
   "cell_type": "markdown",
   "id": "73095800",
   "metadata": {},
   "source": [
    "### Before running the code\n",
    "\n",
    "You will need to `uniflow` conda environment to run this notebook. You can set up the environment following the instruction: https://github.com/CambioML/uniflow/tree/main#installation."
   ]
  },
  {
   "cell_type": "markdown",
   "id": "a545274b",
   "metadata": {},
   "source": [
    "### Set up your Unstructured API Key and URL\n",
    "\n",
    "1. create a `.env` file in your root folder;\n",
    "2. acquire them from https://unstructured.io/api-key-hosted\n",
    "2. add the following one line to your `.env file:\n",
    "    ```\n",
    "    UNSTRUCTURED_API_KEY=************************\n",
    "    UNSTRUCTURED_API_URL=************************\n",
    "    ```"
   ]
  },
  {
   "cell_type": "code",
   "execution_count": 14,
   "id": "e3f11527",
   "metadata": {},
   "outputs": [],
   "source": [
    "%reload_ext autoreload\n",
    "%autoreload 2\n",
    "\n",
    "import sys\n",
    "\n",
    "sys.path.append(\".\")\n",
    "sys.path.append(\"..\")\n",
    "sys.path.append(\"../..\")"
   ]
  },
  {
   "cell_type": "markdown",
   "id": "7aea46f1",
   "metadata": {},
   "source": [
    "### Install dependencies if you have not installed them before"
   ]
  },
  {
   "cell_type": "code",
   "execution_count": null,
   "id": "ccdd18ee",
   "metadata": {},
   "outputs": [],
   "source": [
    "!{sys.executable} -m pip install -q boto3\n",
    "!{sys.executable} -m pip install -q easyocr\n",
    "!{sys.executable} -m pip install -q pdf2image\n",
    "!{sys.executable} -m pip install -q onnxruntime\n",
    "!{sys.executable} -m pip install -q pip install opensearch-py\n",
    "!{sys.executable} -m pip install -q onnxruntime-gpu\n",
    "!{sys.executable} -m pip install -q requests-aws4auth"
   ]
  },
  {
   "cell_type": "code",
   "execution_count": 15,
   "id": "c1e762c8",
   "metadata": {},
   "outputs": [],
   "source": [
    "import os\n",
    "from uniflow.flow.client import ExtractClient\n",
    "from uniflow.flow.config import ExtractPDFConfig\n",
    "from uniflow.op.model.model_config import UnstructuredModelConfig"
   ]
  },
  {
   "cell_type": "markdown",
   "id": "224ec4aa",
   "metadata": {},
   "source": [
    "### Load input data"
   ]
  },
  {
   "cell_type": "code",
   "execution_count": 16,
   "id": "99c580fe",
   "metadata": {},
   "outputs": [],
   "source": [
    "dir_cur = os.getcwd()\n",
    "pdf_file = \"1408.5882_page-1.pdf\"\n",
    "input_file = os.path.join(f\"{dir_cur}/data/raw_input/\", pdf_file)"
   ]
  },
  {
   "cell_type": "markdown",
   "id": "cb6c4073",
   "metadata": {},
   "source": [
    "### Extract using Unstructured Model"
   ]
  },
  {
   "cell_type": "code",
   "execution_count": 17,
   "id": "f73e0c4c",
   "metadata": {},
   "outputs": [
    {
     "name": "stderr",
     "output_type": "stream",
     "text": [
      "100%|██████████| 1/1 [00:13<00:00, 13.67s/it]\n"
     ]
    }
   ],
   "source": [
    "data = [\n",
    "    {\"filename\": input_file},\n",
    "]\n",
    "\n",
    "config = ExtractPDFConfig(\n",
    "    model_config=UnstructuredModelConfig(\n",
    "        model_name=\"unstructuredio/online\"\n",
    "    )\n",
    ")\n",
    "unstructured_client = ExtractClient(config)\n",
    "\n",
    "output = unstructured_client.run(data)"
   ]
  },
  {
   "cell_type": "code",
   "execution_count": 18,
   "id": "52404e0b",
   "metadata": {},
   "outputs": [
    {
     "data": {
      "text/plain": [
       "[{'output': [{'text': ['Convolutional Neural Networks for Sentence Classiﬁcation',\n",
       "     'Yoon Kim New York University yhk255@nyu.edu',\n",
       "     '4 1 0 2',\n",
       "     'p e S 3',\n",
       "     '] L C . s c [',\n",
       "     '2 v 2 8 8 5 . 8 0 4 1 : v i X r a',\n",
       "     'Abstract',\n",
       "     'We report on a series of experiments with convolutional neural networks (CNN) trained on top of pre-trained word vec- tors for sentence-level classiﬁcation tasks. We show that a simple CNN with lit- tle hyperparameter tuning and static vec- tors achieves excellent results on multi- ple benchmarks. Learning task-speciﬁc vectors through ﬁne-tuning offers further gains in performance. We additionally propose a simple modiﬁcation to the ar- chitecture to allow for the use of both task-speciﬁc and static vectors. The CNN models discussed herein improve upon the state of the art on 4 out of 7 tasks, which include sentiment analysis and question classiﬁcation.',\n",
       "     'Introduction',\n",
       "     'Deep learning models have achieved remarkable results in computer vision (Krizhevsky et al., 2012) and speech recognition (Graves et al., 2013) in recent years. Within natural language process- ing, much of the work with deep learning meth- ods has involved learning word vector representa- tions through neural language models (Bengio et al., 2003; Yih et al., 2011; Mikolov et al., 2013) and performing composition over the learned word vectors for classiﬁcation (Collobert et al., 2011). Word vectors, wherein words are projected from a sparse, 1-of-V encoding (here V is the vocabulary size) onto a lower dimensional vector space via a hidden layer, are essentially feature extractors that encode semantic features of words in their dimen- sions. In such dense representations, semantically close words are likewise close—in euclidean or cosine distance—in the lower dimensional vector space.',\n",
       "     '1',\n",
       "     'Convolutional neural networks (CNN) utilize layers with convolving ﬁlters that are applied to',\n",
       "     'local features (LeCun et al., 1998). Originally invented for computer vision, CNN models have subsequently been shown to be effective for NLP and have achieved excellent results in semantic parsing (Yih et al., 2014), search query retrieval (Shen et al., 2014), sentence modeling (Kalch- brenner et al., 2014), and other traditional NLP tasks (Collobert et al., 2011).',\n",
       "     'In the present work, we train a simple CNN with one layer of convolution on top of word vectors obtained from an unsupervised neural language model. These vectors were trained by Mikolov et al. (2013) on 100 billion words of Google News, and are publicly available.1 We initially keep the word vectors static and learn only the other param- eters of the model. Despite little tuning of hyper- parameters, this simple model achieves excellent results on multiple benchmarks, suggesting that the pre-trained vectors are ‘universal’ feature ex- tractors that can be utilized for various classiﬁca- tion tasks. Learning task-speciﬁc vectors through ﬁne-tuning results in further improvements. We ﬁnally describe a simple modiﬁcation to the archi- tecture to allow for the use of both pre-trained and task-speciﬁc vectors by having multiple channels. Our work is philosophically similar to Razavian et al. (2014) which showed that for image clas- siﬁcation, feature extractors obtained from a pre- trained deep learning model perform well on a va- riety of tasks—including tasks that are very dif- ferent from the original task for which the feature extractors were trained.',\n",
       "     '2 Model',\n",
       "     'The model architecture, shown in ﬁgure 1, is a slight variant of the CNN architecture of Collobert Rk be the k-dimensional et al. (2011). Let xi 2 word vector corresponding to the i-th word in the sentence. A sentence of length n (padded where',\n",
       "     '1https://code.google.com/p/word2vec/']}],\n",
       "  'root': <uniflow.node.Node at 0x1e5e488c3d0>}]"
      ]
     },
     "execution_count": 18,
     "metadata": {},
     "output_type": "execute_result"
    }
   ],
   "source": [
    "output"
   ]
  },
  {
   "cell_type": "markdown",
   "id": "8f74b681",
   "metadata": {},
   "source": [
    "## End of the notebook\n",
    "\n",
    "Check more Uniflow use cases in the [example folder](https://github.com/CambioML/uniflow/tree/main/example/model#examples)!\n",
    "\n",
    "<a href=\"https://www.cambioml.com/\" title=\"Title\">\n",
    "    <img src=\"../image/cambioml_logo_large.png\" style=\"height: 100px; display: block; margin-left: auto; margin-right: auto;\"/>\n",
    "</a>"
   ]
  }
 ],
 "metadata": {
  "kernelspec": {
   "display_name": "uniflow",
   "language": "python",
   "name": "python3"
  },
  "language_info": {
   "codemirror_mode": {
    "name": "ipython",
    "version": 3
   },
   "file_extension": ".py",
   "mimetype": "text/x-python",
   "name": "python",
   "nbconvert_exporter": "python",
   "pygments_lexer": "ipython3",
   "version": "3.10.13"
  }
 },
 "nbformat": 4,
 "nbformat_minor": 5
}
