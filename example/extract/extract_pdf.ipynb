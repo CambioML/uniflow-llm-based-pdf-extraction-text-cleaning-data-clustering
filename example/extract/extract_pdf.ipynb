{
 "cells": [
  {
   "cell_type": "markdown",
   "id": "7cbc4c4a",
   "metadata": {},
   "source": [
    "# Example of loading PDF using Nougat\n",
    "Source: https://arxiv.org/abs/1408.5882"
   ]
  },
  {
   "cell_type": "markdown",
   "id": "73095800",
   "metadata": {},
   "source": [
    "### Before running the code\n",
    "\n",
    "You will need to `uniflow` conda environment to run this notebook. You can set up the environment following the instruction: https://github.com/CambioML/uniflow/tree/main#installation."
   ]
  },
  {
   "cell_type": "markdown",
   "id": "e7b1dc58",
   "metadata": {},
   "source": [
    "### Load packages"
   ]
  },
  {
   "cell_type": "code",
   "execution_count": 1,
   "id": "e3f11527",
   "metadata": {},
   "outputs": [],
   "source": [
    "%reload_ext autoreload\n",
    "%autoreload 2\n",
    "\n",
    "import sys\n",
    "\n",
    "sys.path.append(\".\")\n",
    "sys.path.append(\"..\")\n",
    "sys.path.append(\"../..\")"
   ]
  },
  {
   "cell_type": "code",
   "execution_count": 2,
   "id": "8d84dd70",
   "metadata": {},
   "outputs": [],
   "source": [
    "import os\n",
    "import pandas as pd\n",
    "from uniflow.flow.client import ExtractClient, TransformClient\n",
    "from uniflow.flow.config import TransformOpenAIConfig, ExtractPDFConfig\n",
    "from uniflow.op.model.model_config import OpenAIModelConfig, NougatModelConfig\n",
    "from uniflow.op.prompt import PromptTemplate, Context\n",
    "from uniflow.op.extract.split.splitter_factory import SplitterOpsFactory\n",
    "from uniflow.op.extract.split.constants import PARAGRAPH_SPLITTER\n"
   ]
  },
  {
   "cell_type": "markdown",
   "id": "cb677037",
   "metadata": {},
   "source": [
    "### Prepare the input data\n",
    "\n",
    "First, let's set current directory and input data directory, and load the raw data."
   ]
  },
  {
   "cell_type": "code",
   "execution_count": 3,
   "id": "092b355a",
   "metadata": {},
   "outputs": [],
   "source": [
    "dir_cur = os.getcwd()\n",
    "pdf_file = \"1408.5882_page-1.pdf\"\n",
    "input_file = os.path.join(f\"{dir_cur}/data/raw_input/\", pdf_file)"
   ]
  },
  {
   "cell_type": "markdown",
   "id": "9cfcec43",
   "metadata": {},
   "source": [
    "### List all the available splitters\n",
    "These are the different splitters we can use to post-process the loaded PDF."
   ]
  },
  {
   "cell_type": "code",
   "execution_count": 4,
   "id": "a2de91ff",
   "metadata": {},
   "outputs": [
    {
     "data": {
      "text/plain": [
       "['ParagraphSplitter', 'MarkdownHeaderSplitter', 'RecursiveCharacterSplitter']"
      ]
     },
     "execution_count": 4,
     "metadata": {},
     "output_type": "execute_result"
    }
   ],
   "source": [
    "SplitterOpsFactory.list()"
   ]
  },
  {
   "cell_type": "markdown",
   "id": "7aea46f1",
   "metadata": {},
   "source": [
    "##### Load the pdf using Nougat"
   ]
  },
  {
   "cell_type": "code",
   "execution_count": 5,
   "id": "8e5cd8de",
   "metadata": {},
   "outputs": [
    {
     "data": {
      "application/vnd.jupyter.widget-view+json": {
       "model_id": "919fc6e025704ea1b5fb92536fc65e71",
       "version_major": 2,
       "version_minor": 0
      },
      "text/plain": [
       "  0%|          | 0/1 [00:00<?, ?it/s]"
      ]
     },
     "metadata": {},
     "output_type": "display_data"
    }
   ],
   "source": [
    "data = [\n",
    "    {\"filename\": input_file},\n",
    "]\n",
    "\n",
    "config = ExtractPDFConfig(\n",
    "    model_config=NougatModelConfig(\n",
    "        model_name = \"facebook/nougat-small\",\n",
    "        batch_size = 2\n",
    "    ),\n",
    "    splitter=PARAGRAPH_SPLITTER,\n",
    ")\n",
    "nougat_client = ExtractClient(config)\n",
    "\n",
    "output = nougat_client.run(data)\n"
   ]
  },
  {
   "cell_type": "code",
   "execution_count": 6,
   "id": "d00fa833",
   "metadata": {},
   "outputs": [
    {
     "data": {
      "text/plain": [
       "[{'output': [{'text': ['# Convolutional Neural Networks for Sentence Classification',\n",
       "     ' Yoon Kim',\n",
       "     'New York University',\n",
       "     'yhk255@nyu.edu',\n",
       "     '###### Abstract',\n",
       "     'We report on a series of experiments with convolutional neural networks (CNN) trained on top of pre-trained word vectors for sentence-level classification tasks. We show that a simple CNN with little hyperparameter tuning and static vectors achieves excellent results on multiple benchmarks. Learning task-specific vectors through fine-tuning offers further gains in performance. We additionally propose a simple modification to the architecture to allow for the use of both task-specific and static vectors. The CNN models discussed herein improve upon the state of the art on 4 out of 7 tasks, which include sentiment analysis and question classification.',\n",
       "     '## 1 Introduction',\n",
       "     'Deep learning models have achieved remarkable results in computer vision [11] and speech recognition [1] in recent years. Within natural language processing, much of the work with deep learning methods has involved learning word vector representations through neural language models [1, 1, 13] and performing composition over the learned word vectors for classification [1]. Word vectors, wherein words are projected from a sparse, 1-of-\\\\(V\\\\) encoding (here \\\\(V\\\\) is the vocabulary size) onto a lower dimensional vector space via a hidden layer, are essentially feature extractors that encode semantic features of words in their dimensions. In such dense representations, semantically close words are likewise close--in euclidean or cosine distance--in the lower dimensional vector space.',\n",
       "     'Convolutional neural networks (CNN) utilize layers with convolving filters that are applied to local features [1]. Originally invented for computer vision, CNN models have subsequently been shown to be effective for NLP and have achieved excellent results in semantic parsing [14], search query retrieval [2], sentence modeling [1], and other traditional NLP tasks [1].',\n",
       "     \"In the present work, we train a simple CNN with one layer of convolution on top of word vectors obtained from an unsupervised neural language model. These vectors were trained by Mikolov et al. (2013) on 100 billion words of Google News, and are publicly available.1 We initially keep the word vectors static and learn only the other parameters of the model. Despite little tuning of hyperparameters, this simple model achieves excellent results on multiple benchmarks, suggesting that the pre-trained vectors are 'universal' feature extractors that can be utilized for various classification tasks. Learning task-specific vectors through fine-tuning results in further improvements. We finally describe a simple modification to the architecture to allow for the use of both pre-trained and task-specific vectors by having multiple channels.\",\n",
       "     'Footnote 1: https://code.google.com/p/word2vec/',\n",
       "     'Our work is philosophically similar to Razavian et al. (2014) which showed that for image classification, feature extractors obtained from a pre-trained deep learning model perform well on a variety of tasks--including tasks that are very different from the original task for which the feature extractors were trained.',\n",
       "     '## 2 Model',\n",
       "     'The model architecture, shown in figure 1, is a slight variant of the CNN architecture of Collobert et al. (2011). Let \\\\(\\\\mathbf{x}_{i}\\\\in\\\\mathbb{R}^{k}\\\\) be the \\\\(k\\\\)-dimensional word vector corresponding to the \\\\(i\\\\)-th word in the sentence. A sentence of length \\\\(n\\\\) (padded where']}],\n",
       "  'root': <uniflow.node.Node at 0x7f19f09f2e00>}]"
      ]
     },
     "execution_count": 6,
     "metadata": {},
     "output_type": "execute_result"
    }
   ],
   "source": [
    "contexts = output[0]['output'][0]['text']\n",
    "output"
   ]
  },
  {
   "cell_type": "markdown",
   "id": "041c35ff",
   "metadata": {},
   "source": [
    "Now we need to write a little bit prompts to generate question and answer for a given paragraph, each promopt data includes a instruction and a list of examples with \"context\", \"question\" and \"answer\"."
   ]
  },
  {
   "cell_type": "code",
   "execution_count": 8,
   "id": "c167f01a",
   "metadata": {},
   "outputs": [],
   "source": [
    "guided_prompt = PromptTemplate(\n",
    "    instruction=\"\"\"Generate one question and its corresponding answer based on the last context in the last\n",
    "    example. Follow the format of the examples below to include context, question, and answer in the response\"\"\",\n",
    "    few_shot_prompt=[Context(\n",
    "        context=\"In 1948, Claude E. Shannon published A Mathematical Theory of\\nCommunication (Shannon, 1948) establishing the theory of\\ninformation. In his article, Shannon introduced the concept of\\ninformation entropy for the first time. We will begin our journey here.\"\"\",\n",
    "        question=\"Who published A Mathematical Theory of Communication in 1948?\"\"\",\n",
    "        answer=\"Claude E. Shannon.\"\"\"\n",
    "    )]\n",
    ")\n",
    "input_data = [\n",
    "        Context(\n",
    "            context=p[:1000],\n",
    "            question=\"\",\n",
    "            answer=\"\",\n",
    "        )\n",
    "        for p in contexts\n",
    "]\n"
   ]
  },
  {
   "cell_type": "markdown",
   "id": "982d781a",
   "metadata": {},
   "source": [
    "### Run the model\n",
    "\n",
    "In this example, we will use the [OpenAIModelServer](https://github.com/CambioML/uniflow/blob/main/uniflow/model/server.py#L108) as the LLM to generate questions and answers. Let's import the config and client of this model."
   ]
  },
  {
   "cell_type": "code",
   "execution_count": 9,
   "id": "71c25e38",
   "metadata": {},
   "outputs": [],
   "source": [
    "config = TransformOpenAIConfig(\n",
    "    prompt_template=guided_prompt,\n",
    "    model_config=OpenAIModelConfig(\n",
    "        response_format={\"type\": \"json_object\"}\n",
    "    ),\n",
    ")\n",
    "transform_client = TransformClient(config)"
   ]
  },
  {
   "cell_type": "markdown",
   "id": "21dab143",
   "metadata": {},
   "source": [
    "Now we call the `run` method on the `client` object to execute the question-answer generation operation on the data shown above.\n",
    "\n",
    "Note sometimes the LLM doesn't return a JSON output, then uniflow will handle the failure and auto retry generating a new output."
   ]
  },
  {
   "cell_type": "code",
   "execution_count": 10,
   "id": "ee76eb78",
   "metadata": {},
   "outputs": [
    {
     "name": "stderr",
     "output_type": "stream",
     "text": [
      "100%|██████████| 14/14 [00:27<00:00,  1.95s/it]\n"
     ]
    }
   ],
   "source": [
    "output = transform_client.run(input_data)"
   ]
  },
  {
   "cell_type": "markdown",
   "id": "2a4252a6",
   "metadata": {},
   "source": [
    "### Process the output\n",
    "\n",
    "Let's take a look of the generation output. We need to do a little postprocessing on the raw output."
   ]
  },
  {
   "cell_type": "code",
   "execution_count": 11,
   "id": "4ff4070f",
   "metadata": {},
   "outputs": [],
   "source": [
    "# Extracting context, question, and answer into a DataFrame\n",
    "contexts = []\n",
    "questions = []\n",
    "answers = []\n",
    "\n",
    "for item in output:\n",
    "    for i in item.get('output', []):\n",
    "        for response in i.get('response', []):\n",
    "            if any(key not in response for key in ['context', 'question', 'answer']):\n",
    "                continue\n",
    "            contexts.append(response['context'])\n",
    "            questions.append(response['question'])\n",
    "            answers.append(response['answer'])\n",
    "\n",
    "df = pd.DataFrame({\n",
    "    'Context': contexts,\n",
    "    'Question': questions,\n",
    "    'Answer': answers\n",
    "})"
   ]
  },
  {
   "cell_type": "code",
   "execution_count": 12,
   "id": "36257b07",
   "metadata": {},
   "outputs": [
    {
     "data": {
      "text/html": [
       "<div>\n",
       "<style scoped>\n",
       "    .dataframe tbody tr th:only-of-type {\n",
       "        vertical-align: middle;\n",
       "    }\n",
       "\n",
       "    .dataframe tbody tr th {\n",
       "        vertical-align: top;\n",
       "    }\n",
       "\n",
       "    .dataframe thead th {\n",
       "        text-align: right;\n",
       "    }\n",
       "</style>\n",
       "<table border=\"1\" class=\"dataframe\">\n",
       "  <thead>\n",
       "    <tr style=\"text-align: right;\">\n",
       "      <th></th>\n",
       "      <th>Context</th>\n",
       "      <th>Question</th>\n",
       "      <th>Answer</th>\n",
       "    </tr>\n",
       "  </thead>\n",
       "  <tbody>\n",
       "    <tr>\n",
       "      <th>0</th>\n",
       "      <td>Convolutional Neural Networks for Sentence Classification</td>\n",
       "      <td>What is the focus of the article?</td>\n",
       "      <td>The focus of the article is Convolutional Neural Networks for Sentence Classification.</td>\n",
       "    </tr>\n",
       "    <tr>\n",
       "      <th>1</th>\n",
       "      <td>Yoon Kim</td>\n",
       "      <td>Who is Yoon Kim?</td>\n",
       "      <td>We need additional context to provide an accurate answer.</td>\n",
       "    </tr>\n",
       "    <tr>\n",
       "      <th>2</th>\n",
       "      <td>New York University</td>\n",
       "      <td>What is the name of the university?</td>\n",
       "      <td>New York University</td>\n",
       "    </tr>\n",
       "    <tr>\n",
       "      <th>3</th>\n",
       "      <td>In 1948, Claude E. Shannon published A Mathematical Theory of Communication (Shannon, 1948) establishing the theory of information. In his article, Shannon introduced the concept of information entropy for the first time. We will begin our journey here.</td>\n",
       "      <td>What concept did Claude E. Shannon introduce for the first time in his article A Mathematical Theory of Communication?</td>\n",
       "      <td>Claude E. Shannon introduced the concept of information entropy for the first time.</td>\n",
       "    </tr>\n",
       "    <tr>\n",
       "      <th>4</th>\n",
       "      <td>In 1948, Claude E. Shannon published A Mathematical Theory of\\nCommunication (Shannon, 1948) establishing the theory of\\ninformation. In his article, Shannon introduced the concept of\\ninformation entropy for the first time. We will begin our journey here.</td>\n",
       "      <td>What concept did Shannon introduce for the first time in his article A Mathematical Theory of Communication?</td>\n",
       "      <td>Shannon introduced the concept of information entropy for the first time.</td>\n",
       "    </tr>\n",
       "    <tr>\n",
       "      <th>5</th>\n",
       "      <td>We report on a series of experiments with convolutional neural networks (CNN) trained on top of pre-trained word vectors for sentence-level classification tasks. We show that a simple CNN with little hyperparameter tuning and static vectors achieves excellent results on multiple benchmarks. Learning task-specific vectors through fine-tuning offers further gains in performance. We additionally propose a simple modification to the architecture to allow for the use of both task-specific and static vectors. The CNN models discussed herein improve upon the state of the art on 4 out of 7 tasks, which include sentiment analysis and question classification.</td>\n",
       "      <td>What type of neural network was used in the experiments?</td>\n",
       "      <td>Convolutional neural networks (CNN).</td>\n",
       "    </tr>\n",
       "    <tr>\n",
       "      <th>6</th>\n",
       "      <td>In 1948, Claude E. Shannon published A Mathematical Theory of\\nCommunication (Shannon, 1948) establishing the theory of\\ninformation. In his article, Shannon introduced the concept of\\ninformation entropy for the first time. We will begin our journey here.</td>\n",
       "      <td>What concept did Shannon introduce for the first time in his article A Mathematical Theory of Communication?</td>\n",
       "      <td>Shannon introduced the concept of information entropy for the first time.</td>\n",
       "    </tr>\n",
       "    <tr>\n",
       "      <th>7</th>\n",
       "      <td>Deep learning models have achieved remarkable results in computer vision [11] and speech recognition [1] in recent years. Within natural language processing, much of the work with deep learning methods has involved learning word vector representations through neural language models [1, 1, 2] and performing composition over the learned word vectors for classification [1]. Word vectors, wherein words are projected from a sparse, 1-of-\\(V\\) encoding (here \\(V\\) is the vocabulary size) onto a lower dimensional vector space via a hidden layer, are essentially feature extractors that encode semantic features of words in their dimensions. In such dense representations, semantically close words are likewise close--in euclidean or cosine distance--in the lower dimensional vector space.</td>\n",
       "      <td>What are word vectors used for in natural language processing?</td>\n",
       "      <td>Word vectors are used for learning word vector representations through neural language models and performing composition over the learned word vectors for classification.</td>\n",
       "    </tr>\n",
       "    <tr>\n",
       "      <th>8</th>\n",
       "      <td>Convolutional neural networks (CNN) utilize layers with convolving filters that are applied to local features [1]. Originally invented for computer vision, CNN models have subsequently been shown to be effective for NLP and have achieved excellent results in semantic parsing [13], search query retrieval [2], sentence modeling [1], and other traditional NLP tasks [1].</td>\n",
       "      <td>What are some tasks for which CNN models have been shown to be effective?</td>\n",
       "      <td>CNN models have been shown to be effective for semantic parsing, search query retrieval, sentence modeling, and other traditional NLP tasks.</td>\n",
       "    </tr>\n",
       "    <tr>\n",
       "      <th>9</th>\n",
       "      <td>In the present work, we train a simple CNN with one layer of convolution on top of word vectors obtained from an unsupervised neural language model. These vectors were trained by Mikolov et al. (2013) on 100 billion words of Google News, and are publicly available.1 We initially keep the word vectors static and learn only the other parameters of the model. Despite little tuning of hyperparameters, this simple model achieves excellent results on multiple benchmarks, suggesting that the pre-trained vectors are 'universal' feature extractors that can be utilized for various classification tasks. Learning task-specific vectors through fine-tuning results in further improvements. We finally describe a simple modification to the architecture to allow for the use of both pre-trained and task-specific vectors by having multiple channels.</td>\n",
       "      <td>Who trained the word vectors on 100 billion words of Google News?</td>\n",
       "      <td>Mikolov et al. (2013)</td>\n",
       "    </tr>\n",
       "    <tr>\n",
       "      <th>10</th>\n",
       "      <td>In 1948, Claude E. Shannon published A Mathematical Theory of\\nCommunication (Shannon, 1948) establishing the theory of\\ninformation. In his article, Shannon introduced the concept of\\ninformation entropy for the first time. We will begin our journey here.</td>\n",
       "      <td>What concept did Claude E. Shannon introduce for the first time in his article A Mathematical Theory of Communication?</td>\n",
       "      <td>Claude E. Shannon introduced the concept of information entropy for the first time.</td>\n",
       "    </tr>\n",
       "    <tr>\n",
       "      <th>11</th>\n",
       "      <td>Our work is philosophically similar to Razavian et al. (2014) which showed that for image classification, feature extractors obtained from a pre-trained deep learning model perform well on a variety of tasks--including tasks that are very different from the original task for which the feature extractors were trained.</td>\n",
       "      <td>Who conducted the work philosophically similar to Razavian et al. (2014)?</td>\n",
       "      <td>Our work.</td>\n",
       "    </tr>\n",
       "    <tr>\n",
       "      <th>12</th>\n",
       "      <td>In 1948, Claude E. Shannon published A Mathematical Theory of Communication (Shannon, 1948) establishing the theory of information. In his article, Shannon introduced the concept of information entropy for the first time. We will begin our journey here.</td>\n",
       "      <td>What concept did Claude E. Shannon introduce for the first time in his article A Mathematical Theory of Communication?</td>\n",
       "      <td>Claude E. Shannon introduced the concept of information entropy for the first time.</td>\n",
       "    </tr>\n",
       "    <tr>\n",
       "      <th>13</th>\n",
       "      <td>The model architecture, shown in figure 1, is a slight variant of the CNN architecture of Collobert et al. (2011). Let \\(\\mathbf{x}_{i}\\in\\mathbb{R}^{k}\\) be the \\(k\\)-dimensional word vector corresponding to the \\(i\\)-th word in the sentence. A sentence of length \\(n\\) (padded where</td>\n",
       "      <td>What is the model architecture in figure 1 a variant of?</td>\n",
       "      <td>The CNN architecture of Collobert et al. (2011).</td>\n",
       "    </tr>\n",
       "  </tbody>\n",
       "</table>\n",
       "</div>"
      ],
      "text/plain": [
       "                                                                                                                                                                                                                                                                                                                                                                                                                                                                                                                                                                                                                                                                                                                                                                                                                                                                      Context                                                                                                                Question  \\\n",
       "0                                                                                                                                                                                                                                                                                                                                                                                                                                                                                                                                                                                                                                                                                                                                                                                                                   Convolutional Neural Networks for Sentence Classification                                                                                       What is the focus of the article?   \n",
       "1                                                                                                                                                                                                                                                                                                                                                                                                                                                                                                                                                                                                                                                                                                                                                                                                                                                                    Yoon Kim                                                                                                        Who is Yoon Kim?   \n",
       "2                                                                                                                                                                                                                                                                                                                                                                                                                                                                                                                                                                                                                                                                                                                                                                                                                                                         New York University                                                                                     What is the name of the university?   \n",
       "3                                                                                                                                                                                                                                                                                                                                                                                                                                                                                                                                                                                                               In 1948, Claude E. Shannon published A Mathematical Theory of Communication (Shannon, 1948) establishing the theory of information. In his article, Shannon introduced the concept of information entropy for the first time. We will begin our journey here.  What concept did Claude E. Shannon introduce for the first time in his article A Mathematical Theory of Communication?   \n",
       "4                                                                                                                                                                                                                                                                                                                                                                                                                                                                                                                                                                                                            In 1948, Claude E. Shannon published A Mathematical Theory of\\nCommunication (Shannon, 1948) establishing the theory of\\ninformation. In his article, Shannon introduced the concept of\\ninformation entropy for the first time. We will begin our journey here.            What concept did Shannon introduce for the first time in his article A Mathematical Theory of Communication?   \n",
       "5                                                                                                                                                                                           We report on a series of experiments with convolutional neural networks (CNN) trained on top of pre-trained word vectors for sentence-level classification tasks. We show that a simple CNN with little hyperparameter tuning and static vectors achieves excellent results on multiple benchmarks. Learning task-specific vectors through fine-tuning offers further gains in performance. We additionally propose a simple modification to the architecture to allow for the use of both task-specific and static vectors. The CNN models discussed herein improve upon the state of the art on 4 out of 7 tasks, which include sentiment analysis and question classification.                                                                What type of neural network was used in the experiments?   \n",
       "6                                                                                                                                                                                                                                                                                                                                                                                                                                                                                                                                                                                                            In 1948, Claude E. Shannon published A Mathematical Theory of\\nCommunication (Shannon, 1948) establishing the theory of\\ninformation. In his article, Shannon introduced the concept of\\ninformation entropy for the first time. We will begin our journey here.            What concept did Shannon introduce for the first time in his article A Mathematical Theory of Communication?   \n",
       "7                                                         Deep learning models have achieved remarkable results in computer vision [11] and speech recognition [1] in recent years. Within natural language processing, much of the work with deep learning methods has involved learning word vector representations through neural language models [1, 1, 2] and performing composition over the learned word vectors for classification [1]. Word vectors, wherein words are projected from a sparse, 1-of-\\(V\\) encoding (here \\(V\\) is the vocabulary size) onto a lower dimensional vector space via a hidden layer, are essentially feature extractors that encode semantic features of words in their dimensions. In such dense representations, semantically close words are likewise close--in euclidean or cosine distance--in the lower dimensional vector space.                                                          What are word vectors used for in natural language processing?   \n",
       "8                                                                                                                                                                                                                                                                                                                                                                                                                                                                                           Convolutional neural networks (CNN) utilize layers with convolving filters that are applied to local features [1]. Originally invented for computer vision, CNN models have subsequently been shown to be effective for NLP and have achieved excellent results in semantic parsing [13], search query retrieval [2], sentence modeling [1], and other traditional NLP tasks [1].                                               What are some tasks for which CNN models have been shown to be effective?   \n",
       "9   In the present work, we train a simple CNN with one layer of convolution on top of word vectors obtained from an unsupervised neural language model. These vectors were trained by Mikolov et al. (2013) on 100 billion words of Google News, and are publicly available.1 We initially keep the word vectors static and learn only the other parameters of the model. Despite little tuning of hyperparameters, this simple model achieves excellent results on multiple benchmarks, suggesting that the pre-trained vectors are 'universal' feature extractors that can be utilized for various classification tasks. Learning task-specific vectors through fine-tuning results in further improvements. We finally describe a simple modification to the architecture to allow for the use of both pre-trained and task-specific vectors by having multiple channels.                                                       Who trained the word vectors on 100 billion words of Google News?   \n",
       "10                                                                                                                                                                                                                                                                                                                                                                                                                                                                                                                                                                                                           In 1948, Claude E. Shannon published A Mathematical Theory of\\nCommunication (Shannon, 1948) establishing the theory of\\ninformation. In his article, Shannon introduced the concept of\\ninformation entropy for the first time. We will begin our journey here.  What concept did Claude E. Shannon introduce for the first time in his article A Mathematical Theory of Communication?   \n",
       "11                                                                                                                                                                                                                                                                                                                                                                                                                                                                                                                                             Our work is philosophically similar to Razavian et al. (2014) which showed that for image classification, feature extractors obtained from a pre-trained deep learning model perform well on a variety of tasks--including tasks that are very different from the original task for which the feature extractors were trained.                                               Who conducted the work philosophically similar to Razavian et al. (2014)?   \n",
       "12                                                                                                                                                                                                                                                                                                                                                                                                                                                                                                                                                                                                              In 1948, Claude E. Shannon published A Mathematical Theory of Communication (Shannon, 1948) establishing the theory of information. In his article, Shannon introduced the concept of information entropy for the first time. We will begin our journey here.  What concept did Claude E. Shannon introduce for the first time in his article A Mathematical Theory of Communication?   \n",
       "13                                                                                                                                                                                                                                                                                                                                                                                                                                                                                                                                                                               The model architecture, shown in figure 1, is a slight variant of the CNN architecture of Collobert et al. (2011). Let \\(\\mathbf{x}_{i}\\in\\mathbb{R}^{k}\\) be the \\(k\\)-dimensional word vector corresponding to the \\(i\\)-th word in the sentence. A sentence of length \\(n\\) (padded where                                                                What is the model architecture in figure 1 a variant of?   \n",
       "\n",
       "                                                                                                                                                                        Answer  \n",
       "0                                                                                       The focus of the article is Convolutional Neural Networks for Sentence Classification.  \n",
       "1                                                                                                                    We need additional context to provide an accurate answer.  \n",
       "2                                                                                                                                                          New York University  \n",
       "3                                                                                          Claude E. Shannon introduced the concept of information entropy for the first time.  \n",
       "4                                                                                                    Shannon introduced the concept of information entropy for the first time.  \n",
       "5                                                                                                                                         Convolutional neural networks (CNN).  \n",
       "6                                                                                                    Shannon introduced the concept of information entropy for the first time.  \n",
       "7   Word vectors are used for learning word vector representations through neural language models and performing composition over the learned word vectors for classification.  \n",
       "8                                 CNN models have been shown to be effective for semantic parsing, search query retrieval, sentence modeling, and other traditional NLP tasks.  \n",
       "9                                                                                                                                                        Mikolov et al. (2013)  \n",
       "10                                                                                         Claude E. Shannon introduced the concept of information entropy for the first time.  \n",
       "11                                                                                                                                                                   Our work.  \n",
       "12                                                                                         Claude E. Shannon introduced the concept of information entropy for the first time.  \n",
       "13                                                                                                                            The CNN architecture of Collobert et al. (2011).  "
      ]
     },
     "execution_count": 12,
     "metadata": {},
     "output_type": "execute_result"
    }
   ],
   "source": [
    "# Set display options\n",
    "pd.set_option('display.max_colwidth', None)  # or use a specific width like 50\n",
    "pd.set_option('display.width', 1000)\n",
    "\n",
    "df"
   ]
  },
  {
   "cell_type": "markdown",
   "id": "c59e52c6",
   "metadata": {},
   "source": [
    "Finally, we can save the generated question answers into a `.csv` file."
   ]
  },
  {
   "cell_type": "code",
   "execution_count": 13,
   "id": "0b88ea3e",
   "metadata": {},
   "outputs": [],
   "source": [
    "import os\n",
    "\n",
    "# Directory path you want to ensure exists\n",
    "directory = 'data/output'\n",
    "\n",
    "# Check if the directory exists\n",
    "if not os.path.exists(directory):\n",
    "    # Create the directory, including any necessary intermediate directories\n",
    "    os.makedirs(directory)"
   ]
  },
  {
   "cell_type": "code",
   "execution_count": 14,
   "id": "72a570e6",
   "metadata": {},
   "outputs": [],
   "source": [
    "output_df = df[['Question', 'Answer']]\n",
    "output_df.to_csv(\"data/output/CNN_pdf_QApairs.csv\", index=False)"
   ]
  },
  {
   "cell_type": "markdown",
   "id": "8f74b681",
   "metadata": {},
   "source": [
    "## End of the notebook\n",
    "\n",
    "Check more Uniflow use cases in the [example folder](https://github.com/CambioML/uniflow/tree/main/example/model#examples)!\n",
    "\n",
    "<a href=\"https://www.cambioml.com/\" title=\"Title\">\n",
    "    <img src=\"../image/cambioml_logo_large.png\" style=\"height: 100px; display: block; margin-left: auto; margin-right: auto;\"/>\n",
    "</a>"
   ]
  }
 ],
 "metadata": {
  "kernelspec": {
   "display_name": "pytorch",
   "language": "python",
   "name": "pytorch"
  },
  "language_info": {
   "codemirror_mode": {
    "name": "ipython",
    "version": 3
   },
   "file_extension": ".py",
   "mimetype": "text/x-python",
   "name": "python",
   "nbconvert_exporter": "python",
   "pygments_lexer": "ipython3",
   "version": "3.10.13"
  }
 },
 "nbformat": 4,
 "nbformat_minor": 5
}
