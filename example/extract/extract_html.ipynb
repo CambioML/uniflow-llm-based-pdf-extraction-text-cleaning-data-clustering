{
 "cells": [
  {
   "cell_type": "markdown",
   "metadata": {},
   "source": [
    "# Example of extracting HTML file"
   ]
  },
  {
   "cell_type": "markdown",
   "metadata": {},
   "source": [
    "### Load packages"
   ]
  },
  {
   "cell_type": "code",
   "execution_count": 1,
   "metadata": {},
   "outputs": [],
   "source": [
    "%reload_ext autoreload\n",
    "%autoreload 2\n",
    "\n",
    "import sys\n",
    "import pprint\n",
    "\n",
    "sys.path.append(\".\")\n",
    "sys.path.append(\"..\")\n",
    "sys.path.append(\"../..\")"
   ]
  },
  {
   "cell_type": "code",
   "execution_count": 2,
   "metadata": {},
   "outputs": [
    {
     "name": "stdout",
     "output_type": "stream",
     "text": [
      "Looking in indexes: https://pypi.org/simple, https://pip.repos.neuron.amazonaws.com\n",
      "Requirement already satisfied: bs4 in /home/ubuntu/anaconda3/envs/uniflow/lib/python3.10/site-packages (0.0.1)\n",
      "Requirement already satisfied: beautifulsoup4 in /home/ubuntu/anaconda3/envs/uniflow/lib/python3.10/site-packages (from bs4) (4.12.2)\n",
      "Requirement already satisfied: soupsieve>1.2 in /home/ubuntu/anaconda3/envs/uniflow/lib/python3.10/site-packages (from beautifulsoup4->bs4) (2.5)\n"
     ]
    }
   ],
   "source": [
    "!{sys.executable} -m pip install bs4"
   ]
  },
  {
   "cell_type": "code",
   "execution_count": 3,
   "metadata": {},
   "outputs": [
    {
     "name": "stderr",
     "output_type": "stream",
     "text": [
      "/home/ubuntu/anaconda3/envs/uniflow/lib/python3.10/site-packages/tqdm/auto.py:21: TqdmWarning: IProgress not found. Please update jupyter and ipywidgets. See https://ipywidgets.readthedocs.io/en/stable/user_install.html\n",
      "  from .autonotebook import tqdm as notebook_tqdm\n"
     ]
    },
    {
     "data": {
      "text/plain": [
       "{'extract': ['ExtractHTMLFlow',\n",
       "  'ExtractImageFlow',\n",
       "  'ExtractIpynbFlow',\n",
       "  'ExtractMarkdownFlow',\n",
       "  'ExtractPDFFlow',\n",
       "  'ExtractTxtFlow',\n",
       "  'ExtractS3TxtFlow'],\n",
       " 'transform': ['TransformAzureOpenAIFlow',\n",
       "  'TransformCopyFlow',\n",
       "  'TransformHuggingFaceFlow',\n",
       "  'TransformLMQGFlow',\n",
       "  'TransformOpenAIFlow'],\n",
       " 'rater': ['RaterFlow']}"
      ]
     },
     "execution_count": 3,
     "metadata": {},
     "output_type": "execute_result"
    }
   ],
   "source": [
    "from uniflow.flow.client import ExtractClient\n",
    "from uniflow.flow.config import ExtractHTMLConfig\n",
    "from uniflow.viz import Viz\n",
    "from uniflow.flow.flow_factory import FlowFactory\n",
    "\n",
    "FlowFactory.list()"
   ]
  },
  {
   "cell_type": "markdown",
   "metadata": {},
   "source": [
    "### Prepare the input data\n",
    "\n",
    "We can not only load local html files by `filename`, but also load online html files by providing the `url`."
   ]
  },
  {
   "cell_type": "code",
   "execution_count": 4,
   "metadata": {},
   "outputs": [],
   "source": [
    "# data = [{\"url\": f'https://github.com/CambioML/uniflow'}]"
   ]
  },
  {
   "cell_type": "code",
   "execution_count": 4,
   "metadata": {},
   "outputs": [],
   "source": [
    "data = [{\"filename\": f'../transform/data/raw_input/22.11_information-theory.html'}]"
   ]
  },
  {
   "cell_type": "markdown",
   "metadata": {},
   "source": [
    "### Load the html file via ExtractClient"
   ]
  },
  {
   "cell_type": "code",
   "execution_count": 5,
   "metadata": {},
   "outputs": [],
   "source": [
    "client = ExtractClient(ExtractHTMLConfig())"
   ]
  },
  {
   "cell_type": "code",
   "execution_count": 6,
   "metadata": {},
   "outputs": [
    {
     "name": "stderr",
     "output_type": "stream",
     "text": [
      "  0%|          | 0/1 [00:00<?, ?it/s]"
     ]
    },
    {
     "name": "stderr",
     "output_type": "stream",
     "text": [
      "100%|██████████| 1/1 [00:00<00:00,  1.72it/s]\n"
     ]
    }
   ],
   "source": [
    "output = client.run(data)"
   ]
  },
  {
   "cell_type": "markdown",
   "metadata": {},
   "source": [
    "### Output\n",
    "\n",
    "Let's take a look of the generation output."
   ]
  },
  {
   "cell_type": "code",
   "execution_count": 7,
   "metadata": {},
   "outputs": [
    {
     "name": "stdout",
     "output_type": "stream",
     "text": [
      "'chunk_0: Quick search'\n",
      "'chunk_1: Show Source'\n",
      "'chunk_2: Table Of Contents'\n",
      "'chunk_3: 1. Introduction\\n2. Preliminaries\\n2.1. Data Manipulation\\n2.2....'\n",
      "'chunk_4: Table Of Contents'\n",
      "'chunk_5: 1. Introduction\\n2. Preliminaries\\n2.1. Data Manipulation\\n2.2....'\n",
      "'chunk_6: Open the notebook in Colab'\n",
      "'chunk_7: Open the notebook in Colab'\n",
      "'chunk_8: Open the notebook in Colab'\n",
      "'chunk_9: Open the notebook in Colab'\n",
      "'chunk_10: Open the notebook in SageMaker Studio Lab'\n",
      "'chunk_11: The universe is overflowing with information. Information pr...'\n",
      "'chunk_12: Section 4.1'\n",
      "'chunk_13: Section 4.1'\n",
      "'chunk_14: Consider the following thought experiment. We have a friend ...'\n"
     ]
    }
   ],
   "source": [
    "text = output[0]['output'][0]['text']\n",
    "for i, _s in enumerate(text[0:15]):\n",
    "    _s = len(_s) > 100 and ((_s[:60]) + \"...\") or _s\n",
    "    pprint.pprint(f\"chunk_{i}: {_s}\")"
   ]
  },
  {
   "cell_type": "markdown",
   "metadata": {},
   "source": [
    "### Comparison with `unstructured`\n",
    "\n",
    "- Text context: Both `unstructured` and our `ExtractHTMLFlow` perform well.\n",
    "\n",
    "- Table content: Both `unstructured` and our `ExtractHTMLFlow` perform well.\n",
    "\n",
    "- List content: Both `unstructured` and our `ExtractHTMLFlow` perform well.\n",
    "\n",
    "- Code block: Our `ExtractHTMLFlow` performs better.\n",
    "\n",
    "- Code in text: Both we and unstructured need to improve."
   ]
  },
  {
   "cell_type": "code",
   "execution_count": 8,
   "metadata": {},
   "outputs": [
    {
     "name": "stdout",
     "output_type": "stream",
     "text": [
      "'chunk_0: pytorch'\n",
      "'chunk_1: mxnet'\n",
      "'chunk_2: tensorflow'\n",
      "'chunk_3: import'\n",
      "'chunk_4: torch'\n",
      "'chunk_5: from'\n",
      "'chunk_6: torch.nn'\n",
      "'chunk_7: import'\n",
      "'chunk_8: NLLLoss'\n",
      "'chunk_9: def'\n",
      "'chunk_10: nansum'\n",
      "'chunk_11: ):'\n",
      "'chunk_12: # Define nansum, as pytorch does not offer it inbuilt.'\n",
      "'chunk_13: return'\n",
      "'chunk_14: torch'\n",
      "'chunk_15: isnan'\n",
      "'chunk_16: )]'\n",
      "'chunk_17: sum'\n",
      "'chunk_18: ()'\n",
      "'chunk_19: def'\n"
     ]
    }
   ],
   "source": [
    "from unstructured.partition.html import partition_html\n",
    "\n",
    "p = partition_html(filename=data[0][\"filename\"])\n",
    "\n",
    "for i, _s in enumerate(p[60:80]):\n",
    "    pprint.pprint(f\"chunk_{i}: {_s}\")"
   ]
  },
  {
   "cell_type": "markdown",
   "metadata": {},
   "source": [
    "## End of the notebook\n",
    "\n",
    "Check more Uniflow use cases in the [example folder](https://github.com/CambioML/uniflow/tree/main/example/model#examples)!\n",
    "\n",
    "<a href=\"https://www.cambioml.com/\" title=\"Title\">\n",
    "    <img src=\"../image/cambioml_logo_large.png\" style=\"height: 100px; display: block; margin-left: auto; margin-right: auto;\"/>\n",
    "</a>"
   ]
  }
 ],
 "metadata": {
  "kernelspec": {
   "display_name": "uniflow",
   "language": "python",
   "name": "python3"
  },
  "language_info": {
   "codemirror_mode": {
    "name": "ipython",
    "version": 3
   },
   "file_extension": ".py",
   "mimetype": "text/x-python",
   "name": "python",
   "nbconvert_exporter": "python",
   "pygments_lexer": "ipython3",
   "version": "3.10.13"
  }
 },
 "nbformat": 4,
 "nbformat_minor": 2
}
