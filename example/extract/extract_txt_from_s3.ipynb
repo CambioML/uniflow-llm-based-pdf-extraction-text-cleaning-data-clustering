{
 "cells": [
  {
   "cell_type": "markdown",
   "metadata": {},
   "source": [
    "# Example of loading txt from s3 and processing using re"
   ]
  },
  {
   "cell_type": "markdown",
   "metadata": {},
   "source": [
    "### Before running the code\n",
    "\n",
    "You will need to `uniflow` conda environment to run this notebook. You can set up the environment following the instruction: https://github.com/CambioML/uniflow/tree/main#installation. Furthermore, make sure you have the following packages installed:"
   ]
  },
  {
   "cell_type": "code",
   "execution_count": 1,
   "metadata": {},
   "outputs": [],
   "source": [
    "%reload_ext autoreload\n",
    "%autoreload 2\n",
    "\n",
    "import sys\n",
    "import pprint\n",
    "\n",
    "sys.path.append(\".\")\n",
    "sys.path.append(\"..\")\n",
    "sys.path.append(\"../..\")"
   ]
  },
  {
   "cell_type": "code",
   "execution_count": 2,
   "metadata": {},
   "outputs": [
    {
     "name": "stderr",
     "output_type": "stream",
     "text": [
      "/home/ubuntu/anaconda3/envs/uniflow/lib/python3.10/site-packages/tqdm/auto.py:21: TqdmWarning: IProgress not found. Please update jupyter and ipywidgets. See https://ipywidgets.readthedocs.io/en/stable/user_install.html\n",
      "  from .autonotebook import tqdm as notebook_tqdm\n"
     ]
    },
    {
     "data": {
      "text/plain": [
       "{'extract': ['ExtractHTMLFlow',\n",
       "  'ExtractImageFlow',\n",
       "  'ExtractIpynbFlow',\n",
       "  'ExtractMarkdownFlow',\n",
       "  'ExtractPDFFlow',\n",
       "  'ExtractTxtFlow'],\n",
       " 'transform': ['TransformAzureOpenAIFlow',\n",
       "  'TransformCopyFlow',\n",
       "  'TransformHuggingFaceFlow',\n",
       "  'TransformLMQGFlow',\n",
       "  'TransformOpenAIFlow'],\n",
       " 'rater': ['RaterFlow']}"
      ]
     },
     "execution_count": 2,
     "metadata": {},
     "output_type": "execute_result"
    }
   ],
   "source": [
    "import os\n",
    "\n",
    "from uniflow.flow.client import ExtractClient\n",
    "from uniflow.flow.config import ExtractTxtConfig\n",
    "from uniflow.viz import Viz\n",
    "from uniflow.flow.flow_factory import FlowFactory\n",
    "\n",
    "FlowFactory.list()"
   ]
  },
  {
   "cell_type": "markdown",
   "metadata": {},
   "source": [
    "### Configure the AWS CLI\n",
    "\n",
    "Prepare Credentials: \n",
    "- AWS_ACCESS_KEY_ID\n",
    "- AWS_SECRET_ACCESS_KEY\n",
    "- AWS_REGION\n",
    "\n",
    "Configure the AWS CLI - `aws configure` \n",
    "\n",
    "https://docs.aws.amazon.com/cli/latest/userguide/cli-chap-configure.html"
   ]
  },
  {
   "cell_type": "markdown",
   "metadata": {},
   "source": [
    "### Prepare input data regarding s3 bucket and key"
   ]
  },
  {
   "cell_type": "code",
   "execution_count": 3,
   "metadata": {},
   "outputs": [],
   "source": [
    "data = [{\"filename\": \"s3://uniflow-test/test.txt\"}]"
   ]
  },
  {
   "cell_type": "code",
   "execution_count": 4,
   "metadata": {},
   "outputs": [],
   "source": [
    "client = ExtractClient(ExtractTxtConfig())"
   ]
  },
  {
   "cell_type": "code",
   "execution_count": 5,
   "metadata": {},
   "outputs": [
    {
     "name": "stderr",
     "output_type": "stream",
     "text": [
      "100%|██████████| 1/1 [00:00<00:00,  5.24it/s]\n"
     ]
    }
   ],
   "source": [
    "output = client.run(data)"
   ]
  },
  {
   "cell_type": "markdown",
   "metadata": {},
   "source": [
    "### Output\n",
    "\n",
    "Let's take a look of the generation output."
   ]
  },
  {
   "cell_type": "code",
   "execution_count": 6,
   "metadata": {},
   "outputs": [
    {
     "name": "stdout",
     "output_type": "stream",
     "text": [
      "[\"One of the most important things I didn't understand about the world when I \"\n",
      " 'was a child is the degree to which the returns for performance are '\n",
      " 'superlinear.',\n",
      " 'Teachers and coaches implicitly told us the returns were linear. \"You get '\n",
      " 'out,\" I heard a thousand times, \"what you put in.\" They meant well, but this '\n",
      " \"is rarely true. If your product is only half as good as your competitor's, \"\n",
      " \"you don't get half as many customers. You get no customers, and you go out \"\n",
      " 'of business.',\n",
      " \"It's obviously true that the returns for performance are superlinear in \"\n",
      " 'business. Some think this is a flaw of capitalism, and that if we changed '\n",
      " 'the rules it would stop being true. But superlinear returns for performance '\n",
      " \"are a feature of the world, not an artifact of rules we've invented. We see \"\n",
      " 'the same pattern in fame, power, military victories, knowledge, and even '\n",
      " 'benefit to humanity. In all of these, the rich get richer.',\n",
      " \"You can't understand the world without understanding the concept of \"\n",
      " \"superlinear returns. And if you're ambitious you definitely should, because \"\n",
      " 'this will be the wave you surf on.\\n']\n"
     ]
    }
   ],
   "source": [
    "pprint.pprint(output[0]['output'][0]['text'])"
   ]
  },
  {
   "cell_type": "code",
   "execution_count": 7,
   "metadata": {},
   "outputs": [],
   "source": [
    "graph = Viz.to_digraph(output[0][\"root\"])"
   ]
  },
  {
   "cell_type": "code",
   "execution_count": 8,
   "metadata": {},
   "outputs": [
    {
     "data": {
      "image/svg+xml": [
       "<?xml version=\"1.0\" encoding=\"UTF-8\" standalone=\"no\"?>\n",
       "<!DOCTYPE svg PUBLIC \"-//W3C//DTD SVG 1.1//EN\"\n",
       " \"http://www.w3.org/Graphics/SVG/1.1/DTD/svg11.dtd\">\n",
       "<!-- Generated by graphviz version 2.43.0 (0)\n",
       " -->\n",
       "<!-- Title: %3 Pages: 1 -->\n",
       "<svg width=\"271pt\" height=\"188pt\"\n",
       " viewBox=\"0.00 0.00 270.58 188.00\" xmlns=\"http://www.w3.org/2000/svg\" xmlns:xlink=\"http://www.w3.org/1999/xlink\">\n",
       "<g id=\"graph0\" class=\"graph\" transform=\"scale(1 1) rotate(0) translate(4 184)\">\n",
       "<title>%3</title>\n",
       "<polygon fill=\"white\" stroke=\"transparent\" points=\"-4,4 -4,-184 266.58,-184 266.58,4 -4,4\"/>\n",
       "<!-- root -->\n",
       "<g id=\"node1\" class=\"node\">\n",
       "<title>root</title>\n",
       "<ellipse fill=\"none\" stroke=\"black\" cx=\"131.29\" cy=\"-162\" rx=\"29.8\" ry=\"18\"/>\n",
       "<text text-anchor=\"middle\" x=\"131.29\" y=\"-158.3\" font-family=\"Times,serif\" font-size=\"14.00\">root</text>\n",
       "</g>\n",
       "<!-- thread_0/extract_txt_op_1 -->\n",
       "<g id=\"node2\" class=\"node\">\n",
       "<title>thread_0/extract_txt_op_1</title>\n",
       "<ellipse fill=\"none\" stroke=\"black\" cx=\"131.29\" cy=\"-90\" rx=\"131.08\" ry=\"18\"/>\n",
       "<text text-anchor=\"middle\" x=\"131.29\" y=\"-86.3\" font-family=\"Times,serif\" font-size=\"14.00\">thread_0/extract_txt_op_1</text>\n",
       "</g>\n",
       "<!-- root&#45;&gt;thread_0/extract_txt_op_1 -->\n",
       "<g id=\"edge1\" class=\"edge\">\n",
       "<title>root&#45;&gt;thread_0/extract_txt_op_1</title>\n",
       "<path fill=\"none\" stroke=\"black\" d=\"M131.29,-143.7C131.29,-135.98 131.29,-126.71 131.29,-118.11\"/>\n",
       "<polygon fill=\"black\" stroke=\"black\" points=\"134.79,-118.1 131.29,-108.1 127.79,-118.1 134.79,-118.1\"/>\n",
       "</g>\n",
       "<!-- paragraph_split_op_1 -->\n",
       "<g id=\"node3\" class=\"node\">\n",
       "<title>paragraph_split_op_1</title>\n",
       "<ellipse fill=\"none\" stroke=\"black\" cx=\"131.29\" cy=\"-18\" rx=\"109.68\" ry=\"18\"/>\n",
       "<text text-anchor=\"middle\" x=\"131.29\" y=\"-14.3\" font-family=\"Times,serif\" font-size=\"14.00\">paragraph_split_op_1</text>\n",
       "</g>\n",
       "<!-- thread_0/extract_txt_op_1&#45;&gt;paragraph_split_op_1 -->\n",
       "<g id=\"edge2\" class=\"edge\">\n",
       "<title>thread_0/extract_txt_op_1&#45;&gt;paragraph_split_op_1</title>\n",
       "<path fill=\"none\" stroke=\"black\" d=\"M131.29,-71.7C131.29,-63.98 131.29,-54.71 131.29,-46.11\"/>\n",
       "<polygon fill=\"black\" stroke=\"black\" points=\"134.79,-46.1 131.29,-36.1 127.79,-46.1 134.79,-46.1\"/>\n",
       "</g>\n",
       "</g>\n",
       "</svg>\n"
      ],
      "text/plain": [
       "<graphviz.graphs.Digraph at 0x7f157173f040>"
      ]
     },
     "metadata": {},
     "output_type": "display_data"
    }
   ],
   "source": [
    "display(graph)"
   ]
  },
  {
   "cell_type": "markdown",
   "metadata": {},
   "source": [
    "## End of the notebook\n",
    "\n",
    "Check more Uniflow use cases in the [example folder](https://github.com/CambioML/uniflow/tree/main/example/model#examples)!\n",
    "\n",
    "<a href=\"https://www.cambioml.com/\" title=\"Title\">\n",
    "    <img src=\"../image/cambioml_logo_large.png\" style=\"height: 100px; display: block; margin-left: auto; margin-right: auto;\"/>\n",
    "</a>"
   ]
  }
 ],
 "metadata": {
  "kernelspec": {
   "display_name": "uniflow",
   "language": "python",
   "name": "python3"
  },
  "language_info": {
   "codemirror_mode": {
    "name": "ipython",
    "version": 3
   },
   "file_extension": ".py",
   "mimetype": "text/x-python",
   "name": "python",
   "nbconvert_exporter": "python",
   "pygments_lexer": "ipython3",
   "version": "3.10.13"
  }
 },
 "nbformat": 4,
 "nbformat_minor": 2
}
