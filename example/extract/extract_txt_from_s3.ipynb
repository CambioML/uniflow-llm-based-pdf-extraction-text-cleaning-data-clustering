{
 "cells": [
  {
   "cell_type": "markdown",
   "metadata": {},
   "source": [
    "# Example of loading txt from s3 and processing using re"
   ]
  },
  {
   "cell_type": "markdown",
   "metadata": {},
   "source": [
    "### Before running the code\n",
    "\n",
    "You will need to `uniflow` conda environment to run this notebook. You can set up the environment following the instruction: https://github.com/CambioML/uniflow/tree/main#installation. Furthermore, make sure you have the following packages installed:"
   ]
  },
  {
   "cell_type": "code",
   "execution_count": 1,
   "metadata": {},
   "outputs": [],
   "source": [
    "%reload_ext autoreload\n",
    "%autoreload 2\n",
    "\n",
    "import sys\n",
    "import pprint\n",
    "\n",
    "sys.path.append(\".\")\n",
    "sys.path.append(\"..\")\n",
    "sys.path.append(\"../..\")"
   ]
  },
  {
   "cell_type": "code",
   "execution_count": 2,
   "metadata": {},
   "outputs": [
    {
     "name": "stderr",
     "output_type": "stream",
     "text": [
      "/Users/lingjiekong/anaconda3/envs/uniflow/lib/python3.10/site-packages/tqdm/auto.py:21: TqdmWarning: IProgress not found. Please update jupyter and ipywidgets. See https://ipywidgets.readthedocs.io/en/stable/user_install.html\n",
      "  from .autonotebook import tqdm as notebook_tqdm\n"
     ]
    },
    {
     "data": {
      "text/plain": [
       "{'extract': ['ExtractImageFlow',\n",
       "  'ExtractIpynbFlow',\n",
       "  'ExtractMarkdownFlow',\n",
       "  'ExtractPDFFlow',\n",
       "  'ExtractTxtFlow',\n",
       "  'ExtractS3TxtFlow'],\n",
       " 'transform': ['TransformAzureOpenAIFlow',\n",
       "  'TransformCopyFlow',\n",
       "  'TransformHuggingFaceFlow',\n",
       "  'TransformLMQGFlow',\n",
       "  'TransformOpenAIFlow'],\n",
       " 'rater': ['RaterFlow']}"
      ]
     },
     "execution_count": 2,
     "metadata": {},
     "output_type": "execute_result"
    }
   ],
   "source": [
    "import os\n",
    "\n",
    "from uniflow.flow.client import ExtractClient\n",
    "from uniflow.flow.config import ExtractS3TxtConfig\n",
    "from uniflow.viz import Viz\n",
    "from uniflow.flow.flow_factory import FlowFactory\n",
    "\n",
    "FlowFactory.list()"
   ]
  },
  {
   "cell_type": "markdown",
   "metadata": {},
   "source": [
    "### Setup AWS CLI AWS_ACCESS_KEY_ID, AWS_SECRET_ACCESS_KEY, AWS_REGION\n",
    "For example, if AWS_ACCESS_KEY_ID is a, AWS_SECRET_ACCESS_KEY is b, and AWS_REGION is c, the environment should bel like below.\n",
    "```\n",
    "%env AWS_ACCESS_KEY_ID=a\n",
    "%env AWS_SECRET_ACCESS_KEY=b\n",
    "%env AWS_REGION=c\n",
    "```\n",
    "note: do not use ' or \" for the assigned value!"
   ]
  },
  {
   "cell_type": "code",
   "execution_count": 3,
   "metadata": {},
   "outputs": [
    {
     "name": "stdout",
     "output_type": "stream",
     "text": [
      "aws access key id is None)\n",
      "aws secret access key is None\n",
      "aws region is None\n"
     ]
    }
   ],
   "source": [
    "# %env AWS_ACCESS_KEY_ID='your_access_key'\n",
    "# %env AWS_SECRET_ACCESS_KEY='your_secret_key'\n",
    "# %env AWS_REGION='your_region'\n",
    "\n",
    "print(f\"aws access key id is {os.environ.get('AWS_ACCESS_KEY_ID')})\")\n",
    "print(f\"aws secret access key is {os.environ.get('AWS_SECRET_ACCESS_KEY')}\")\n",
    "print(f\"aws region is {os.environ.get('AWS_REGION')}\")\n"
   ]
  },
  {
   "cell_type": "markdown",
   "metadata": {},
   "source": [
    "### Prepare input data regarding s3 bucket and key"
   ]
  },
  {
   "cell_type": "code",
   "execution_count": 45,
   "metadata": {},
   "outputs": [],
   "source": [
    "data = [{\"bucket\": \"uniflow-test\",\n",
    "         \"key\": \"test.txt\"}]"
   ]
  },
  {
   "cell_type": "code",
   "execution_count": 46,
   "metadata": {},
   "outputs": [],
   "source": [
    "client = ExtractClient(ExtractS3TxtConfig())"
   ]
  },
  {
   "cell_type": "code",
   "execution_count": 47,
   "metadata": {},
   "outputs": [
    {
     "name": "stdout",
     "output_type": "stream",
     "text": [
      "Downloading test.txt to /tmp/aws/s3/test.txt\n"
     ]
    },
    {
     "name": "stderr",
     "output_type": "stream",
     "text": [
      "  0%|          | 0/1 [00:00<?, ?it/s]"
     ]
    },
    {
     "name": "stderr",
     "output_type": "stream",
     "text": [
      "100%|██████████| 1/1 [00:00<00:00,  2.96it/s]"
     ]
    },
    {
     "name": "stdout",
     "output_type": "stream",
     "text": [
      "[{'output': [{'text': [\"One of the most important things I didn't understand \"\n",
      "                       'about the world when I was a child is the degree to '\n",
      "                       'which the returns for performance are superlinear.',\n",
      "                       'Teachers and coaches implicitly told us the returns '\n",
      "                       'were linear. \"You get out,\" I heard a thousand times, '\n",
      "                       '\"what you put in.\" They meant well, but this is rarely '\n",
      "                       'true. If your product is only half as good as your '\n",
      "                       \"competitor's, you don't get half as many customers. \"\n",
      "                       'You get no customers, and you go out of business.',\n",
      "                       \"It's obviously true that the returns for performance \"\n",
      "                       'are superlinear in business. Some think this is a flaw '\n",
      "                       'of capitalism, and that if we changed the rules it '\n",
      "                       'would stop being true. But superlinear returns for '\n",
      "                       'performance are a feature of the world, not an '\n",
      "                       \"artifact of rules we've invented. We see the same \"\n",
      "                       'pattern in fame, power, military victories, knowledge, '\n",
      "                       'and even benefit to humanity. In all of these, the '\n",
      "                       'rich get richer.',\n",
      "                       \"You can't understand the world without understanding \"\n",
      "                       \"the concept of superlinear returns. And if you're \"\n",
      "                       'ambitious you definitely should, because this will be '\n",
      "                       'the wave you surf on.']}],\n",
      "  'root': <uniflow.node.Node object at 0x1321c3070>}]\n"
     ]
    },
    {
     "name": "stderr",
     "output_type": "stream",
     "text": [
      "\n"
     ]
    }
   ],
   "source": [
    "output = client.run(data)\n",
    "pprint.pprint(output)"
   ]
  },
  {
   "cell_type": "code",
   "execution_count": 48,
   "metadata": {},
   "outputs": [
    {
     "data": {
      "text/plain": [
       "[\"One of the most important things I didn't understand about the world when I was a child is the degree to which the returns for performance are superlinear.\",\n",
       " 'Teachers and coaches implicitly told us the returns were linear. \"You get out,\" I heard a thousand times, \"what you put in.\" They meant well, but this is rarely true. If your product is only half as good as your competitor\\'s, you don\\'t get half as many customers. You get no customers, and you go out of business.',\n",
       " \"It's obviously true that the returns for performance are superlinear in business. Some think this is a flaw of capitalism, and that if we changed the rules it would stop being true. But superlinear returns for performance are a feature of the world, not an artifact of rules we've invented. We see the same pattern in fame, power, military victories, knowledge, and even benefit to humanity. In all of these, the rich get richer.\",\n",
       " \"You can't understand the world without understanding the concept of superlinear returns. And if you're ambitious you definitely should, because this will be the wave you surf on.\"]"
      ]
     },
     "execution_count": 48,
     "metadata": {},
     "output_type": "execute_result"
    }
   ],
   "source": [
    "output[0]['output'][0]['text']"
   ]
  },
  {
   "cell_type": "code",
   "execution_count": 49,
   "metadata": {},
   "outputs": [],
   "source": [
    "graph = Viz.to_digraph(output[0][\"root\"])"
   ]
  },
  {
   "cell_type": "code",
   "execution_count": 50,
   "metadata": {},
   "outputs": [
    {
     "data": {
      "image/svg+xml": [
       "<?xml version=\"1.0\" encoding=\"UTF-8\" standalone=\"no\"?>\n",
       "<!DOCTYPE svg PUBLIC \"-//W3C//DTD SVG 1.1//EN\"\n",
       " \"http://www.w3.org/Graphics/SVG/1.1/DTD/svg11.dtd\">\n",
       "<!-- Generated by graphviz version 9.0.0 (20230911.1827)\n",
       " -->\n",
       "<!-- Pages: 1 -->\n",
       "<svg width=\"250pt\" height=\"188pt\"\n",
       " viewBox=\"0.00 0.00 249.91 188.00\" xmlns=\"http://www.w3.org/2000/svg\" xmlns:xlink=\"http://www.w3.org/1999/xlink\">\n",
       "<g id=\"graph0\" class=\"graph\" transform=\"scale(1 1) rotate(0) translate(4 184)\">\n",
       "<polygon fill=\"white\" stroke=\"none\" points=\"-4,4 -4,-184 245.91,-184 245.91,4 -4,4\"/>\n",
       "<!-- root -->\n",
       "<g id=\"node1\" class=\"node\">\n",
       "<title>root</title>\n",
       "<ellipse fill=\"none\" stroke=\"black\" cx=\"120.96\" cy=\"-162\" rx=\"27\" ry=\"18\"/>\n",
       "<text text-anchor=\"middle\" x=\"120.96\" y=\"-156.95\" font-family=\"Times,serif\" font-size=\"14.00\">root</text>\n",
       "</g>\n",
       "<!-- thread_0/extract_s3_txt_op_1 -->\n",
       "<g id=\"node2\" class=\"node\">\n",
       "<title>thread_0/extract_s3_txt_op_1</title>\n",
       "<ellipse fill=\"none\" stroke=\"black\" cx=\"120.96\" cy=\"-90\" rx=\"120.96\" ry=\"18\"/>\n",
       "<text text-anchor=\"middle\" x=\"120.96\" y=\"-84.95\" font-family=\"Times,serif\" font-size=\"14.00\">thread_0/extract_s3_txt_op_1</text>\n",
       "</g>\n",
       "<!-- root&#45;&gt;thread_0/extract_s3_txt_op_1 -->\n",
       "<g id=\"edge1\" class=\"edge\">\n",
       "<title>root&#45;&gt;thread_0/extract_s3_txt_op_1</title>\n",
       "<path fill=\"none\" stroke=\"black\" d=\"M120.96,-143.7C120.96,-136.41 120.96,-127.73 120.96,-119.54\"/>\n",
       "<polygon fill=\"black\" stroke=\"black\" points=\"124.46,-119.62 120.96,-109.62 117.46,-119.62 124.46,-119.62\"/>\n",
       "</g>\n",
       "<!-- thread_0/process_txt_op_1 -->\n",
       "<g id=\"node3\" class=\"node\">\n",
       "<title>thread_0/process_txt_op_1</title>\n",
       "<ellipse fill=\"none\" stroke=\"black\" cx=\"120.96\" cy=\"-18\" rx=\"110.72\" ry=\"18\"/>\n",
       "<text text-anchor=\"middle\" x=\"120.96\" y=\"-12.95\" font-family=\"Times,serif\" font-size=\"14.00\">thread_0/process_txt_op_1</text>\n",
       "</g>\n",
       "<!-- thread_0/extract_s3_txt_op_1&#45;&gt;thread_0/process_txt_op_1 -->\n",
       "<g id=\"edge2\" class=\"edge\">\n",
       "<title>thread_0/extract_s3_txt_op_1&#45;&gt;thread_0/process_txt_op_1</title>\n",
       "<path fill=\"none\" stroke=\"black\" d=\"M120.96,-71.7C120.96,-64.41 120.96,-55.73 120.96,-47.54\"/>\n",
       "<polygon fill=\"black\" stroke=\"black\" points=\"124.46,-47.62 120.96,-37.62 117.46,-47.62 124.46,-47.62\"/>\n",
       "</g>\n",
       "</g>\n",
       "</svg>\n"
      ],
      "text/plain": [
       "<graphviz.graphs.Digraph at 0x1321c2860>"
      ]
     },
     "metadata": {},
     "output_type": "display_data"
    }
   ],
   "source": [
    "display(graph)"
   ]
  }
 ],
 "metadata": {
  "kernelspec": {
   "display_name": "uniflow",
   "language": "python",
   "name": "python3"
  },
  "language_info": {
   "codemirror_mode": {
    "name": "ipython",
    "version": 3
   },
   "file_extension": ".py",
   "mimetype": "text/x-python",
   "name": "python",
   "nbconvert_exporter": "python",
   "pygments_lexer": "ipython3",
   "version": "3.10.13"
  }
 },
 "nbformat": 4,
 "nbformat_minor": 2
}
