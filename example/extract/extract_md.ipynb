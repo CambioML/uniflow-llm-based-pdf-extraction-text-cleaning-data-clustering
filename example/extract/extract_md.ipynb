{
 "cells": [
  {
   "cell_type": "markdown",
   "metadata": {},
   "source": [
    "# Example of extracting markdown file"
   ]
  },
  {
   "cell_type": "markdown",
   "metadata": {},
   "source": [
    "### Load packages"
   ]
  },
  {
   "cell_type": "code",
   "execution_count": 1,
   "metadata": {},
   "outputs": [],
   "source": [
    "%reload_ext autoreload\n",
    "%autoreload 2\n",
    "\n",
    "import sys\n",
    "import pprint\n",
    "\n",
    "sys.path.append(\".\")\n",
    "sys.path.append(\"..\")\n",
    "sys.path.append(\"../..\")"
   ]
  },
  {
   "cell_type": "code",
   "execution_count": 2,
   "metadata": {},
   "outputs": [
    {
     "name": "stderr",
     "output_type": "stream",
     "text": [
      "/opt/conda/envs/uniflow/lib/python3.10/site-packages/tqdm/auto.py:21: TqdmWarning: IProgress not found. Please update jupyter and ipywidgets. See https://ipywidgets.readthedocs.io/en/stable/user_install.html\n",
      "  from .autonotebook import tqdm as notebook_tqdm\n"
     ]
    },
    {
     "data": {
      "text/plain": [
       "{'extract': ['ExtractMarkdownFlow', 'ExtractPDFFlow', 'ExtractTxtFlow'],\n",
       " 'transform': ['TransformCopyFlow',\n",
       "  'TransformHuggingFaceFlow',\n",
       "  'TransformLMQGFlow',\n",
       "  'TransformOpenAIFlow']}"
      ]
     },
     "execution_count": 2,
     "metadata": {},
     "output_type": "execute_result"
    }
   ],
   "source": [
    "from uniflow.flow.client import ExtractClient\n",
    "from uniflow.flow.config import ExtractMarkdownConfig\n",
    "from uniflow.viz import Viz\n",
    "from uniflow.flow.flow_factory import FlowFactory\n",
    "\n",
    "FlowFactory.list()"
   ]
  },
  {
   "cell_type": "markdown",
   "metadata": {},
   "source": [
    "### Prepare the input data\n",
    "\n",
    "First, let's set current directory and input data directory, and load the raw data."
   ]
  },
  {
   "cell_type": "code",
   "execution_count": 3,
   "metadata": {},
   "outputs": [],
   "source": [
    "data = [{\"filename\": \"./data/test.md\"}]"
   ]
  },
  {
   "cell_type": "markdown",
   "metadata": {},
   "source": [
    "### Load the markdown file with header splitter operation"
   ]
  },
  {
   "cell_type": "code",
   "execution_count": 4,
   "metadata": {},
   "outputs": [],
   "source": [
    "client = ExtractClient(ExtractMarkdownConfig())"
   ]
  },
  {
   "cell_type": "code",
   "execution_count": 5,
   "metadata": {},
   "outputs": [
    {
     "name": "stderr",
     "output_type": "stream",
     "text": [
      "100%|██████████| 1/1 [00:00<00:00, 11915.64it/s]\n"
     ]
    }
   ],
   "source": [
    "output = client.run(data)"
   ]
  },
  {
   "cell_type": "markdown",
   "metadata": {},
   "source": [
    "### Output\n",
    "\n",
    "Let's take a look of the generation output."
   ]
  },
  {
   "cell_type": "code",
   "execution_count": 6,
   "metadata": {},
   "outputs": [
    {
     "name": "stdout",
     "output_type": "stream",
     "text": [
      "[{'content': '# Getting Started', 'metadata': {'Header 1': 'Getting Started'}},\n",
      " {'content': '## What is Markdown?\\n'\n",
      "             'Markdown is a lightweight markup language that you can use to '\n",
      "             'add formatting elements to plaintext text documents. Created by '\n",
      "             'John Gruber in 2004, Markdown is now one of the world’s most '\n",
      "             'popular markup languages.',\n",
      "  'metadata': {'Header 1': 'Getting Started', 'Header 2': 'What is Markdown?'}},\n",
      " {'content': '### Example\\n'\n",
      "             'For example, to denote a heading, you add a number sign before '\n",
      "             'it (e.g., # Heading One). Or to make a phrase bold, you add two '\n",
      "             'asterisks before and after it (e.g., **this text is bold**). It '\n",
      "             'may take a while to get used to seeing Markdown syntax in your '\n",
      "             'text, especially if you’re accustomed to WYSIWYG applications. '\n",
      "             'The screenshot below shows a Markdown file displayed in the '\n",
      "             'Visual Studio Code text editor.',\n",
      "  'metadata': {'Header 1': 'Getting Started',\n",
      "               'Header 2': 'What is Markdown?',\n",
      "               'Header 3': 'Example'}},\n",
      " {'content': '## Why Use Markdown?\\n'\n",
      "             'You might be wondering why people use Markdown instead of a '\n",
      "             'WYSIWYG editor. Why write with Markdown when you can press '\n",
      "             'buttons in an interface to format your text? As it turns out, '\n",
      "             'there are several reasons why people use Markdown instead of '\n",
      "             'WYSIWYG editors.',\n",
      "  'metadata': {'Header 1': 'Getting Started', 'Header 2': 'Why Use Markdown?'}},\n",
      " {'content': '## Kicking the Tires\\n'\n",
      "             'The best way to get started with Markdown is to use it. That’s '\n",
      "             'easier than ever before thanks to a variety of free tools.\\n'\n",
      "             'You don’t even need to download anything. There are several '\n",
      "             'online Markdown editors that you can use to try writing in '\n",
      "             'Markdown. Dillinger is one of the best online Markdown editors. '\n",
      "             'Just open the site and start typing in the left pane. A preview '\n",
      "             'of the rendered document appears in the right pane.',\n",
      "  'metadata': {'Header 1': 'Getting Started', 'Header 2': 'Kicking the Tires'}},\n",
      " {'content': '## How Does it Work?\\n'\n",
      "             'Dillinger makes writing in Markdown easy because it hides the '\n",
      "             'stuff happening behind the scenes, but it’s worth exploring how '\n",
      "             'the process works in general.\\n'\n",
      "             'When you write in Markdown, the text is stored in a plaintext '\n",
      "             'file that has an .md or .markdown extension. But then what? How '\n",
      "             'is your Markdown-formatted file converted into HTML or a '\n",
      "             'print-ready document?',\n",
      "  'metadata': {'Header 1': 'Getting Started', 'Header 2': 'How Does it Work?'}}]\n"
     ]
    }
   ],
   "source": [
    "pprint.pprint(output[0]['output'][0]['text'])"
   ]
  }
 ],
 "metadata": {
  "kernelspec": {
   "display_name": "uniflow",
   "language": "python",
   "name": "python3"
  },
  "language_info": {
   "codemirror_mode": {
    "name": "ipython",
    "version": 3
   },
   "file_extension": ".py",
   "mimetype": "text/x-python",
   "name": "python",
   "nbconvert_exporter": "python",
   "pygments_lexer": "ipython3",
   "version": "3.10.13"
  }
 },
 "nbformat": 4,
 "nbformat_minor": 2
}
