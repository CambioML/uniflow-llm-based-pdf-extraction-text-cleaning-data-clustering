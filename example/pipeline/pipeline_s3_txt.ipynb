{
 "cells": [
  {
   "cell_type": "code",
   "execution_count": 7,
   "metadata": {},
   "outputs": [],
   "source": [
    "%reload_ext autoreload\n",
    "%autoreload 2\n",
    "\n",
    "import sys\n",
    "import pprint\n",
    "\n",
    "sys.path.append(\".\")\n",
    "sys.path.append(\"..\")\n",
    "sys.path.append(\"../..\")"
   ]
  },
  {
   "cell_type": "code",
   "execution_count": 8,
   "metadata": {},
   "outputs": [
    {
     "data": {
      "text/plain": [
       "{'extract': ['ExtractHTMLFlow',\n",
       "  'ExtractImageFlow',\n",
       "  'ExtractIpynbFlow',\n",
       "  'ExtractMarkdownFlow',\n",
       "  'ExtractPDFFlow',\n",
       "  'ExtractTxtFlow',\n",
       "  'ExtractGmailFlow'],\n",
       " 'transform': ['TransformAzureOpenAIFlow',\n",
       "  'TransformCopyFlow',\n",
       "  'TransformGoogleFlow',\n",
       "  'TransformGoogleMultiModalModelFlow',\n",
       "  'TransformHuggingFaceFlow',\n",
       "  'TransformLMQGFlow',\n",
       "  'TransformOpenAIFlow'],\n",
       " 'rater': ['RaterFlow']}"
      ]
     },
     "execution_count": 8,
     "metadata": {},
     "output_type": "execute_result"
    }
   ],
   "source": [
    "import os\n",
    "\n",
    "from uniflow.pipeline import MultiFlowsPipeline\n",
    "from uniflow.flow.config import PipelineConfig\n",
    "from uniflow.flow.config import TransformOpenAIConfig, ExtractTxtConfig\n",
    "from uniflow.op.model.model_config import OpenAIModelConfig\n",
    "from uniflow.flow.flow_factory import FlowFactory\n",
    "\n",
    "FlowFactory.list()"
   ]
  },
  {
   "cell_type": "markdown",
   "metadata": {},
   "source": [
    "### Setup AWS CLI AWS_ACCESS_KEY_ID, AWS_SECRET_ACCESS_KEY, AWS_REGION\n",
    "For example, if AWS_ACCESS_KEY_ID is a, AWS_SECRET_ACCESS_KEY is b, and AWS_REGION is c, the environment should bel like below.\n",
    "```\n",
    "%env AWS_ACCESS_KEY_ID=a\n",
    "%env AWS_SECRET_ACCESS_KEY=b\n",
    "%env AWS_REGION=c\n",
    "```\n",
    "note: do not use ' or \" for the assigned value!"
   ]
  },
  {
   "cell_type": "code",
   "execution_count": 3,
   "metadata": {},
   "outputs": [
    {
     "name": "stdout",
     "output_type": "stream",
     "text": [
      "env: AWS_ACCESS_KEY_ID='your_access_key'\n",
      "env: AWS_SECRET_ACCESS_KEY='your_secret_key'\n",
      "env: AWS_REGION='your_region'\n",
      "aws access key id is 'your_access_key'\n",
      "aws secret access key is 'your_secret_key'\n",
      "aws region is 'your_region'\n"
     ]
    }
   ],
   "source": [
    "# Set environment variables in Jupyter Notebook\n",
    "%env AWS_ACCESS_KEY_ID='your_access_key'\n",
    "%env AWS_SECRET_ACCESS_KEY='your_secret_key'\n",
    "%env AWS_REGION='your_region'\n",
    "\n",
    "print(f\"aws access key id is {os.environ.get('AWS_ACCESS_KEY_ID')}\")\n",
    "print(f\"aws secret access key is {os.environ.get('AWS_SECRET_ACCESS_KEY')}\")\n",
    "print(f\"aws region is {os.environ.get('AWS_REGION')}\")\n"
   ]
  },
  {
   "cell_type": "code",
   "execution_count": 4,
   "metadata": {},
   "outputs": [],
   "source": [
    "p = MultiFlowsPipeline(PipelineConfig(\n",
    "    extract_config=ExtractTxtConfig(),\n",
    "    transform_config=TransformOpenAIConfig(\n",
    "        model_config=OpenAIModelConfig(response_format={\"type\": \"json_object\"}))\n",
    "    ))"
   ]
  },
  {
   "cell_type": "markdown",
   "metadata": {},
   "source": [
    "### Prepare input data regarding s3 bucket and key"
   ]
  },
  {
   "cell_type": "code",
   "execution_count": 10,
   "metadata": {},
   "outputs": [],
   "source": [
    "data = [{\"filename\": \"s3://uniflow-test/test.txt\"}]"
   ]
  },
  {
   "cell_type": "code",
   "execution_count": 11,
   "metadata": {},
   "outputs": [
    {
     "name": "stderr",
     "output_type": "stream",
     "text": [
      "100%|██████████| 1/1 [00:00<00:00,  4.00it/s]\n",
      "100%|██████████| 4/4 [00:04<00:00,  1.17s/it]\n"
     ]
    }
   ],
   "source": [
    "output = p.run(data)"
   ]
  },
  {
   "cell_type": "code",
   "execution_count": 13,
   "metadata": {},
   "outputs": [
    {
     "data": {
      "text/plain": [
       "[{'output': [{'response': [{'context': \"One of the most important things I didn't understand about the world when I was a child is the degree to which the returns for performance are superlinear.\",\n",
       "      'question': \"What is the concept that the speaker didn't understand as a child?\",\n",
       "      'answer': 'the degree to which the returns for performance are superlinear.'}],\n",
       "    'error': 'No errors.'}],\n",
       "  'root': <uniflow.node.Node at 0x10e1097b0>},\n",
       " {'output': [{'response': [{'context': 'Teachers and coaches implicitly told us the returns were linear. \"You get out,\" I heard a thousand times, \"what you put in.\" They meant well, but this is rarely true. If your product is only half as good as your competitor\\'s, you don\\'t get half as many customers. You get no customers, and you go out of business.',\n",
       "      'question': 'What do teachers and coaches often tell about the relationship between input and output?',\n",
       "      'answer': 'They often say that the returns are linear, meaning you get out what you put in, but this is rarely true.'}],\n",
       "    'error': 'No errors.'}],\n",
       "  'root': <uniflow.node.Node at 0x10dfd6500>},\n",
       " {'output': [{'response': [{'context': \"It's obviously true that the returns for performance are superlinear in business. Some think this is a flaw of capitalism, and that if we changed the rules it would stop being true. But superlinear returns for performance are a feature of the world, not an artifact of rules we've invented. We see the same pattern in fame, power, military victories, knowledge, and even benefit to humanity. In all of these, the rich get richer.\",\n",
       "      'question': 'What are some examples where superlinear returns for performance are seen?',\n",
       "      'answer': 'fame, power, military victories, knowledge, and benefit to humanity.'}],\n",
       "    'error': 'No errors.'}],\n",
       "  'root': <uniflow.node.Node at 0x10e109750>},\n",
       " {'output': [{'response': [{'context': \"You can't understand the world without understanding the concept of superlinear returns. And if you're ambitious you definitely should, because this will be the wave you surf on.\",\n",
       "      'question': 'Why should ambitious people understand the concept of superlinear returns?',\n",
       "      'answer': 'Because this will be the wave they surf on.'}],\n",
       "    'error': 'No errors.'}],\n",
       "  'root': <uniflow.node.Node at 0x10e1096f0>}]"
      ]
     },
     "execution_count": 13,
     "metadata": {},
     "output_type": "execute_result"
    }
   ],
   "source": [
    "output"
   ]
  }
 ],
 "metadata": {
  "kernelspec": {
   "display_name": "uniflow",
   "language": "python",
   "name": "python3"
  },
  "language_info": {
   "codemirror_mode": {
    "name": "ipython",
    "version": 3
   },
   "file_extension": ".py",
   "mimetype": "text/x-python",
   "name": "python",
   "nbconvert_exporter": "python",
   "pygments_lexer": "ipython3",
   "version": "3.10.13"
  }
 },
 "nbformat": 4,
 "nbformat_minor": 2
}
