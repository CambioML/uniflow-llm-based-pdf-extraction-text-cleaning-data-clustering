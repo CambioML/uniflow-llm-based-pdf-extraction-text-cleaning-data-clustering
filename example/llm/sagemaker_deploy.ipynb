{
 "cells": [
  {
   "cell_type": "markdown",
   "metadata": {},
   "source": [
    "# Use Amazon SageMaker to deploy a model from the Hugging Face Hub\n",
    "\n",
    "### Before running the code\n",
    "\n",
    "You will need a valid [AWS CLI profile](https://docs.aws.amazon.com/cli/latest/userguide/cli-configure-files.html) to run the code. You can set up the profile by running `aws configure --profile <profile_name>` in your terminal. You will need to provide your AWS Access Key ID and AWS Secret Access Key. You can find your AWS Access Key ID and AWS Secret Access Key in the [Security Credentials](https://console.aws.amazon.com/iam/home?region=us-east-1#/security_credentials) section of the AWS console.\n",
    "\n",
    "```bash\n",
    "$ aws configure --profile <profile_name>\n",
    "$ AWS Access Key ID [None]: <your_access_key_id>\n",
    "$ AWS Secret Access Key [None]: <your_secret_access_key>\n",
    "$ Default region name [None]: us-west-2\n",
    "$ Default output format [None]: .json\n",
    "```\n",
    "\n",
    "We recommend using the default profile by executing the `aws configure` command. This notebook will utilize the default profile. Make sure to set `Default output format` to `.json`.\n",
    "\n",
    "> Note: If you don't have AWS CLI installed, you will get a `command not found: aws` error. You can follow the instructions [here](https://docs.aws.amazon.com/cli/latest/userguide/getting-started-install.html)."
   ]
  },
  {
   "cell_type": "markdown",
   "metadata": {},
   "source": [
    "For more details on how to deploy a model on Amazon SageMaker, you can refer to this document:\n",
    "\n",
    "https://huggingface.co/docs/sagemaker/inference#deploy-a-model-from-the--hub\n"
   ]
  },
  {
   "cell_type": "markdown",
   "metadata": {},
   "source": [
    "### Install Extra Libraries"
   ]
  },
  {
   "cell_type": "code",
   "execution_count": 1,
   "metadata": {},
   "outputs": [
    {
     "name": "stdout",
     "output_type": "stream",
     "text": [
      "/bin/bash: {sys.executable}: command not found\n",
      "/bin/bash: {sys.executable}: command not found\n"
     ]
    }
   ],
   "source": [
    "import sys\n",
    "\n",
    "!{sys.executable} -m pip install -q boto3\n",
    "!{sys.executable} -m pip install -q sagemaker"
   ]
  },
  {
   "cell_type": "markdown",
   "metadata": {},
   "source": [
    "### Import dependency\n",
    "First, we import libraries and create a boto3 session. We will use the default profile here, but you can also specify a profile name."
   ]
  },
  {
   "cell_type": "code",
   "execution_count": 2,
   "metadata": {},
   "outputs": [
    {
     "name": "stdout",
     "output_type": "stream",
     "text": [
      "sagemaker.config INFO - Not applying SDK defaults from location: /etc/xdg/sagemaker/config.yaml\n",
      "sagemaker.config INFO - Not applying SDK defaults from location: /home/ubuntu/.config/sagemaker/config.yaml\n"
     ]
    }
   ],
   "source": [
    "import json\n",
    "from datetime import datetime\n",
    "\n",
    "import boto3\n",
    "import sagemaker\n",
    "from sagemaker.huggingface import HuggingFaceModel, get_huggingface_llm_image_uri"
   ]
  },
  {
   "cell_type": "code",
   "execution_count": 3,
   "metadata": {},
   "outputs": [],
   "source": [
    "session = boto3.Session(profile_name='default')\n",
    "sm_session = sagemaker.session.Session(boto_session=session)\n",
    "sm_runtime_client = session.client(\"sagemaker-runtime\")"
   ]
  },
  {
   "cell_type": "markdown",
   "metadata": {},
   "source": [
    "### Create role\n",
    "We will create an execution role that will be used by SageMaker to access AWS resources."
   ]
  },
  {
   "cell_type": "code",
   "execution_count": 4,
   "metadata": {},
   "outputs": [],
   "source": [
    "def create_role(role_name):\n",
    "    \"\"\"\n",
    "    Creates an IAM role for SageMaker deployment.\n",
    "\n",
    "    Parameters:\n",
    "    role_name (str): The name of the IAM role to be created.\n",
    "\n",
    "    Returns:\n",
    "    str: The ARN (Amazon Resource Name) of the created IAM role.\n",
    "    \"\"\"\n",
    "    iam_client = session.client(\"iam\")\n",
    "\n",
    "    # Check if role already exists\n",
    "    try:\n",
    "        get_role_response = iam_client.get_role(RoleName=role_name)\n",
    "        print(f\"IAM Role '{role_name}' already exists. Skipping creation.\")\n",
    "        return get_role_response[\"Role\"][\"Arn\"]\n",
    "    except iam_client.exceptions.NoSuchEntityException:\n",
    "        pass\n",
    "\n",
    "    assume_role_policy_document = {\n",
    "        \"Version\": \"2012-10-17\",\n",
    "        \"Statement\": [\n",
    "            {\n",
    "                \"Effect\": \"Allow\",\n",
    "                \"Principal\": {\"Service\": \"sagemaker.amazonaws.com\"},\n",
    "                \"Action\": \"sts:AssumeRole\",\n",
    "            }\n",
    "        ],\n",
    "    }\n",
    "\n",
    "    create_role_response = iam_client.create_role(\n",
    "        RoleName=role_name,\n",
    "        AssumeRolePolicyDocument=json.dumps(assume_role_policy_document),\n",
    "    )\n",
    "\n",
    "    attach_policy_response = iam_client.attach_role_policy(\n",
    "        RoleName=role_name,\n",
    "        PolicyArn=\"arn:aws:iam::aws:policy/AmazonSageMakerFullAccess\",\n",
    "    )\n",
    "\n",
    "    attach_policy_response = iam_client.attach_role_policy(\n",
    "        RoleName=role_name,\n",
    "        PolicyArn=\"arn:aws:iam::aws:policy/AmazonS3ReadOnlyAccess\",\n",
    "    )\n",
    "\n",
    "    print(f\"IAM Role '{role_name}' created successfully!\")\n",
    "\n",
    "    role_arn = create_role_response[\"Role\"][\"Arn\"]\n",
    "\n",
    "    return role_arn"
   ]
  },
  {
   "cell_type": "markdown",
   "metadata": {},
   "source": [
    "We name the role `UniflowSageMakerEndpointRole-v1` in this notebook. You can change it to your own role name."
   ]
  },
  {
   "cell_type": "code",
   "execution_count": 5,
   "metadata": {},
   "outputs": [
    {
     "name": "stdout",
     "output_type": "stream",
     "text": [
      "IAM Role 'UniflowSageMakerEndpointRole-v1' already exists. Skipping creation.\n"
     ]
    }
   ],
   "source": [
    "role_name = f\"UniflowSageMakerEndpointRole-v1\"\n",
    "role_arn = create_role(role_name)"
   ]
  },
  {
   "cell_type": "markdown",
   "metadata": {},
   "source": [
    "### Deploy model\n",
    "Next, we deploy the model to an endpoint. We will use the default instance type ml.g5.4xlarge here, but you can also specify a different instance type."
   ]
  },
  {
   "cell_type": "code",
   "execution_count": 6,
   "metadata": {},
   "outputs": [],
   "source": [
    "def deploy(role_arn, endpoint_name):\n",
    "    \"\"\"\n",
    "    Deploys the HuggingFace model using Amazon SageMaker.\n",
    "\n",
    "    Args:\n",
    "        role_arn (str): The ARN of the IAM role used to create the SageMaker endpoint.\n",
    "        endpoint_name (str): The name of the SageMaker endpoint.\n",
    "\n",
    "    Returns:\n",
    "        str: The name of the deployed SageMaker endpoint.\n",
    "    \"\"\"\n",
    "\n",
    "    # retrieve the llm image uri\n",
    "    llm_image = get_huggingface_llm_image_uri(\"huggingface\", version=\"1.0.3\")\n",
    "\n",
    "    # print ecr image uri\n",
    "    print(f\"llm image uri: {llm_image}\")\n",
    "\n",
    "    # sagemaker config\n",
    "    instance_type = \"ml.g5.4xlarge\"\n",
    "    number_of_gpu = 1\n",
    "    health_check_timeout = 300\n",
    "\n",
    "    # TGI config\n",
    "    config = {\n",
    "        \"HF_MODEL_ID\": \"tiiuae/falcon-7b-instruct\",  # model_id from hf.co/models\n",
    "        \"SM_NUM_GPUS\": json.dumps(number_of_gpu),  # Number of GPU used per replica\n",
    "        \"MAX_INPUT_LENGTH\": json.dumps(1024),  # Max length of input text\n",
    "        \"MAX_TOTAL_TOKENS\": json.dumps(\n",
    "            2048\n",
    "        ),  # Max length of the generation (including input text)\n",
    "        # \"HF_MODEL_QUANTIZE\": \"bitsandbytes\",  # comment in to quantize\n",
    "        \"HF_MODEL_TRUST_REMOTE_CODE\": json.dumps(True),\n",
    "    }\n",
    "\n",
    "    # create HuggingFaceModel\n",
    "    llm_model = HuggingFaceModel(\n",
    "        env=config, role=role_arn, image_uri=llm_image, sagemaker_session=sm_session\n",
    "    )\n",
    "\n",
    "    # deploy\n",
    "    llm_model.deploy(\n",
    "        initial_instance_count=1,\n",
    "        instance_type=instance_type,\n",
    "        # volume_size=400, # If using an instance with local SSD storage, volume_size must be None, e.g. p4 but not p3\n",
    "        container_startup_health_check_timeout=health_check_timeout,  # 5 minutes to be able to load the model\n",
    "        endpoint_name=endpoint_name,\n",
    "    )\n",
    "    print(f\"sagemaker endpoint name: {endpoint_name}\")\n",
    "    return endpoint_name"
   ]
  },
  {
   "cell_type": "code",
   "execution_count": null,
   "metadata": {},
   "outputs": [],
   "source": [
    "now = datetime.now()\n",
    "date_time = now.strftime(\"%Y-%m-%d-%H-%M-%S\")\n",
    "\n",
    "endpoint_name = f\"falcon-7b-{date_time}\"\n",
    "deploy(role_arn, endpoint_name)"
   ]
  },
  {
   "cell_type": "markdown",
   "metadata": {},
   "source": [
    "### Invoke endpoint\n",
    "Finally, we invoke the endpoint with a sample input."
   ]
  },
  {
   "cell_type": "code",
   "execution_count": null,
   "metadata": {},
   "outputs": [],
   "source": [
    "def invoke_endpoint(endpoint_name, input_text):\n",
    "    \"\"\"\n",
    "    Invokes the SageMaker endpoint.\n",
    "\n",
    "    Args:\n",
    "        endpoint_name (str): The name of the SageMaker endpoint.\n",
    "        input_text (str): The input text to be processed by the endpoint.\n",
    "\n",
    "    Returns:\n",
    "        dict: The response from the SageMaker endpoint.\n",
    "    \"\"\"\n",
    "\n",
    "    parameters = {\n",
    "        \"do_sample\": True,\n",
    "        \"top_p\": 0.9,\n",
    "        \"temperature\": 0.8,\n",
    "        \"max_new_tokens\": 1024,\n",
    "        \"repetition_penalty\": 1.03,\n",
    "        \"stop\": [\"\\nUser:\",\"<|endoftext|>\",\"</s>\"]\n",
    "    }\n",
    "\n",
    "    prompt = f\"You are an helpful Assistant, called Falcon. \\n\\nUser: {input_text}\\nFalcon:\"\n",
    "\n",
    "    payload = json.dumps({\"inputs\": prompt, \"parameters\": parameters})\n",
    "\n",
    "    response = sm_runtime_client.invoke_endpoint(\n",
    "        EndpointName=endpoint_name, ContentType=\"application/json\", Body=payload\n",
    "    )\n",
    "\n",
    "    return json.loads(response[\"Body\"].read().decode(\"utf-8\"))"
   ]
  },
  {
   "cell_type": "code",
   "execution_count": null,
   "metadata": {},
   "outputs": [
    {
     "name": "stdout",
     "output_type": "stream",
     "text": [
      "[{'generated_text': 'You are an helpful Assistant, called Falcon. \\n\\nUser: Tell me about Amazon SageMaker\\nFalcon: Amazon SageMaker is a machine learning platform provided by Amazon Web Services. It allows customers to build, train, and deploy machine learning models in the cloud. Amazon SageMaker makes it easy to build and deploy machine learning models, even if you have little or no expertise in machine learning.\\nUser '}]\n"
     ]
    }
   ],
   "source": [
    "input_text = \"Tell me about Amazon SageMaker\"\n",
    "response = invoke_endpoint(endpoint_name, input_text)\n",
    "print(response)"
   ]
  },
  {
   "cell_type": "markdown",
   "metadata": {},
   "source": [
    "## End of the notebook\n",
    "\n",
    "Check more Uniflow use cases in the [example folder](https://github.com/CambioML/uniflow/tree/main/example/model#examples)!\n",
    "\n",
    "<a href=\"https://www.cambioml.com/\" title=\"Title\">\n",
    "    <img src=\"../image/cambioml_logo_large.png\" style=\"height: 100px; display: block; margin-left: auto; margin-right: auto;\"/>\n",
    "</a>\n"
   ]
  }
 ],
 "metadata": {
  "kernelspec": {
   "display_name": "file_extraction",
   "language": "python",
   "name": "python3"
  },
  "language_info": {
   "codemirror_mode": {
    "name": "ipython",
    "version": 3
   },
   "file_extension": ".py",
   "mimetype": "text/x-python",
   "name": "python",
   "nbconvert_exporter": "python",
   "pygments_lexer": "ipython3",
   "version": "3.10.13"
  }
 },
 "nbformat": 4,
 "nbformat_minor": 2
}
