{
 "cells": [
  {
   "cell_type": "markdown",
   "metadata": {},
   "source": [
    "# Use `Uniflow` to Extract PDF and Ingest into OpenSearch (Resources Set Up)\n",
    "\n",
    "### Before running the code\n",
    "\n",
    "You will need to create a `uniflow` conda environment to run this notebook. You can set up the environment following the instruction: https://github.com/CambioML/uniflow/tree/main#installation.\n",
    "\n",
    "Next, you will need a valid [AWS CLI profile](https://docs.aws.amazon.com/cli/latest/userguide/cli-configure-files.html) to run the code. You can set up the profile by running `aws configure --profile <profile_name>` in your terminal. You will need to provide your AWS Access Key ID and AWS Secret Access Key. You can find your AWS Access Key ID and AWS Secret Access Key in the [Security Credentials](https://console.aws.amazon.com/iam/home?region=us-east-1#/security_credentials) section of the AWS console.\n",
    "\n",
    "```bash\n",
    "$ aws configure --profile <profile_name>\n",
    "$ AWS Access Key ID [None]: <your_access_key_id>\n",
    "$ AWS Secret Access Key [None]: <your_secret_access_key>\n",
    "$ Default region name [None]: us-west-2\n",
    "$ Default output format [None]: .json\n",
    "```\n",
    "\n",
    "Make sure to set `Default output format` to `.json`.\n",
    "\n",
    "> Note: If you don't have AWS CLI installed, you will get a `command not found: aws` error. You can follow the instructions [here](https://docs.aws.amazon.com/cli/latest/userguide/getting-started-install.html)."
   ]
  },
  {
   "cell_type": "markdown",
   "metadata": {},
   "source": [
    "### Install Extra Libraries"
   ]
  },
  {
   "cell_type": "code",
   "execution_count": 1,
   "metadata": {},
   "outputs": [],
   "source": [
    "import sys\n",
    "\n",
    "!{sys.executable} -m pip install -q boto3"
   ]
  },
  {
   "cell_type": "markdown",
   "metadata": {},
   "source": [
    "### Import Libraries"
   ]
  },
  {
   "cell_type": "code",
   "execution_count": 2,
   "metadata": {},
   "outputs": [],
   "source": [
    "import boto3\n",
    "from datetime import datetime\n",
    "import time\n",
    "import json"
   ]
  },
  {
   "cell_type": "code",
   "execution_count": 3,
   "metadata": {},
   "outputs": [],
   "source": [
    "session = boto3.Session(profile_name='default')\n",
    "account_id = session.client('sts').get_caller_identity().get('Account')\n",
    "region = session.region_name\n",
    "\n",
    "current_time = datetime.now().strftime(\"%Y-%m-%d-%H-%M-%S\")"
   ]
  },
  {
   "cell_type": "markdown",
   "metadata": {},
   "source": [
    "### Create an S3 bucket\n",
    "In this section, we will create an S3 bucket to store the PDF files. You can create an S3 bucket by running the following command in your terminal:\n",
    "    \n",
    "```bash\n",
    "$ aws s3api create-bucket --bucket your-bucket-here --region us-west-2\n",
    "```\n",
    "\n",
    "Or you can use the boto3 code below to create an S3 bucket.\n"
   ]
  },
  {
   "cell_type": "code",
   "execution_count": null,
   "metadata": {},
   "outputs": [],
   "source": [
    "s3_client = session.client('s3')\n",
    "s3_bucket_name = f\"uniflow-es-sample-bucket-{account_id}-{region}\"\n",
    "\n",
    "def create_bucket(bucket_name, region=\"us-west-2\"):\n",
    "    try:\n",
    "        location = {'LocationConstraint': region}\n",
    "        s3_client.create_bucket(Bucket=bucket_name,\n",
    "                                CreateBucketConfiguration=location)\n",
    "    except Exception as e:\n",
    "        print(\"Error in creating bucket: \", e)\n",
    "\n",
    "create_bucket(s3_bucket_name, 'us-west-2')"
   ]
  },
  {
   "cell_type": "markdown",
   "metadata": {},
   "source": [
    "### Create an OpenSearch index\n",
    "We highly recommend you to create an OpenSearch index using AWS console. You can follow the instructions [here](https://docs.aws.amazon.com/opensearch-service/latest/developerguide/createupdatedomains.html#createupdatedomains-console) to create an OpenSearch index."
   ]
  },
  {
   "cell_type": "markdown",
   "metadata": {},
   "source": [
    "Specify master user credentials for your OpenSearch domain.\n",
    "\n",
    "The master user password must contain at least one uppercase letter, one lowercase letter, one number, and one special character."
   ]
  },
  {
   "cell_type": "code",
   "execution_count": 5,
   "metadata": {},
   "outputs": [],
   "source": [
    "master_username = 'your_master_username'\n",
    "master_password = 'your_master_password'"
   ]
  },
  {
   "cell_type": "code",
   "execution_count": null,
   "metadata": {},
   "outputs": [],
   "source": [
    "es_client = session.client(\"opensearch\")\n",
    "domain_name = f\"uniflow-es-sample-domain\"\n",
    "\n",
    "access_policies = {\n",
    "    \"Version\": \"2012-10-17\",\n",
    "    \"Statement\": [\n",
    "        {\n",
    "            \"Effect\": \"Allow\",\n",
    "            \"Principal\": {\"AWS\": \"*\"},\n",
    "            \"Action\": \"es:*\",\n",
    "            \"Resource\": f\"arn:aws:es:us-west-2:{account_id}:domain/{domain_name}/*\",\n",
    "        }\n",
    "    ],\n",
    "}\n",
    "\n",
    "\n",
    "def create_opensearch_domain(domain_name):\n",
    "    try:\n",
    "        response = es_client.create_domain(\n",
    "            DomainName=domain_name,\n",
    "            EngineVersion=\"OpenSearch_2.7\",\n",
    "            ClusterConfig={\n",
    "                \"InstanceType\": \"r6g.large.search\",\n",
    "                \"InstanceCount\": 3,\n",
    "                \"DedicatedMasterEnabled\": True,\n",
    "                \"ZoneAwarenessEnabled\": True,\n",
    "                \"DedicatedMasterType\": \"m6g.large.search\",\n",
    "                \"DedicatedMasterCount\": 3,\n",
    "                \"MultiAZWithStandbyEnabled\": True,\n",
    "            },\n",
    "            EBSOptions={\n",
    "                \"EBSEnabled\": True,\n",
    "                \"VolumeType\": \"gp3\",\n",
    "                \"VolumeSize\": 100,\n",
    "            },\n",
    "            AccessPolicies=json.dumps(access_policies),\n",
    "            EncryptionAtRestOptions={\"Enabled\": True | False},\n",
    "            NodeToNodeEncryptionOptions={\"Enabled\": True},\n",
    "            DomainEndpointOptions={\"EnforceHTTPS\": True},\n",
    "            AdvancedSecurityOptions={\n",
    "                \"Enabled\": True,\n",
    "                \"InternalUserDatabaseEnabled\": True,\n",
    "                \"MasterUserOptions\": {\n",
    "                    \"MasterUserName\": master_username,\n",
    "                    \"MasterUserPassword\": master_password,\n",
    "                },\n",
    "            },\n",
    "        )\n",
    "        print(\"Domain created:\", response)\n",
    "    except Exception as e:\n",
    "        print(\"Error in creating domain: \", e)\n",
    "\n",
    "\n",
    "create_opensearch_domain(domain_name)"
   ]
  },
  {
   "cell_type": "markdown",
   "metadata": {},
   "source": [
    "### Write our configuration in .env\n",
    "After creating the S3 bucket and OpenSearch index, we will write our configuration in `.env` file. You can find the `.env` file in the same directory as this notebook. You can open the `.env` file using a text editor and fill in the following information:"
   ]
  },
  {
   "cell_type": "code",
   "execution_count": 7,
   "metadata": {},
   "outputs": [],
   "source": [
    "s3_sample_prefix = \"uniflow-es-sample/pdf/nike-paper.pdf\"\n",
    "s3_client.upload_file('es_sample_files/pdf/nike-paper.pdf', s3_bucket_name, s3_sample_prefix)"
   ]
  },
  {
   "cell_type": "code",
   "execution_count": 8,
   "metadata": {},
   "outputs": [
    {
     "name": "stdout",
     "output_type": "stream",
     "text": [
      "Domain Processing status: True\n",
      "Domain Processing status: True\n",
      "Domain Processing status: True\n",
      "Domain Processing status: True\n",
      "Domain Processing status: True\n",
      "Domain Processing status: True\n",
      "Domain Processing status: True\n",
      "Domain Processing status: True\n",
      "Domain Processing status: True\n",
      "Domain Processing status: True\n",
      "Domain Processing status: True\n",
      "Domain Processing status: True\n",
      "Domain Processing status: True\n",
      "Domain Processing status: True\n",
      "Domain Processing status: False\n"
     ]
    }
   ],
   "source": [
    "# Get the status of new created domain\n",
    "def get_opensearch_domain_status(domain_name):\n",
    "    try:\n",
    "        response = es_client.describe_domain(DomainName=domain_name)\n",
    "        print(\"Domain status:\", response['DomainStatus']['Processing'])\n",
    "    except Exception as e:\n",
    "        print(\"Error in getting domain status: \", e)\n",
    "\n",
    "while True:\n",
    "    response = es_client.describe_domain(DomainName=domain_name)\n",
    "    if response['DomainStatus']['Processing'] == False:\n",
    "        print(\"Domain Processing status:\", response['DomainStatus']['Processing'])\n",
    "        break\n",
    "    else:\n",
    "        print(\"Domain Processing status:\", response['DomainStatus']['Processing'])\n",
    "        time.sleep(60)\n"
   ]
  },
  {
   "cell_type": "code",
   "execution_count": 12,
   "metadata": {},
   "outputs": [],
   "source": [
    "describe_domain_response = es_client.describe_domain(DomainName=domain_name)\n",
    "opensearch_url = describe_domain_response[\"DomainStatus\"][\"Endpoint\"]\n",
    "\n",
    "with open('.env', 'w') as f:\n",
    "    f.write(f\"OPENSEARCH_URL={opensearch_url}\\n\")\n",
    "    f.write(f\"ES_USERNAME={master_username}\\n\")\n",
    "    f.write(f\"ES_PASSWORD={master_password}\\n\")\n",
    "    f.write(f\"S3_BUCKET={s3_bucket_name}\\n\")\n",
    "    f.write(f\"S3_PREFIX={s3_sample_prefix}\\n\")"
   ]
  },
  {
   "cell_type": "markdown",
   "metadata": {},
   "source": [
    "## End of the notebook\n",
    "\n",
    "Check more Uniflow use cases in the [example folder](https://github.com/CambioML/uniflow/tree/main/example/model#examples)!\n",
    "\n",
    "<a href=\"https://www.cambioml.com/\" title=\"Title\">\n",
    "    <img src=\"../image/cambioml_logo_large.png\" style=\"height: 100px; display: block; margin-left: auto; margin-right: auto;\"/>\n",
    "</a>\n"
   ]
  }
 ],
 "metadata": {
  "kernelspec": {
   "display_name": "file_extraction",
   "language": "python",
   "name": "python3"
  },
  "language_info": {
   "codemirror_mode": {
    "name": "ipython",
    "version": 3
   },
   "file_extension": ".py",
   "mimetype": "text/x-python",
   "name": "python",
   "nbconvert_exporter": "python",
   "pygments_lexer": "ipython3",
   "version": "3.10.13"
  }
 },
 "nbformat": 4,
 "nbformat_minor": 2
}
