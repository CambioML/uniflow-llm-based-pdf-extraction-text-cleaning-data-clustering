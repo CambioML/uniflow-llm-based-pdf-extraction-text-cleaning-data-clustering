{
 "cells": [
  {
   "cell_type": "code",
   "execution_count": 1,
   "id": "aa1dcf25-e694-4e4d-b449-3851ad03b2f3",
   "metadata": {},
   "outputs": [],
   "source": [
    "%reload_ext autoreload\n",
    "%autoreload 2\n",
    "\n",
    "import sys\n",
    "\n",
    "sys.path.append(\".\")\n",
    "sys.path.append(\"..\")\n",
    "sys.path.append(\"../..\")"
   ]
  },
  {
   "cell_type": "code",
   "execution_count": 2,
   "id": "ed29a309-bf91-4582-996a-29374df894b2",
   "metadata": {},
   "outputs": [],
   "source": [
    "!{sys.executable} -m pip install -q transformers accelerate bitsandbytes scipy tiktoken"
   ]
  },
  {
   "cell_type": "code",
   "execution_count": 3,
   "id": "c24454fc-615b-4a2e-8950-1d0d7497784c",
   "metadata": {},
   "outputs": [
    {
     "name": "stderr",
     "output_type": "stream",
     "text": [
      "/opt/conda/envs/uniflow/lib/python3.10/site-packages/tqdm/auto.py:21: TqdmWarning: IProgress not found. Please update jupyter and ipywidgets. See https://ipywidgets.readthedocs.io/en/stable/user_install.html\n",
      "  from .autonotebook import tqdm as notebook_tqdm\n"
     ]
    }
   ],
   "source": [
    "from IPython.display import display\n",
    "\n",
    "from uniflow.flow.flow_factory import FlowFactory\n",
    "from uniflow.flow.client import TransformClient\n",
    "from uniflow.flow.config import HuggingfaceModelConfig, TransformQAHuggingFaceJsonFormatConfig\n",
    "from uniflow.flow.config import GemmaTransformConfig\n",
    "from uniflow.op.prompt import Context\n",
    "from uniflow.op.prompt import PromptTemplate\n",
    "from pprint import pprint\n",
    "import time"
   ]
  },
  {
   "cell_type": "code",
   "execution_count": 4,
   "id": "0fc570b3-88a9-477c-8623-dfd70aa1f930",
   "metadata": {},
   "outputs": [],
   "source": [
    "raw_context_input = [\n",
    "    \"\"\"We believe our success depends upon our capabilities in areas such as design, research and development, \\\n",
    "production and marketing and is supported and protected by our intellectual property rights, such as \\\n",
    "trademarks, utility and design patents, copyrights, and trade secrets, among others. We have followed a policy \\\n",
    "of applying for and registering intellectual property rights in the United States and select foreign countries \\\n",
    "on trademarks, inventions, innovations and designs that we deem valuable. W e also continue to vigorously \\\n",
    "protect our intellectual property, including trademarks, patents and trade secrets against third-party \\\n",
    "infringement and misappropriation.\"\"\",\n",
    "    \"\"\"Snoopy can be selfish, gluttonous, and lazy at times, and occasionally mocks his owner, Charlie Brown. \n",
    "But on the whole, he shows great love, care, and loyalty for his owner (even though he cannot even remember \n",
    "his name and always refers to him as \"the round-headed kid\"). In the 1990s comic strips, he is obsessed \n",
    "with cookies, particularly the chocolate-chip variety. This, and other instances in which he indulges in large \n",
    "chocolate-based meals and snacks, indicate that chocolate is not poisonous to Snoopy, the way it is for real dogs.\"\"\",\n",
    "    \"\"\"The chain rule states that the derivative of a composite function (a function composed of another \\\n",
    "function) is equal to the derivative of the outer function multiplied by the derivative of the inner function.\\\n",
    "Mathematically, it can be written as: \\(\\frac{d}{dx}g(h(x)) = \\frac{dg}{dh}(h(x))\\cdot \\frac{dh}{dx}(x)\\).\"\"\",\n",
    "    \"\"\"Hypothesis testing involves making a claim about a population parameter based on sample data, and then \\\n",
    "conducting a test to determine whether this claim is supported or rejected. This typically involves \\\n",
    "calculating a test statistic, determining a significance level, and comparing the calculated value to a \\\n",
    "critical value to obtain a p-value. \"\"\"\n",
    "]\n",
    "\n",
    "raw_context_input = raw_context_input * 250"
   ]
  },
  {
   "cell_type": "code",
   "execution_count": 5,
   "id": "049a36b8-cf88-4953-901f-5b00e8c1db08",
   "metadata": {},
   "outputs": [
    {
     "name": "stdout",
     "output_type": "stream",
     "text": [
      "sample size of processed input data:  1000\n",
      "\n",
      "Example uniflow context data:\n",
      "[Context(context='We believe our success depends upon our capabilities in areas such as design, research and development, production and marketing and is supported and protected by our intellectual property rights, such as trademarks, utility and design patents, copyrights, and trade secrets, among others. We have followed a policy of applying for and registering intellectual property rights in the United States and select foreign countries on trademarks, inventions, innovations and designs that we deem valuable. W e also continue to vigorously protect our intellectual property, including trademarks, patents and trade secrets against third-party infringement and misappropriation.'),\n",
      " Context(context='Snoopy can be selfish, gluttonous, and lazy at times, and occasionally mocks his owner, Charlie Brown. \\nBut on the whole, he shows great love, care, and loyalty for his owner (even though he cannot even remember \\nhis name and always refers to him as \"the round-headed kid\"). In the 1990s comic strips, he is obsessed \\nwith cookies, particularly the chocolate-chip variety. This, and other instances in which he indulges in large \\nchocolate-based meals and snacks, indicate that chocolate is not poisonous to Snoopy, the way it is for real dogs.')]\n"
     ]
    }
   ],
   "source": [
    "\n",
    "input_data = [\n",
    "    Context(context=data)\n",
    "    for data in raw_context_input\n",
    "]\n",
    "\n",
    "print(\"sample size of processed input data: \", len(input_data))\n",
    "\n",
    "print(\"\\nExample uniflow context data:\")\n",
    "pprint(input_data[:2])\n"
   ]
  },
  {
   "cell_type": "code",
   "execution_count": 6,
   "id": "0be2ca63-1708-440b-9709-6798d9076b8a",
   "metadata": {},
   "outputs": [],
   "source": [
    "guided_prompt = PromptTemplate(\n",
    "        instruction=\"Generate one question and its corresponding answer based on context. Following the format and structure of the examples below to include the same context, question, and answer in the response.\",\n",
    "        few_shot_prompt=[\n",
    "            Context(\n",
    "                context=\"In 1948, Claude E. Shannon published A Mathematical Theory of\\nCommunication (Shannon, 1948) establishing the theory of\\ninformation. In his article, Shannon introduced the concept of\\ninformation entropy for the first time. We will begin our journey here.\",\n",
    "                question=\"Who published A Mathematical Theory of Communication in 1948?\",\n",
    "                answer=\"Claude E. Shannon.\",\n",
    "            )\n",
    "        ]\n",
    ")"
   ]
  },
  {
   "cell_type": "code",
   "execution_count": null,
   "id": "2a228817-3905-4453-a4f8-51b5784eb5ec",
   "metadata": {},
   "outputs": [
    {
     "name": "stderr",
     "output_type": "stream",
     "text": [
      "/opt/conda/envs/uniflow/lib/python3.10/site-packages/transformers/models/auto/tokenization_auto.py:729: FutureWarning: The `use_auth_token` argument is deprecated and will be removed in v5 of Transformers. Please use `token` instead.\n",
      "  warnings.warn(\n",
      "/opt/conda/envs/uniflow/lib/python3.10/site-packages/transformers/models/auto/auto_factory.py:468: FutureWarning: The `use_auth_token` argument is deprecated and will be removed in v5 of Transformers. Please use `token` instead.\n",
      "  warnings.warn(\n",
      "Loading checkpoint shards:  50%|████████████████████████████████████████▌                                        | 2/4 [01:04<01:06, 33.47s/it]"
     ]
    }
   ],
   "source": [
    "config = GemmaTransformConfig(\n",
    "    prompt_template=guided_prompt\n",
    ")\n",
    "\n",
    "client = TransformClient(config)"
   ]
  },
  {
   "cell_type": "code",
   "execution_count": null,
   "id": "1d61f058-3ba6-4463-b942-306a2f983b88",
   "metadata": {},
   "outputs": [],
   "source": [
    "print(\"HuggingFace model config: \")\n",
    "pprint(config)\n",
    "\n",
    "prompt = config.prompt_template.instruction\n",
    "print(\"\\nPrompt: \", prompt)"
   ]
  },
  {
   "cell_type": "code",
   "execution_count": null,
   "id": "cdc5d5bf-17c6-4d07-b90b-5e4525b1f219",
   "metadata": {},
   "outputs": [],
   "source": [
    "start_time = time.time()\n",
    "outputs = client.run(input_data[:3])\n",
    "execution_time = time.time() - start_time"
   ]
  },
  {
   "cell_type": "code",
   "execution_count": null,
   "id": "d7fb9996-d5ef-4bfa-bd91-6a01bce765a7",
   "metadata": {},
   "outputs": [],
   "source": [
    "print(\"execution time: \", execution_time, \" seconds\")"
   ]
  },
  {
   "cell_type": "code",
   "execution_count": null,
   "id": "bee02e62-433c-4cc6-b882-900d9e88d881",
   "metadata": {},
   "outputs": [],
   "source": [
    "print(\"Sample output:\")\n",
    "pprint(outputs)"
   ]
  },
  {
   "cell_type": "code",
   "execution_count": null,
   "id": "ab3b4abd-8b05-4d8e-a7a7-51964b3e9254",
   "metadata": {},
   "outputs": [],
   "source": [
    "pprint(outputs[0]['output'][0]['response'])\n"
   ]
  },
  {
   "cell_type": "code",
   "execution_count": null,
   "id": "ad19a857-1ee7-40c9-822b-18b4d558c83f",
   "metadata": {},
   "outputs": [],
   "source": []
  }
 ],
 "metadata": {
  "kernelspec": {
   "display_name": "Python 3 (ipykernel)",
   "language": "python",
   "name": "python3"
  },
  "language_info": {
   "codemirror_mode": {
    "name": "ipython",
    "version": 3
   },
   "file_extension": ".py",
   "mimetype": "text/x-python",
   "name": "python",
   "nbconvert_exporter": "python",
   "pygments_lexer": "ipython3",
   "version": "3.10.13"
  }
 },
 "nbformat": 4,
 "nbformat_minor": 5
}
