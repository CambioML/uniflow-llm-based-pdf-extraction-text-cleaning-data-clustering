{
 "cells": [
  {
   "cell_type": "markdown",
   "metadata": {},
   "source": [
    "# Generate QAs from Unstructured Data Using AWS Inferentia and Neuron\n",
    "\n",
    "Are you a machine learning (ML) professional grappling with the challenge of extracting high-quality data from confidential and unstructured formats such as PDFs and HTML? The task of fine-tuning large language models (LLMs) often requires dealing with such complex data, which poses significant challenges in terms of data privacy, processing efficiency, and model accuracy.\n",
    "In this example, we will show you how to generate question-answers (QAs) from give text strings using open-source models via uniflow's [HuggingFaceModelFlow](https://github.com/CambioML/uniflow/blob/main/uniflow/flow/transform/transform_huggingface_flow.py).\n",
    "\n",
    "This article provides a comprehensive guide on leveraging the power of Uniflow on [Amazon Web Services (AWS) Inferentia2 (Inf2) instances](https://aws.amazon.com/machine-learning/inferentia/) for effectively converting unstructured data into a structured format, ideal for private LLM fine-tuning. We delve into the intricacies of handling sensitive information while maintaining confidentiality and data integrity.  Furthermore, we explore the robust capabilities of the AWS Neuron SDK, which plays a pivotal role in enhancing the performance of your ML models. The Neuron SDK is specifically designed to optimize ML workloads on AWS hardware, ensuring you achieve faster processing speeds and reduced operational costs.\n",
    "\n",
    "### Before running the code\n",
    "\n",
    "You will need to `uniflow` conda environment to run this notebook. You can set up the environment following the instruction: https://github.com/CambioML/uniflow/tree/main#installation.\n",
    "\n",
    "### Update system path"
   ]
  },
  {
   "cell_type": "code",
   "execution_count": 7,
   "metadata": {},
   "outputs": [],
   "source": [
    "%reload_ext autoreload\n",
    "%autoreload 2\n",
    "\n",
    "import sys\n",
    "\n",
    "sys.path.append(\".\")\n",
    "sys.path.append(\"..\")\n",
    "sys.path.append(\"../..\")"
   ]
  },
  {
   "cell_type": "markdown",
   "metadata": {},
   "source": [
    "### Install libraries"
   ]
  },
  {
   "cell_type": "code",
   "execution_count": 2,
   "metadata": {},
   "outputs": [
    {
     "name": "stdout",
     "output_type": "stream",
     "text": [
      "Looking in indexes: https://pypi.org/simple, https://pip.repos.neuron.amazonaws.com\n",
      "Requirement already satisfied: transformers in /opt/aws_neuron_venv_pytorch/lib/python3.8/site-packages (4.36.2)\n",
      "Collecting accelerate\n",
      "  Downloading accelerate-0.25.0-py3-none-any.whl.metadata (18 kB)\n",
      "Collecting bitsandbytes\n",
      "  Downloading bitsandbytes-0.41.3.post2-py3-none-any.whl.metadata (9.8 kB)\n",
      "Requirement already satisfied: scipy in /opt/aws_neuron_venv_pytorch/lib/python3.8/site-packages (1.10.1)\n",
      "Requirement already satisfied: filelock in /opt/aws_neuron_venv_pytorch/lib/python3.8/site-packages (from transformers) (3.13.1)\n",
      "Requirement already satisfied: huggingface-hub<1.0,>=0.19.3 in /opt/aws_neuron_venv_pytorch/lib/python3.8/site-packages (from transformers) (0.20.1)\n",
      "Requirement already satisfied: numpy>=1.17 in /opt/aws_neuron_venv_pytorch/lib/python3.8/site-packages (from transformers) (1.24.4)\n",
      "Requirement already satisfied: packaging>=20.0 in /opt/aws_neuron_venv_pytorch/lib/python3.8/site-packages (from transformers) (21.3)\n",
      "Requirement already satisfied: pyyaml>=5.1 in /opt/aws_neuron_venv_pytorch/lib/python3.8/site-packages (from transformers) (6.0.1)\n",
      "Requirement already satisfied: regex!=2019.12.17 in /opt/aws_neuron_venv_pytorch/lib/python3.8/site-packages (from transformers) (2023.12.25)\n",
      "Requirement already satisfied: requests in /opt/aws_neuron_venv_pytorch/lib/python3.8/site-packages (from transformers) (2.31.0)\n",
      "Requirement already satisfied: tokenizers<0.19,>=0.14 in /opt/aws_neuron_venv_pytorch/lib/python3.8/site-packages (from transformers) (0.15.0)\n",
      "Requirement already satisfied: safetensors>=0.3.1 in /opt/aws_neuron_venv_pytorch/lib/python3.8/site-packages (from transformers) (0.4.1)\n",
      "Requirement already satisfied: tqdm>=4.27 in /opt/aws_neuron_venv_pytorch/lib/python3.8/site-packages (from transformers) (4.66.1)\n",
      "Requirement already satisfied: psutil in /opt/aws_neuron_venv_pytorch/lib/python3.8/site-packages (from accelerate) (5.9.7)\n",
      "Requirement already satisfied: torch>=1.10.0 in /opt/aws_neuron_venv_pytorch/lib/python3.8/site-packages (from accelerate) (1.13.1)\n",
      "Requirement already satisfied: fsspec>=2023.5.0 in /opt/aws_neuron_venv_pytorch/lib/python3.8/site-packages (from huggingface-hub<1.0,>=0.19.3->transformers) (2023.12.2)\n",
      "Requirement already satisfied: typing-extensions>=3.7.4.3 in /opt/aws_neuron_venv_pytorch/lib/python3.8/site-packages (from huggingface-hub<1.0,>=0.19.3->transformers) (4.9.0)\n",
      "Requirement already satisfied: pyparsing!=3.0.5,>=2.0.2 in /opt/aws_neuron_venv_pytorch/lib/python3.8/site-packages (from packaging>=20.0->transformers) (3.1.1)\n",
      "Requirement already satisfied: nvidia-cuda-runtime-cu11==11.7.99 in /opt/aws_neuron_venv_pytorch/lib/python3.8/site-packages (from torch>=1.10.0->accelerate) (11.7.99)\n",
      "Requirement already satisfied: nvidia-cudnn-cu11==8.5.0.96 in /opt/aws_neuron_venv_pytorch/lib/python3.8/site-packages (from torch>=1.10.0->accelerate) (8.5.0.96)\n",
      "Requirement already satisfied: nvidia-cublas-cu11==11.10.3.66 in /opt/aws_neuron_venv_pytorch/lib/python3.8/site-packages (from torch>=1.10.0->accelerate) (11.10.3.66)\n",
      "Requirement already satisfied: nvidia-cuda-nvrtc-cu11==11.7.99 in /opt/aws_neuron_venv_pytorch/lib/python3.8/site-packages (from torch>=1.10.0->accelerate) (11.7.99)\n",
      "Requirement already satisfied: setuptools in /opt/aws_neuron_venv_pytorch/lib/python3.8/site-packages (from nvidia-cublas-cu11==11.10.3.66->torch>=1.10.0->accelerate) (69.0.3)\n",
      "Requirement already satisfied: wheel in /opt/aws_neuron_venv_pytorch/lib/python3.8/site-packages (from nvidia-cublas-cu11==11.10.3.66->torch>=1.10.0->accelerate) (0.42.0)\n",
      "Requirement already satisfied: charset-normalizer<4,>=2 in /opt/aws_neuron_venv_pytorch/lib/python3.8/site-packages (from requests->transformers) (3.3.2)\n",
      "Requirement already satisfied: idna<4,>=2.5 in /opt/aws_neuron_venv_pytorch/lib/python3.8/site-packages (from requests->transformers) (3.6)\n",
      "Requirement already satisfied: urllib3<3,>=1.21.1 in /opt/aws_neuron_venv_pytorch/lib/python3.8/site-packages (from requests->transformers) (1.26.18)\n",
      "Requirement already satisfied: certifi>=2017.4.17 in /opt/aws_neuron_venv_pytorch/lib/python3.8/site-packages (from requests->transformers) (2023.11.17)\n",
      "Downloading accelerate-0.25.0-py3-none-any.whl (265 kB)\n",
      "\u001b[2K   \u001b[90m━━━━━━━━━━━━━━━━━━━━━━━━━━━━━━━━━━━━━━━━\u001b[0m \u001b[32m265.7/265.7 kB\u001b[0m \u001b[31m1.7 MB/s\u001b[0m eta \u001b[36m0:00:00\u001b[0ma \u001b[36m0:00:01\u001b[0m\n",
      "\u001b[?25hDownloading bitsandbytes-0.41.3.post2-py3-none-any.whl (92.6 MB)\n",
      "\u001b[2K   \u001b[90m━━━━━━━━━━━━━━━━━━━━━━━━━━━━━━━━━━━━━━━━\u001b[0m \u001b[32m92.6/92.6 MB\u001b[0m \u001b[31m2.8 MB/s\u001b[0m eta \u001b[36m0:00:00\u001b[0m0:00:01\u001b[0m00:01\u001b[0m\n",
      "\u001b[?25hInstalling collected packages: bitsandbytes, accelerate\n",
      "Successfully installed accelerate-0.25.0 bitsandbytes-0.41.3.post2\n"
     ]
    }
   ],
   "source": [
    "!{sys.executable} -m pip install -q transformers accelerate bitsandbytes scipy"
   ]
  },
  {
   "cell_type": "markdown",
   "metadata": {},
   "source": [
    "### Import dependency"
   ]
  },
  {
   "cell_type": "code",
   "execution_count": 8,
   "metadata": {},
   "outputs": [
    {
     "data": {
      "text/plain": [
       "False"
      ]
     },
     "execution_count": 8,
     "metadata": {},
     "output_type": "execute_result"
    }
   ],
   "source": [
    "from dotenv import load_dotenv\n",
    "from IPython.display import display\n",
    "\n",
    "from uniflow.flow.client import TransformClient\n",
    "from uniflow.flow.config import TransformHuggingFaceConfig, HuggingfaceModelConfig\n",
    "from uniflow.op.prompt import PromptTemplate, Context\n",
    "\n",
    "load_dotenv()"
   ]
  },
  {
   "cell_type": "markdown",
   "metadata": {},
   "source": [
    "### Prepare sample prompts\n",
    "\n",
    "First, we need to demonstrate sample prompts for LLM, those include instruction and sample json format. We do this by giving a sample instruction and list of `Context` examples to the `PromptTemplate` class."
   ]
  },
  {
   "cell_type": "code",
   "execution_count": 9,
   "metadata": {},
   "outputs": [],
   "source": [
    "sample_instruction = \"\"\"Generate one question and its corresponding answer based on the context. Following \\\n",
    "the format of the examples below to include context, question, and answer in the response.\"\"\"\n",
    "\n",
    "sample_examples = [\n",
    "        Context(\n",
    "            context=\"The quick brown fox jumps over the lazy dog.\",\n",
    "            question=\"What is the color of the fox?\",\n",
    "            answer=\"brown.\"\n",
    "        ),\n",
    "        Context(\n",
    "            context=\"The quick brown fox jumps over the lazy black dog.\",\n",
    "            question=\"What is the color of the dog?\",\n",
    "            answer=\"black.\"\n",
    "        )]\n",
    "\n",
    "guided_prompt = PromptTemplate(\n",
    "    instruction=sample_instruction,\n",
    "    few_shot_prompt=sample_examples\n",
    ")"
   ]
  },
  {
   "cell_type": "markdown",
   "metadata": {},
   "source": [
    "Second, we craft some dummy sample raw text strings. Below, we build a dataset with 400 text strings."
   ]
  },
  {
   "cell_type": "code",
   "execution_count": 10,
   "metadata": {},
   "outputs": [
    {
     "name": "stdout",
     "output_type": "stream",
     "text": [
      "sample size of raw context:  400\n"
     ]
    }
   ],
   "source": [
    "raw_context_input = [\n",
    "    \"\"\"We believe our success depends upon our capabilities in areas such as design, research and development, \\\n",
    "production and marketing and is supported and protected by our intellectual property rights, such as \\\n",
    "trademarks, utility and design patents, copyrights, and trade secrets, among others. We have followed a policy \\\n",
    "of applying for and registering intellectual property rights in the United States and select foreign countries \\\n",
    "on trademarks, inventions, innovations and designs that we deem valuable. W e also continue to vigorously \\\n",
    "protect our intellectual property, including trademarks, patents and trade secrets against third-party \\\n",
    "infringement and misappropriation.\"\"\",\n",
    "    \"\"\"In 1948, Claude E. Shannon published A Mathematical Theory of Communication (Shannon, 1948) \\\n",
    "establishing the theory of information. In his article, Shannon introduced the concept of information entropy \\\n",
    "for the first time. We will begin our journey here.\"\"\",\n",
    "    \"\"\"The chain rule states that the derivative of a composite function (a function composed of another \\\n",
    "function) is equal to the derivative of the outer function multiplied by the derivative of the inner function.\\\n",
    "Mathematically, it can be written as: \\(\\frac{d}{dx}g(h(x)) = \\frac{dg}{dh}(h(x))\\cdot \\frac{dh}{dx}(x)\\).\"\"\",\n",
    "    \"\"\"Hypothesis testing involves making a claim about a population parameter based on sample data, and then \\\n",
    "conducting a test to determine whether this claim is supported or rejected. This typically involves \\\n",
    "calculating a test statistic, determining a significance level, and comparing the calculated value to a \\\n",
    "critical value to obtain a p-value. \"\"\"\n",
    "]\n",
    "\n",
    "raw_context_input_400 = raw_context_input * 100\n",
    "\n",
    "print(\"sample size of raw context: \", len(raw_context_input_400))"
   ]
  },
  {
   "cell_type": "markdown",
   "metadata": {},
   "source": [
    "Next, for the given raw text strings `raw_context_input` above, we convert them to the `Context` class to be processed by `uniflow`."
   ]
  },
  {
   "cell_type": "code",
   "execution_count": 11,
   "metadata": {},
   "outputs": [
    {
     "name": "stdout",
     "output_type": "stream",
     "text": [
      "sample size of processed input data:  400\n"
     ]
    },
    {
     "data": {
      "text/plain": [
       "[Context(context='We believe our success depends upon our capabilities in areas such as design, research and development, production and marketing and is supported and protected by our intellectual property rights, such as trademarks, utility and design patents, copyrights, and trade secrets, among others. We have followed a policy of applying for and registering intellectual property rights in the United States and select foreign countries on trademarks, inventions, innovations and designs that we deem valuable. W e also continue to vigorously protect our intellectual property, including trademarks, patents and trade secrets against third-party infringement and misappropriation.'),\n",
       " Context(context='In 1948, Claude E. Shannon published A Mathematical Theory of Communication (Shannon, 1948) establishing the theory of information. In his article, Shannon introduced the concept of information entropy for the first time. We will begin our journey here.')]"
      ]
     },
     "execution_count": 11,
     "metadata": {},
     "output_type": "execute_result"
    }
   ],
   "source": [
    "\n",
    "input_data = [\n",
    "    Context(context=data)\n",
    "    for data in raw_context_input_400\n",
    "]\n",
    "\n",
    "print(\"sample size of processed input data: \", len(input_data))\n",
    "\n",
    "input_data[:2]\n"
   ]
  },
  {
   "cell_type": "markdown",
   "metadata": {},
   "source": [
    "### Use LLM to generate data\n",
    "\n",
    "In this example, we will use the [HuggingfaceModelConfig](https://github.com/CambioML/uniflow/blob/main/uniflow/model/config.py#L39)'s default LLM to generate questions and answers. Let's import the config and client of this model.\n",
    "\n",
    "Here, we pass in our `guided_prompt` to the `HuggingfaceConfig` to use our customized instructions and examples, instead of the `uniflow` default ones.\n",
    "\n",
    "Note, base on your GPU memory, you can set your optimal `batch_size` below. (We attached our `batch_size` benchmarking results in the appendix of this notebook.)"
   ]
  },
  {
   "cell_type": "code",
   "execution_count": 12,
   "metadata": {},
   "outputs": [
    {
     "name": "stdout",
     "output_type": "stream",
     "text": [
      "Model chunks found. If you encounter errors, please delete the cache folder `/home/ubuntu/.cache/uniflow/Mistral-7B-Instruct-v0.2-split`\n",
      "loading neuron model from cache, need to wait for a while...\n"
     ]
    }
   ],
   "source": [
    "config = TransformHuggingFaceConfig(\n",
    "    prompt_template=guided_prompt,\n",
    "    model_config=HuggingfaceModelConfig(batch_size=4, model_name='mistralai/Mistral-7B-Instruct-v0.2', neuron=True))\n",
    "client = TransformClient(config)"
   ]
  },
  {
   "cell_type": "markdown",
   "metadata": {},
   "source": [
    "Now we call the `run` method on the `client` object to execute the question-answer generation operation on the data shown above."
   ]
  },
  {
   "cell_type": "code",
   "execution_count": null,
   "metadata": {},
   "outputs": [],
   "source": [
    "output = client.run(input_data)"
   ]
  },
  {
   "cell_type": "markdown",
   "metadata": {},
   "source": [
    "### Process the output\n",
    "\n",
    "Let's take a look of the generated output. We need to do a little postprocessing on the raw output."
   ]
  },
  {
   "cell_type": "code",
   "execution_count": 9,
   "metadata": {},
   "outputs": [
    {
     "name": "stdout",
     "output_type": "stream",
     "text": [
      "{'context': ' We believe our success depends upon our capabilities in areas '\n",
      "            'such as design, research and development, production and '\n",
      "            'marketing and is supported and protected by our intellectual '\n",
      "            'property rights, such as trademarks, utility and design patents, '\n",
      "            'copyrights, and trade secrets, among others. We have followed a '\n",
      "            'policy of applying for and registering intellectual property '\n",
      "            'rights in the United States and select foreign countries on '\n",
      "            'trademarks, inventions, innovations and designs that we deem '\n",
      "            'valuable. W e also continue to vigorously protect our '\n",
      "            'intellectual property, including trademarks, patents and trade '\n",
      "            'secrets against third-party infringement and misappropriation.',\n",
      " 'question': ' Which intellectual property rights does the company actively '\n",
      "             'seek and protect?\\n',\n",
      " 'answer': ' The company actively seeks and protects intellectual property '\n",
      "           'rights such as trademarks, utility and design patents, copyrights, '\n",
      "           'and trade secrets.'}\n"
     ]
    }
   ],
   "source": [
    "import re\n",
    "from pprint import pprint\n",
    "\n",
    "keywords = [\"context:\", \"question:\", \"answer:\"]\n",
    "pattern = '|'.join(map(re.escape, keywords))\n",
    "\n",
    "o = output[0]['output'][0]['response'][0] ## we only postprocess the first output\n",
    "segments = [segment for segment in re.split(pattern, o) if segment.strip()]\n",
    "result = {\n",
    "    \"context\": segments[-3],\n",
    "    \"question\": segments[-2],\n",
    "    \"answer\": segments[-1]\n",
    "}\n",
    "\n",
    "pprint(result, sort_dicts=False)"
   ]
  },
  {
   "cell_type": "markdown",
   "metadata": {},
   "source": [
    "Congrats! Your question answers from the given knowledge context are generated!\n",
    "\n",
    "\n",
    "---\n",
    "\n",
    "\n",
    "## Appendix\n",
    "\n",
    "We benchmarked to see the optimal `batch_size` for the `HuggingfaceModelConfig` flow. The answer is \"It depends on your data token length, your instance type, your LLM size, etc.\" In the following experiment, we use an AWS inf2.8xlarge. We still use the above 400 raw data strings `raw_context_input_400`.\n",
    "\n",
    "\n",
    "Here are the results:\n",
    "\n",
    "- batch_size = 4\n",
    "    100%|██████████| 100/100 [07:10<00:00, 4.66s/it]\n"
   ]
  },
  {
   "cell_type": "markdown",
   "metadata": {},
   "source": [
    "## End of the notebook\n",
    "\n",
    "Check more Uniflow use cases in the [example folder](https://github.com/CambioML/uniflow/tree/main/example)!\n",
    "\n",
    "<a href=\"https://www.cambioml.com/\" title=\"Title\">\n",
    "    <img src=\"../image/cambioml_logo_large.png\" style=\"height: 100px; display: block; margin-left: auto; margin-right: auto;\"/>\n",
    "</a>"
   ]
  }
 ],
 "metadata": {
  "kernelspec": {
   "display_name": "Python 3 (ipykernel)",
   "language": "python",
   "name": "python3"
  },
  "language_info": {
   "codemirror_mode": {
    "name": "ipython",
    "version": 3
   },
   "file_extension": ".py",
   "mimetype": "text/x-python",
   "name": "python",
   "nbconvert_exporter": "python",
   "pygments_lexer": "ipython3",
   "version": "3.8.10"
  }
 },
 "nbformat": 4,
 "nbformat_minor": 4
}
