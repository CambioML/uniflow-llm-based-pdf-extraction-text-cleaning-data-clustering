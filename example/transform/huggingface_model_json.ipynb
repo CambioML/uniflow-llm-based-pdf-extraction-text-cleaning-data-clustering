{
 "cells": [
  {
   "cell_type": "markdown",
   "metadata": {},
   "source": [
    "# Using Open-source HuggingFace Models to Generate QAs from Raw Data in JSON format\n",
    "\n",
    "In this example, we will show you how to generate question-answers (QAs) from given text strings using open-source Huggingface models via uniflow's [HuggingFaceModelFlow](https://github.com/CambioML/uniflow/blob/main/uniflow/flow/model_flow.py#L86).\n",
    "\n",
    "### Before running the code\n",
    "\n",
    "You will need to `uniflow` conda environment to run this notebook. You can set up the environment following the instruction: https://github.com/CambioML/uniflow/tree/main#installation.\n",
    "\n",
    "### Update system path"
   ]
  },
  {
   "cell_type": "code",
   "execution_count": 1,
   "metadata": {},
   "outputs": [],
   "source": [
    "%reload_ext autoreload\n",
    "%autoreload 2\n",
    "\n",
    "import sys\n",
    "\n",
    "sys.path.append(\".\")\n",
    "sys.path.append(\"..\")\n",
    "sys.path.append(\"../..\")"
   ]
  },
  {
   "cell_type": "markdown",
   "metadata": {},
   "source": [
    "### Install libraries"
   ]
  },
  {
   "cell_type": "code",
   "execution_count": 2,
   "metadata": {},
   "outputs": [],
   "source": [
    "!{sys.executable} -m pip install -q transformers accelerate bitsandbytes scipy"
   ]
  },
  {
   "cell_type": "markdown",
   "metadata": {},
   "source": [
    "### Import dependency"
   ]
  },
  {
   "cell_type": "code",
   "execution_count": 3,
   "metadata": {},
   "outputs": [
    {
     "name": "stderr",
     "output_type": "stream",
     "text": [
      "/opt/conda/envs/uniflow/lib/python3.10/site-packages/tqdm/auto.py:21: TqdmWarning: IProgress not found. Please update jupyter and ipywidgets. See https://ipywidgets.readthedocs.io/en/stable/user_install.html\n",
      "  from .autonotebook import tqdm as notebook_tqdm\n"
     ]
    },
    {
     "data": {
      "text/plain": [
       "False"
      ]
     },
     "execution_count": 3,
     "metadata": {},
     "output_type": "execute_result"
    }
   ],
   "source": [
    "from dotenv import load_dotenv\n",
    "from IPython.display import display\n",
    "\n",
    "from uniflow.flow.client import TransformClient\n",
    "from uniflow.flow.config import HuggingfaceModelConfig, TransformQAHuggingFaceJsonFormatConfig\n",
    "from uniflow.op.prompt import Context\n",
    "\n",
    "load_dotenv()"
   ]
  },
  {
   "cell_type": "markdown",
   "metadata": {},
   "source": [
    "### Prepare sample prompts\n",
    "\n",
    "First, we need to demonstrate sample prompts for LLM, those include instruction and sample json format. We do this by giving a sample instruction and list of `Context` examples to the `PromptTemplate` class. However, since we are using the default `PromptTemplate` in this example, we will not create it separately."
   ]
  },
  {
   "cell_type": "markdown",
   "metadata": {},
   "source": [
    "Second, we craft some dummy sample raw text strings. Below, we build a dataset with some text strings."
   ]
  },
  {
   "cell_type": "code",
   "execution_count": 4,
   "metadata": {},
   "outputs": [],
   "source": [
    "raw_context_input = [\n",
    "    \"\"\"We believe our success depends upon our capabilities in areas such as design, research and development, \\\n",
    "production and marketing and is supported and protected by our intellectual property rights, such as \\\n",
    "trademarks, utility and design patents, copyrights, and trade secrets, among others. We have followed a policy \\\n",
    "of applying for and registering intellectual property rights in the United States and select foreign countries \\\n",
    "on trademarks, inventions, innovations and designs that we deem valuable. W e also continue to vigorously \\\n",
    "protect our intellectual property, including trademarks, patents and trade secrets against third-party \\\n",
    "infringement and misappropriation.\"\"\",\n",
    "    \"\"\"In 1948, Claude E. Shannon published A Mathematical Theory of Communication (Shannon, 1948) \\\n",
    "establishing the theory of information. In his article, Shannon introduced the concept of information entropy \\\n",
    "for the first time. We will begin our journey here.\"\"\",\n",
    "    \"\"\"The chain rule states that the derivative of a composite function (a function composed of another \\\n",
    "function) is equal to the derivative of the outer function multiplied by the derivative of the inner function.\\\n",
    "Mathematically, it can be written as: \\(\\frac{d}{dx}g(h(x)) = \\frac{dg}{dh}(h(x))\\cdot \\frac{dh}{dx}(x)\\).\"\"\",\n",
    "    \"\"\"Hypothesis testing involves making a claim about a population parameter based on sample data, and then \\\n",
    "conducting a test to determine whether this claim is supported or rejected. This typically involves \\\n",
    "calculating a test statistic, determining a significance level, and comparing the calculated value to a \\\n",
    "critical value to obtain a p-value. \"\"\"\n",
    "]"
   ]
  },
  {
   "cell_type": "markdown",
   "metadata": {},
   "source": [
    "Next, for the given raw text strings `raw_context_input` above, we convert them to the `Context` class to be processed by `uniflow`."
   ]
  },
  {
   "cell_type": "code",
   "execution_count": 5,
   "metadata": {},
   "outputs": [
    {
     "name": "stdout",
     "output_type": "stream",
     "text": [
      "sample size of processed input data:  4\n"
     ]
    },
    {
     "data": {
      "text/plain": [
       "[Context(context='We believe our success depends upon our capabilities in areas such as design, research and development, production and marketing and is supported and protected by our intellectual property rights, such as trademarks, utility and design patents, copyrights, and trade secrets, among others. We have followed a policy of applying for and registering intellectual property rights in the United States and select foreign countries on trademarks, inventions, innovations and designs that we deem valuable. W e also continue to vigorously protect our intellectual property, including trademarks, patents and trade secrets against third-party infringement and misappropriation.'),\n",
       " Context(context='In 1948, Claude E. Shannon published A Mathematical Theory of Communication (Shannon, 1948) establishing the theory of information. In his article, Shannon introduced the concept of information entropy for the first time. We will begin our journey here.')]"
      ]
     },
     "execution_count": 5,
     "metadata": {},
     "output_type": "execute_result"
    }
   ],
   "source": [
    "\n",
    "input_data = [\n",
    "    Context(context=data)\n",
    "    for data in raw_context_input\n",
    "]\n",
    "\n",
    "print(\"sample size of processed input data: \", len(input_data))\n",
    "\n",
    "input_data[:2]\n"
   ]
  },
  {
   "cell_type": "markdown",
   "metadata": {},
   "source": [
    "### Use LLM to generate data\n",
    "\n",
    "In this example, we will use the [TransformQAHuggingFaceJsonFormatConfig](https://github.com/CambioML/uniflow/blob/main/uniflow/flow/config.py#L128)'s default LLM to generate questions and answers. Let's import the config and client of this model.\n",
    "\n",
    "Here in this example, we use our default `PromptTemplate` to the `TransformQAHuggingFaceJsonFormatConfig`, but you can use your customized instructions and examples instead if you want.\n",
    "\n",
    "Note, base on your GPU memory, you can set your optimal `batch_size` below. (We attached our `batch_size` benchmarking results in the appendix of this notebook.)"
   ]
  },
  {
   "cell_type": "code",
   "execution_count": 6,
   "metadata": {},
   "outputs": [
    {
     "name": "stderr",
     "output_type": "stream",
     "text": [
      "Loading checkpoint shards: 100%|██████████| 3/3 [00:04<00:00,  1.51s/it]\n"
     ]
    }
   ],
   "source": [
    "config = TransformQAHuggingFaceJsonFormatConfig(\n",
    "    model_config=HuggingfaceModelConfig(\n",
    "            batch_size=1,\n",
    "            response_start_key=\"question\", response_format={\"type\": \"json_object\"}\n",
    "        )\n",
    ")\n",
    "client = TransformClient(config)"
   ]
  },
  {
   "cell_type": "code",
   "execution_count": 7,
   "metadata": {},
   "outputs": [
    {
     "name": "stdout",
     "output_type": "stream",
     "text": [
      "TransformQAHuggingFaceJsonFormatConfig(flow_name='TransformHuggingFaceFlow', model_config=HuggingfaceModelConfig(model_name='mistralai/Mistral-7B-Instruct-v0.2', model_server='HuggingfaceModelServer', batch_size=1, neuron=False, load_in_4bit=False, load_in_8bit=True, max_new_tokens=768, do_sample=False, temperature=0.0, num_beams=1, num_return_sequences=1, repetition_penalty=1.2, response_start_key='question', response_format={'type': 'json_object'}), num_thread=1, prompt_template=PromptTemplate(instruction='\\n        Generate one question and its corresponding answer based on the last context in the last\\n        example. Follow the format of the examples below to include context, question, and answer in the response.\\n        ', few_shot_prompt=[Context(context='The quick brown fox jumps over the lazy black dog.', question='What is the color of the fox?', answer='brown.'), Context(context='The quick brown fox jumps over the lazy black dog.', question='What is the color of the dog?', answer='black.')]))\n"
     ]
    }
   ],
   "source": [
    "print(config)"
   ]
  },
  {
   "cell_type": "markdown",
   "metadata": {},
   "source": [
    "Now we call the `run` method on the `client` object to execute the question-answer generation operation on the data shown above."
   ]
  },
  {
   "cell_type": "code",
   "execution_count": 8,
   "metadata": {},
   "outputs": [
    {
     "name": "stderr",
     "output_type": "stream",
     "text": [
      "  0%|          | 0/4 [00:00<?, ?it/s]"
     ]
    },
    {
     "name": "stderr",
     "output_type": "stream",
     "text": [
      "/opt/conda/envs/uniflow/lib/python3.10/site-packages/transformers/generation/configuration_utils.py:389: UserWarning: `do_sample` is set to `False`. However, `temperature` is set to `0.0` -- this flag is only used in sample-based generation modes. You should set `do_sample=True` or unset `temperature`.\n",
      "  warnings.warn(\n",
      "100%|██████████| 4/4 [00:47<00:00, 11.80s/it]\n"
     ]
    }
   ],
   "source": [
    "output = client.run(input_data)"
   ]
  },
  {
   "cell_type": "code",
   "execution_count": 11,
   "metadata": {},
   "outputs": [
    {
     "data": {
      "text/plain": [
       "[{'output': [{'response': [{'context': 'We believe our success depends upon our capabilities in areas such as design, research and development, production and marketing and is supported and protected by our intellectual property rights, such as trademarks, utility and design patents, copyrights, and trade secrets, among others. We have followed a policy of applying for and registering intellectual property rights in the United States and select foreign countries on trademarks, inventions, innovations and designs that we deem valuable. W e also continue to vigorously protect our intellectual property, including trademarks, patents and trade secrets against third-party infringement and misappropriation.',\n",
       "      'question': 'What types of intellectual property does the company prioritize protecting?',\n",
       "      'answer': 'The company prioritizes protecting intellectual property rights such as trademarks, utility and design patents, copyrights, and trade secrets.'}],\n",
       "    'error': 'No errors.'}],\n",
       "  'root': <uniflow.node.Node at 0x7fb2ddae9ea0>},\n",
       " {'output': [{'response': [{'context': 'In 1948, Claude E. Shannon published A Mathematical Theory of Communication (Shannon, 1948) establishing the theory of information. In his article, Shannon introduced the concept of information entropy for the first time. We will begin our journey here.',\n",
       "      'question': 'Who first introduced the concept of information entropy?',\n",
       "      'answer': 'Claude E. Shannon.'}],\n",
       "    'error': 'No errors.'}],\n",
       "  'root': <uniflow.node.Node at 0x7fb2d3f07940>},\n",
       " {'output': [{'response': [{'context': 'The chain rule states that the derivative of a composite function (a function composed of another function) is equal to the derivative of the outer function multiplied by the derivative of the inner function.Mathematically, it can be written as: \\\\(\\x0crac{d}{dx}g(h(x)) = \\x0crac{dg}{dh}(h(x))\\\\cdot \\x0crac{dh}{dx}(x)\\\\).',\n",
       "      'question': 'What mathematical rule is described as finding the derivative of a composite function?',\n",
       "      'answer': 'The chain rule.'}],\n",
       "    'error': 'No errors.'}],\n",
       "  'root': <uniflow.node.Node at 0x7fb2ddae9d50>},\n",
       " {'output': [{'response': [{'context': 'Hypothesis testing involves making a claim about a population parameter based on sample data, and then conducting a test to determine whether this claim is supported or rejected. This typically involves calculating a test statistic, determining a significance level, and comparing the calculated value to a critical value to obtain a p-value.',\n",
       "      'question': 'What is involved in hypothesis testing besides making a claim about a population parameter?',\n",
       "      'answer': 'Hypothesis testing also includes calculating a test statistic, determining a significance level, and comparing the calculated value to a critical value to obtain a p-value.'}],\n",
       "    'error': 'No errors.'}],\n",
       "  'root': <uniflow.node.Node at 0x7fb2d22feb90>}]"
      ]
     },
     "execution_count": 11,
     "metadata": {},
     "output_type": "execute_result"
    }
   ],
   "source": [
    "output"
   ]
  },
  {
   "cell_type": "markdown",
   "metadata": {},
   "source": [
    "### Process the output\n",
    "\n",
    "Let's take a look of the generated output, which is already a list of JSON"
   ]
  },
  {
   "cell_type": "code",
   "execution_count": 12,
   "metadata": {},
   "outputs": [
    {
     "name": "stdout",
     "output_type": "stream",
     "text": [
      "{'context': 'We believe our success depends upon our capabilities in areas '\n",
      "            'such as design, research and development, production and '\n",
      "            'marketing and is supported and protected by our intellectual '\n",
      "            'property rights, such as trademarks, utility and design patents, '\n",
      "            'copyrights, and trade secrets, among others. We have followed a '\n",
      "            'policy of applying for and registering intellectual property '\n",
      "            'rights in the United States and select foreign countries on '\n",
      "            'trademarks, inventions, innovations and designs that we deem '\n",
      "            'valuable. W e also continue to vigorously protect our '\n",
      "            'intellectual property, including trademarks, patents and trade '\n",
      "            'secrets against third-party infringement and misappropriation.',\n",
      " 'question': 'What types of intellectual property does the company prioritize '\n",
      "             'protecting?',\n",
      " 'answer': 'The company prioritizes protecting intellectual property rights '\n",
      "           'such as trademarks, utility and design patents, copyrights, and '\n",
      "           'trade secrets.'}\n"
     ]
    }
   ],
   "source": [
    "from pprint import pprint\n",
    "\n",
    "result = output[0]['output'][0]['response'][0] ## decode output\n",
    "\n",
    "pprint(result, sort_dicts=False)"
   ]
  },
  {
   "cell_type": "markdown",
   "metadata": {},
   "source": [
    "Congrats! Your question answers from the given knowledge context are generated!\n",
    "\n",
    "\n",
    "---\n",
    "\n",
    "\n",
    "## Appendix\n",
    "\n",
    "We benchmarked to see the optimal `batch_size` for the `TransformQAHuggingFaceJsonFormatConfig` flow. The answer is \"It depends on your data token length, your GPU memory, your LLM size, etc.\" In the following experiment, we use an AWS `g5.2xlarge` instance that has a GPU with 24G memory and a quantized LLM (2G). We still use the above raw data strings `raw_context_input`.\n",
    "\n",
    "\n",
    "Here are the results:\n",
    "\n",
    "- batch_size = 1\n",
    "    100%|██████████| 4/4 [00:47<00:00, 11.80s/it]\n",
    "- batch_size = 2\n",
    "    100%|██████████| 2/2 [00:35<00:00, 17.87s/it]\n",
    "- batch_size = 4\n",
    "    100%|██████████| 1/1 [00:13<00:00, 13.34s/it]\n",
    "- batch_size = 8\n",
    "    100%|██████████| 1/1 [00:13<00:00, 13.20s/it]\n",
    "- batch_size = 16\n",
    "    100%|██████████| 1/1 [00:13<00:00, 13.48s/it]\n",
    "- batch_size = 32\n",
    "    100%|██████████| 1/1 [00:13<00:00, 13.36s/it]\n",
    "- batch_size = 64\n",
    "    100%|██████████| 1/1 [00:13<00:00, 13.28s/it]\n",
    "- batch_size = 128:\n",
    "    100%|██████████| 1/1 [00:13<00:00, 13.33s/it]\n",
    "- batch_size = 256:\n",
    "    100%|██████████| 1/1 [00:13<00:00, 13.33s/it]\n",
    "\n",
    "As you can see, the processing time is much shorter if `batch_size=4` compared with `batch_size=1`. However, the increase in the speed will become more prominent when the input is bigger. While, it might lead to OOM error if `batch_size` is too large when handling some big dataset."
   ]
  },
  {
   "cell_type": "markdown",
   "metadata": {},
   "source": [
    "## End of the notebook\n",
    "\n",
    "Check more Uniflow use cases in the [example folder](https://github.com/CambioML/uniflow/tree/main/example/model#examples)!\n",
    "\n",
    "<a href=\"https://www.cambioml.com/\" title=\"Title\">\n",
    "    <img src=\"../image/cambioml_logo_large.png\" style=\"height: 100px; display: block; margin-left: auto; margin-right: auto;\"/>\n",
    "</a>"
   ]
  }
 ],
 "metadata": {
  "kernelspec": {
   "display_name": "uniflow",
   "language": "python",
   "name": "python3"
  },
  "language_info": {
   "codemirror_mode": {
    "name": "ipython",
    "version": 3
   },
   "file_extension": ".py",
   "mimetype": "text/x-python",
   "name": "python",
   "nbconvert_exporter": "python",
   "pygments_lexer": "ipython3",
   "version": "3.10.13"
  }
 },
 "nbformat": 4,
 "nbformat_minor": 2
}
