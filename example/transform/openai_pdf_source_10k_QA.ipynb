{
 "cells": [
  {
   "cell_type": "markdown",
   "id": "7cbc4c4a",
   "metadata": {},
   "source": [
    "# Example of generating QAs for a 10K\n",
    "In this example, we will show you how to generate question-answers (QAs) from a pdf using OpenAI's models via `uniflow`'s [OpenAIJsonModelFlow](https://github.com/CambioML/uniflow/blob/main/uniflow/flow/model_flow.py#L125).\n",
    "\n",
    "For this example, we're using a [10K from Nike](https://investors.nike.com/investors/news-events-and-reports/).\n",
    "\n",
    "### Before running the code\n",
    "\n",
    "You will need to `uniflow` conda environment to run this notebook. You can set up the environment following the instruction: https://github.com/CambioML/uniflow/tree/main#installation.\n",
    "\n",
    "Next, you will need a valid [OpenAI API key](https://platform.openai.com/api-keys) to run the code. Once you have the key, set it as the environment variable `OPENAI_API_KEY` within a `.env` file in the root directory of this repository. For more details, see this [instruction](https://github.com/CambioML/uniflow/tree/main#api-keys)\n",
    "\n",
    "Finally, we are storing the Nike 10K in the `data\\raw_input` directory as \"nike-10k-2023.pdf\". You can download the file from [here](https://s1.q4cdn.com/806093406/files/doc_downloads/2023/414759-1-_5_Nike-NPS-Combo_Form-10-K_WR.pdf)."
   ]
  },
  {
   "cell_type": "markdown",
   "metadata": {},
   "source": [
    "### Update system path"
   ]
  },
  {
   "cell_type": "code",
   "execution_count": 1,
   "metadata": {},
   "outputs": [],
   "source": [
    "%reload_ext autoreload\n",
    "%autoreload 2\n",
    "\n",
    "import sys\n",
    "\n",
    "sys.path.append(\".\")\n",
    "sys.path.append(\"..\")\n",
    "sys.path.append(\"../..\")"
   ]
  },
  {
   "cell_type": "markdown",
   "metadata": {},
   "source": [
    "### Install helper packages"
   ]
  },
  {
   "cell_type": "code",
   "execution_count": 2,
   "metadata": {},
   "outputs": [
    {
     "name": "stdout",
     "output_type": "stream",
     "text": [
      "Looking in indexes: https://pypi.tuna.tsinghua.edu.cn/simple\n",
      "Requirement already satisfied: langchain in d:\\anaconda\\envs\\uniflow\\lib\\site-packages (0.0.351)\n",
      "Requirement already satisfied: pandas in d:\\anaconda\\envs\\uniflow\\lib\\site-packages (2.1.4)\n",
      "Requirement already satisfied: pypdf in d:\\anaconda\\envs\\uniflow\\lib\\site-packages (3.17.3)\n",
      "Requirement already satisfied: PyYAML>=5.3 in d:\\anaconda\\envs\\uniflow\\lib\\site-packages (from langchain) (6.0.1)\n",
      "Requirement already satisfied: SQLAlchemy<3,>=1.4 in d:\\anaconda\\envs\\uniflow\\lib\\site-packages (from langchain) (2.0.23)\n",
      "Requirement already satisfied: aiohttp<4.0.0,>=3.8.3 in d:\\anaconda\\envs\\uniflow\\lib\\site-packages (from langchain) (3.9.1)\n",
      "Requirement already satisfied: async-timeout<5.0.0,>=4.0.0 in d:\\anaconda\\envs\\uniflow\\lib\\site-packages (from langchain) (4.0.3)\n",
      "Requirement already satisfied: dataclasses-json<0.7,>=0.5.7 in d:\\anaconda\\envs\\uniflow\\lib\\site-packages (from langchain) (0.6.3)\n",
      "Requirement already satisfied: jsonpatch<2.0,>=1.33 in d:\\anaconda\\envs\\uniflow\\lib\\site-packages (from langchain) (1.33)\n",
      "Requirement already satisfied: langchain-community<0.1,>=0.0.2 in d:\\anaconda\\envs\\uniflow\\lib\\site-packages (from langchain) (0.0.4)\n",
      "Requirement already satisfied: langchain-core<0.2,>=0.1 in d:\\anaconda\\envs\\uniflow\\lib\\site-packages (from langchain) (0.1.2)\n",
      "Requirement already satisfied: langsmith<0.1.0,>=0.0.70 in d:\\anaconda\\envs\\uniflow\\lib\\site-packages (from langchain) (0.0.72)\n",
      "Requirement already satisfied: numpy<2,>=1 in d:\\anaconda\\envs\\uniflow\\lib\\site-packages (from langchain) (1.26.2)\n",
      "Requirement already satisfied: pydantic<3,>=1 in d:\\anaconda\\envs\\uniflow\\lib\\site-packages (from langchain) (2.5.2)\n",
      "Requirement already satisfied: requests<3,>=2 in d:\\anaconda\\envs\\uniflow\\lib\\site-packages (from langchain) (2.31.0)\n",
      "Requirement already satisfied: tenacity<9.0.0,>=8.1.0 in d:\\anaconda\\envs\\uniflow\\lib\\site-packages (from langchain) (8.2.3)\n",
      "Requirement already satisfied: python-dateutil>=2.8.2 in d:\\anaconda\\envs\\uniflow\\lib\\site-packages (from pandas) (2.8.2)\n",
      "Requirement already satisfied: pytz>=2020.1 in d:\\anaconda\\envs\\uniflow\\lib\\site-packages (from pandas) (2023.3.post1)\n",
      "Requirement already satisfied: tzdata>=2022.1 in d:\\anaconda\\envs\\uniflow\\lib\\site-packages (from pandas) (2023.3)\n",
      "Requirement already satisfied: attrs>=17.3.0 in d:\\anaconda\\envs\\uniflow\\lib\\site-packages (from aiohttp<4.0.0,>=3.8.3->langchain) (23.1.0)\n",
      "Requirement already satisfied: multidict<7.0,>=4.5 in d:\\anaconda\\envs\\uniflow\\lib\\site-packages (from aiohttp<4.0.0,>=3.8.3->langchain) (6.0.4)\n",
      "Requirement already satisfied: yarl<2.0,>=1.0 in d:\\anaconda\\envs\\uniflow\\lib\\site-packages (from aiohttp<4.0.0,>=3.8.3->langchain) (1.9.4)\n",
      "Requirement already satisfied: frozenlist>=1.1.1 in d:\\anaconda\\envs\\uniflow\\lib\\site-packages (from aiohttp<4.0.0,>=3.8.3->langchain) (1.4.1)\n",
      "Requirement already satisfied: aiosignal>=1.1.2 in d:\\anaconda\\envs\\uniflow\\lib\\site-packages (from aiohttp<4.0.0,>=3.8.3->langchain) (1.3.1)\n",
      "Requirement already satisfied: marshmallow<4.0.0,>=3.18.0 in d:\\anaconda\\envs\\uniflow\\lib\\site-packages (from dataclasses-json<0.7,>=0.5.7->langchain) (3.20.1)\n",
      "Requirement already satisfied: typing-inspect<1,>=0.4.0 in d:\\anaconda\\envs\\uniflow\\lib\\site-packages (from dataclasses-json<0.7,>=0.5.7->langchain) (0.9.0)\n",
      "Requirement already satisfied: jsonpointer>=1.9 in d:\\anaconda\\envs\\uniflow\\lib\\site-packages (from jsonpatch<2.0,>=1.33->langchain) (2.4)\n",
      "Requirement already satisfied: anyio<5,>=3 in d:\\anaconda\\envs\\uniflow\\lib\\site-packages (from langchain-core<0.2,>=0.1->langchain) (4.2.0)\n",
      "Requirement already satisfied: packaging<24.0,>=23.2 in d:\\anaconda\\envs\\uniflow\\lib\\site-packages (from langchain-core<0.2,>=0.1->langchain) (23.2)\n",
      "Requirement already satisfied: annotated-types>=0.4.0 in d:\\anaconda\\envs\\uniflow\\lib\\site-packages (from pydantic<3,>=1->langchain) (0.6.0)\n",
      "Requirement already satisfied: pydantic-core==2.14.5 in d:\\anaconda\\envs\\uniflow\\lib\\site-packages (from pydantic<3,>=1->langchain) (2.14.5)\n",
      "Requirement already satisfied: typing-extensions>=4.6.1 in d:\\anaconda\\envs\\uniflow\\lib\\site-packages (from pydantic<3,>=1->langchain) (4.9.0)\n",
      "Requirement already satisfied: six>=1.5 in d:\\anaconda\\envs\\uniflow\\lib\\site-packages (from python-dateutil>=2.8.2->pandas) (1.16.0)\n",
      "Requirement already satisfied: charset-normalizer<4,>=2 in d:\\anaconda\\envs\\uniflow\\lib\\site-packages (from requests<3,>=2->langchain) (3.3.2)\n",
      "Requirement already satisfied: idna<4,>=2.5 in d:\\anaconda\\envs\\uniflow\\lib\\site-packages (from requests<3,>=2->langchain) (3.6)\n",
      "Requirement already satisfied: urllib3<3,>=1.21.1 in d:\\anaconda\\envs\\uniflow\\lib\\site-packages (from requests<3,>=2->langchain) (2.1.0)\n",
      "Requirement already satisfied: certifi>=2017.4.17 in d:\\anaconda\\envs\\uniflow\\lib\\site-packages (from requests<3,>=2->langchain) (2023.11.17)\n",
      "Requirement already satisfied: greenlet!=0.4.17 in d:\\anaconda\\envs\\uniflow\\lib\\site-packages (from SQLAlchemy<3,>=1.4->langchain) (3.0.2)\n",
      "Requirement already satisfied: sniffio>=1.1 in d:\\anaconda\\envs\\uniflow\\lib\\site-packages (from anyio<5,>=3->langchain-core<0.2,>=0.1->langchain) (1.3.0)\n",
      "Requirement already satisfied: exceptiongroup>=1.0.2 in d:\\anaconda\\envs\\uniflow\\lib\\site-packages (from anyio<5,>=3->langchain-core<0.2,>=0.1->langchain) (1.2.0)\n",
      "Requirement already satisfied: mypy-extensions>=0.3.0 in d:\\anaconda\\envs\\uniflow\\lib\\site-packages (from typing-inspect<1,>=0.4.0->dataclasses-json<0.7,>=0.5.7->langchain) (1.0.0)\n"
     ]
    }
   ],
   "source": [
    "!{sys.executable} -m pip install -q langchain pandas pypdf"
   ]
  },
  {
   "cell_type": "markdown",
   "metadata": {},
   "source": [
    "### Import Dependency"
   ]
  },
  {
   "cell_type": "code",
   "execution_count": 3,
   "id": "8d84dd70",
   "metadata": {},
   "outputs": [
    {
     "data": {
      "text/plain": [
       "True"
      ]
     },
     "execution_count": 3,
     "metadata": {},
     "output_type": "execute_result"
    }
   ],
   "source": [
    "from dotenv import load_dotenv\n",
    "import os\n",
    "import pandas as pd\n",
    "from uniflow.flow.client import TransformClient\n",
    "from uniflow.flow.config import TransformOpenAIConfig\n",
    "from uniflow.op.model.model_config import OpenAIModelConfig\n",
    "from langchain.document_loaders import PyPDFLoader\n",
    "from uniflow.op.prompt import Context, PromptTemplate\n",
    "\n",
    "load_dotenv()\n"
   ]
  },
  {
   "cell_type": "markdown",
   "id": "cb677037",
   "metadata": {},
   "source": [
    "### Prepare the input data\n",
    "First, we need to pre-process the PDF to get text chunks that we can feed into the model. We will use `PyPDFLoader` from langchain."
   ]
  },
  {
   "cell_type": "code",
   "execution_count": 4,
   "id": "a707ef78",
   "metadata": {},
   "outputs": [],
   "source": [
    "pdf_file = \"nike-10k-2023.pdf\""
   ]
  },
  {
   "cell_type": "markdown",
   "id": "4b177df1",
   "metadata": {},
   "source": [
    "##### Set current directory and input data directory."
   ]
  },
  {
   "cell_type": "code",
   "execution_count": 5,
   "id": "092b355a",
   "metadata": {},
   "outputs": [],
   "source": [
    "dir_cur = os.getcwd()\n",
    "input_file = os.path.join(f\"{dir_cur}/data/raw_input/\", pdf_file)"
   ]
  },
  {
   "cell_type": "markdown",
   "metadata": {},
   "source": [
    "##### Load and split the pdf"
   ]
  },
  {
   "cell_type": "code",
   "execution_count": 6,
   "metadata": {},
   "outputs": [],
   "source": [
    "loader = PyPDFLoader(input_file)\n",
    "pages = loader.load_and_split()\n",
    "page_contents = [page.page_content for page in pages]"
   ]
  },
  {
   "cell_type": "markdown",
   "metadata": {},
   "source": [
    "### Prepare sample prompts\n",
    "\n",
    "First, we need to demonstrate sample prompts for LLM. We do this by giving a sample list of `Context` examples to the `PromptTemplate` class."
   ]
  },
  {
   "cell_type": "code",
   "execution_count": 7,
   "metadata": {},
   "outputs": [],
   "source": [
    "guided_prompt = PromptTemplate(\n",
    "    instruction=\"\"\"Generate one question and its corresponding answer based on the last context in the last\n",
    "    example. Follow the format of the examples below to include context, question, and answer in the response\"\"\",\n",
    "    few_shot_prompt=[\n",
    "        Context(\n",
    "            context=\"In 1948, Claude E. Shannon published A Mathematical Theory of\\nCommunication (Shannon, 1948) establishing the theory of\\ninformation. In his article, Shannon introduced the concept of\\ninformation entropy for the first time. We will begin our journey here.\",\n",
    "            question=\"Who published A Mathematical Theory of Communication in 1948?\",\n",
    "            answer=\"Claude E. Shannon.\",\n",
    "        ),\n",
    "])"
   ]
  },
  {
   "cell_type": "markdown",
   "metadata": {},
   "source": [
    "Next, for the given `page_contents` above, we convert them to the `Context` class to be processed by `uniflow`."
   ]
  },
  {
   "cell_type": "code",
   "execution_count": 8,
   "metadata": {},
   "outputs": [
    {
     "data": {
      "text/plain": [
       "[Context(context='We also offer interactive consumer services and experiences as well as digital products through our digital platforms, including \\nfitness and activity apps; sport, fitness and wellness content; and digital services and features in retail stores that enhance the \\nconsumer experience.\\nSALES AND MARKETING\\nWe experience moderate fluctuations in aggregate sales volume during the year. Historically, revenues in the first and fourth \\nfiscal quarters have slightly exceeded those in the second and third '),\n",
       " Context(context='INTERNATIONAL MARKETS\\nFor fiscal 2023, non-U.S. NIKE Brand and Converse sales accounted for approximately 57% of total revenues, compared to 60% \\nand 61% for fiscal 2022 and fiscal 2021, respectively. We sell our products to retail accounts through our own NIKE Direct \\noperations and through a mix of independent distributors, licensees and sales representatives around the world. W e sell to \\nthousands of retail accounts and ship products from 67 distribution centers outside of the United States.'),\n",
       " Context(context='footwear production. For fiscal 2023, factories in Vietnam, Indonesia and China manufactured approximately 50%, 27% and 18% \\nof total NIKE Brand footwear, respectively. For fiscal 2023, four footwear contract manufacturers each accounted for greater than \\n10% of footwear production and in the aggregate accounted for approximately 58% of NIKE Brand footwear production.\\nAs of May 31, 2023, our contract manufacturers operated 291 finished goods apparel factories located in 31 countries. For fiscal '),\n",
       " Context(context=\"of total NIKE Brand apparel, respectively. For fiscal 2023, one apparel contract manufacturer accounted for more than 10% of \\napparel production, and the top five contract manufacturers in the aggregate accounted for approximately 52% of NIKE Brand \\napparel production.\\nNIKE's contract manufacturers buy raw materials for the manufacturing of our footwear, apparel and equipment products. Most \\nraw materials are available and purchased by those contract manufacturers in the countries where manufact\"),\n",
       " Context(context='We monitor protectionist trends and developments throughout the world that may materially impact our industry, and we engage \\nin administrative and judicial processes to mitigate trade restrictions. W e are actively monitoring actions that may result in \\nadditional anti-dumping measures and could affect our industry. We are also monitoring for and advocating against other \\nimpediments that may limit or delay customs clearance for imports of footwear , apparel and equipment. NIKE also advocates f'),\n",
       " Context(context='Our international operations are also subject to compliance with the U.S . Foreign Corrupt Practices Act (the \"FCPA\"), and other \\nanti-bribery laws applicable to our operations. We source a significant portion of our products from, and have important consumer \\nmarkets, outside of the United States. We have an ethics and compliance program to address compliance with the FCPA and \\nsimilar laws by us, our employees, agents, suppliers and other partners.  Refer to Item 1A. Risk Factors for additiona'),\n",
       " Context(context='devices, and related software applications. These patents expire at various times.\\nWe believe our success depends upon our capabilities in areas such as design, research and development, production and \\nmarketing and is supported and protected by our intellectual property rights, such as trademarks, utility and design patents, \\ncopyrights, and trade secrets, among others. \\nWe have followed a policy of applying for and registering intellectual property rights in the United States and select forei'),\n",
       " Context(context='HUMAN CAPITAL RESOURCES\\nAt NIKE, we consider the strength and effective management of our workforce to be essential to the ongoing success of our \\nbusiness. We believe that it is important to attract, develop and retain a diverse and engaged workforce at all levels of our \\nbusiness and that such a workforce fosters creativity and accelerates innovation. W e are focused on building an increasingly \\ndiverse talent pipeline that reflects our consumers, athletes and the communities we serve.\\nCULTURE'),\n",
       " Context(context='information and consultation on certain subsidiary decisions) or by organizations similar to a union. In certain E uropean countries, \\nwe are required by local law to enter into, and/or comply with, industry-wide or national collective bargaining agreements. NIK E \\nhas never experienced a material interruption of operations due to labor disagreements.\\nDIVERSITY, EQUITY AND INCLUSION\\nDiversity, equity and inclusion (\"DE&I\") is a strategic priority for NIKE and we are committed to having an increa'),\n",
       " Context(context=\"Our DE&I focus extends beyond our workforce and includes our communities, which we support in a number of ways. We have \\ncommitted to investments that aim to address racial inequality and improve diversity and representation in our communities. W e \\nalso are leveraging our global scale to accelerate business diversity , including investing in business training programs for women \\nand increasing the proportion of services supplied by minority-owned businesses.\\nCOMPENSATION AND BENEFITS \\nNIKE's to\")]"
      ]
     },
     "execution_count": 8,
     "metadata": {},
     "output_type": "execute_result"
    }
   ],
   "source": [
    "input_data = [ Context(context=p[:500]) for p in page_contents[6:16] if len(p) > 200]\n",
    "input_data"
   ]
  },
  {
   "cell_type": "markdown",
   "metadata": {},
   "source": [
    "### Use LLM to generate data\n",
    "\n",
    "In this example, we will use the [OpenAIModelConfig](https://github.com/CambioML/uniflow/blob/main/uniflow/model/config.py#L17)'s default LLM to generate questions and answers.\n",
    "\n",
    "Here, we pass in our `guided_prompt` to the `OpenAIConfig` to use our customized instructions and examples, instead of the `uniflow` default ones.\n",
    "\n",
    "We also want to get the response in the `json` format instead of the `text` default, so we set the `response_format` to `json_object`."
   ]
  },
  {
   "cell_type": "code",
   "execution_count": 9,
   "metadata": {},
   "outputs": [],
   "source": [
    "config = TransformOpenAIConfig(\n",
    "    prompt_template=guided_prompt,\n",
    "    model_config=OpenAIModelConfig(response_format={\"type\": \"json_object\"}),\n",
    ")\n",
    "client = TransformClient(config)"
   ]
  },
  {
   "cell_type": "markdown",
   "metadata": {},
   "source": [
    "Now we call the `run` method on the `client` object to execute the question-answer generation operation on the data shown above."
   ]
  },
  {
   "cell_type": "code",
   "execution_count": 13,
   "metadata": {},
   "outputs": [
    {
     "data": {
      "application/vnd.jupyter.widget-view+json": {
       "model_id": "e976a1b97294452280e9c22d2f922ced",
       "version_major": 2,
       "version_minor": 0
      },
      "text/plain": [
       "  0%|          | 0/10 [00:00<?, ?it/s]"
      ]
     },
     "metadata": {},
     "output_type": "display_data"
    }
   ],
   "source": [
    "output = client.run(input_data)"
   ]
  },
  {
   "cell_type": "markdown",
   "metadata": {},
   "source": [
    "### Process the output\n",
    "\n",
    "Let's take a look of the generated output. We need to do a little postprocessing on the raw output."
   ]
  },
  {
   "cell_type": "code",
   "execution_count": 14,
   "metadata": {},
   "outputs": [
    {
     "data": {
      "text/html": [
       "<style type=\"text/css\">\n",
       "#T_96d4b th {\n",
       "  text-align: left;\n",
       "}\n",
       "#T_96d4b_row0_col0, #T_96d4b_row0_col1, #T_96d4b_row0_col2, #T_96d4b_row1_col0, #T_96d4b_row1_col1, #T_96d4b_row1_col2, #T_96d4b_row2_col0, #T_96d4b_row2_col1, #T_96d4b_row2_col2, #T_96d4b_row3_col0, #T_96d4b_row3_col1, #T_96d4b_row3_col2, #T_96d4b_row4_col0, #T_96d4b_row4_col1, #T_96d4b_row4_col2, #T_96d4b_row5_col0, #T_96d4b_row5_col1, #T_96d4b_row5_col2, #T_96d4b_row6_col0, #T_96d4b_row6_col1, #T_96d4b_row6_col2, #T_96d4b_row7_col0, #T_96d4b_row7_col1, #T_96d4b_row7_col2, #T_96d4b_row8_col0, #T_96d4b_row8_col1, #T_96d4b_row8_col2, #T_96d4b_row9_col0, #T_96d4b_row9_col1, #T_96d4b_row9_col2 {\n",
       "  text-align: left;\n",
       "}\n",
       "</style>\n",
       "<table id=\"T_96d4b\">\n",
       "  <thead>\n",
       "    <tr>\n",
       "      <th class=\"blank level0\" >&nbsp;</th>\n",
       "      <th id=\"T_96d4b_level0_col0\" class=\"col_heading level0 col0\" >Context</th>\n",
       "      <th id=\"T_96d4b_level0_col1\" class=\"col_heading level0 col1\" >Question</th>\n",
       "      <th id=\"T_96d4b_level0_col2\" class=\"col_heading level0 col2\" >Answer</th>\n",
       "    </tr>\n",
       "  </thead>\n",
       "  <tbody>\n",
       "    <tr>\n",
       "      <th id=\"T_96d4b_level0_row0\" class=\"row_heading level0 row0\" >0</th>\n",
       "      <td id=\"T_96d4b_row0_col0\" class=\"data row0 col0\" >We also offer interactive consumer services and experiences as well as digital products through our digital platforms, including \n",
       "fitness and activity apps; sport, fitness and wellness content; and digital services and features in retail stores that enhance the \n",
       "consumer experience.\n",
       "SALES AND MARKETING\n",
       "We experience moderate fluctuations in aggregate sales volume during the year. Historically, revenues in the first and fourth \n",
       "fiscal quarters have slightly exceeded those in the second and third </td>\n",
       "      <td id=\"T_96d4b_row0_col1\" class=\"data row0 col1\" >What are some of the digital products offered through the digital platforms?</td>\n",
       "      <td id=\"T_96d4b_row0_col2\" class=\"data row0 col2\" >fitness and activity apps; sport, fitness and wellness content; and digital services and features in retail stores.</td>\n",
       "    </tr>\n",
       "    <tr>\n",
       "      <th id=\"T_96d4b_level0_row1\" class=\"row_heading level0 row1\" >1</th>\n",
       "      <td id=\"T_96d4b_row1_col0\" class=\"data row1 col0\" >INTERNATIONAL MARKETS\n",
       "For fiscal 2023, non-U.S. NIKE Brand and Converse sales accounted for approximately 57% of total revenues, compared to 60% \n",
       "and 61% for fiscal 2022 and fiscal 2021, respectively. We sell our products to retail accounts through our own NIKE Direct \n",
       "operations and through a mix of independent distributors, licensees and sales representatives around the world. W e sell to \n",
       "thousands of retail accounts and ship products from 67 distribution centers outside of the United States.</td>\n",
       "      <td id=\"T_96d4b_row1_col1\" class=\"data row1 col1\" >How much did non-U.S. NIKE Brand and Converse sales account for in total revenues for fiscal 2023?</td>\n",
       "      <td id=\"T_96d4b_row1_col2\" class=\"data row1 col2\" >Approximately 57%.</td>\n",
       "    </tr>\n",
       "    <tr>\n",
       "      <th id=\"T_96d4b_level0_row2\" class=\"row_heading level0 row2\" >2</th>\n",
       "      <td id=\"T_96d4b_row2_col0\" class=\"data row2 col0\" >footwear production. For fiscal 2023, factories in Vietnam, Indonesia and China manufactured approximately 50%, 27% and 18% \n",
       "of total NIKE Brand footwear, respectively. For fiscal 2023, four footwear contract manufacturers each accounted for greater than \n",
       "10% of footwear production and in the aggregate accounted for approximately 58% of NIKE Brand footwear production.\n",
       "As of May 31, 2023, our contract manufacturers operated 291 finished goods apparel factories located in 31 countries. For fiscal </td>\n",
       "      <td id=\"T_96d4b_row2_col1\" class=\"data row2 col1\" >Which countries manufactured approximately 50%, 27%, and 18% of total NIKE Brand footwear in fiscal 2023?</td>\n",
       "      <td id=\"T_96d4b_row2_col2\" class=\"data row2 col2\" >Vietnam, Indonesia, and China.</td>\n",
       "    </tr>\n",
       "    <tr>\n",
       "      <th id=\"T_96d4b_level0_row3\" class=\"row_heading level0 row3\" >3</th>\n",
       "      <td id=\"T_96d4b_row3_col0\" class=\"data row3 col0\" >NIKE's contract manufacturers buy raw materials for the manufacturing of our footwear, apparel and equipment products. Most \n",
       "raw materials are available and purchased by those contract manufacturers in the countries where manufact</td>\n",
       "      <td id=\"T_96d4b_row3_col1\" class=\"data row3 col1\" >Where do NIKE's contract manufacturers buy raw materials for the manufacturing of their products?</td>\n",
       "      <td id=\"T_96d4b_row3_col2\" class=\"data row3 col2\" >Most raw materials are available and purchased by those contract manufacturers in the countries where manufacturing takes place.</td>\n",
       "    </tr>\n",
       "    <tr>\n",
       "      <th id=\"T_96d4b_level0_row4\" class=\"row_heading level0 row4\" >4</th>\n",
       "      <td id=\"T_96d4b_row4_col0\" class=\"data row4 col0\" >We monitor protectionist trends and developments throughout the world that may materially impact our industry, and we engage \n",
       "in administrative and judicial processes to mitigate trade restrictions. W e are actively monitoring actions that may result in \n",
       "additional anti-dumping measures and could affect our industry. We are also monitoring for and advocating against other \n",
       "impediments that may limit or delay customs clearance for imports of footwear , apparel and equipment. NIKE also advocates f</td>\n",
       "      <td id=\"T_96d4b_row4_col1\" class=\"data row4 col1\" >What does NIKE actively monitor and advocate against?</td>\n",
       "      <td id=\"T_96d4b_row4_col2\" class=\"data row4 col2\" >NIKE actively monitors and advocates against actions that may result in additional anti-dumping measures and other impediments that may limit or delay customs clearance for imports of footwear, apparel, and equipment.</td>\n",
       "    </tr>\n",
       "    <tr>\n",
       "      <th id=\"T_96d4b_level0_row5\" class=\"row_heading level0 row5\" >5</th>\n",
       "      <td id=\"T_96d4b_row5_col0\" class=\"data row5 col0\" >Our international operations are also subject to compliance with the U.S . Foreign Corrupt Practices Act (the \"FCPA\"), and other \n",
       "anti-bribery laws applicable to our operations. We source a significant portion of our products from, and have important consumer \n",
       "markets, outside of the United States. We have an ethics and compliance program to address compliance with the FCPA and \n",
       "similar laws by us, our employees, agents, suppliers and other partners.  Refer to Item 1A. Risk Factors for additiona</td>\n",
       "      <td id=\"T_96d4b_row5_col1\" class=\"data row5 col1\" >What laws are applicable to our international operations?</td>\n",
       "      <td id=\"T_96d4b_row5_col2\" class=\"data row5 col2\" >Compliance with the U.S. Foreign Corrupt Practices Act (the \"FCPA\"), and other anti-bribery laws.</td>\n",
       "    </tr>\n",
       "    <tr>\n",
       "      <th id=\"T_96d4b_level0_row6\" class=\"row_heading level0 row6\" >6</th>\n",
       "      <td id=\"T_96d4b_row6_col0\" class=\"data row6 col0\" >devices, and related software applications. These patents expire at various times.\n",
       "We believe our success depends upon our capabilities in areas such as design, research and development, production and \n",
       "marketing and is supported and protected by our intellectual property rights, such as trademarks, utility and design patents, \n",
       "copyrights, and trade secrets, among others. \n",
       "We have followed a policy of applying for and registering intellectual property rights in the United States and select forei</td>\n",
       "      <td id=\"T_96d4b_row6_col1\" class=\"data row6 col1\" >What supports and protects the company's capabilities in areas such as design, research and development, production, and marketing?</td>\n",
       "      <td id=\"T_96d4b_row6_col2\" class=\"data row6 col2\" >Intellectual property rights such as trademarks, utility and design patents, copyrights, and trade secrets.</td>\n",
       "    </tr>\n",
       "    <tr>\n",
       "      <th id=\"T_96d4b_level0_row7\" class=\"row_heading level0 row7\" >7</th>\n",
       "      <td id=\"T_96d4b_row7_col0\" class=\"data row7 col0\" >HUMAN CAPITAL RESOURCES\n",
       "At NIKE, we consider the strength and effective management of our workforce to be essential to the ongoing success of our \n",
       "business. We believe that it is important to attract, develop and retain a diverse and engaged workforce at all levels of our \n",
       "business and that such a workforce fosters creativity and accelerates innovation. W e are focused on building an increasingly \n",
       "diverse talent pipeline that reflects our consumers, athletes and the communities we serve.\n",
       "CULTURE</td>\n",
       "      <td id=\"T_96d4b_row7_col1\" class=\"data row7 col1\" >What does NIKE consider essential for the ongoing success of its business?</td>\n",
       "      <td id=\"T_96d4b_row7_col2\" class=\"data row7 col2\" >The strength and effective management of its workforce.</td>\n",
       "    </tr>\n",
       "    <tr>\n",
       "      <th id=\"T_96d4b_level0_row8\" class=\"row_heading level0 row8\" >8</th>\n",
       "      <td id=\"T_96d4b_row8_col0\" class=\"data row8 col0\" >Diversity, equity and inclusion (\"DE&I\") is a strategic priority for NIKE and we are committed to having an increa</td>\n",
       "      <td id=\"T_96d4b_row8_col1\" class=\"data row8 col1\" >What is a strategic priority for NIKE?</td>\n",
       "      <td id=\"T_96d4b_row8_col2\" class=\"data row8 col2\" >Diversity, equity and inclusion (\"DE&I\") is a strategic priority for NIKE.</td>\n",
       "    </tr>\n",
       "    <tr>\n",
       "      <th id=\"T_96d4b_level0_row9\" class=\"row_heading level0 row9\" >9</th>\n",
       "      <td id=\"T_96d4b_row9_col0\" class=\"data row9 col0\" >Our DE&I focus extends beyond our workforce and includes our communities, which we support in a number of ways. We have \n",
       "committed to investments that aim to address racial inequality and improve diversity and representation in our communities. W e \n",
       "also are leveraging our global scale to accelerate business diversity , including investing in business training programs for women \n",
       "and increasing the proportion of services supplied by minority-owned businesses.\n",
       "COMPENSATION AND BENEFITS \n",
       "NIKE's to</td>\n",
       "      <td id=\"T_96d4b_row9_col1\" class=\"data row9 col1\" >What is NIKE's focus on diversity, equity, and inclusion?</td>\n",
       "      <td id=\"T_96d4b_row9_col2\" class=\"data row9 col2\" >NIKE's focus extends beyond their workforce and includes their communities, aiming to address racial inequality, improve diversity and representation, invest in business training programs for women, and increase the proportion of services supplied by minority-owned businesses.</td>\n",
       "    </tr>\n",
       "  </tbody>\n",
       "</table>\n"
      ],
      "text/plain": [
       "<pandas.io.formats.style.Styler at 0x2139de62c50>"
      ]
     },
     "execution_count": 14,
     "metadata": {},
     "output_type": "execute_result"
    }
   ],
   "source": [
    "# Extracting context, question, and answer into a DataFrame\n",
    "contexts = []\n",
    "questions = []\n",
    "answers = []\n",
    "\n",
    "for item in output:\n",
    "    for i in item.get('output', []):\n",
    "        for response in i.get('response', []):\n",
    "            if any(key not in response for key in ['context', 'question', 'answer']):\n",
    "                print(\"Missing context, question or answer in response:\", response)\n",
    "                continue\n",
    "            contexts.append(response['context'])\n",
    "            questions.append(response['question'])\n",
    "            answers.append(response['answer'])\n",
    "\n",
    "# Set display options\n",
    "pd.set_option('display.max_colwidth', None)\n",
    "pd.set_option('display.width', 1000)\n",
    "\n",
    "df = pd.DataFrame({\n",
    "    'Context': contexts,\n",
    "    'Question': questions,\n",
    "    'Answer': answers\n",
    "})\n",
    "\n",
    "styled_df = df.style.set_properties(**{'text-align': 'left'}).set_table_styles([{\n",
    "    'selector': 'th',\n",
    "    'props': [('text-align', 'left')]\n",
    "}])\n",
    "styled_df"
   ]
  },
  {
   "cell_type": "markdown",
   "metadata": {},
   "source": [
    "Finally, we can save the output to a csv file."
   ]
  },
  {
   "cell_type": "code",
   "execution_count": 15,
   "id": "72a570e6",
   "metadata": {},
   "outputs": [],
   "source": [
    "output_df = df[['Question', 'Answer']]\n",
    "\n",
    "output_dir = 'data/output'\n",
    "\n",
    "if not os.path.exists(output_dir):\n",
    "    os.makedirs(output_dir)\n",
    "\n",
    "output_df.to_csv(f\"{output_dir}/Nike_10k_QApairs.csv\", index=False)"
   ]
  },
  {
   "cell_type": "markdown",
   "metadata": {},
   "source": [
    "## End of the notebook\n",
    "\n",
    "Check more Uniflow use cases in the [example folder](https://github.com/CambioML/uniflow/tree/main/example/model#examples)!\n",
    "\n",
    "<a href=\"https://www.cambioml.com/\" title=\"Title\">\n",
    "    <img src=\"../image/cambioml_logo_large.png\" style=\"height: 100px; display: block; margin-left: auto; margin-right: auto;\"/>\n",
    "</a>"
   ]
  }
 ],
 "metadata": {
  "kernelspec": {
   "display_name": "self-instruct-ft",
   "language": "python",
   "name": "python3"
  },
  "language_info": {
   "codemirror_mode": {
    "name": "ipython",
    "version": 3
   },
   "file_extension": ".py",
   "mimetype": "text/x-python",
   "name": "python",
   "nbconvert_exporter": "python",
   "pygments_lexer": "ipython3",
   "version": "3.10.13"
  }
 },
 "nbformat": 4,
 "nbformat_minor": 5
}
