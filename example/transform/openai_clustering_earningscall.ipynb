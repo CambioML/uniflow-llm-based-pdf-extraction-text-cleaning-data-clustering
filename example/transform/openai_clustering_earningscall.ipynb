{
 "cells": [
  {
   "cell_type": "markdown",
   "metadata": {},
   "source": [
    "# Generating keywords for new tech in earnings call\n",
    "In this example, we will show you how to generate keywords and cluster them based on semantic meaning from a company's earning call from csv data scraped from seekingalpha using OpenAI's models via `uniflow`'s [OpenAIJsonModelFlow](https://github.com/CambioML/uniflow/blob/main/uniflow/flow/model_flow.py#L125).\n",
    "\n",
    "For this example, we use earning call transcript from Emeren Group (https://seekingalpha.com/article/4632495-emeren-group-ltd-sol-q2-2023-earnings-call-transcript)\n",
    "\n",
    "### Before running the code\n",
    "\n",
    "You will need to `uniflow` conda environment to run this notebook. You can set up the environment following the instruction: https://github.com/CambioML/uniflow/tree/main#installation.\n",
    "\n",
    "Next, you will need a valid [OpenAI API key](https://platform.openai.com/api-keys) to run the code. Once you have the key, set it as the environment variable `OPENAI_API_KEY` within a `.env` file in the root directory of this repository. For more details, see this [instruction](https://github.com/CambioML/uniflow/tree/main#api-keys)\n",
    "\n",
    "\n",
    "### Update system path"
   ]
  },
  {
   "cell_type": "code",
   "execution_count": 1,
   "metadata": {},
   "outputs": [],
   "source": [
    "%reload_ext autoreload\n",
    "%autoreload 2\n",
    "\n",
    "import sys\n",
    "\n",
    "sys.path.append(\".\")\n",
    "sys.path.append(\"..\")\n",
    "sys.path.append(\"../..\")"
   ]
  },
  {
   "cell_type": "markdown",
   "metadata": {},
   "source": [
    "### Install helper packages"
   ]
  },
  {
   "cell_type": "code",
   "execution_count": 2,
   "metadata": {},
   "outputs": [
    {
     "name": "stdout",
     "output_type": "stream",
     "text": [
      "Requirement already satisfied: langchain in /opt/conda/envs/uniflow/lib/python3.10/site-packages (0.0.348)\n",
      "Requirement already satisfied: pandas in /opt/conda/envs/uniflow/lib/python3.10/site-packages (2.1.4)\n",
      "Requirement already satisfied: pypdf in /opt/conda/envs/uniflow/lib/python3.10/site-packages (3.17.1)\n",
      "Requirement already satisfied: PyYAML>=5.3 in /opt/conda/envs/uniflow/lib/python3.10/site-packages (from langchain) (6.0.1)\n",
      "Requirement already satisfied: SQLAlchemy<3,>=1.4 in /opt/conda/envs/uniflow/lib/python3.10/site-packages (from langchain) (2.0.23)\n",
      "Requirement already satisfied: aiohttp<4.0.0,>=3.8.3 in /opt/conda/envs/uniflow/lib/python3.10/site-packages (from langchain) (3.9.1)\n",
      "Requirement already satisfied: async-timeout<5.0.0,>=4.0.0 in /opt/conda/envs/uniflow/lib/python3.10/site-packages (from langchain) (4.0.3)\n",
      "Requirement already satisfied: dataclasses-json<0.7,>=0.5.7 in /opt/conda/envs/uniflow/lib/python3.10/site-packages (from langchain) (0.6.3)\n",
      "Requirement already satisfied: jsonpatch<2.0,>=1.33 in /opt/conda/envs/uniflow/lib/python3.10/site-packages (from langchain) (1.33)\n",
      "Requirement already satisfied: langchain-core<0.1,>=0.0.12 in /opt/conda/envs/uniflow/lib/python3.10/site-packages (from langchain) (0.0.12)\n",
      "Requirement already satisfied: langsmith<0.1.0,>=0.0.63 in /opt/conda/envs/uniflow/lib/python3.10/site-packages (from langchain) (0.0.69)\n",
      "Requirement already satisfied: numpy<2,>=1 in /opt/conda/envs/uniflow/lib/python3.10/site-packages (from langchain) (1.26.2)\n",
      "Requirement already satisfied: pydantic<3,>=1 in /opt/conda/envs/uniflow/lib/python3.10/site-packages (from langchain) (2.5.2)\n",
      "Requirement already satisfied: requests<3,>=2 in /opt/conda/envs/uniflow/lib/python3.10/site-packages (from langchain) (2.31.0)\n",
      "Requirement already satisfied: tenacity<9.0.0,>=8.1.0 in /opt/conda/envs/uniflow/lib/python3.10/site-packages (from langchain) (8.2.3)\n",
      "Requirement already satisfied: python-dateutil>=2.8.2 in /opt/conda/envs/uniflow/lib/python3.10/site-packages (from pandas) (2.8.2)\n",
      "Requirement already satisfied: pytz>=2020.1 in /opt/conda/envs/uniflow/lib/python3.10/site-packages (from pandas) (2023.3.post1)\n",
      "Requirement already satisfied: tzdata>=2022.1 in /opt/conda/envs/uniflow/lib/python3.10/site-packages (from pandas) (2023.3)\n",
      "Requirement already satisfied: attrs>=17.3.0 in /opt/conda/envs/uniflow/lib/python3.10/site-packages (from aiohttp<4.0.0,>=3.8.3->langchain) (23.1.0)\n",
      "Requirement already satisfied: multidict<7.0,>=4.5 in /opt/conda/envs/uniflow/lib/python3.10/site-packages (from aiohttp<4.0.0,>=3.8.3->langchain) (6.0.4)\n",
      "Requirement already satisfied: yarl<2.0,>=1.0 in /opt/conda/envs/uniflow/lib/python3.10/site-packages (from aiohttp<4.0.0,>=3.8.3->langchain) (1.9.4)\n",
      "Requirement already satisfied: frozenlist>=1.1.1 in /opt/conda/envs/uniflow/lib/python3.10/site-packages (from aiohttp<4.0.0,>=3.8.3->langchain) (1.4.0)\n",
      "Requirement already satisfied: aiosignal>=1.1.2 in /opt/conda/envs/uniflow/lib/python3.10/site-packages (from aiohttp<4.0.0,>=3.8.3->langchain) (1.3.1)\n",
      "Requirement already satisfied: marshmallow<4.0.0,>=3.18.0 in /opt/conda/envs/uniflow/lib/python3.10/site-packages (from dataclasses-json<0.7,>=0.5.7->langchain) (3.20.1)\n",
      "Requirement already satisfied: typing-inspect<1,>=0.4.0 in /opt/conda/envs/uniflow/lib/python3.10/site-packages (from dataclasses-json<0.7,>=0.5.7->langchain) (0.9.0)\n",
      "Requirement already satisfied: jsonpointer>=1.9 in /opt/conda/envs/uniflow/lib/python3.10/site-packages (from jsonpatch<2.0,>=1.33->langchain) (2.4)\n",
      "Requirement already satisfied: anyio<5,>=3 in /opt/conda/envs/uniflow/lib/python3.10/site-packages (from langchain-core<0.1,>=0.0.12->langchain) (4.1.0)\n",
      "Requirement already satisfied: packaging<24.0,>=23.2 in /opt/conda/envs/uniflow/lib/python3.10/site-packages (from langchain-core<0.1,>=0.0.12->langchain) (23.2)\n",
      "Requirement already satisfied: annotated-types>=0.4.0 in /opt/conda/envs/uniflow/lib/python3.10/site-packages (from pydantic<3,>=1->langchain) (0.6.0)\n",
      "Requirement already satisfied: pydantic-core==2.14.5 in /opt/conda/envs/uniflow/lib/python3.10/site-packages (from pydantic<3,>=1->langchain) (2.14.5)\n",
      "Requirement already satisfied: typing-extensions>=4.6.1 in /opt/conda/envs/uniflow/lib/python3.10/site-packages (from pydantic<3,>=1->langchain) (4.9.0)\n",
      "Requirement already satisfied: six>=1.5 in /opt/conda/envs/uniflow/lib/python3.10/site-packages (from python-dateutil>=2.8.2->pandas) (1.16.0)\n",
      "Requirement already satisfied: charset-normalizer<4,>=2 in /opt/conda/envs/uniflow/lib/python3.10/site-packages (from requests<3,>=2->langchain) (3.3.2)\n",
      "Requirement already satisfied: idna<4,>=2.5 in /opt/conda/envs/uniflow/lib/python3.10/site-packages (from requests<3,>=2->langchain) (3.6)\n",
      "Requirement already satisfied: urllib3<3,>=1.21.1 in /opt/conda/envs/uniflow/lib/python3.10/site-packages (from requests<3,>=2->langchain) (2.1.0)\n",
      "Requirement already satisfied: certifi>=2017.4.17 in /opt/conda/envs/uniflow/lib/python3.10/site-packages (from requests<3,>=2->langchain) (2023.11.17)\n",
      "Requirement already satisfied: greenlet!=0.4.17 in /opt/conda/envs/uniflow/lib/python3.10/site-packages (from SQLAlchemy<3,>=1.4->langchain) (3.0.2)\n",
      "Requirement already satisfied: sniffio>=1.1 in /opt/conda/envs/uniflow/lib/python3.10/site-packages (from anyio<5,>=3->langchain-core<0.1,>=0.0.12->langchain) (1.3.0)\n",
      "Requirement already satisfied: exceptiongroup>=1.0.2 in /opt/conda/envs/uniflow/lib/python3.10/site-packages (from anyio<5,>=3->langchain-core<0.1,>=0.0.12->langchain) (1.2.0)\n",
      "Requirement already satisfied: mypy-extensions>=0.3.0 in /opt/conda/envs/uniflow/lib/python3.10/site-packages (from typing-inspect<1,>=0.4.0->dataclasses-json<0.7,>=0.5.7->langchain) (1.0.0)\n"
     ]
    }
   ],
   "source": [
    "!{sys.executable} -m pip install langchain pandas pypdf"
   ]
  },
  {
   "cell_type": "code",
   "execution_count": 3,
   "metadata": {},
   "outputs": [
    {
     "name": "stderr",
     "output_type": "stream",
     "text": [
      "/opt/conda/envs/uniflow/lib/python3.10/site-packages/tqdm/auto.py:21: TqdmWarning: IProgress not found. Please update jupyter and ipywidgets. See https://ipywidgets.readthedocs.io/en/stable/user_install.html\n",
      "  from .autonotebook import tqdm as notebook_tqdm\n"
     ]
    },
    {
     "data": {
      "text/plain": [
       "True"
      ]
     },
     "execution_count": 3,
     "metadata": {},
     "output_type": "execute_result"
    }
   ],
   "source": [
    "from dotenv import load_dotenv\n",
    "import os\n",
    "import pandas as pd\n",
    "from uniflow.op.op import OpScope\n",
    "from uniflow.flow.client import TransformClient\n",
    "from uniflow.flow.config import TransformForClassificationOpenAIGPT3p5Config, TransformForClusteringOpenAIGPT4Config\n",
    "from uniflow.op.model.model_config import OpenAIModelConfig\n",
    "from langchain.text_splitter import RecursiveCharacterTextSplitter\n",
    "from uniflow.op.prompt import Context, PromptTemplate\n",
    "\n",
    "load_dotenv()\n"
   ]
  },
  {
   "cell_type": "markdown",
   "metadata": {},
   "source": [
    "### Prepare the input csv\n",
    "First, we need to split the contents of earning call transcript to get text chunks that we can feed into the model. We will use `RecursiveCharacterTextSplitter` from langchain."
   ]
  },
  {
   "cell_type": "code",
   "execution_count": 4,
   "metadata": {},
   "outputs": [],
   "source": [
    "file = \"earnings_call_sample_data.csv\""
   ]
  },
  {
   "cell_type": "markdown",
   "metadata": {},
   "source": [
    "##### Set current directory and input data directory."
   ]
  },
  {
   "cell_type": "code",
   "execution_count": 5,
   "metadata": {},
   "outputs": [],
   "source": [
    "dir_cur = os.getcwd()\n",
    "input_file = os.path.join(f\"{dir_cur}/data/raw_input/\", file)"
   ]
  },
  {
   "cell_type": "code",
   "execution_count": 6,
   "metadata": {},
   "outputs": [],
   "source": [
    "df = pd.read_csv(input_file)"
   ]
  },
  {
   "cell_type": "code",
   "execution_count": 7,
   "metadata": {},
   "outputs": [
    {
     "data": {
      "text/plain": [
       "'Emeren Group Ltd (SOL) Stock'"
      ]
     },
     "execution_count": 7,
     "metadata": {},
     "output_type": "execute_result"
    }
   ],
   "source": [
    "df['company'][0]"
   ]
  },
  {
   "cell_type": "code",
   "execution_count": 8,
   "metadata": {},
   "outputs": [],
   "source": [
    "text_to_split = df['content'][0]"
   ]
  },
  {
   "cell_type": "markdown",
   "metadata": {},
   "source": [
    "##### Load and split the text"
   ]
  },
  {
   "cell_type": "code",
   "execution_count": 9,
   "metadata": {},
   "outputs": [],
   "source": [
    "splitter = RecursiveCharacterTextSplitter(chunk_size = 1000, chunk_overlap = 100)"
   ]
  },
  {
   "cell_type": "code",
   "execution_count": 10,
   "metadata": {},
   "outputs": [],
   "source": [
    "chunks = splitter.split_text(text_to_split)"
   ]
  },
  {
   "cell_type": "code",
   "execution_count": 11,
   "metadata": {},
   "outputs": [
    {
     "name": "stdout",
     "output_type": "stream",
     "text": [
      "37\n"
     ]
    },
    {
     "data": {
      "text/plain": [
       "\"after the market close today and is available on our website at ir.emeren.com. We also provided a supplemental presentation that's posted on our IR website that we will reference during our prepared remarks. On the call with me today are Mr. Himanshu Shah, Chairman of the Board; Mr. Yumin Liu, Chief Executive Officer; and Mr. Ke Chen, Chief Financial Officer. Before we continue, please turn to slide two. Let me remind you that remarks made during this call may include predictions, estimates and other information that might be considered forward-looking. These forward-looking statements represent Emeren Group's current judgment for the future. However, they are subject to risks and uncertainties that could cause actual results to differ materially. Those risks are described under Risk Factors and elsewhere and Emeren Group's filings with the SEC. Please do not place undue reliance on these forward-looking statements, which reflect Emeren Group's opinions only as of the date of this\""
      ]
     },
     "execution_count": 11,
     "metadata": {},
     "output_type": "execute_result"
    }
   ],
   "source": [
    "print(len(chunks))\n",
    "chunks[1]\n"
   ]
  },
  {
   "cell_type": "code",
   "execution_count": 12,
   "metadata": {},
   "outputs": [],
   "source": [
    "data =[Context(context=p) for p in chunks]\n",
    "# data = [Context(context = chunks[1])]"
   ]
  },
  {
   "cell_type": "markdown",
   "metadata": {},
   "source": [
    "### Prepare sample prompts\n",
    "\n",
    "First, we need to demonstrate sample prompts for LLM. Because we are not generating the default questions and answers, we need to have a custom `instruction` and custom `examples`, which we configure in the `PromptTemplate` class.\n",
    "\n",
    "First, we give a custom `instruction` to the `PromptTemplate`. This ensures we are instructing the LLM to generate summaries instead of the default questions and answers.\n",
    "\n",
    "Next, we give a sample of `Context` examples to the `PromptTemplate` class. This is an example answer based on the `context`."
   ]
  },
  {
   "cell_type": "code",
   "execution_count": 13,
   "metadata": {},
   "outputs": [],
   "source": [
    "guided_prompt = PromptTemplate(instruction=\"\"\"\n",
    "            Does the text mention any cutting-edged technology applications, any new technology methods, or any new area of innovations? If yes, return the names of each technology in a list of strings as the answer. If no, return an empty list.\n",
    "            \"\"\",\n",
    "            few_shot_prompt=[\n",
    "                Context(\n",
    "                    context=\"Our new business wins are supported by our product leadership strategy of bringing new product to market that provides value for our customers, such as market-leading 500 bar GDi technology, helping customers improve efficiency, reduce emissions and lower costs leveraging our GDi technology and capital to provide a value-focused solution for our off-highway diesel applications and hydrogen ICE that differentiates us from our competition. We're helping our customers move towards carbon neutral and carbon-free fuels with solutions using ethanol, biofuels and hydrogen, as it's our view that a liquefied or gaseous fuel is going to be a key element of our journey to carbon neutrality.\",\n",
    "                    answer=[\"500 bar GDi technology\", \"carbon neutral\"]\n",
    "                ),\n",
    "                    Context(\n",
    "                    context=\"The Eiffel Tower, located in Paris, France, is one of the most famous landmarks in the world. It was constructed in 1889 and stands at a height of 324 meters.\",\n",
    "                    answer=[],\n",
    "                ),\n",
    "            ],\n",
    ")"
   ]
  },
  {
   "cell_type": "markdown",
   "metadata": {},
   "source": [
    "### Use LLM to generate data\n",
    "\n",
    "In this example, we will use the [OpenAIModelConfig](https://github.com/CambioML/uniflow/blob/main/uniflow/model/config.py#L17)'s GPT4 model to generate questions and answers.\n"
   ]
  },
  {
   "cell_type": "code",
   "execution_count": 13,
   "metadata": {},
   "outputs": [],
   "source": [
    "config1 = TransformForClassificationOpenAIGPT3p5Config(\n",
    "    model_config=OpenAIModelConfig(),\n",
    ")"
   ]
  },
  {
   "cell_type": "code",
   "execution_count": 14,
   "metadata": {},
   "outputs": [],
   "source": [
    "with OpScope(name=\"transform_flow1\"):\n",
    "    client1 = TransformClient(config1)"
   ]
  },
  {
   "cell_type": "code",
   "execution_count": 15,
   "metadata": {},
   "outputs": [
    {
     "name": "stderr",
     "output_type": "stream",
     "text": [
      "  0%|          | 0/37 [00:00<?, ?it/s]"
     ]
    },
    {
     "name": "stderr",
     "output_type": "stream",
     "text": [
      "100%|██████████| 37/37 [00:44<00:00,  1.21s/it]\n"
     ]
    }
   ],
   "source": [
    "client1 = TransformClient(config1)\n",
    "out = client1.run(data)"
   ]
  },
  {
   "cell_type": "code",
   "execution_count": 16,
   "metadata": {},
   "outputs": [
    {
     "data": {
      "text/plain": [
       "[{'output': [{'response': ['answer: []'], 'error': 'No errors.'}],\n",
       "  'root': <uniflow.node.Node at 0x7f5526727c10>},\n",
       " {'output': [{'response': ['answer: []'], 'error': 'No errors.'}],\n",
       "  'root': <uniflow.node.Node at 0x7f5526d01150>},\n",
       " {'output': [{'response': ['answer: []'], 'error': 'No errors.'}],\n",
       "  'root': <uniflow.node.Node at 0x7f55267561a0>},\n",
       " {'output': [{'response': ['answer: []'], 'error': 'No errors.'}],\n",
       "  'root': <uniflow.node.Node at 0x7f5526757550>},\n",
       " {'output': [{'response': [\"Answer: ['solar project', 'renewable energy markets', 'battery energy storage system']\"],\n",
       "    'error': 'No errors.'}],\n",
       "  'root': <uniflow.node.Node at 0x7f5526757a00>},\n",
       " {'output': [{'response': [\"answer: ['battery energy storage system']\"],\n",
       "    'error': 'No errors.'}],\n",
       "  'root': <uniflow.node.Node at 0x7f5526757a60>},\n",
       " {'output': [{'response': [\"answer: ['rooftop distributed generation']\"],\n",
       "    'error': 'No errors.'}],\n",
       "  'root': <uniflow.node.Node at 0x7f5526757b20>},\n",
       " {'output': [{'response': [\"answer: ['solar development', 'storage pipeline']\"],\n",
       "    'error': 'No errors.'}],\n",
       "  'root': <uniflow.node.Node at 0x7f5526757be0>},\n",
       " {'output': [{'response': [\"answer: ['solar project pipeline', 'storage pipeline']\"],\n",
       "    'error': 'No errors.'}],\n",
       "  'root': <uniflow.node.Node at 0x7f5526757ca0>},\n",
       " {'output': [{'response': [\"answer: ['solar']\"], 'error': 'No errors.'}],\n",
       "  'root': <uniflow.node.Node at 0x7f5526757d60>},\n",
       " {'output': [{'response': ['answer: []'], 'error': 'No errors.'}],\n",
       "  'root': <uniflow.node.Node at 0x7f5526757e20>},\n",
       " {'output': [{'response': ['answer: []'], 'error': 'No errors.'}],\n",
       "  'root': <uniflow.node.Node at 0x7f5526757ee0>},\n",
       " {'output': [{'response': [\"answer: ['storage pipeline']\"],\n",
       "    'error': 'No errors.'}],\n",
       "  'root': <uniflow.node.Node at 0x7f5526757fa0>},\n",
       " {'output': [{'response': [\"['storage development']\"], 'error': 'No errors.'}],\n",
       "  'root': <uniflow.node.Node at 0x7f55267780a0>},\n",
       " {'output': [{'response': [\"['renewable energy', 'energy storage']\"],\n",
       "    'error': 'No errors.'}],\n",
       "  'root': <uniflow.node.Node at 0x7f5526778160>},\n",
       " {'output': [{'response': [\"['solar panels']\"], 'error': 'No errors.'}],\n",
       "  'root': <uniflow.node.Node at 0x7f5526778220>},\n",
       " {'output': [{'response': ['answer: []'], 'error': 'No errors.'}],\n",
       "  'root': <uniflow.node.Node at 0x7f55267782e0>},\n",
       " {'output': [{'response': ['answer: []'], 'error': 'No errors.'}],\n",
       "  'root': <uniflow.node.Node at 0x7f55267783a0>},\n",
       " {'output': [{'response': [\"['EPC services']\"], 'error': 'No errors.'}],\n",
       "  'root': <uniflow.node.Node at 0x7f5526778460>},\n",
       " {'output': [{'response': ['answer: []'], 'error': 'No errors.'}],\n",
       "  'root': <uniflow.node.Node at 0x7f5526778520>},\n",
       " {'output': [{'response': [\"answer: ['renewable energy', 'solar']\"],\n",
       "    'error': 'No errors.'}],\n",
       "  'root': <uniflow.node.Node at 0x7f55267785e0>},\n",
       " {'output': [{'response': ['answer: []'], 'error': 'No errors.'}],\n",
       "  'root': <uniflow.node.Node at 0x7f55267786a0>},\n",
       " {'output': [{'response': ['answer: []'], 'error': 'No errors.'}],\n",
       "  'root': <uniflow.node.Node at 0x7f5526778760>},\n",
       " {'output': [{'response': [\"answer: ['solar pipeline', 'storage pipeline', 'Solar Plus']\"],\n",
       "    'error': 'No errors.'}],\n",
       "  'root': <uniflow.node.Node at 0x7f5526778820>},\n",
       " {'output': [{'response': [\"answer: ['solar independent storage']\"],\n",
       "    'error': 'No errors.'}],\n",
       "  'root': <uniflow.node.Node at 0x7f55267788e0>},\n",
       " {'output': [{'response': [\"['RTP NTPC', 'IPP']\"], 'error': 'No errors.'}],\n",
       "  'root': <uniflow.node.Node at 0x7f55267789a0>},\n",
       " {'output': [{'response': ['answer: []'], 'error': 'No errors.'}],\n",
       "  'root': <uniflow.node.Node at 0x7f5526778a60>},\n",
       " {'output': [{'response': [\"answer: ['solar and storage', 'battery market', 'module prices']\"],\n",
       "    'error': 'No errors.'}],\n",
       "  'root': <uniflow.node.Node at 0x7f5526778b20>},\n",
       " {'output': [{'response': [\"answer: ['solar side']\"], 'error': 'No errors.'}],\n",
       "  'root': <uniflow.node.Node at 0x7f5526778be0>},\n",
       " {'output': [{'response': ['answer: []'], 'error': 'No errors.'}],\n",
       "  'root': <uniflow.node.Node at 0x7f5526778ca0>},\n",
       " {'output': [{'response': [\"['solar projects in China']\"],\n",
       "    'error': 'No errors.'}],\n",
       "  'root': <uniflow.node.Node at 0x7f5526778d60>},\n",
       " {'output': [{'response': [\"answer: ['storage projects', 'ancillary services', 'batteries']\"],\n",
       "    'error': 'No errors.'}],\n",
       "  'root': <uniflow.node.Node at 0x7f5526778e20>},\n",
       " {'output': [{'response': [\"answer: ['renewable energy', 'storage']\"],\n",
       "    'error': 'No errors.'}],\n",
       "  'root': <uniflow.node.Node at 0x7f5526778ee0>},\n",
       " {'output': [{'response': ['[]'], 'error': 'No errors.'}],\n",
       "  'root': <uniflow.node.Node at 0x7f5526778fa0>},\n",
       " {'output': [{'response': ['answer: []'], 'error': 'No errors.'}],\n",
       "  'root': <uniflow.node.Node at 0x7f5526779060>},\n",
       " {'output': [{'response': [\"answer: ['IPP construction']\"],\n",
       "    'error': 'No errors.'}],\n",
       "  'root': <uniflow.node.Node at 0x7f5526779120>},\n",
       " {'output': [{'response': ['answer: []'], 'error': 'No errors.'}],\n",
       "  'root': <uniflow.node.Node at 0x7f55267791e0>}]"
      ]
     },
     "execution_count": 16,
     "metadata": {},
     "output_type": "execute_result"
    }
   ],
   "source": [
    "out"
   ]
  },
  {
   "cell_type": "markdown",
   "metadata": {},
   "source": [
    "### Process the output\n",
    "\n",
    "Let's take a look of the generated output. We get a list of keywords after combining and removing repetition"
   ]
  },
  {
   "cell_type": "code",
   "execution_count": 17,
   "metadata": {},
   "outputs": [
    {
     "name": "stdout",
     "output_type": "stream",
     "text": [
      "['storage development', 'EPC services', 'ancillary services', 'solar pipeline', 'module prices', 'solar project', 'renewable energy', 'storage projects', 'solar independent storage', 'storage pipeline', 'storage', 'RTP NTPC', 'solar development', 'solar side', 'battery energy storage system', 'solar and storage', 'IPP', 'IPP construction', 'batteries', 'battery market', 'solar project pipeline', 'renewable energy markets', 'solar', 'energy storage', 'solar projects in China', 'Solar Plus', 'rooftop distributed generation', 'solar panels']\n"
     ]
    }
   ],
   "source": [
    "import re\n",
    "unique_words = set()\n",
    "\n",
    "for entry in out:\n",
    "    for output in entry['output']:\n",
    "        if output['response'] and output['response'][0] != 'answer: []':\n",
    "            words = re.findall(r\"'([^']*)'\", output['response'][0])\n",
    "            unique_words.update(words)\n",
    "\n",
    "aggregated_words_list = list(unique_words)\n",
    "print(aggregated_words_list)"
   ]
  },
  {
   "cell_type": "markdown",
   "metadata": {},
   "source": [
    "Then we want to generate key value pairs in aggregated_words_list based on their semantic meaning based on the following prompt:"
   ]
  },
  {
   "cell_type": "code",
   "execution_count": 18,
   "metadata": {},
   "outputs": [],
   "source": [
    "guided_prompt = PromptTemplate(instruction=\"\"\"\n",
    "                As an expert in cutting-edge technologies, your task is to analyze a given list of technology-related terms. Your goal is to cluster these terms into groups based on their semantic similarities. Each group represents a unique category or 'signal' of technology. You will return your analysis as a dictionary. In this dictionary, each key is a 'signal', representing a specific category, and the associated value is a list of technology terms that belong to that category based on their semantic meaning.\n",
    "            \"\"\",\n",
    "            few_shot_prompt = [\n",
    "                Context(\n",
    "                    context=[\"artificial intelligence\", \"AI\", \"500 bar GDi technology\", \"ML\", \"500 bar GDi\", \"machine learning\"],\n",
    "                    answer={\n",
    "                        \"500_BAR_GDI\": [\"500 bar GDi technology\", \"500 bar GDi\"],\n",
    "                        \"AIML\": [\"artificial intelligence\", \"AI\", \"ML\", \"machine learning\"],\n",
    "                    }\n",
    "                ),\n",
    "                Context(\n",
    "                    context=[\"cryptocurrency\", \"blockchain\", \"Bitcoin\", \"Ethereum\", \"digital currency\", \"crypto mining\"],\n",
    "                    answer={\n",
    "                        \"CRYPTO_CURRENCY\": [\"cryptocurrency\", \"Bitcoin\", \"Ethereum\", \"digital currency\"],\n",
    "                        \"BLOCKCHAIN_TECH\": [\"blockchain\", \"crypto mining\"],\n",
    "                    },\n",
    "                ),\n",
    "            ]\n",
    ")"
   ]
  },
  {
   "cell_type": "code",
   "execution_count": 19,
   "metadata": {},
   "outputs": [],
   "source": [
    "config2 = TransformForClusteringOpenAIGPT4Config(\n",
    "    model_config=OpenAIModelConfig(),\n",
    ")"
   ]
  },
  {
   "cell_type": "code",
   "execution_count": 20,
   "metadata": {},
   "outputs": [],
   "source": [
    "with OpScope(name=\"transform_flow2\"):\n",
    "    client2 = TransformClient(config2)"
   ]
  },
  {
   "cell_type": "code",
   "execution_count": 21,
   "metadata": {},
   "outputs": [
    {
     "name": "stderr",
     "output_type": "stream",
     "text": [
      "  0%|          | 0/1 [00:00<?, ?it/s]"
     ]
    },
    {
     "name": "stderr",
     "output_type": "stream",
     "text": [
      "100%|██████████| 1/1 [00:06<00:00,  6.29s/it]\n"
     ]
    }
   ],
   "source": [
    "context = Context(context=aggregated_words_list)\n",
    "output2 = client2.run([context])"
   ]
  },
  {
   "cell_type": "code",
   "execution_count": 22,
   "metadata": {},
   "outputs": [],
   "source": [
    "data_str = output2[0]['output'][0]['response'][0]"
   ]
  },
  {
   "cell_type": "code",
   "execution_count": 23,
   "metadata": {},
   "outputs": [
    {
     "data": {
      "text/html": [
       "<div>\n",
       "<style scoped>\n",
       "    .dataframe tbody tr th:only-of-type {\n",
       "        vertical-align: middle;\n",
       "    }\n",
       "\n",
       "    .dataframe tbody tr th {\n",
       "        vertical-align: top;\n",
       "    }\n",
       "\n",
       "    .dataframe thead th {\n",
       "        text-align: right;\n",
       "    }\n",
       "</style>\n",
       "<table border=\"1\" class=\"dataframe\">\n",
       "  <thead>\n",
       "    <tr style=\"text-align: right;\">\n",
       "      <th></th>\n",
       "      <th>Category</th>\n",
       "      <th>Technology Strings</th>\n",
       "    </tr>\n",
       "  </thead>\n",
       "  <tbody>\n",
       "    <tr>\n",
       "      <th>0</th>\n",
       "      <td>SOLAR_TECH</td>\n",
       "      <td>solar pipeline, solar project, solar independe...</td>\n",
       "    </tr>\n",
       "    <tr>\n",
       "      <th>1</th>\n",
       "      <td>RENEWABLE_ENERGY</td>\n",
       "      <td>renewable energy, renewable energy markets</td>\n",
       "    </tr>\n",
       "    <tr>\n",
       "      <th>2</th>\n",
       "      <td>BATTERY_TECH</td>\n",
       "      <td>battery energy storage system, batteries, batt...</td>\n",
       "    </tr>\n",
       "    <tr>\n",
       "      <th>3</th>\n",
       "      <td>EPC_SERVICES</td>\n",
       "      <td>storage development, EPC services, ancillary s...</td>\n",
       "    </tr>\n",
       "    <tr>\n",
       "      <th>4</th>\n",
       "      <td>SOLAR_AND_STORAGE</td>\n",
       "      <td>solar and storage, energy storage</td>\n",
       "    </tr>\n",
       "  </tbody>\n",
       "</table>\n",
       "</div>"
      ],
      "text/plain": [
       "            Category                                 Technology Strings\n",
       "0         SOLAR_TECH  solar pipeline, solar project, solar independe...\n",
       "1   RENEWABLE_ENERGY         renewable energy, renewable energy markets\n",
       "2       BATTERY_TECH  battery energy storage system, batteries, batt...\n",
       "3       EPC_SERVICES  storage development, EPC services, ancillary s...\n",
       "4  SOLAR_AND_STORAGE                  solar and storage, energy storage"
      ]
     },
     "execution_count": 23,
     "metadata": {},
     "output_type": "execute_result"
    }
   ],
   "source": [
    "import json\n",
    "data_str = output2[0]['output'][0]['response'][0]\n",
    "data_str = data_str.replace(\"answer: \", \"\")\n",
    "data_str = data_str.replace(\"'\", '\"')\n",
    "\n",
    "data_dict = json.loads(data_str)\n",
    "\n",
    "df = pd.DataFrame([(key, ', '.join(values)) for key, values in data_dict.items()], columns=['Category', 'Technology Strings'])\n",
    "df"
   ]
  }
 ],
 "metadata": {
  "kernelspec": {
   "display_name": "uniflow",
   "language": "python",
   "name": "python3"
  },
  "language_info": {
   "codemirror_mode": {
    "name": "ipython",
    "version": 3
   },
   "file_extension": ".py",
   "mimetype": "text/x-python",
   "name": "python",
   "nbconvert_exporter": "python",
   "pygments_lexer": "ipython3",
   "version": "3.10.13"
  }
 },
 "nbformat": 4,
 "nbformat_minor": 2
}
