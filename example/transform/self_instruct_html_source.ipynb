{
 "cells": [
  {
   "cell_type": "markdown",
   "id": "7cbc4c4a",
   "metadata": {},
   "source": [
    "# Example of generating QAs for an ML book (using self-instruct)\n",
    "Source: https://d2l.ai/chapter_appendix-mathematics-for-deep-learning/information-theory.html\n",
    "\n",
    "### Before running the code\n",
    "\n",
    "You will need to have the following packages installed:\n",
    "```\n",
    "pip install langchain pandas unstructured\n",
    "```\n",
    "\n",
    "Also, make sure you have a .env file with your OpenAI API key in the root directory of this project.\n",
    "```\n",
    "OPENAI_API_KEY=YOUR_API_KEY\n",
    "```"
   ]
  },
  {
   "cell_type": "markdown",
   "metadata": {},
   "source": [
    "## Load packages"
   ]
  },
  {
   "cell_type": "code",
   "execution_count": 1,
   "metadata": {},
   "outputs": [],
   "source": [
    "%reload_ext autoreload\n",
    "%autoreload 2\n",
    "\n",
    "import sys\n",
    "\n",
    "sys.path.append(\".\")\n",
    "sys.path.append(\"..\")\n",
    "sys.path.append(\"../..\")"
   ]
  },
  {
   "cell_type": "code",
   "execution_count": 2,
   "id": "8d84dd70",
   "metadata": {},
   "outputs": [
    {
     "data": {
      "text/plain": [
       "True"
      ]
     },
     "execution_count": 2,
     "metadata": {},
     "output_type": "execute_result"
    }
   ],
   "source": [
    "import os\n",
    "import pandas as pd\n",
    "from uniflow.flow.client import TransformClient\n",
    "from uniflow.flow.config import TransformOpenAIConfig\n",
    "from langchain.document_loaders import UnstructuredHTMLLoader\n",
    "from dotenv import load_dotenv\n",
    "from uniflow.op.prompt import Context\n",
    "\n",
    "load_dotenv()"
   ]
  },
  {
   "cell_type": "markdown",
   "id": "cb677037",
   "metadata": {},
   "source": [
    "## Prepare the input data\n",
    "\n",
    "Uncomment any of the html files below as the sample file to build the self-instruct flow."
   ]
  },
  {
   "cell_type": "code",
   "execution_count": 3,
   "id": "a707ef78",
   "metadata": {},
   "outputs": [],
   "source": [
    "#html_file = \"do_things_that_dont_scale.html\" #from http://paulgraham.com/ds.html\n",
    "#html_file = \"makers_schedule_managers_schedule.html\" #from http://www.paulgraham.com/makersschedule.html\n",
    "#html_file = \"life_is_short.html\" #http://www.paulgraham.com/vb.html\n",
    "html_file = \"22.11_information-theory.html\""
   ]
  },
  {
   "cell_type": "markdown",
   "id": "4b177df1",
   "metadata": {},
   "source": [
    "Set current directory and input data directory."
   ]
  },
  {
   "cell_type": "code",
   "execution_count": 4,
   "id": "092b355a",
   "metadata": {},
   "outputs": [],
   "source": [
    "dir_cur = os.getcwd()\n",
    "input_file = os.path.join(f\"{dir_cur}/data/raw_input/\", html_file)"
   ]
  },
  {
   "cell_type": "code",
   "execution_count": 5,
   "metadata": {},
   "outputs": [],
   "source": [
    "loader = UnstructuredHTMLLoader(input_file)\n",
    "pages = loader.load_and_split()"
   ]
  },
  {
   "cell_type": "markdown",
   "metadata": {},
   "source": [
    "## Prepare input dataset"
   ]
  },
  {
   "cell_type": "code",
   "execution_count": 6,
   "metadata": {},
   "outputs": [],
   "source": [
    "data = [\n",
    "    Context(context=p)\n",
    "    for p in pages[2].page_content.split(\"\\n\\n\")\n",
    "    if len(p) > 200\n",
    "]"
   ]
  },
  {
   "cell_type": "code",
   "execution_count": 7,
   "metadata": {},
   "outputs": [
    {
     "data": {
      "text/plain": [
       "[Context(context='Any notion of information we develop must conform to this intuition.\\r\\nIndeed, in the next sections we will learn how to compute that these\\r\\nevents have \\\\(0\\\\textrm{ bits}\\\\), \\\\(2\\\\textrm{ bits}\\\\),\\r\\n\\\\(~5.7\\\\textrm{ bits}\\\\), and \\\\(~225.6\\\\textrm{ bits}\\\\) of\\r\\ninformation respectively.'),\n",
       " Context(context='If we read through these thought experiments, we see a natural idea. As\\r\\na starting point, rather than caring about the knowledge, we may build\\r\\noff the idea that information represents the degree of surprise or the\\r\\nabstract possibility of the event. For example, if we want to describe\\r\\nan unusual event, we need a lot information. For a common event, we may\\r\\nnot need much information.'),\n",
       " Context(context='In 1948, Claude E. Shannon published A Mathematical Theory of\\r\\nCommunication (Shannon, 1948) establishing the theory of\\r\\ninformation. In his article, Shannon introduced the concept of\\r\\ninformation entropy for the first time. We will begin our journey here.')]"
      ]
     },
     "execution_count": 7,
     "metadata": {},
     "output_type": "execute_result"
    }
   ],
   "source": [
    "data = data[-3:]\n",
    "data\n"
   ]
  },
  {
   "cell_type": "markdown",
   "metadata": {},
   "source": [
    "## Run ModelFlow"
   ]
  },
  {
   "cell_type": "code",
   "execution_count": 8,
   "metadata": {},
   "outputs": [],
   "source": [
    "config = TransformOpenAIConfig()\n",
    "client = TransformClient(config)"
   ]
  },
  {
   "cell_type": "code",
   "execution_count": 9,
   "metadata": {},
   "outputs": [
    {
     "data": {
      "application/vnd.jupyter.widget-view+json": {
       "model_id": "a1ecf35af9ba465d8a54803d7d542917",
       "version_major": 2,
       "version_minor": 0
      },
      "text/plain": [
       "  0%|          | 0/3 [00:00<?, ?it/s]"
      ]
     },
     "metadata": {},
     "output_type": "display_data"
    }
   ],
   "source": [
    "output = client.run(data)"
   ]
  },
  {
   "cell_type": "code",
   "execution_count": 10,
   "metadata": {},
   "outputs": [
    {
     "data": {
      "text/plain": [
       "[{'output': [{'response': ['question: How many bits of information do the events have?\\nanswer: 0 bits, 2 bits, 5.7 bits, and 225.6 bits respectively.'],\n",
       "    'error': 'No errors.'}],\n",
       "  'root': <uniflow.node.node.Node at 0x19e0f3d3c10>},\n",
       " {'output': [{'response': ['question: How does information represent the degree of surprise or abstract possibility of an event?\\nanswer: Information represents the degree of surprise or abstract possibility of an event by requiring more information to describe an unusual event and less information for a common event.'],\n",
       "    'error': 'No errors.'}],\n",
       "  'root': <uniflow.node.node.Node at 0x19e0f3e8370>},\n",
       " {'output': [{'response': ['question: Who introduced the concept of information entropy for the first time?\\nanswer: Claude E. Shannon.'],\n",
       "    'error': 'No errors.'}],\n",
       "  'root': <uniflow.node.node.Node at 0x19e0f3e9cf0>}]"
      ]
     },
     "execution_count": 10,
     "metadata": {},
     "output_type": "execute_result"
    }
   ],
   "source": [
    "output"
   ]
  },
  {
   "cell_type": "markdown",
   "metadata": {},
   "source": [
    "## Format result into pandas table"
   ]
  },
  {
   "cell_type": "code",
   "execution_count": 11,
   "metadata": {},
   "outputs": [
    {
     "data": {
      "text/html": [
       "<style type=\"text/css\">\n",
       "#T_6309f th {\n",
       "  text-align: left;\n",
       "}\n",
       "#T_6309f_row0_col0, #T_6309f_row0_col1, #T_6309f_row1_col0, #T_6309f_row1_col1, #T_6309f_row2_col0, #T_6309f_row2_col1 {\n",
       "  text-align: left;\n",
       "}\n",
       "</style>\n",
       "<table id=\"T_6309f\">\n",
       "  <thead>\n",
       "    <tr>\n",
       "      <th class=\"blank level0\" >&nbsp;</th>\n",
       "      <th id=\"T_6309f_level0_col0\" class=\"col_heading level0 col0\" >question</th>\n",
       "      <th id=\"T_6309f_level0_col1\" class=\"col_heading level0 col1\" >answer</th>\n",
       "    </tr>\n",
       "  </thead>\n",
       "  <tbody>\n",
       "    <tr>\n",
       "      <th id=\"T_6309f_level0_row0\" class=\"row_heading level0 row0\" >0</th>\n",
       "      <td id=\"T_6309f_row0_col0\" class=\"data row0 col0\" > How many bits of information do the events have?</td>\n",
       "      <td id=\"T_6309f_row0_col1\" class=\"data row0 col1\" > 0 bits, 2 bits, 5.7 bits, and 225.6 bits respectively.</td>\n",
       "    </tr>\n",
       "    <tr>\n",
       "      <th id=\"T_6309f_level0_row1\" class=\"row_heading level0 row1\" >1</th>\n",
       "      <td id=\"T_6309f_row1_col0\" class=\"data row1 col0\" > How does information represent the degree of surprise or abstract possibility of an event?</td>\n",
       "      <td id=\"T_6309f_row1_col1\" class=\"data row1 col1\" > Information represents the degree of surprise or abstract possibility of an event by requiring more information to describe an unusual event and less information for a common event.</td>\n",
       "    </tr>\n",
       "    <tr>\n",
       "      <th id=\"T_6309f_level0_row2\" class=\"row_heading level0 row2\" >2</th>\n",
       "      <td id=\"T_6309f_row2_col0\" class=\"data row2 col0\" > Who introduced the concept of information entropy for the first time?</td>\n",
       "      <td id=\"T_6309f_row2_col1\" class=\"data row2 col1\" > Claude E. Shannon.</td>\n",
       "    </tr>\n",
       "  </tbody>\n",
       "</table>\n"
      ],
      "text/plain": [
       "<pandas.io.formats.style.Styler at 0x19e0f46e200>"
      ]
     },
     "execution_count": 11,
     "metadata": {},
     "output_type": "execute_result"
    }
   ],
   "source": [
    "# Extracting context, question, and answer into a DataFrame\n",
    "import re\n",
    "questions = []\n",
    "answers = []\n",
    "responses = []\n",
    "\n",
    "prompt_keys = [\n",
    "    \"question\",\n",
    "    \"answer\",\n",
    "]\n",
    "\n",
    "for item in output:\n",
    "    d = item['output'][0]['response'][0]\n",
    "    pattern = \"|\".join(map(re.escape, prompt_keys))\n",
    "\n",
    "    segments = [\n",
    "        segment.strip(' :\"\\n,}{') for segment in re.split(pattern, d.lower())\n",
    "    ]\n",
    "    segments = d.split(\"\\n\")\n",
    "\n",
    "    result = dict()\n",
    "    result.update(\n",
    "        {\n",
    "            prompt_keys[0]: segments[-2].strip(prompt_keys[0]+\":\"),\n",
    "            prompt_keys[1]: segments[-1].strip(prompt_keys[1]+\":\"),\n",
    "        }\n",
    "    )\n",
    "    responses.append(result)\n",
    "\n",
    "for response in responses:\n",
    "    questions.append(response['question'])\n",
    "    answers.append(response['answer'])\n",
    "\n",
    "df = pd.DataFrame({\n",
    "    'question': questions,\n",
    "    'answer': answers\n",
    "})\n",
    "\n",
    "# Set display options\n",
    "pd.set_option('display.max_colwidth', None)  # or use a specific width like 50\n",
    "pd.set_option('display.width', 1000)\n",
    "\n",
    "styled_df = df.style.set_properties(**{'text-align': 'left'}).set_table_styles([{\n",
    "    'selector': 'th',\n",
    "    'props': [('text-align', 'left')]\n",
    "}])\n",
    "styled_df"
   ]
  }
 ],
 "metadata": {
  "kernelspec": {
   "display_name": "self-instruct-ft",
   "language": "python",
   "name": "python3"
  },
  "language_info": {
   "codemirror_mode": {
    "name": "ipython",
    "version": 3
   },
   "file_extension": ".py",
   "mimetype": "text/x-python",
   "name": "python",
   "nbconvert_exporter": "python",
   "pygments_lexer": "ipython3",
   "version": "3.10.13"
  }
 },
 "nbformat": 4,
 "nbformat_minor": 5
}
