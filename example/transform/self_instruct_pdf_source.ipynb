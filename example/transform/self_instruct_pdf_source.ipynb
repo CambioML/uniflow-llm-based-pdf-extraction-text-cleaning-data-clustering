{
 "cells": [
  {
   "cell_type": "markdown",
   "id": "7cbc4c4a",
   "metadata": {},
   "source": [
    "# Example of generating QAs for a Paul Graham Essay\n",
    "**Source:** http://www.paulgraham.com/makersschedule.html\n",
    "\n",
    "**Description:** A famous essay by Paul Graham about the difference between the schedules of managers and makers.\n",
    "\n",
    "### Before running the code\n",
    "\n",
    "You will need to have the following packages installed:\n",
    "```\n",
    "pip install langchain pandas pypdf\n",
    "```\n",
    "\n",
    "Also, make sure you have a .env file with your OpenAI API key in the root directory of this project.\n",
    "```\n",
    "OPENAI_API_KEY=YOUR_API_KEY\n",
    "```"
   ]
  },
  {
   "cell_type": "markdown",
   "metadata": {},
   "source": [
    "### Load Packages"
   ]
  },
  {
   "cell_type": "code",
   "execution_count": 3,
   "metadata": {},
   "outputs": [],
   "source": [
    "%reload_ext autoreload\n",
    "%autoreload 2\n",
    "\n",
    "import sys\n",
    "\n",
    "sys.path.append(\".\")\n",
    "sys.path.append(\"..\")\n",
    "sys.path.append(\"../..\")"
   ]
  },
  {
   "cell_type": "code",
   "execution_count": 4,
   "id": "8d84dd70",
   "metadata": {},
   "outputs": [
    {
     "data": {
      "text/plain": [
       "True"
      ]
     },
     "execution_count": 4,
     "metadata": {},
     "output_type": "execute_result"
    }
   ],
   "source": [
    "import os\n",
    "import pandas as pd\n",
    "from dotenv import load_dotenv\n",
    "from uniflow.flow.client import TransformClient\n",
    "from uniflow.flow.config import TransformOpenAIConfig\n",
    "from uniflow.op.model.model_config import OpenAIModelConfig\n",
    "from langchain.document_loaders import PyPDFLoader\n",
    "from uniflow.op.prompt import Context, PromptTemplate\n",
    "from dotenv import load_dotenv\n",
    "\n",
    "load_dotenv()"
   ]
  },
  {
   "cell_type": "markdown",
   "id": "cb677037",
   "metadata": {},
   "source": [
    "### Prepare the input data"
   ]
  },
  {
   "cell_type": "code",
   "execution_count": 5,
   "id": "a707ef78",
   "metadata": {},
   "outputs": [],
   "source": [
    "pdf_file = \"\"\"makers_schedule_managers_schedule.pdf\"\"\""
   ]
  },
  {
   "cell_type": "markdown",
   "id": "4b177df1",
   "metadata": {},
   "source": [
    "Set current directory and input data directory."
   ]
  },
  {
   "cell_type": "code",
   "execution_count": 6,
   "id": "092b355a",
   "metadata": {},
   "outputs": [],
   "source": [
    "dir_cur = os.getcwd()\n",
    "input_file = os.path.join(f\"\"\"{dir_cur}/data/raw_input/\"\"\", pdf_file)"
   ]
  },
  {
   "cell_type": "code",
   "execution_count": 7,
   "metadata": {},
   "outputs": [],
   "source": [
    "loader = PyPDFLoader(input_file)\n",
    "pages = loader.load_and_split()"
   ]
  },
  {
   "cell_type": "code",
   "execution_count": 8,
   "metadata": {},
   "outputs": [],
   "source": [
    "guided_prompt = PromptTemplate(\n",
    "    instruction=\"\"\"Generate one question and its corresponding answer based on the context. Following the format of the examples below to include the same context, question, and answer in the response.\"\"\",\n",
    "    few_shot_prompt=[\n",
    "        Context(\n",
    "            context=\"\"\"In 1948, Claude E. Shannon published A Mathematical Theory of\\nCommunication (Shannon, 1948) establishing the theory of\\ninformation. In his article, Shannon introduced the concept of\\ninformation entropy for the first time. We will begin our journey here.\"\"\",\n",
    "            question=\"\"\"Who published A Mathematical Theory of Communication in 1948?\"\"\",\n",
    "            answer=\"\"\"Claude E. Shannon.\"\"\"\n",
    "        ),\n",
    "    ]\n",
    ")\n",
    "\n",
    "data = [ Context(context=p) for p in pages[0].page_content.split(\"\\n\\n\") if len(p) > 200]\n"
   ]
  },
  {
   "cell_type": "code",
   "execution_count": 9,
   "metadata": {},
   "outputs": [
    {
     "data": {
      "text/plain": [
       "[Context(context='11/6/23, 11:40 AM Maker\\'s Schedule, Manager\\'s Schedule\\nhttps://www.paulgraham.com/makersschedule.html 1/3\\n\"...the mere consciousness of an engagement will sometimes\\nworry a whole da y.\"\\n– Charles Dick ens\\nJuly 2009\\nOne reason progr ammers dislik e meetings so much is that they\\'re\\non a different t ype of schedule from other people. Meetings cost\\nthem more.\\nThere are two t ypes of schedule, which I\\'ll call the manager\\'s\\nschedule and the mak er\\'s schedule. The manager\\'s schedule is for\\nbosses. It\\'s embodied in the tr aditional appointment book, with\\neach da y cut into one hour interv als. Y ou can block off sev eral\\nhours for a single task if y ou need to , but b y default y ou change\\nwhat y ou\\'re doing ev ery hour .\\nWhen y ou use time that w ay, it\\'s merely a pr actical problem to\\nmeet with someone. Find an open slot in y our schedule, book\\nthem, and y ou\\'re done.\\nMost powerful people are on the manager\\'s schedule. It\\'s the\\nschedule of command. But there\\'s another w ay of using time\\nthat\\'s common among people who mak e things, lik e progr ammers\\nand writers. They gener ally prefer to use time in units of half a\\nday at least. Y ou can\\'t write or progr am well in units of an hour .\\nThat\\'s barely enough time to get started.\\nWhen y ou\\'re oper ating on the mak er\\'s schedule, meetings are a\\ndisaster . A single meeting can blow a whole afternoon, b y\\nbreaking it into two pieces each too small to do an ything hard in.\\nPlus y ou ha ve to remember to go to the meeting. That\\'s no\\nproblem for someone on the manager\\'s schedule. There\\'s alw ays\\nsomething coming on the next hour; the only question is what.\\nBut when someone on the mak er\\'s schedule has a meeting, they\\nhave to think about it.\\nFor someone on the mak er\\'s schedule, ha ving a meeting is lik e\\nthrowing an ex ception. It doesn\\'t merely cause y ou to switch\\nfrom one task to another; it changes the mode in which y ou\\nwork.\\nI find one meeting can sometimes affect a whole da y. A meeting\\ncommonly blows at least half a da y, by breaking up a morning or\\nafternoon. But in addition there\\'s sometimes a cascading effect. If\\nI know the afternoon is going to be brok en up , I\\'m slightly less\\nlikely to start something ambitious in the morning. I know this\\nmay sound o versensitiv e, but if y ou\\'re a mak er, think of y our own\\ncase. Don\\'t y our spirits rise at the thought of ha ving an entire da y\\nfree to work, with no appointments at all? W ell, that means y our\\nspirits are correspondingly depressed when y ou don\\'t. And\\nambitious projects are b y definition close to the limits of y our')]"
      ]
     },
     "execution_count": 9,
     "metadata": {},
     "output_type": "execute_result"
    }
   ],
   "source": [
    "data"
   ]
  },
  {
   "cell_type": "code",
   "execution_count": 10,
   "metadata": {},
   "outputs": [],
   "source": [
    "config = TransformOpenAIConfig(\n",
    "    model_config=OpenAIModelConfig(response_format={\"type\": \"json_object\"}),\n",
    ")\n",
    "client = TransformClient(config)"
   ]
  },
  {
   "cell_type": "code",
   "execution_count": 11,
   "metadata": {},
   "outputs": [
    {
     "data": {
      "application/vnd.jupyter.widget-view+json": {
       "model_id": "c3dc8b3a4cf644d1a8d823f0d7805864",
       "version_major": 2,
       "version_minor": 0
      },
      "text/plain": [
       "  0%|          | 0/1 [00:00<?, ?it/s]"
      ]
     },
     "metadata": {},
     "output_type": "display_data"
    }
   ],
   "source": [
    "output = client.run(data)"
   ]
  },
  {
   "cell_type": "code",
   "execution_count": 12,
   "metadata": {},
   "outputs": [
    {
     "data": {
      "text/plain": [
       "[{'output': [{'response': [{'context': '11/6/23, 11:40 AM Maker\\'s Schedule, Manager\\'s Schedule\\nhttps://www.paulgraham.com/makersschedule.html 1/3\\n\"...the mere consciousness of an engagement will sometimes\\nworry a whole da y.\"\\nCharles Dick ens\\nJuly 2009\\nOne reason progr ammers dislik e meetings so much is that they\\'re\\non a different t ype of schedule from other people. Meetings cost\\nthem more.\\nThere are two t ypes of schedule, which I\\'ll call the manager\\'s\\nschedule and the mak er\\'s schedule. The manager\\'s schedule is for\\nbosses. It\\'s embodied in the tr aditional appointment book, with\\neach da y cut into one hour interv als. Y ou can block off sev eral\\nhours for a single task if y ou need to , but b y default y ou change\\nwhat y ou\\'re doing ev ery hour .\\nWhen y ou use time that w ay, it\\'s merely a pr actical problem to\\nmeet with someone. Find an open slot in y our schedule, book\\nthem, and y ou\\'re done.\\nMost powerful people are on the manager\\'s schedule. It\\'s the\\nschedule of command. But there\\'s another w ay of using time\\nthat\\'s common among people who mak e things, lik e progr ammers\\nand writers. They gener ally prefer to use time in units of half a\\nday at least. Y ou can\\'t write or progr am well in units of an hour .\\nThat\\'s barely enough time to get started.\\nWhen y ou\\'re oper ating on the mak er\\'s schedule, meetings are a\\ndisaster . A single meeting can blow a whole afternoon, b y\\nbreaking it into two pieces each too small to do an ything hard in.\\nPlus y ou ha ve to remember to go to the meeting. That\\'s no\\nproblem for someone on the manager\\'s schedule. There\\'s alw ays\\nsomething coming on the next hour; the only question is what.\\nBut when someone on the mak er\\'s schedule has a meeting, they\\nhave to think about it.\\nFor someone on the mak er\\'s schedule, ha ving a meeting is lik e\\nthrowing an ex ception. It doesn\\'t merely cause y ou to switch\\nfrom one task to another; it changes the mode in which y ou\\nwork.\\nI find one meeting can sometimes affect a whole da y. A meeting\\ncommonly blows at least half a da y, by breaking up a morning or\\nafternoon. But in addition there\\'s sometimes a cascading effect. If\\nI know the afternoon is going to be brok en up , I\\'m slightly less\\nlikely to start something ambitious in the morning. I know this\\nmay sound o versensitiv e, but if y ou\\'re a mak er, think of y our own\\ncase. Don\\'t y our spirits rise at the thought of ha ving an entire da y\\nfree to work, with no appointments at all? W ell, that means y our\\nspirits are correspondingly depressed when y ou don\\'t. And\\nambitious projects are b y definition close to the limits of y our',\n",
       "      'question': 'What type of schedule do programmers and writers prefer to use?',\n",
       "      'answer': 'They generally prefer to use time in units of half a day at least.'}],\n",
       "    'error': 'No errors.'}],\n",
       "  'root': <uniflow.node.node.Node at 0x20c27411180>}]"
      ]
     },
     "execution_count": 12,
     "metadata": {},
     "output_type": "execute_result"
    }
   ],
   "source": [
    "output\n"
   ]
  },
  {
   "cell_type": "code",
   "execution_count": 13,
   "metadata": {},
   "outputs": [
    {
     "data": {
      "text/html": [
       "<style type=\"text/css\">\n",
       "#T_dfdbe th {\n",
       "  text-align: left;\n",
       "}\n",
       "#T_dfdbe_row0_col0, #T_dfdbe_row0_col1, #T_dfdbe_row0_col2 {\n",
       "  text-align: left;\n",
       "}\n",
       "</style>\n",
       "<table id=\"T_dfdbe\">\n",
       "  <thead>\n",
       "    <tr>\n",
       "      <th class=\"blank level0\" >&nbsp;</th>\n",
       "      <th id=\"T_dfdbe_level0_col0\" class=\"col_heading level0 col0\" >context</th>\n",
       "      <th id=\"T_dfdbe_level0_col1\" class=\"col_heading level0 col1\" >question</th>\n",
       "      <th id=\"T_dfdbe_level0_col2\" class=\"col_heading level0 col2\" >answer</th>\n",
       "    </tr>\n",
       "  </thead>\n",
       "  <tbody>\n",
       "    <tr>\n",
       "      <th id=\"T_dfdbe_level0_row0\" class=\"row_heading level0 row0\" >0</th>\n",
       "      <td id=\"T_dfdbe_row0_col0\" class=\"data row0 col0\" >11/6/23, 11:40 AM Maker's Schedule, Manager's Schedule\n",
       "https://www.paulgraham.com/makersschedule.html 1/3\n",
       "\"...the mere consciousness of an engagement will sometimes\n",
       "worry a whole da y.\"\n",
       "Charles Dick ens\n",
       "July 2009\n",
       "One reason progr ammers dislik e meetings so much is that they're\n",
       "on a different t ype of schedule from other people. Meetings cost\n",
       "them more.\n",
       "There are two t ypes of schedule, which I'll call the manager's\n",
       "schedule and the mak er's schedule. The manager's schedule is for\n",
       "bosses. It's embodied in the tr aditional appointment book, with\n",
       "each da y cut into one hour interv als. Y ou can block off sev eral\n",
       "hours for a single task if y ou need to , but b y default y ou change\n",
       "what y ou're doing ev ery hour .\n",
       "When y ou use time that w ay, it's merely a pr actical problem to\n",
       "meet with someone. Find an open slot in y our schedule, book\n",
       "them, and y ou're done.\n",
       "Most powerful people are on the manager's schedule. It's the\n",
       "schedule of command. But there's another w ay of using time\n",
       "that's common among people who mak e things, lik e progr ammers\n",
       "and writers. They gener ally prefer to use time in units of half a\n",
       "day at least. Y ou can't write or progr am well in units of an hour .\n",
       "That's barely enough time to get started.\n",
       "When y ou're oper ating on the mak er's schedule, meetings are a\n",
       "disaster . A single meeting can blow a whole afternoon, b y\n",
       "breaking it into two pieces each too small to do an ything hard in.\n",
       "Plus y ou ha ve to remember to go to the meeting. That's no\n",
       "problem for someone on the manager's schedule. There's alw ays\n",
       "something coming on the next hour; the only question is what.\n",
       "But when someone on the mak er's schedule has a meeting, they\n",
       "have to think about it.\n",
       "For someone on the mak er's schedule, ha ving a meeting is lik e\n",
       "throwing an ex ception. It doesn't merely cause y ou to switch\n",
       "from one task to another; it changes the mode in which y ou\n",
       "work.\n",
       "I find one meeting can sometimes affect a whole da y. A meeting\n",
       "commonly blows at least half a da y, by breaking up a morning or\n",
       "afternoon. But in addition there's sometimes a cascading effect. If\n",
       "I know the afternoon is going to be brok en up , I'm slightly less\n",
       "likely to start something ambitious in the morning. I know this\n",
       "may sound o versensitiv e, but if y ou're a mak er, think of y our own\n",
       "case. Don't y our spirits rise at the thought of ha ving an entire da y\n",
       "free to work, with no appointments at all? W ell, that means y our\n",
       "spirits are correspondingly depressed when y ou don't. And\n",
       "ambitious projects are b y definition close to the limits of y our</td>\n",
       "      <td id=\"T_dfdbe_row0_col1\" class=\"data row0 col1\" >What type of schedule do programmers and writers prefer to use?</td>\n",
       "      <td id=\"T_dfdbe_row0_col2\" class=\"data row0 col2\" >They generally prefer to use time in units of half a day at least.</td>\n",
       "    </tr>\n",
       "  </tbody>\n",
       "</table>\n"
      ],
      "text/plain": [
       "<pandas.io.formats.style.Styler at 0x20c047f9c00>"
      ]
     },
     "execution_count": 13,
     "metadata": {},
     "output_type": "execute_result"
    }
   ],
   "source": [
    "# Extracting context, question, and answer into a DataFrame\n",
    "contexts = []\n",
    "questions = []\n",
    "answers = []\n",
    "\n",
    "for item in output:\n",
    "    for i in item['output']:\n",
    "        for response in i['response']:\n",
    "            contexts.append(response['context'])\n",
    "            questions.append(response['question'])\n",
    "            answers.append(response['answer'])\n",
    "\n",
    "df = pd.DataFrame({\n",
    "    'context': contexts,\n",
    "    'question': questions,\n",
    "    'answer': answers\n",
    "})\n",
    "\n",
    "# Set display options\n",
    "pd.set_option('display.max_colwidth', None)  # or use a specific width like 50\n",
    "pd.set_option('display.width', 1000)\n",
    "\n",
    "styled_df = df.head().style.set_properties(**{'text-align': 'left'}).set_table_styles([{\n",
    "    'selector': 'th',\n",
    "    'props': [('text-align', 'left')]\n",
    "}])\n",
    "styled_df"
   ]
  }
 ],
 "metadata": {
  "kernelspec": {
   "display_name": "self-instruct-ft",
   "language": "python",
   "name": "python3"
  },
  "language_info": {
   "codemirror_mode": {
    "name": "ipython",
    "version": 3
   },
   "file_extension": ".py",
   "mimetype": "text/x-python",
   "name": "python",
   "nbconvert_exporter": "python",
   "pygments_lexer": "ipython3",
   "version": "3.10.13"
  }
 },
 "nbformat": 4,
 "nbformat_minor": 5
}
