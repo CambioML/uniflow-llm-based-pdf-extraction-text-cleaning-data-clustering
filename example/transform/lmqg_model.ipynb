{
 "cells": [
  {
   "cell_type": "markdown",
   "metadata": {},
   "source": [
    "# Notebook for LMQGModelFlow "
   ]
  },
  {
   "cell_type": "markdown",
   "metadata": {},
   "source": [
    "In this example, we will show you how to generate question-answers (QAs) from give text strings using open-source LMQG models via uniflow's [LMQGModelFlow](https://github.com/CambioML/uniflow/blob/main/uniflow/flow/model_flow.py#L201).\n",
    "\n",
    "### Before running the code\n",
    "\n",
    "You will need to `uniflow` conda environment to run this notebook. You can set up the environment following the instruction: https://github.com/CambioML/uniflow/tree/main#installation."
   ]
  },
  {
   "cell_type": "markdown",
   "metadata": {},
   "source": [
    "### Update the system path"
   ]
  },
  {
   "cell_type": "code",
   "execution_count": 1,
   "metadata": {},
   "outputs": [],
   "source": [
    "%reload_ext autoreload\n",
    "%autoreload 2\n",
    "\n",
    "import sys\n",
    "\n",
    "sys.path.append(\".\")\n",
    "sys.path.append(\"..\")\n",
    "sys.path.append(\"../..\")"
   ]
  },
  {
   "cell_type": "markdown",
   "metadata": {},
   "source": [
    "### Install extra libraries"
   ]
  },
  {
   "cell_type": "code",
   "execution_count": 3,
   "metadata": {},
   "outputs": [
    {
     "name": "stdout",
     "output_type": "stream",
     "text": [
      "Requirement already satisfied: lmqg in /opt/conda/envs/uniflow/lib/python3.10/site-packages (0.1.1)\n",
      "Requirement already satisfied: spacy in /opt/conda/envs/uniflow/lib/python3.10/site-packages (3.7.2)\n",
      "Requirement already satisfied: psutil in /opt/conda/envs/uniflow/lib/python3.10/site-packages (from lmqg) (5.9.5)\n",
      "Requirement already satisfied: pytextrank in /opt/conda/envs/uniflow/lib/python3.10/site-packages (from lmqg) (3.2.5)\n",
      "Requirement already satisfied: torch in /opt/conda/envs/uniflow/lib/python3.10/site-packages (from lmqg) (2.2.0.dev20231209+cu121)\n",
      "Requirement already satisfied: tqdm in /opt/conda/envs/uniflow/lib/python3.10/site-packages (from lmqg) (4.66.1)\n",
      "Requirement already satisfied: requests in /opt/conda/envs/uniflow/lib/python3.10/site-packages (from lmqg) (2.31.0)\n",
      "Requirement already satisfied: pandas in /opt/conda/envs/uniflow/lib/python3.10/site-packages (from lmqg) (2.1.4)\n",
      "Requirement already satisfied: numpy in /opt/conda/envs/uniflow/lib/python3.10/site-packages (from lmqg) (1.26.2)\n",
      "Requirement already satisfied: transformers>=4.26.1 in /opt/conda/envs/uniflow/lib/python3.10/site-packages (from lmqg) (4.36.2)\n",
      "Requirement already satisfied: huggingface-hub>=0.12.0 in /opt/conda/envs/uniflow/lib/python3.10/site-packages (from lmqg) (0.20.1)\n",
      "Requirement already satisfied: sentencepiece in /opt/conda/envs/uniflow/lib/python3.10/site-packages (from lmqg) (0.1.99)\n",
      "Requirement already satisfied: datasets in /opt/conda/envs/uniflow/lib/python3.10/site-packages (from lmqg) (2.15.0)\n",
      "Requirement already satisfied: sudachipy in /opt/conda/envs/uniflow/lib/python3.10/site-packages (from lmqg) (0.6.8)\n",
      "Requirement already satisfied: sudachidict-core in /opt/conda/envs/uniflow/lib/python3.10/site-packages (from lmqg) (20230927)\n",
      "Requirement already satisfied: bert-score in /opt/conda/envs/uniflow/lib/python3.10/site-packages (from lmqg) (0.3.13)\n",
      "Requirement already satisfied: pyemd in /opt/conda/envs/uniflow/lib/python3.10/site-packages (from lmqg) (1.0.0)\n",
      "Requirement already satisfied: evaluate in /opt/conda/envs/uniflow/lib/python3.10/site-packages (from lmqg) (0.4.1)\n",
      "Requirement already satisfied: wandb in /opt/conda/envs/uniflow/lib/python3.10/site-packages (from lmqg) (0.16.1)\n",
      "Requirement already satisfied: ray in /opt/conda/envs/uniflow/lib/python3.10/site-packages (from lmqg) (2.9.0)\n",
      "Requirement already satisfied: nltk in /opt/conda/envs/uniflow/lib/python3.10/site-packages (from lmqg) (3.8.1)\n",
      "Requirement already satisfied: accelerate in /opt/conda/envs/uniflow/lib/python3.10/site-packages (from lmqg) (0.25.0)\n",
      "Requirement already satisfied: spacy-legacy<3.1.0,>=3.0.11 in /opt/conda/envs/uniflow/lib/python3.10/site-packages (from spacy) (3.0.12)\n",
      "Requirement already satisfied: spacy-loggers<2.0.0,>=1.0.0 in /opt/conda/envs/uniflow/lib/python3.10/site-packages (from spacy) (1.0.5)\n",
      "Requirement already satisfied: murmurhash<1.1.0,>=0.28.0 in /opt/conda/envs/uniflow/lib/python3.10/site-packages (from spacy) (1.0.10)\n",
      "Requirement already satisfied: cymem<2.1.0,>=2.0.2 in /opt/conda/envs/uniflow/lib/python3.10/site-packages (from spacy) (2.0.8)\n",
      "Requirement already satisfied: preshed<3.1.0,>=3.0.2 in /opt/conda/envs/uniflow/lib/python3.10/site-packages (from spacy) (3.0.9)\n",
      "Requirement already satisfied: thinc<8.3.0,>=8.1.8 in /opt/conda/envs/uniflow/lib/python3.10/site-packages (from spacy) (8.2.2)\n",
      "Requirement already satisfied: wasabi<1.2.0,>=0.9.1 in /opt/conda/envs/uniflow/lib/python3.10/site-packages (from spacy) (1.1.2)\n",
      "Requirement already satisfied: srsly<3.0.0,>=2.4.3 in /opt/conda/envs/uniflow/lib/python3.10/site-packages (from spacy) (2.4.8)\n",
      "Requirement already satisfied: catalogue<2.1.0,>=2.0.6 in /opt/conda/envs/uniflow/lib/python3.10/site-packages (from spacy) (2.0.10)\n",
      "Requirement already satisfied: weasel<0.4.0,>=0.1.0 in /opt/conda/envs/uniflow/lib/python3.10/site-packages (from spacy) (0.3.4)\n",
      "Requirement already satisfied: typer<0.10.0,>=0.3.0 in /opt/conda/envs/uniflow/lib/python3.10/site-packages (from spacy) (0.9.0)\n",
      "Requirement already satisfied: smart-open<7.0.0,>=5.2.1 in /opt/conda/envs/uniflow/lib/python3.10/site-packages (from spacy) (6.4.0)\n",
      "Requirement already satisfied: pydantic!=1.8,!=1.8.1,<3.0.0,>=1.7.4 in /opt/conda/envs/uniflow/lib/python3.10/site-packages (from spacy) (2.5.2)\n",
      "Requirement already satisfied: jinja2 in /opt/conda/envs/uniflow/lib/python3.10/site-packages (from spacy) (3.1.2)\n",
      "Requirement already satisfied: setuptools in /opt/conda/envs/uniflow/lib/python3.10/site-packages (from spacy) (69.0.2)\n",
      "Requirement already satisfied: packaging>=20.0 in /opt/conda/envs/uniflow/lib/python3.10/site-packages (from spacy) (23.2)\n",
      "Requirement already satisfied: langcodes<4.0.0,>=3.2.0 in /opt/conda/envs/uniflow/lib/python3.10/site-packages (from spacy) (3.3.0)\n",
      "Requirement already satisfied: filelock in /opt/conda/envs/uniflow/lib/python3.10/site-packages (from huggingface-hub>=0.12.0->lmqg) (3.13.1)\n",
      "Requirement already satisfied: fsspec>=2023.5.0 in /opt/conda/envs/uniflow/lib/python3.10/site-packages (from huggingface-hub>=0.12.0->lmqg) (2023.10.0)\n",
      "Requirement already satisfied: pyyaml>=5.1 in /opt/conda/envs/uniflow/lib/python3.10/site-packages (from huggingface-hub>=0.12.0->lmqg) (6.0.1)\n",
      "Requirement already satisfied: typing-extensions>=3.7.4.3 in /opt/conda/envs/uniflow/lib/python3.10/site-packages (from huggingface-hub>=0.12.0->lmqg) (4.9.0)\n",
      "Requirement already satisfied: annotated-types>=0.4.0 in /opt/conda/envs/uniflow/lib/python3.10/site-packages (from pydantic!=1.8,!=1.8.1,<3.0.0,>=1.7.4->spacy) (0.6.0)\n",
      "Requirement already satisfied: pydantic-core==2.14.5 in /opt/conda/envs/uniflow/lib/python3.10/site-packages (from pydantic!=1.8,!=1.8.1,<3.0.0,>=1.7.4->spacy) (2.14.5)\n",
      "Requirement already satisfied: charset-normalizer<4,>=2 in /opt/conda/envs/uniflow/lib/python3.10/site-packages (from requests->lmqg) (3.3.2)\n",
      "Requirement already satisfied: idna<4,>=2.5 in /opt/conda/envs/uniflow/lib/python3.10/site-packages (from requests->lmqg) (3.6)\n",
      "Requirement already satisfied: urllib3<3,>=1.21.1 in /opt/conda/envs/uniflow/lib/python3.10/site-packages (from requests->lmqg) (2.1.0)\n",
      "Requirement already satisfied: certifi>=2017.4.17 in /opt/conda/envs/uniflow/lib/python3.10/site-packages (from requests->lmqg) (2023.11.17)\n",
      "Requirement already satisfied: blis<0.8.0,>=0.7.8 in /opt/conda/envs/uniflow/lib/python3.10/site-packages (from thinc<8.3.0,>=8.1.8->spacy) (0.7.11)\n",
      "Requirement already satisfied: confection<1.0.0,>=0.0.1 in /opt/conda/envs/uniflow/lib/python3.10/site-packages (from thinc<8.3.0,>=8.1.8->spacy) (0.1.4)\n",
      "Requirement already satisfied: regex!=2019.12.17 in /opt/conda/envs/uniflow/lib/python3.10/site-packages (from transformers>=4.26.1->lmqg) (2023.10.3)\n",
      "Requirement already satisfied: tokenizers<0.19,>=0.14 in /opt/conda/envs/uniflow/lib/python3.10/site-packages (from transformers>=4.26.1->lmqg) (0.15.0)\n",
      "Requirement already satisfied: safetensors>=0.3.1 in /opt/conda/envs/uniflow/lib/python3.10/site-packages (from transformers>=4.26.1->lmqg) (0.4.1)\n",
      "Requirement already satisfied: click<9.0.0,>=7.1.1 in /opt/conda/envs/uniflow/lib/python3.10/site-packages (from typer<0.10.0,>=0.3.0->spacy) (8.1.7)\n",
      "Requirement already satisfied: cloudpathlib<0.17.0,>=0.7.0 in /opt/conda/envs/uniflow/lib/python3.10/site-packages (from weasel<0.4.0,>=0.1.0->spacy) (0.16.0)\n",
      "Requirement already satisfied: sympy in /opt/conda/envs/uniflow/lib/python3.10/site-packages (from torch->lmqg) (1.11.1)\n",
      "Requirement already satisfied: networkx in /opt/conda/envs/uniflow/lib/python3.10/site-packages (from torch->lmqg) (3.0rc1)\n",
      "Requirement already satisfied: nvidia-cuda-nvrtc-cu12==12.1.105 in /opt/conda/envs/uniflow/lib/python3.10/site-packages (from torch->lmqg) (12.1.105)\n",
      "Requirement already satisfied: nvidia-cuda-runtime-cu12==12.1.105 in /opt/conda/envs/uniflow/lib/python3.10/site-packages (from torch->lmqg) (12.1.105)\n",
      "Requirement already satisfied: nvidia-cuda-cupti-cu12==12.1.105 in /opt/conda/envs/uniflow/lib/python3.10/site-packages (from torch->lmqg) (12.1.105)\n",
      "Requirement already satisfied: nvidia-cudnn-cu12==8.9.2.26 in /opt/conda/envs/uniflow/lib/python3.10/site-packages (from torch->lmqg) (8.9.2.26)\n",
      "Requirement already satisfied: nvidia-cublas-cu12==12.1.3.1 in /opt/conda/envs/uniflow/lib/python3.10/site-packages (from torch->lmqg) (12.1.3.1)\n",
      "Requirement already satisfied: nvidia-cufft-cu12==11.0.2.54 in /opt/conda/envs/uniflow/lib/python3.10/site-packages (from torch->lmqg) (11.0.2.54)\n",
      "Requirement already satisfied: nvidia-curand-cu12==10.3.2.106 in /opt/conda/envs/uniflow/lib/python3.10/site-packages (from torch->lmqg) (10.3.2.106)\n",
      "Requirement already satisfied: nvidia-cusolver-cu12==11.4.5.107 in /opt/conda/envs/uniflow/lib/python3.10/site-packages (from torch->lmqg) (11.4.5.107)\n",
      "Requirement already satisfied: nvidia-cusparse-cu12==12.1.0.106 in /opt/conda/envs/uniflow/lib/python3.10/site-packages (from torch->lmqg) (12.1.0.106)\n",
      "Requirement already satisfied: nvidia-nccl-cu12==2.19.3 in /opt/conda/envs/uniflow/lib/python3.10/site-packages (from torch->lmqg) (2.19.3)\n",
      "Requirement already satisfied: nvidia-nvtx-cu12==12.1.105 in /opt/conda/envs/uniflow/lib/python3.10/site-packages (from torch->lmqg) (12.1.105)\n",
      "Requirement already satisfied: pytorch-triton==2.1.0+bcad9dabe1 in /opt/conda/envs/uniflow/lib/python3.10/site-packages (from torch->lmqg) (2.1.0+bcad9dabe1)\n",
      "Requirement already satisfied: nvidia-nvjitlink-cu12 in /opt/conda/envs/uniflow/lib/python3.10/site-packages (from nvidia-cusolver-cu12==11.4.5.107->torch->lmqg) (12.1.105)\n",
      "Requirement already satisfied: matplotlib in /opt/conda/envs/uniflow/lib/python3.10/site-packages (from bert-score->lmqg) (3.8.2)\n",
      "Requirement already satisfied: python-dateutil>=2.8.2 in /opt/conda/envs/uniflow/lib/python3.10/site-packages (from pandas->lmqg) (2.8.2)\n",
      "Requirement already satisfied: pytz>=2020.1 in /opt/conda/envs/uniflow/lib/python3.10/site-packages (from pandas->lmqg) (2023.3.post1)\n",
      "Requirement already satisfied: tzdata>=2022.1 in /opt/conda/envs/uniflow/lib/python3.10/site-packages (from pandas->lmqg) (2023.3)\n",
      "Requirement already satisfied: pyarrow>=8.0.0 in /opt/conda/envs/uniflow/lib/python3.10/site-packages (from datasets->lmqg) (14.0.2)\n",
      "Requirement already satisfied: pyarrow-hotfix in /opt/conda/envs/uniflow/lib/python3.10/site-packages (from datasets->lmqg) (0.6)\n",
      "Requirement already satisfied: dill<0.3.8,>=0.3.0 in /opt/conda/envs/uniflow/lib/python3.10/site-packages (from datasets->lmqg) (0.3.7)\n",
      "Requirement already satisfied: xxhash in /opt/conda/envs/uniflow/lib/python3.10/site-packages (from datasets->lmqg) (3.4.1)\n",
      "Requirement already satisfied: multiprocess in /opt/conda/envs/uniflow/lib/python3.10/site-packages (from datasets->lmqg) (0.70.15)\n",
      "Requirement already satisfied: aiohttp in /opt/conda/envs/uniflow/lib/python3.10/site-packages (from datasets->lmqg) (3.9.1)\n",
      "Requirement already satisfied: responses<0.19 in /opt/conda/envs/uniflow/lib/python3.10/site-packages (from evaluate->lmqg) (0.18.0)\n",
      "Requirement already satisfied: MarkupSafe>=2.0 in /opt/conda/envs/uniflow/lib/python3.10/site-packages (from jinja2->spacy) (2.1.3)\n",
      "Requirement already satisfied: joblib in /opt/conda/envs/uniflow/lib/python3.10/site-packages (from nltk->lmqg) (1.3.2)\n",
      "Requirement already satisfied: graphviz>=0.13 in /opt/conda/envs/uniflow/lib/python3.10/site-packages (from pytextrank->lmqg) (0.20.1)\n",
      "Requirement already satisfied: icecream>=2.1 in /opt/conda/envs/uniflow/lib/python3.10/site-packages (from pytextrank->lmqg) (2.1.3)\n",
      "Requirement already satisfied: pygments>=2.7.4 in /opt/conda/envs/uniflow/lib/python3.10/site-packages (from pytextrank->lmqg) (2.17.2)\n",
      "Requirement already satisfied: scipy>=1.7 in /opt/conda/envs/uniflow/lib/python3.10/site-packages (from pytextrank->lmqg) (1.11.4)\n",
      "Requirement already satisfied: jsonschema in /opt/conda/envs/uniflow/lib/python3.10/site-packages (from ray->lmqg) (4.20.0)\n",
      "Requirement already satisfied: msgpack<2.0.0,>=1.0.0 in /opt/conda/envs/uniflow/lib/python3.10/site-packages (from ray->lmqg) (1.0.7)\n",
      "Requirement already satisfied: protobuf!=3.19.5,>=3.15.3 in /opt/conda/envs/uniflow/lib/python3.10/site-packages (from ray->lmqg) (4.25.1)\n",
      "Requirement already satisfied: aiosignal in /opt/conda/envs/uniflow/lib/python3.10/site-packages (from ray->lmqg) (1.3.1)\n",
      "Requirement already satisfied: frozenlist in /opt/conda/envs/uniflow/lib/python3.10/site-packages (from ray->lmqg) (1.4.0)\n",
      "Requirement already satisfied: tensorboardX>=1.9 in /opt/conda/envs/uniflow/lib/python3.10/site-packages (from ray[tune]->lmqg) (2.6.2.2)\n",
      "Requirement already satisfied: GitPython!=3.1.29,>=1.0.0 in /opt/conda/envs/uniflow/lib/python3.10/site-packages (from wandb->lmqg) (3.1.40)\n",
      "Requirement already satisfied: sentry-sdk>=1.0.0 in /opt/conda/envs/uniflow/lib/python3.10/site-packages (from wandb->lmqg) (1.39.1)\n",
      "Requirement already satisfied: docker-pycreds>=0.4.0 in /opt/conda/envs/uniflow/lib/python3.10/site-packages (from wandb->lmqg) (0.4.0)\n",
      "Requirement already satisfied: setproctitle in /opt/conda/envs/uniflow/lib/python3.10/site-packages (from wandb->lmqg) (1.3.3)\n",
      "Requirement already satisfied: appdirs>=1.4.3 in /opt/conda/envs/uniflow/lib/python3.10/site-packages (from wandb->lmqg) (1.4.4)\n",
      "Requirement already satisfied: six>=1.4.0 in /opt/conda/envs/uniflow/lib/python3.10/site-packages (from docker-pycreds>=0.4.0->wandb->lmqg) (1.16.0)\n",
      "Requirement already satisfied: attrs>=17.3.0 in /opt/conda/envs/uniflow/lib/python3.10/site-packages (from aiohttp->datasets->lmqg) (23.1.0)\n",
      "Requirement already satisfied: multidict<7.0,>=4.5 in /opt/conda/envs/uniflow/lib/python3.10/site-packages (from aiohttp->datasets->lmqg) (6.0.4)\n",
      "Requirement already satisfied: yarl<2.0,>=1.0 in /opt/conda/envs/uniflow/lib/python3.10/site-packages (from aiohttp->datasets->lmqg) (1.9.4)\n",
      "Requirement already satisfied: async-timeout<5.0,>=4.0 in /opt/conda/envs/uniflow/lib/python3.10/site-packages (from aiohttp->datasets->lmqg) (4.0.3)\n",
      "Requirement already satisfied: gitdb<5,>=4.0.1 in /opt/conda/envs/uniflow/lib/python3.10/site-packages (from GitPython!=3.1.29,>=1.0.0->wandb->lmqg) (4.0.11)\n",
      "Requirement already satisfied: colorama>=0.3.9 in /opt/conda/envs/uniflow/lib/python3.10/site-packages (from icecream>=2.1->pytextrank->lmqg) (0.4.6)\n",
      "Requirement already satisfied: executing>=0.3.1 in /opt/conda/envs/uniflow/lib/python3.10/site-packages (from icecream>=2.1->pytextrank->lmqg) (2.0.1)\n",
      "Requirement already satisfied: asttokens>=2.0.1 in /opt/conda/envs/uniflow/lib/python3.10/site-packages (from icecream>=2.1->pytextrank->lmqg) (2.4.1)\n",
      "Requirement already satisfied: contourpy>=1.0.1 in /opt/conda/envs/uniflow/lib/python3.10/site-packages (from matplotlib->bert-score->lmqg) (1.2.0)\n",
      "Requirement already satisfied: cycler>=0.10 in /opt/conda/envs/uniflow/lib/python3.10/site-packages (from matplotlib->bert-score->lmqg) (0.12.1)\n",
      "Requirement already satisfied: fonttools>=4.22.0 in /opt/conda/envs/uniflow/lib/python3.10/site-packages (from matplotlib->bert-score->lmqg) (4.47.0)\n",
      "Requirement already satisfied: kiwisolver>=1.3.1 in /opt/conda/envs/uniflow/lib/python3.10/site-packages (from matplotlib->bert-score->lmqg) (1.4.5)\n",
      "Requirement already satisfied: pillow>=8 in /opt/conda/envs/uniflow/lib/python3.10/site-packages (from matplotlib->bert-score->lmqg) (10.1.0)\n",
      "Requirement already satisfied: pyparsing>=2.3.1 in /opt/conda/envs/uniflow/lib/python3.10/site-packages (from matplotlib->bert-score->lmqg) (3.1.1)\n",
      "Requirement already satisfied: jsonschema-specifications>=2023.03.6 in /opt/conda/envs/uniflow/lib/python3.10/site-packages (from jsonschema->ray->lmqg) (2023.11.2)\n",
      "Requirement already satisfied: referencing>=0.28.4 in /opt/conda/envs/uniflow/lib/python3.10/site-packages (from jsonschema->ray->lmqg) (0.32.0)\n",
      "Requirement already satisfied: rpds-py>=0.7.1 in /opt/conda/envs/uniflow/lib/python3.10/site-packages (from jsonschema->ray->lmqg) (0.15.2)\n",
      "Requirement already satisfied: mpmath>=0.19 in /opt/conda/envs/uniflow/lib/python3.10/site-packages (from sympy->torch->lmqg) (1.2.1)\n",
      "Requirement already satisfied: smmap<6,>=3.0.1 in /opt/conda/envs/uniflow/lib/python3.10/site-packages (from gitdb<5,>=4.0.1->GitPython!=3.1.29,>=1.0.0->wandb->lmqg) (5.0.1)\n",
      "Collecting en-core-web-sm==3.7.1\n",
      "  Downloading https://github.com/explosion/spacy-models/releases/download/en_core_web_sm-3.7.1/en_core_web_sm-3.7.1-py3-none-any.whl (12.8 MB)\n",
      "\u001b[2K     \u001b[90m━━━━━━━━━━━━━━━━━━━━━━━━━━━━━━━━━━━━━━━━\u001b[0m \u001b[32m12.8/12.8 MB\u001b[0m \u001b[31m82.4 MB/s\u001b[0m eta \u001b[36m0:00:00\u001b[0m00:01\u001b[0m0:01\u001b[0m\n",
      "\u001b[?25hRequirement already satisfied: spacy<3.8.0,>=3.7.2 in /opt/conda/envs/uniflow/lib/python3.10/site-packages (from en-core-web-sm==3.7.1) (3.7.2)\n",
      "Requirement already satisfied: spacy-legacy<3.1.0,>=3.0.11 in /opt/conda/envs/uniflow/lib/python3.10/site-packages (from spacy<3.8.0,>=3.7.2->en-core-web-sm==3.7.1) (3.0.12)\n",
      "Requirement already satisfied: spacy-loggers<2.0.0,>=1.0.0 in /opt/conda/envs/uniflow/lib/python3.10/site-packages (from spacy<3.8.0,>=3.7.2->en-core-web-sm==3.7.1) (1.0.5)\n",
      "Requirement already satisfied: murmurhash<1.1.0,>=0.28.0 in /opt/conda/envs/uniflow/lib/python3.10/site-packages (from spacy<3.8.0,>=3.7.2->en-core-web-sm==3.7.1) (1.0.10)\n",
      "Requirement already satisfied: cymem<2.1.0,>=2.0.2 in /opt/conda/envs/uniflow/lib/python3.10/site-packages (from spacy<3.8.0,>=3.7.2->en-core-web-sm==3.7.1) (2.0.8)\n",
      "Requirement already satisfied: preshed<3.1.0,>=3.0.2 in /opt/conda/envs/uniflow/lib/python3.10/site-packages (from spacy<3.8.0,>=3.7.2->en-core-web-sm==3.7.1) (3.0.9)\n",
      "Requirement already satisfied: thinc<8.3.0,>=8.1.8 in /opt/conda/envs/uniflow/lib/python3.10/site-packages (from spacy<3.8.0,>=3.7.2->en-core-web-sm==3.7.1) (8.2.2)\n",
      "Requirement already satisfied: wasabi<1.2.0,>=0.9.1 in /opt/conda/envs/uniflow/lib/python3.10/site-packages (from spacy<3.8.0,>=3.7.2->en-core-web-sm==3.7.1) (1.1.2)\n",
      "Requirement already satisfied: srsly<3.0.0,>=2.4.3 in /opt/conda/envs/uniflow/lib/python3.10/site-packages (from spacy<3.8.0,>=3.7.2->en-core-web-sm==3.7.1) (2.4.8)\n",
      "Requirement already satisfied: catalogue<2.1.0,>=2.0.6 in /opt/conda/envs/uniflow/lib/python3.10/site-packages (from spacy<3.8.0,>=3.7.2->en-core-web-sm==3.7.1) (2.0.10)\n",
      "Requirement already satisfied: weasel<0.4.0,>=0.1.0 in /opt/conda/envs/uniflow/lib/python3.10/site-packages (from spacy<3.8.0,>=3.7.2->en-core-web-sm==3.7.1) (0.3.4)\n",
      "Requirement already satisfied: typer<0.10.0,>=0.3.0 in /opt/conda/envs/uniflow/lib/python3.10/site-packages (from spacy<3.8.0,>=3.7.2->en-core-web-sm==3.7.1) (0.9.0)\n",
      "Requirement already satisfied: smart-open<7.0.0,>=5.2.1 in /opt/conda/envs/uniflow/lib/python3.10/site-packages (from spacy<3.8.0,>=3.7.2->en-core-web-sm==3.7.1) (6.4.0)\n",
      "Requirement already satisfied: tqdm<5.0.0,>=4.38.0 in /opt/conda/envs/uniflow/lib/python3.10/site-packages (from spacy<3.8.0,>=3.7.2->en-core-web-sm==3.7.1) (4.66.1)\n",
      "Requirement already satisfied: requests<3.0.0,>=2.13.0 in /opt/conda/envs/uniflow/lib/python3.10/site-packages (from spacy<3.8.0,>=3.7.2->en-core-web-sm==3.7.1) (2.31.0)\n",
      "Requirement already satisfied: pydantic!=1.8,!=1.8.1,<3.0.0,>=1.7.4 in /opt/conda/envs/uniflow/lib/python3.10/site-packages (from spacy<3.8.0,>=3.7.2->en-core-web-sm==3.7.1) (2.5.2)\n",
      "Requirement already satisfied: jinja2 in /opt/conda/envs/uniflow/lib/python3.10/site-packages (from spacy<3.8.0,>=3.7.2->en-core-web-sm==3.7.1) (3.1.2)\n",
      "Requirement already satisfied: setuptools in /opt/conda/envs/uniflow/lib/python3.10/site-packages (from spacy<3.8.0,>=3.7.2->en-core-web-sm==3.7.1) (69.0.2)\n",
      "Requirement already satisfied: packaging>=20.0 in /opt/conda/envs/uniflow/lib/python3.10/site-packages (from spacy<3.8.0,>=3.7.2->en-core-web-sm==3.7.1) (23.2)\n",
      "Requirement already satisfied: langcodes<4.0.0,>=3.2.0 in /opt/conda/envs/uniflow/lib/python3.10/site-packages (from spacy<3.8.0,>=3.7.2->en-core-web-sm==3.7.1) (3.3.0)\n",
      "Requirement already satisfied: numpy>=1.19.0 in /opt/conda/envs/uniflow/lib/python3.10/site-packages (from spacy<3.8.0,>=3.7.2->en-core-web-sm==3.7.1) (1.26.2)\n",
      "Requirement already satisfied: annotated-types>=0.4.0 in /opt/conda/envs/uniflow/lib/python3.10/site-packages (from pydantic!=1.8,!=1.8.1,<3.0.0,>=1.7.4->spacy<3.8.0,>=3.7.2->en-core-web-sm==3.7.1) (0.6.0)\n",
      "Requirement already satisfied: pydantic-core==2.14.5 in /opt/conda/envs/uniflow/lib/python3.10/site-packages (from pydantic!=1.8,!=1.8.1,<3.0.0,>=1.7.4->spacy<3.8.0,>=3.7.2->en-core-web-sm==3.7.1) (2.14.5)\n",
      "Requirement already satisfied: typing-extensions>=4.6.1 in /opt/conda/envs/uniflow/lib/python3.10/site-packages (from pydantic!=1.8,!=1.8.1,<3.0.0,>=1.7.4->spacy<3.8.0,>=3.7.2->en-core-web-sm==3.7.1) (4.9.0)\n",
      "Requirement already satisfied: charset-normalizer<4,>=2 in /opt/conda/envs/uniflow/lib/python3.10/site-packages (from requests<3.0.0,>=2.13.0->spacy<3.8.0,>=3.7.2->en-core-web-sm==3.7.1) (3.3.2)\n",
      "Requirement already satisfied: idna<4,>=2.5 in /opt/conda/envs/uniflow/lib/python3.10/site-packages (from requests<3.0.0,>=2.13.0->spacy<3.8.0,>=3.7.2->en-core-web-sm==3.7.1) (3.6)\n",
      "Requirement already satisfied: urllib3<3,>=1.21.1 in /opt/conda/envs/uniflow/lib/python3.10/site-packages (from requests<3.0.0,>=2.13.0->spacy<3.8.0,>=3.7.2->en-core-web-sm==3.7.1) (2.1.0)\n",
      "Requirement already satisfied: certifi>=2017.4.17 in /opt/conda/envs/uniflow/lib/python3.10/site-packages (from requests<3.0.0,>=2.13.0->spacy<3.8.0,>=3.7.2->en-core-web-sm==3.7.1) (2023.11.17)\n",
      "Requirement already satisfied: blis<0.8.0,>=0.7.8 in /opt/conda/envs/uniflow/lib/python3.10/site-packages (from thinc<8.3.0,>=8.1.8->spacy<3.8.0,>=3.7.2->en-core-web-sm==3.7.1) (0.7.11)\n",
      "Requirement already satisfied: confection<1.0.0,>=0.0.1 in /opt/conda/envs/uniflow/lib/python3.10/site-packages (from thinc<8.3.0,>=8.1.8->spacy<3.8.0,>=3.7.2->en-core-web-sm==3.7.1) (0.1.4)\n",
      "Requirement already satisfied: click<9.0.0,>=7.1.1 in /opt/conda/envs/uniflow/lib/python3.10/site-packages (from typer<0.10.0,>=0.3.0->spacy<3.8.0,>=3.7.2->en-core-web-sm==3.7.1) (8.1.7)\n",
      "Requirement already satisfied: cloudpathlib<0.17.0,>=0.7.0 in /opt/conda/envs/uniflow/lib/python3.10/site-packages (from weasel<0.4.0,>=0.1.0->spacy<3.8.0,>=3.7.2->en-core-web-sm==3.7.1) (0.16.0)\n",
      "Requirement already satisfied: MarkupSafe>=2.0 in /opt/conda/envs/uniflow/lib/python3.10/site-packages (from jinja2->spacy<3.8.0,>=3.7.2->en-core-web-sm==3.7.1) (2.1.3)\n",
      "\u001b[38;5;2m✔ Download and installation successful\u001b[0m\n",
      "You can now load the package via spacy.load('en_core_web_sm')\n"
     ]
    }
   ],
   "source": [
    "!{sys.executable} -m pip install -q lmqg spacy\n",
    "!{sys.executable} -m spacy download en_core_web_sm"
   ]
  },
  {
   "cell_type": "markdown",
   "metadata": {},
   "source": [
    ">*See below for more details on `spacy` and `en_core_web_sm`:*\n",
    ">- *https://github.com/explosion/spaCy/issues/4577 for en_core_web_sm issue*\n",
    ">- *https://github.com/explosion/spaCy/discussions/7764 for ValueError: [E967] No factory meta information found for 'tagger'. This is likely a bug in spaCy.*"
   ]
  },
  {
   "cell_type": "markdown",
   "metadata": {},
   "source": [
    "### Import dependency"
   ]
  },
  {
   "cell_type": "code",
   "execution_count": 11,
   "metadata": {},
   "outputs": [],
   "source": [
    "from IPython.display import display\n",
    "\n",
    "from uniflow.flow.client import TransformClient\n",
    "from uniflow.flow.config import TransformLMQGConfig\n",
    "from uniflow.op.model.model_config import LMQGModelConfig\n",
    "from uniflow.viz import Viz\n",
    "from uniflow.op.prompt import Context\n",
    "\n",
    "import en_core_web_sm\n",
    "nlp = en_core_web_sm.load()\n"
   ]
  },
  {
   "cell_type": "markdown",
   "metadata": {},
   "source": [
    "### Prepare Sample Prompts\n",
    "Here, we will use the following sample prompts from which to generate QAs."
   ]
  },
  {
   "cell_type": "code",
   "execution_count": 6,
   "metadata": {},
   "outputs": [],
   "source": [
    "raw_context_input = [\n",
    "    \"\"\"William Turner was an English painter who specialised in watercolour landscapes. He is often known\n",
    "          \"as William Turner of Oxford or just Turner of Oxford to distinguish him from his contemporary,\n",
    "          \"J. M. W. Turner. Many of Turner's paintings depicted the countryside around Oxford. One of his\n",
    "          \"best known pictures is a view of the city of Oxford from Hinksey Hill.\"\"\",\n",
    "    \"\"\"My name is bobby and I am a talent software engineer working on AI/ML.\"\"\"\n",
    "]"
   ]
  },
  {
   "cell_type": "markdown",
   "metadata": {},
   "source": [
    "Next, for the given raw text strings `raw_context_input` above, we convert them to the `Context` class to be processed by `uniflow`."
   ]
  },
  {
   "cell_type": "code",
   "execution_count": 7,
   "metadata": {},
   "outputs": [],
   "source": [
    "data = [\n",
    "  Context(context=c) for c in raw_context_input\n",
    "]"
   ]
  },
  {
   "cell_type": "markdown",
   "metadata": {},
   "source": [
    "### Use LLM to generate data\n",
    "\n",
    "In this example, we will use the [LMQGModelConfig](https://github.com/CambioML/uniflow/blob/main/uniflow/model/config.py#L48)'s default LLM to generate questions and answers.\n",
    "\n",
    "We also pass in a `batch_size` of 1. Note, base on your GPU memory, you can set your optimal `batch_size` below."
   ]
  },
  {
   "cell_type": "code",
   "execution_count": 12,
   "metadata": {},
   "outputs": [
    {
     "name": "stderr",
     "output_type": "stream",
     "text": [
      "/opt/conda/envs/uniflow/lib/python3.10/site-packages/transformers/utils/generic.py:441: UserWarning: torch.utils._pytree._register_pytree_node is deprecated. Please use torch.utils._pytree.register_pytree_node instead.\n",
      "  _torch_pytree._register_pytree_node(\n",
      "/opt/conda/envs/uniflow/lib/python3.10/site-packages/transformers/models/auto/tokenization_auto.py:690: FutureWarning: The `use_auth_token` argument is deprecated and will be removed in v5 of Transformers. Please use `token` instead.\n",
      "  warnings.warn(\n",
      "tokenizer_config.json: 100%|██████████| 2.36k/2.36k [00:00<00:00, 18.3MB/s]\n",
      "spiece.model: 100%|██████████| 792k/792k [00:00<00:00, 15.2MB/s]\n",
      "tokenizer.json: 100%|██████████| 2.42M/2.42M [00:00<00:00, 55.0MB/s]\n",
      "added_tokens.json: 100%|██████████| 20.0/20.0 [00:00<00:00, 168kB/s]\n",
      "special_tokens_map.json: 100%|██████████| 123/123 [00:00<00:00, 833kB/s]\n",
      "/opt/conda/envs/uniflow/lib/python3.10/site-packages/transformers/models/auto/configuration_auto.py:1067: FutureWarning: The `use_auth_token` argument is deprecated and will be removed in v5 of Transformers. Please use `token` instead.\n",
      "  warnings.warn(\n",
      "config.json: 100%|██████████| 1.54k/1.54k [00:00<00:00, 10.3MB/s]\n",
      "/opt/conda/envs/uniflow/lib/python3.10/site-packages/transformers/utils/generic.py:309: UserWarning: torch.utils._pytree._register_pytree_node is deprecated. Please use torch.utils._pytree.register_pytree_node instead.\n",
      "  _torch_pytree._register_pytree_node(\n",
      "/opt/conda/envs/uniflow/lib/python3.10/site-packages/transformers/utils/generic.py:309: UserWarning: torch.utils._pytree._register_pytree_node is deprecated. Please use torch.utils._pytree.register_pytree_node instead.\n",
      "  _torch_pytree._register_pytree_node(\n",
      "/opt/conda/envs/uniflow/lib/python3.10/site-packages/transformers/modeling_utils.py:2759: FutureWarning: The `use_auth_token` argument is deprecated and will be removed in v5 of Transformers. Please use `token` instead.\n",
      "  warnings.warn(\n",
      "pytorch_model.bin: 100%|██████████| 892M/892M [00:03<00:00, 237MB/s]  \n"
     ]
    }
   ],
   "source": [
    "config = TransformLMQGConfig(model_config=LMQGModelConfig(batch_size=1))\n",
    "client = TransformClient(config)"
   ]
  },
  {
   "cell_type": "markdown",
   "metadata": {},
   "source": [
    "Now we call the `run` method on the `client` object to execute the question-answer generation operation on the data shown above."
   ]
  },
  {
   "cell_type": "code",
   "execution_count": 13,
   "metadata": {},
   "outputs": [
    {
     "name": "stderr",
     "output_type": "stream",
     "text": [
      "100%|██████████| 4/4 [00:00<00:00, 1195.90it/s]"
     ]
    },
    {
     "name": "stderr",
     "output_type": "stream",
     "text": [
      "\n",
      "100%|██████████| 4/4 [00:00<00:00, 1729.25it/s]\n",
      "100%|██████████| 1/1 [00:00<00:00, 1435.91it/s]\n",
      "100%|██████████| 1/1 [00:00<00:00, 1726.76it/s]\n",
      "100%|██████████| 2/2 [00:03<00:00,  1.77s/it]\n"
     ]
    }
   ],
   "source": [
    "output = client.run(data)"
   ]
  },
  {
   "cell_type": "markdown",
   "metadata": {},
   "source": [
    "### View the generated QAs"
   ]
  },
  {
   "cell_type": "code",
   "execution_count": 14,
   "metadata": {},
   "outputs": [
    {
     "data": {
      "text/plain": [
       "[[('Who was an English painter who specialised in watercolour landscapes?',\n",
       "   'William Turner'),\n",
       "  ('What is William Turner often known as?', 'William Turner of Oxford'),\n",
       "  (\"What did many of William Turner's paintings depict?\", 'countryside'),\n",
       "  ('From where did William Turner view the city of Oxford?', 'Hinksey Hill.')]]"
      ]
     },
     "execution_count": 14,
     "metadata": {},
     "output_type": "execute_result"
    }
   ],
   "source": [
    "output[0]['output'][0]['response']"
   ]
  },
  {
   "cell_type": "markdown",
   "metadata": {},
   "source": [
    "### Plot model flow graph\n",
    "Here, we visualize the model flow graph for the `LMQGModelFlow`."
   ]
  },
  {
   "cell_type": "code",
   "execution_count": 15,
   "metadata": {},
   "outputs": [],
   "source": [
    "graph = Viz.to_digraph(output[0]['root'])"
   ]
  },
  {
   "cell_type": "code",
   "execution_count": 16,
   "metadata": {},
   "outputs": [
    {
     "data": {
      "image/svg+xml": [
       "<?xml version=\"1.0\" encoding=\"UTF-8\" standalone=\"no\"?>\n",
       "<!DOCTYPE svg PUBLIC \"-//W3C//DTD SVG 1.1//EN\"\n",
       " \"http://www.w3.org/Graphics/SVG/1.1/DTD/svg11.dtd\">\n",
       "<!-- Generated by graphviz version 2.43.0 (0)\n",
       " -->\n",
       "<!-- Title: %3 Pages: 1 -->\n",
       "<svg width=\"281pt\" height=\"116pt\"\n",
       " viewBox=\"0.00 0.00 280.98 116.00\" xmlns=\"http://www.w3.org/2000/svg\" xmlns:xlink=\"http://www.w3.org/1999/xlink\">\n",
       "<g id=\"graph0\" class=\"graph\" transform=\"scale(1 1) rotate(0) translate(4 112)\">\n",
       "<title>%3</title>\n",
       "<polygon fill=\"white\" stroke=\"transparent\" points=\"-4,4 -4,-112 276.98,-112 276.98,4 -4,4\"/>\n",
       "<!-- root -->\n",
       "<g id=\"node1\" class=\"node\">\n",
       "<title>root</title>\n",
       "<ellipse fill=\"none\" stroke=\"black\" cx=\"136.49\" cy=\"-90\" rx=\"29.8\" ry=\"18\"/>\n",
       "<text text-anchor=\"middle\" x=\"136.49\" y=\"-86.3\" font-family=\"Times,serif\" font-size=\"14.00\">root</text>\n",
       "</g>\n",
       "<!-- thread_0/lmqg_model_op_1 -->\n",
       "<g id=\"node2\" class=\"node\">\n",
       "<title>thread_0/lmqg_model_op_1</title>\n",
       "<ellipse fill=\"none\" stroke=\"black\" cx=\"136.49\" cy=\"-18\" rx=\"136.48\" ry=\"18\"/>\n",
       "<text text-anchor=\"middle\" x=\"136.49\" y=\"-14.3\" font-family=\"Times,serif\" font-size=\"14.00\">thread_0/lmqg_model_op_1</text>\n",
       "</g>\n",
       "<!-- root&#45;&gt;thread_0/lmqg_model_op_1 -->\n",
       "<g id=\"edge1\" class=\"edge\">\n",
       "<title>root&#45;&gt;thread_0/lmqg_model_op_1</title>\n",
       "<path fill=\"none\" stroke=\"black\" d=\"M136.49,-71.7C136.49,-63.98 136.49,-54.71 136.49,-46.11\"/>\n",
       "<polygon fill=\"black\" stroke=\"black\" points=\"139.99,-46.1 136.49,-36.1 132.99,-46.1 139.99,-46.1\"/>\n",
       "</g>\n",
       "</g>\n",
       "</svg>\n"
      ],
      "text/plain": [
       "<graphviz.graphs.Digraph at 0x7f2ba027f850>"
      ]
     },
     "metadata": {},
     "output_type": "display_data"
    }
   ],
   "source": [
    "display(graph)"
   ]
  },
  {
   "cell_type": "code",
   "execution_count": 17,
   "metadata": {},
   "outputs": [],
   "source": [
    "graph = Viz.to_digraph(output[1]['root'])"
   ]
  },
  {
   "cell_type": "code",
   "execution_count": 18,
   "metadata": {},
   "outputs": [
    {
     "data": {
      "image/svg+xml": [
       "<?xml version=\"1.0\" encoding=\"UTF-8\" standalone=\"no\"?>\n",
       "<!DOCTYPE svg PUBLIC \"-//W3C//DTD SVG 1.1//EN\"\n",
       " \"http://www.w3.org/Graphics/SVG/1.1/DTD/svg11.dtd\">\n",
       "<!-- Generated by graphviz version 2.43.0 (0)\n",
       " -->\n",
       "<!-- Title: %3 Pages: 1 -->\n",
       "<svg width=\"281pt\" height=\"116pt\"\n",
       " viewBox=\"0.00 0.00 280.98 116.00\" xmlns=\"http://www.w3.org/2000/svg\" xmlns:xlink=\"http://www.w3.org/1999/xlink\">\n",
       "<g id=\"graph0\" class=\"graph\" transform=\"scale(1 1) rotate(0) translate(4 112)\">\n",
       "<title>%3</title>\n",
       "<polygon fill=\"white\" stroke=\"transparent\" points=\"-4,4 -4,-112 276.98,-112 276.98,4 -4,4\"/>\n",
       "<!-- root -->\n",
       "<g id=\"node1\" class=\"node\">\n",
       "<title>root</title>\n",
       "<ellipse fill=\"none\" stroke=\"black\" cx=\"136.49\" cy=\"-90\" rx=\"29.8\" ry=\"18\"/>\n",
       "<text text-anchor=\"middle\" x=\"136.49\" y=\"-86.3\" font-family=\"Times,serif\" font-size=\"14.00\">root</text>\n",
       "</g>\n",
       "<!-- thread_0/lmqg_model_op_2 -->\n",
       "<g id=\"node2\" class=\"node\">\n",
       "<title>thread_0/lmqg_model_op_2</title>\n",
       "<ellipse fill=\"none\" stroke=\"black\" cx=\"136.49\" cy=\"-18\" rx=\"136.48\" ry=\"18\"/>\n",
       "<text text-anchor=\"middle\" x=\"136.49\" y=\"-14.3\" font-family=\"Times,serif\" font-size=\"14.00\">thread_0/lmqg_model_op_2</text>\n",
       "</g>\n",
       "<!-- root&#45;&gt;thread_0/lmqg_model_op_2 -->\n",
       "<g id=\"edge1\" class=\"edge\">\n",
       "<title>root&#45;&gt;thread_0/lmqg_model_op_2</title>\n",
       "<path fill=\"none\" stroke=\"black\" d=\"M136.49,-71.7C136.49,-63.98 136.49,-54.71 136.49,-46.11\"/>\n",
       "<polygon fill=\"black\" stroke=\"black\" points=\"139.99,-46.1 136.49,-36.1 132.99,-46.1 139.99,-46.1\"/>\n",
       "</g>\n",
       "</g>\n",
       "</svg>\n"
      ],
      "text/plain": [
       "<graphviz.graphs.Digraph at 0x7f2a930c3910>"
      ]
     },
     "metadata": {},
     "output_type": "display_data"
    }
   ],
   "source": [
    "display(graph)"
   ]
  }
 ],
 "metadata": {
  "kernelspec": {
   "display_name": "uniflow",
   "language": "python",
   "name": "python3"
  },
  "language_info": {
   "codemirror_mode": {
    "name": "ipython",
    "version": 3
   },
   "file_extension": ".py",
   "mimetype": "text/x-python",
   "name": "python",
   "nbconvert_exporter": "python",
   "pygments_lexer": "ipython3",
   "version": "3.10.13"
  }
 },
 "nbformat": 4,
 "nbformat_minor": 2
}
