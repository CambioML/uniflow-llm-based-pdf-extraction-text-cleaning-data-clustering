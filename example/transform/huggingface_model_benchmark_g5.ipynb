{
 "cells": [
  {
   "cell_type": "markdown",
   "metadata": {},
   "source": [
    "# Using Open-source HuggingFace Models to Generate QAs from Raw Data in JSON format\n",
    "\n",
    "In this example, we will show you how to generate question-answers (QAs) from given text strings using open-source Huggingface models via uniflow's [HuggingFaceModelFlow](https://github.com/CambioML/uniflow/blob/main/uniflow/flow/model_flow.py#L86).\n",
    "\n",
    "### Before running the code\n",
    "\n",
    "You will need to `uniflow` conda environment to run this notebook. You can set up the environment following the instruction: https://github.com/CambioML/uniflow/tree/main#installation.\n",
    "\n",
    "### Update system path"
   ]
  },
  {
   "cell_type": "code",
   "execution_count": 1,
   "metadata": {},
   "outputs": [],
   "source": [
    "%reload_ext autoreload\n",
    "%autoreload 2\n",
    "\n",
    "import sys\n",
    "\n",
    "sys.path.append(\".\")\n",
    "sys.path.append(\"..\")\n",
    "sys.path.append(\"../..\")"
   ]
  },
  {
   "cell_type": "markdown",
   "metadata": {},
   "source": [
    "### Install libraries"
   ]
  },
  {
   "cell_type": "code",
   "execution_count": 2,
   "metadata": {},
   "outputs": [],
   "source": [
    "!{sys.executable} -m pip install -q transformers accelerate bitsandbytes scipy"
   ]
  },
  {
   "cell_type": "markdown",
   "metadata": {},
   "source": [
    "### Import dependency"
   ]
  },
  {
   "cell_type": "code",
   "execution_count": null,
   "metadata": {},
   "outputs": [],
   "source": [
    "from IPython.display import display\n",
    "\n",
    "from uniflow.flow.client import TransformClient\n",
    "from uniflow.flow.config import HuggingfaceModelConfig, TransformQAHuggingFaceJsonFormatConfig\n",
    "from uniflow.op.prompt import Context\n",
    "from pprint import pprint\n",
    "import time"
   ]
  },
  {
   "cell_type": "markdown",
   "metadata": {},
   "source": [
    "### Prepare sample prompts\n",
    "\n",
    "First, we need to demonstrate sample prompts for LLM, those include instruction and sample json format. We do this by giving a sample instruction and list of `Context` examples to the `PromptTemplate` class. However, since we are using the default `PromptTemplate` in this example, we will not create it separately."
   ]
  },
  {
   "cell_type": "markdown",
   "metadata": {},
   "source": [
    "Second, we craft some dummy sample raw text strings. Below, we build a dataset with some text strings."
   ]
  },
  {
   "cell_type": "code",
   "execution_count": 4,
   "metadata": {},
   "outputs": [],
   "source": [
    "raw_context_input = [\n",
    "    \"\"\"We believe our success depends upon our capabilities in areas such as design, research and development, \\\n",
    "production and marketing and is supported and protected by our intellectual property rights, such as \\\n",
    "trademarks, utility and design patents, copyrights, and trade secrets, among others. We have followed a policy \\\n",
    "of applying for and registering intellectual property rights in the United States and select foreign countries \\\n",
    "on trademarks, inventions, innovations and designs that we deem valuable. W e also continue to vigorously \\\n",
    "protect our intellectual property, including trademarks, patents and trade secrets against third-party \\\n",
    "infringement and misappropriation.\"\"\",\n",
    "    \"\"\"In 1948, Claude E. Shannon published A Mathematical Theory of Communication (Shannon, 1948) \\\n",
    "establishing the theory of information. In his article, Shannon introduced the concept of information entropy \\\n",
    "for the first time. We will begin our journey here.\"\"\",\n",
    "    \"\"\"The chain rule states that the derivative of a composite function (a function composed of another \\\n",
    "function) is equal to the derivative of the outer function multiplied by the derivative of the inner function.\\\n",
    "Mathematically, it can be written as: \\(\\frac{d}{dx}g(h(x)) = \\frac{dg}{dh}(h(x))\\cdot \\frac{dh}{dx}(x)\\).\"\"\",\n",
    "    \"\"\"Hypothesis testing involves making a claim about a population parameter based on sample data, and then \\\n",
    "conducting a test to determine whether this claim is supported or rejected. This typically involves \\\n",
    "calculating a test statistic, determining a significance level, and comparing the calculated value to a \\\n",
    "critical value to obtain a p-value. \"\"\"\n",
    "]\n",
    "\n",
    "raw_context_input = raw_context_input * 250"
   ]
  },
  {
   "cell_type": "markdown",
   "metadata": {},
   "source": [
    "Next, for the given raw text strings `raw_context_input` above, we convert them to the `Context` class to be processed by `uniflow`."
   ]
  },
  {
   "cell_type": "code",
   "execution_count": 16,
   "metadata": {},
   "outputs": [
    {
     "name": "stdout",
     "output_type": "stream",
     "text": [
      "sample size of processed input data:  1000\n",
      "\n",
      "Example uniflow context data:\n",
      "[Context(context='We believe our success depends upon our capabilities in areas such as design, research and development, production and marketing and is supported and protected by our intellectual property rights, such as trademarks, utility and design patents, copyrights, and trade secrets, among others. We have followed a policy of applying for and registering intellectual property rights in the United States and select foreign countries on trademarks, inventions, innovations and designs that we deem valuable. W e also continue to vigorously protect our intellectual property, including trademarks, patents and trade secrets against third-party infringement and misappropriation.'),\n",
      " Context(context='In 1948, Claude E. Shannon published A Mathematical Theory of Communication (Shannon, 1948) establishing the theory of information. In his article, Shannon introduced the concept of information entropy for the first time. We will begin our journey here.')]\n"
     ]
    }
   ],
   "source": [
    "\n",
    "input_data = [\n",
    "    Context(context=data)\n",
    "    for data in raw_context_input\n",
    "]\n",
    "\n",
    "print(\"sample size of processed input data: \", len(input_data))\n",
    "\n",
    "print(\"\\nExample uniflow context data:\")\n",
    "pprint(input_data[:2])\n"
   ]
  },
  {
   "cell_type": "markdown",
   "metadata": {},
   "source": [
    "### Use LLM to generate data\n",
    "\n",
    "In this example, we will use the [TransformQAHuggingFaceJsonFormatConfig](https://github.com/CambioML/uniflow/blob/main/uniflow/flow/config.py#L128)'s default LLM to generate questions and answers. Let's import the config and client of this model.\n",
    "\n",
    "Here in this example, we use our default `PromptTemplate` to the `TransformQAHuggingFaceJsonFormatConfig`, but you can use your customized instructions and examples instead if you want.\n",
    "\n",
    "Note, base on your GPU memory, you can set your optimal `batch_size` below. (We attached our `batch_size` benchmarking results in the appendix of this notebook.)"
   ]
  },
  {
   "cell_type": "code",
   "execution_count": 6,
   "metadata": {},
   "outputs": [
    {
     "name": "stderr",
     "output_type": "stream",
     "text": [
      "Loading checkpoint shards: 100%|██████████| 3/3 [01:49<00:00, 36.53s/it]\n"
     ]
    }
   ],
   "source": [
    "config = TransformQAHuggingFaceJsonFormatConfig(\n",
    "    model_config=HuggingfaceModelConfig(\n",
    "            batch_size=64,\n",
    "            response_start_key=\"question\", response_format={\"type\": \"json_object\"},\n",
    "        )\n",
    ")\n",
    "client = TransformClient(config)"
   ]
  },
  {
   "cell_type": "code",
   "execution_count": 14,
   "metadata": {},
   "outputs": [
    {
     "name": "stdout",
     "output_type": "stream",
     "text": [
      "HuggingFace model config: \n",
      "TransformQAHuggingFaceJsonFormatConfig(flow_name='TransformHuggingFaceFlow',\n",
      "                                       model_config=HuggingfaceModelConfig(model_name='mistralai/Mistral-7B-Instruct-v0.2',\n",
      "                                                                           model_server='HuggingfaceModelServer',\n",
      "                                                                           batch_size=64,\n",
      "                                                                           neuron=False,\n",
      "                                                                           load_in_4bit=False,\n",
      "                                                                           load_in_8bit=True,\n",
      "                                                                           max_new_tokens=768,\n",
      "                                                                           do_sample=False,\n",
      "                                                                           temperature=0.0,\n",
      "                                                                           num_beams=1,\n",
      "                                                                           num_return_sequences=1,\n",
      "                                                                           repetition_penalty=1.2,\n",
      "                                                                           response_start_key='question',\n",
      "                                                                           response_format={'type': 'json_object'}),\n",
      "                                       num_thread=1,\n",
      "                                       prompt_template=PromptTemplate(instruction='\\n        Generate one question and its corresponding answer based on the last context in the last\\n        example. Follow the format of the examples below to include context, question, and answer in the response.\\n        ', few_shot_prompt=[Context(context='The quick brown fox jumps over the lazy black dog.', question='What is the color of the fox?', answer='brown.'), Context(context='The quick brown fox jumps over the lazy black dog.', question='What is the color of the dog?', answer='black.')]))\n",
      "\n",
      "Prompt:  \n",
      "        Generate one question and its corresponding answer based on the last context in the last\n",
      "        example. Follow the format of the examples below to include context, question, and answer in the response.\n",
      "        \n"
     ]
    }
   ],
   "source": [
    "print(\"HuggingFace model config: \")\n",
    "pprint(config)\n",
    "\n",
    "prompt = config.prompt_template.instruction\n",
    "print(\"\\nPrompt: \", prompt)"
   ]
  },
  {
   "cell_type": "markdown",
   "metadata": {},
   "source": [
    "Now we call the `run` method on the `client` object to execute the question-answer generation operation on the data shown above."
   ]
  },
  {
   "cell_type": "code",
   "execution_count": 8,
   "metadata": {},
   "outputs": [
    {
     "name": "stderr",
     "output_type": "stream",
     "text": [
      "  0%|          | 0/16 [00:00<?, ?it/s]"
     ]
    },
    {
     "name": "stderr",
     "output_type": "stream",
     "text": [
      "/opt/conda/envs/uniflow/lib/python3.10/site-packages/transformers/generation/configuration_utils.py:392: UserWarning: `do_sample` is set to `False`. However, `temperature` is set to `0.0` -- this flag is only used in sample-based generation modes. You should set `do_sample=True` or unset `temperature`.\n",
      "  warnings.warn(\n",
      " 62%|██████▎   | 10/16 [06:32<03:54, 39.10s/it]/opt/conda/envs/uniflow/lib/python3.10/site-packages/transformers/pipelines/base.py:1123: UserWarning: You seem to be using the pipelines sequentially on GPU. In order to maximize efficiency please use a dataset\n",
      "  warnings.warn(\n",
      "100%|██████████| 16/16 [10:17<00:00, 38.62s/it]\n"
     ]
    }
   ],
   "source": [
    "start_time = time.time()\n",
    "outputs = client.run(input_data)\n",
    "execution_time = time.time() - start_time"
   ]
  },
  {
   "cell_type": "code",
   "execution_count": 9,
   "metadata": {},
   "outputs": [
    {
     "name": "stdout",
     "output_type": "stream",
     "text": [
      "execution time:  617.9799659252167  seconds\n"
     ]
    }
   ],
   "source": [
    "print(\"execution time: \", execution_time, \" seconds\")"
   ]
  },
  {
   "cell_type": "markdown",
   "metadata": {},
   "source": [
    "### Process the output\n",
    "\n",
    "Let's take a look of the generated output, which is already a list of JSON"
   ]
  },
  {
   "cell_type": "code",
   "execution_count": 10,
   "metadata": {},
   "outputs": [
    {
     "name": "stdout",
     "output_type": "stream",
     "text": [
      "Sample output:\n",
      "{'context': 'We believe our success depends upon our capabilities in areas '\n",
      "            'such as design, research and development, production and '\n",
      "            'marketing and is supported and protected by our intellectual '\n",
      "            'property rights, such as trademarks, utility and design patents, '\n",
      "            'copyrights, and trade secrets, among others. We have followed a '\n",
      "            'policy of applying for and registering intellectual property '\n",
      "            'rights in the United States and select foreign countries on '\n",
      "            'trademarks, inventions, innovations and designs that we deem '\n",
      "            'valuable. W e also continue to vigorously protect our '\n",
      "            'intellectual property, including trademarks, patents and trade '\n",
      "            'secrets against third-party infringement and misappropriation.',\n",
      " 'question': 'What types of intellectual property does the company prioritize '\n",
      "             'protecting?',\n",
      " 'answer': 'The company prioritizes protecting intellectual property rights '\n",
      "           'such as trademarks, utility and design patents, copyrights, and '\n",
      "           'trade secrets.'}\n"
     ]
    }
   ],
   "source": [
    "print(\"Sample output:\")\n",
    "pprint(outputs[0][\"output\"][0][\"response\"][0], sort_dicts=False)"
   ]
  },
  {
   "cell_type": "markdown",
   "metadata": {},
   "source": [
    "### Count number of tokens being processed per second"
   ]
  },
  {
   "cell_type": "code",
   "execution_count": 11,
   "metadata": {},
   "outputs": [],
   "source": [
    "\n",
    "def count_tokens(document):\n",
    "    ''' \n",
    "    Give a document(string), return total number of tokens(words)\n",
    "\n",
    "    Parameters:\n",
    "       documents(string): A document\n",
    "\n",
    "    Returns:\n",
    "       count(int): Total number of tokens. 1 token = 0.75 word\n",
    "    '''\n",
    "    num_words = len(document.split())\n",
    "    num_tokens = round(num_words/0.75)\n",
    "    return num_tokens"
   ]
  },
  {
   "cell_type": "code",
   "execution_count": 12,
   "metadata": {},
   "outputs": [
    {
     "name": "stdout",
     "output_type": "stream",
     "text": [
      "output tokens:  107840\n",
      "input tokens:  76000\n",
      "prompt tokens:  43\n",
      "total tokens:  183883\n",
      "total tokens processed per sec:  298\n"
     ]
    }
   ],
   "source": [
    "# Count tokens\n",
    "input_tokens = sum(count_tokens(d) for d in raw_context_input)\n",
    "prompt_tokens = count_tokens(config.prompt_template.instruction)\n",
    "output_tokens = 0\n",
    "for output in outputs:\n",
    "    if output[\"output\"]:\n",
    "        for response in output[\"output\"]:\n",
    "            for r in response[\"response\"]:\n",
    "                output_tokens += count_tokens(r[\"context\"])\n",
    "                output_tokens += count_tokens(r[\"question\"])\n",
    "                output_tokens += count_tokens(r[\"answer\"])\n",
    "\n",
    "tokens = input_tokens + prompt_tokens + output_tokens\n",
    "print(\"output tokens: \", output_tokens)\n",
    "print(\"input tokens: \", input_tokens)\n",
    "print(\"prompt tokens: \",prompt_tokens)\n",
    "print(\"total tokens: \", tokens)\n",
    "print(\"total tokens processed per sec: \", round(tokens/execution_time))"
   ]
  },
  {
   "cell_type": "markdown",
   "metadata": {},
   "source": [
    "Congrats! Your question answers from the given knowledge context are generated!\n",
    "\n",
    "\n",
    "---\n",
    "\n",
    "\n",
    "## Appendix\n",
    "\n",
    "We benchmarked to see the optimal `batch_size` for the `TransformQAHuggingFaceJsonFormatConfig` flow. The answer is \"It depends on your data token length, your GPU memory, your LLM size, etc.\" In the following experiment, we use an AWS `g5.xlarge` instance that has a GPU with 24G memory and a quantized LLM (2G). We still use the above raw data strings `raw_context_input`.\n",
    "\n",
    "\n",
    "Here are the results:\n",
    "      \n",
    "- batch_size = 8     \n",
    "    100%|██████████| 125/125 [1:06:57<00:00, 32.14s/it]            \n",
    "    output tokens:  115000   \n",
    "    input tokens:  76000   \n",
    "    prompt tokens:  43   \n",
    "    total tokens:  191043   \n",
    "    total tokens processed per sec:  48     \n",
    "      \n",
    "- batch_size = 64    \n",
    "    100%|██████████| 16/16 [10:17<00:00, 38.62s/it]        \n",
    "    output tokens:  107840    \n",
    "    input tokens:  76000    \n",
    "    prompt tokens:  43    \n",
    "    total tokens:  183883    \n",
    "    total tokens processed per sec:  298     \n",
    " "
   ]
  },
  {
   "cell_type": "markdown",
   "metadata": {},
   "source": [
    "## End of the notebook\n",
    "\n",
    "Check more Uniflow use cases in the [example folder](https://github.com/CambioML/uniflow/tree/main/example/model#examples)!\n",
    "\n",
    "<a href=\"https://www.cambioml.com/\" title=\"Title\">\n",
    "    <img src=\"../image/cambioml_logo_large.png\" style=\"height: 100px; display: block; margin-left: auto; margin-right: auto;\"/>\n",
    "</a>"
   ]
  }
 ],
 "metadata": {
  "kernelspec": {
   "display_name": "uniflow",
   "language": "python",
   "name": "python3"
  },
  "language_info": {
   "codemirror_mode": {
    "name": "ipython",
    "version": 3
   },
   "file_extension": ".py",
   "mimetype": "text/x-python",
   "name": "python",
   "nbconvert_exporter": "python",
   "pygments_lexer": "ipython3",
   "version": "3.10.13"
  }
 },
 "nbformat": 4,
 "nbformat_minor": 2
}
