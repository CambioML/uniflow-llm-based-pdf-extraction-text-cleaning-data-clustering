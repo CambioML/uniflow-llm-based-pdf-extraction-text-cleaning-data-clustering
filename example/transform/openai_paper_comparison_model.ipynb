{
 "cells": [
  {
   "cell_type": "markdown",
   "id": "7cbc4c4a",
   "metadata": {},
   "source": [
    "# Notebook for Paper Comparison Flow via OpenAI\n",
    "In this example, we will show you how to generate question-answers (QAs) from a pdf using OpenAI's models via `uniflow`'s [OpenAIJsonModelFlow](https://github.com/CambioML/uniflow/blob/main/uniflow/flow/model_flow.py#L125).\n",
    "\n",
    "\n",
    "### Before running the code\n",
    "\n",
    "You will need to `uniflow` conda environment to run this notebook. You can set up the environment following the instruction: https://github.com/CambioML/uniflow/tree/main#installation.\n",
    "\n",
    "Next, you will need a valid [OpenAI API key](https://platform.openai.com/api-keys) to run the code. Once you have the key, set it as the environment variable `OPENAI_API_KEY` within a `.env` file in the root directory of this repository. For more details, see this [instruction](https://github.com/CambioML/uniflow/tree/main#api-keys)\n",
    "\n",
    "In this example, we'll be using two papers in markdown format from under 'example/transform/data/raw_input/'"
   ]
  },
  {
   "cell_type": "markdown",
   "id": "a3ce3754",
   "metadata": {},
   "source": [
    "### Update system path"
   ]
  },
  {
   "cell_type": "code",
   "execution_count": 2,
   "id": "172a856a",
   "metadata": {},
   "outputs": [],
   "source": [
    "%reload_ext autoreload\n",
    "%autoreload 2\n",
    "\n",
    "import sys\n",
    "\n",
    "sys.path.append(\".\")\n",
    "sys.path.append(\"..\")\n",
    "sys.path.append(\"../..\")"
   ]
  },
  {
   "cell_type": "markdown",
   "id": "a594b4c3",
   "metadata": {},
   "source": [
    "### Install helper packages"
   ]
  },
  {
   "cell_type": "markdown",
   "id": "7d84aefd",
   "metadata": {},
   "source": [
    "### Import Dependency"
   ]
  },
  {
   "cell_type": "code",
   "execution_count": 3,
   "id": "8d84dd70",
   "metadata": {},
   "outputs": [
    {
     "name": "stderr",
     "output_type": "stream",
     "text": [
      "/opt/anaconda3/envs/uniflow/lib/python3.10/site-packages/tqdm/auto.py:21: TqdmWarning: IProgress not found. Please update jupyter and ipywidgets. See https://ipywidgets.readthedocs.io/en/stable/user_install.html\n",
      "  from .autonotebook import tqdm as notebook_tqdm\n"
     ]
    },
    {
     "data": {
      "text/plain": [
       "True"
      ]
     },
     "execution_count": 3,
     "metadata": {},
     "output_type": "execute_result"
    }
   ],
   "source": [
    "from dotenv import load_dotenv\n",
    "\n",
    "from uniflow.flow.flow_factory import FlowFactory\n",
    "from uniflow.flow.client import TransformClient\n",
    "from uniflow.flow.config import TransformOpenAIConfig\n",
    "from uniflow.op.model.model_config import OpenAIModelConfig\n",
    "from uniflow.op.prompt import Context\n",
    "\n",
    "load_dotenv()\n"
   ]
  },
  {
   "cell_type": "code",
   "execution_count": 4,
   "id": "2340ddee",
   "metadata": {},
   "outputs": [
    {
     "data": {
      "text/plain": [
       "{'extract': ['ExtractHTMLFlow',\n",
       "  'ExtractImageFlow',\n",
       "  'ExtractIpynbFlow',\n",
       "  'ExtractMarkdownFlow',\n",
       "  'ExtractPDFFlow',\n",
       "  'ExtractTxtFlow',\n",
       "  'ExtractGmailFlow'],\n",
       " 'transform': ['TransformAzureOpenAIFlow',\n",
       "  'TransformComparisonGoogleFlow',\n",
       "  'TransformComparisonOpenAIFlow',\n",
       "  'TransformCopyFlow',\n",
       "  'TransformGoogleFlow',\n",
       "  'TransformGoogleMultiModalModelFlow',\n",
       "  'TransformHuggingFaceFlow',\n",
       "  'TransformLMQGFlow',\n",
       "  'TransformOpenAIFlow'],\n",
       " 'rater': ['RaterFlow']}"
      ]
     },
     "execution_count": 4,
     "metadata": {},
     "output_type": "execute_result"
    }
   ],
   "source": [
    "FlowFactory.list()"
   ]
  },
  {
   "cell_type": "markdown",
   "id": "cb677037",
   "metadata": {},
   "source": [
    "### Prepare the input data\n",
    "They are in preprocessed in markdown formats"
   ]
  },
  {
   "cell_type": "code",
   "execution_count": 5,
   "id": "fc6f290c",
   "metadata": {},
   "outputs": [
    {
     "data": {
      "text/plain": [
       "['# The Impact of Artificial Intelligence on Healthcare: A Review\\n\\n## Abstract\\nArtificial intelligence (AI) has emerged as a transformative technology in healthcare, offering opportunities to improve patient outcomes, streamline processes, and enhance decision-making. This paper provides an overview of the current state of AI in healthcare, explores its applications, benefits, challenges, and future prospects.\\n\\n## Introduction\\nIn recent years, artificial intelligence has gained significant traction across various industries, and healthcare is no exception. With advancements in machine learning, natural language processing, and robotics, AI has the potential to revolutionize healthcare delivery, diagnosis, treatment, and management. This paper aims to delve into the role of AI in healthcare, highlighting its implications, challenges, and future directions.\\n\\n## Background\\nThe integration of AI into healthcare systems has been facilitated by the exponential growth of data, coupled with the development of sophisticated algorithms. Machine learning algorithms, such as deep learning, support vector machines, and random forests, enable healthcare providers to analyze large datasets, identify patterns, and extract actionable insights. Furthermore, natural language processing techniques empower AI systems to interpret and generate human language, facilitating tasks such as clinical documentation, medical coding, and patient communication.\\n\\n## Approach\\nTo examine the impact of AI on healthcare, we conducted a comprehensive literature review, analyzing research articles, industry reports, and case studies. We focused on key applications of AI in healthcare, including disease diagnosis, personalized treatment planning, drug discovery, remote patient monitoring, and predictive analytics. Additionally, we explored the challenges associated with AI adoption in healthcare, such as data privacy concerns, regulatory barriers, algorithm bias, and interoperability issues.\\n\\n## Experiment/Result\\nOur analysis revealed that AI holds immense promise for transforming healthcare delivery and improving patient outcomes. AI-powered diagnostic systems demonstrate high accuracy and efficiency in detecting various medical conditions, ranging from cancer and cardiovascular diseases to infectious diseases and neurological disorders. Moreover, AI-driven predictive analytics enable healthcare providers to anticipate disease outbreaks, optimize resource allocation, and enhance population health management. Despite these advancements, several challenges hinder the widespread adoption of AI in healthcare, including data quality issues, algorithmic bias, ethical considerations, and regulatory constraints.\\n\\n## Conclusion/Future Work\\nLooking ahead, future research should focus on addressing the technical, ethical, and regulatory challenges associated with AI in healthcare. Efforts to enhance the interpretability, fairness, and transparency of AI algorithms are critical to building trust among healthcare professionals and patients. Moreover, interdisciplinary collaboration between computer scientists, healthcare professionals, policymakers, and ethicists is essential to develop robust frameworks for AI governance and ensure responsible AI deployment in healthcare settings. Additionally, longitudinal studies are needed to assess the long-term impact of AI on patient outcomes, healthcare costs, and healthcare disparities. By addressing these challenges and leveraging the full potential of AI, we can unlock new opportunities for advancing healthcare delivery, enhancing clinical decision-making, and ultimately improving the quality of care for patients worldwide.\\n',\n",
       " '# The Impact of Renewable Energy Adoption on Global Carbon Emissions: An Analytical Study\\n\\n## Abstract\\nThis paper examines the impact of renewable energy adoption on global carbon emissions. With climate change posing a significant threat to the environment and human societies, transitioning to renewable energy sources has become a crucial global initiative. This study analyzes the correlation between increased use of renewable energy sources, such as wind, solar, and hydro, and the subsequent changes in carbon emissions worldwide. Utilizing data from various countries over the past two decades, we employ statistical models to assess the effectiveness of renewable energy in reducing carbon footprints. Our findings suggest that renewable energy adoption is a viable strategy for significantly reducing global carbon emissions, highlighting the need for policies that support renewable energy investments and infrastructure development.\\n\\n## Introduction\\nClimate change remains one of the most pressing challenges of our time, with carbon emissions from fossil fuel consumption being a primary contributor. The transition to renewable energy sources is widely viewed as a vital step towards mitigating climate change impacts. This paper explores the effectiveness of renewable energy adoption in reducing global carbon emissions. By examining data from multiple countries, we aim to provide a comprehensive analysis of how renewable energy usage influences carbon emission trends and to evaluate the potential of renewable energy as a sustainable solution to climate change.\\n\\n## Background\\nThe relationship between human activities, especially the burning of fossil fuels, and climate change is well-documented. Renewable energy sources offer an alternative that does not emit carbon dioxide during operation, thus presenting a potential pathway to decarbonize the energy sector. Governments and organizations worldwide have made commitments to increase the share of renewables in their energy mix. This paper builds on existing research by analyzing more recent data to understand the current impact of renewable energy adoption on carbon emissions.\\n\\n## Approach\\nOur approach involves collecting and analyzing data on renewable energy consumption and carbon emissions from various countries over the last twenty years. We focus on wind, solar, and hydroelectric power due to their significant growth and potential for large-scale implementation. The study employs statistical analysis methods to identify trends, correlations, and causations between the adoption of renewable energy and changes in carbon emissions. We adjust for factors such as economic growth, population changes, and energy efficiency improvements to isolate the impact of renewable energy.\\n\\n## Experiment/Result\\nThe analysis reveals a clear negative correlation between the adoption of renewable energy sources and carbon emissions in countries with aggressive renewable energy policies. For instance, countries that have doubled their renewable energy consumption in the past decade have seen, on average, a 10% reduction in carbon emissions, even after accounting for economic and population growth. These findings are consistent across developed and developing nations, suggesting that renewable energy can be an effective tool for reducing carbon emissions globally.\\n\\n## Conclusion/Future Work\\nThe study confirms that renewable energy adoption plays a crucial role in reducing global carbon emissions. The findings support the need for policies and investments that encourage the development and deployment of renewable energy technologies. Future work should focus on longitudinal studies to track the long-term impact of renewable energy adoption on carbon emissions. Additionally, further research is needed to explore the socio-economic benefits of transitioning to renewable energy, such as job creation, health improvements, and energy security, to provide a more comprehensive understanding of its impacts.\\n\\n\\n']"
      ]
     },
     "execution_count": 5,
     "metadata": {},
     "output_type": "execute_result"
    }
   ],
   "source": [
    "with open(r\"data/raw_input/paper_1_raw.md\", 'r') as file:\n",
    "    paper_1_content = file.read()\n",
    "\n",
    "with open(r\"data/raw_input/paper_2_raw.md\", 'r') as file:\n",
    "    paper_2_content = file.read()\n",
    "\n",
    "raw_context_input = [\n",
    "    paper_1_content,\n",
    "    paper_2_content,\n",
    "]\n",
    "raw_context_input"
   ]
  },
  {
   "cell_type": "markdown",
   "id": "a3180ff3",
   "metadata": {},
   "source": [
    "### Use LLM to compare two papers\n",
    "\n",
    "In this example, we will use the [OpenAIModelConfig](https://github.com/CambioML/uniflow/blob/main/uniflow/model/config.py#L17)'s default LLM to generate questions and answers."
   ]
  },
  {
   "cell_type": "code",
   "execution_count": 24,
   "id": "c3e75e65",
   "metadata": {},
   "outputs": [],
   "source": [
    "input_data = [[Context(context=raw_context_input[0]), Context(context=raw_context_input[1])]]\n",
    "config = TransformOpenAIConfig(\n",
    "    flow_name=\"TransformComparisonOpenAIFlow\",\n",
    "    model_config=OpenAIModelConfig(),\n",
    ")\n",
    "client = TransformClient(config)"
   ]
  },
  {
   "cell_type": "markdown",
   "id": "06b94c94",
   "metadata": {},
   "source": [
    "Now we call the `run` method on the `client` object to execute the question-answer generation operation on the data shown above."
   ]
  },
  {
   "cell_type": "code",
   "execution_count": 49,
   "id": "2103149e",
   "metadata": {},
   "outputs": [
    {
     "name": "stderr",
     "output_type": "stream",
     "text": [
      "100%|██████████| 1/1 [01:29<00:00, 89.62s/it]\n"
     ]
    }
   ],
   "source": [
    "output = client.run(input_data)"
   ]
  },
  {
   "cell_type": "markdown",
   "id": "aef58403",
   "metadata": {},
   "source": [
    "### Process the output\n",
    "\n",
    "Let's take a look of the generated output. We need to do a little postprocessing on the raw output."
   ]
  },
  {
   "cell_type": "code",
   "execution_count": 50,
   "id": "07af0669",
   "metadata": {},
   "outputs": [
    {
     "name": "stdout",
     "output_type": "stream",
     "text": [
      "Both paper A and paper B focus on the impact of renewable energy adoption on global carbon emissions. Both papers emphasize the importance of transitioning to renewable energy sources to address the threats posed by climate change. \n",
      "\n",
      "Paper A outlines its methodology of using data from various countries over the past two decades and utilizing statistical models to assess the effectiveness of renewable energy in reducing carbon footprints worldwide. Paper B also highlights a comprehensive approach to the analysis, focusing on a diverse set of countries and using statistical models to provide a rigorous assessment of the impact of renewable energy adoption on global carbon emissions.\n",
      "\n",
      "The findings of both papers suggest that adopting renewable energy is a viable strategy for significantly reducing global carbon emissions. Both papers emphasize the practical implications of their research, highlighting the need for supportive policies to facilitate the transition to renewable energy sources as a means of addressing the challenge of global carbon emissions.\n",
      "Similarities between paper A and paper B:\n",
      "\n",
      "1. Both papers start with an introduction to the topic being discussed and its significance in the respective fields.\n",
      "2. They both outline the objectives of the study and the scope of the paper.\n",
      "3. Both papers discuss the potential benefits and applications of the respective topics - AI in healthcare for paper A, and renewable energy adoption for paper B.\n",
      "4. Both papers highlight the challenges and concerns associated with their respective topics - the integration of AI in healthcare for paper A, and the impact of renewable energy adoption on global carbon emissions for paper B.\n",
      "\n",
      "Differences between paper A and paper B:\n",
      "\n",
      "1. Paper A focuses on the use of artificial intelligence in healthcare, while paper B focuses on the impact of renewable energy adoption on global carbon emissions.\n",
      "2. The methodologies for data collection and analysis are different - paper A discusses the use of AI technologies such as machine learning and natural language processing, while paper B discusses collecting data on renewable energy consumption and carbon emissions from various countries over a specific time period.\n",
      "3. The potential future directions discussed in the papers are different - paper A discusses the future prospects of AI in healthcare, while paper B suggests potential policy implications based on the study's results for promoting renewable energy adoption.\n",
      "Similarities:\n",
      "1. Both papers discuss the use of advanced technology (AI in paper A and renewable energy in paper B) to address significant issues in their respective fields (healthcare and climate change).\n",
      "2. Both papers highlight the potential benefits of implementing AI and renewable energy, such as improved outcomes in healthcare and reduced carbon emissions in the energy sector.\n",
      "\n",
      "Differences:\n",
      "1. Paper A focuses on the integration of AI into healthcare systems, specifically in diagnosis and treatment, while paper B focuses on the impact of renewable energy adoption on carbon emissions.\n",
      "2. Paper A discusses the use of complex algorithms such as machine learning and natural language processing, while paper B focuses on the use of renewable energy sources as an alternative to fossil fuels.\n",
      "3. Paper A provides examples of how AI is used in healthcare, such as analyzing medical images and optimizing treatment regimens, while paper B aims to analyze recent data to understand the current impact of renewable energy adoption on carbon emissions.\n",
      "The similarities between paper A and paper B include the comprehensive analysis of a specific topic within a particular field, the use of statistical methods for data analysis, and the consideration of challenges or additional factors in their respective research areas.\n",
      "\n",
      "One key difference is that paper A focuses on the impact of AI on healthcare, including disease diagnosis, treatment planning, drug discovery, patient monitoring, and predictive analytics, while paper B explores the relationship between renewable energy adoption and carbon emissions, specifically focusing on wind, solar, and hydroelectric power.\n",
      "\n",
      "Additionally, paper A utilized research articles, industry reports, and case studies as sources for their analysis, while paper B involves the collection and analysis of data on renewable energy consumption and carbon emissions from multiple countries over the past two decades.\n",
      "The similarities between paper A and paper B are that both papers present research findings that highlight the potential benefits of a particular technology or policy - AI in healthcare and renewable energy sources in reducing carbon emissions, respectively. Both papers also discuss the challenges or barriers that are hindering the widespread adoption of the technology or policy they are analyzing.\n",
      "\n",
      "The differences between the two papers are in the specific focus of their research. Paper A concentrates on the potential of AI in revolutionizing healthcare delivery, including the accurate diagnosis of medical conditions and predictive analytics for disease outbreaks, resource allocation, and population health management. On the other hand, paper B focuses on the correlation between renewable energy adoption and carbon emissions reduction, with a particular emphasis on the global impact of renewable energy policies in both developed and developing nations.\n",
      "Similarities:\n",
      "1. Both papers emphasize the need for future research and longitudinal studies to assess the long-term impact of their respective topics - AI in healthcare and renewable energy adoption.\n",
      "2. Both papers highlight the importance of interdisciplinary collaboration and the role of policymakers in addressing the challenges and promoting responsible deployment of AI in healthcare and renewable energy adoption.\n",
      "\n",
      "Differences:\n",
      "1. Paper A focuses on the technical, ethical, and regulatory challenges associated with AI in healthcare, while paper B focuses on the socio-economic advantages of transitioning to renewable energy.\n",
      "2. Paper A emphasizes the importance of enhancing the interpretability, fairness, and transparency of AI algorithms to build trust among healthcare professionals and patients, while paper B emphasizes the necessity for policies and investments that promote the advancement and usage of renewable energy technologies.\n",
      "3. Paper A calls for robust frameworks for AI governance, while paper B recommends further investigation into the socio-economic advantages of transitioning to renewable energy.\n"
     ]
    }
   ],
   "source": [
    "comparison = output[0]['output']\n",
    "\n",
    "for contexts_list in comparison:\n",
    "    for context in contexts_list:\n",
    "        print(context.context[0])"
   ]
  },
  {
   "cell_type": "markdown",
   "id": "a2942fd0",
   "metadata": {},
   "source": [
    "## End of the notebook\n",
    "\n",
    "Check more Uniflow use cases in the [example folder](https://github.com/CambioML/uniflow/tree/main/example/model#examples)!\n",
    "\n",
    "<a href=\"https://www.cambioml.com/\" title=\"Title\">\n",
    "    <img src=\"../image/cambioml_logo_large.png\" style=\"height: 100px; display: block; margin-left: auto; margin-right: auto;\"/>\n",
    "</a>"
   ]
  }
 ],
 "metadata": {
  "kernelspec": {
   "display_name": "Python 3 (ipykernel)",
   "language": "python",
   "name": "python3"
  },
  "language_info": {
   "codemirror_mode": {
    "name": "ipython",
    "version": 3
   },
   "file_extension": ".py",
   "mimetype": "text/x-python",
   "name": "python",
   "nbconvert_exporter": "python",
   "pygments_lexer": "ipython3",
   "version": "3.10.14"
  }
 },
 "nbformat": 4,
 "nbformat_minor": 5
}
