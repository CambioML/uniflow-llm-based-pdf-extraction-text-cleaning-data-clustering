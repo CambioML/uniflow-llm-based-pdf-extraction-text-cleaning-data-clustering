{
 "cells": [
  {
   "cell_type": "markdown",
   "metadata": {},
   "source": [
    "# Using Open-source HuggingFace Models to Generate QAs from Raw Data\n",
    "\n",
    "In this example, we will show you how to generate question-answers (QAs) from give text strings using open-source Huggingface models via uniflow's [HuggingFaceModelFlow](https://github.com/CambioML/uniflow/blob/main/uniflow/flow/model_flow.py#L86).\n",
    "\n",
    "### Before running the code\n",
    "\n",
    "You will need to `uniflow` conda environment to run this notebook. You can set up the environment following the instruction: https://github.com/CambioML/uniflow/tree/main#installation.\n",
    "\n",
    "[In this section, we present three scenarios for illustration](#number-qas):\n",
    "\n",
    "1. A single question and its corresponding answer.\n",
    "2. A set of three questions, each with its own answer.\n",
    "3. A group of five questions, again each with a specific answer.\n",
    "\n",
    "### Update system path"
   ]
  },
  {
   "cell_type": "code",
   "execution_count": 1,
   "metadata": {},
   "outputs": [],
   "source": [
    "%reload_ext autoreload\n",
    "%autoreload 2\n",
    "\n",
    "import sys\n",
    "\n",
    "sys.path.append(\".\")\n",
    "sys.path.append(\"..\")\n",
    "sys.path.append(\"../..\")"
   ]
  },
  {
   "cell_type": "markdown",
   "metadata": {},
   "source": [
    "### Install libraries"
   ]
  },
  {
   "cell_type": "code",
   "execution_count": 2,
   "metadata": {},
   "outputs": [
    {
     "name": "stdout",
     "output_type": "stream",
     "text": [
      "Requirement already satisfied: transformers in /opt/conda/envs/uniflow/lib/python3.10/site-packages (4.36.2)\n",
      "Requirement already satisfied: accelerate in /opt/conda/envs/uniflow/lib/python3.10/site-packages (0.25.0)\n",
      "Requirement already satisfied: bitsandbytes in /opt/conda/envs/uniflow/lib/python3.10/site-packages (0.41.3.post2)\n",
      "Requirement already satisfied: scipy in /opt/conda/envs/uniflow/lib/python3.10/site-packages (1.11.4)\n",
      "Requirement already satisfied: filelock in /opt/conda/envs/uniflow/lib/python3.10/site-packages (from transformers) (3.9.0)\n",
      "Requirement already satisfied: huggingface-hub<1.0,>=0.19.3 in /opt/conda/envs/uniflow/lib/python3.10/site-packages (from transformers) (0.20.1)\n",
      "Requirement already satisfied: numpy>=1.17 in /opt/conda/envs/uniflow/lib/python3.10/site-packages (from transformers) (1.26.2)\n",
      "Requirement already satisfied: packaging>=20.0 in /opt/conda/envs/uniflow/lib/python3.10/site-packages (from transformers) (23.2)\n",
      "Requirement already satisfied: pyyaml>=5.1 in /opt/conda/envs/uniflow/lib/python3.10/site-packages (from transformers) (6.0.1)\n",
      "Requirement already satisfied: regex!=2019.12.17 in /opt/conda/envs/uniflow/lib/python3.10/site-packages (from transformers) (2023.12.25)\n",
      "Requirement already satisfied: requests in /opt/conda/envs/uniflow/lib/python3.10/site-packages (from transformers) (2.31.0)\n",
      "Requirement already satisfied: tokenizers<0.19,>=0.14 in /opt/conda/envs/uniflow/lib/python3.10/site-packages (from transformers) (0.15.0)\n",
      "Requirement already satisfied: safetensors>=0.3.1 in /opt/conda/envs/uniflow/lib/python3.10/site-packages (from transformers) (0.4.1)\n",
      "Requirement already satisfied: tqdm>=4.27 in /opt/conda/envs/uniflow/lib/python3.10/site-packages (from transformers) (4.66.1)\n",
      "Requirement already satisfied: psutil in /opt/conda/envs/uniflow/lib/python3.10/site-packages (from accelerate) (5.9.7)\n",
      "Requirement already satisfied: torch>=1.10.0 in /opt/conda/envs/uniflow/lib/python3.10/site-packages (from accelerate) (2.3.0.dev20231224+cu121)\n",
      "Requirement already satisfied: fsspec>=2023.5.0 in /opt/conda/envs/uniflow/lib/python3.10/site-packages (from huggingface-hub<1.0,>=0.19.3->transformers) (2023.10.0)\n",
      "Requirement already satisfied: typing-extensions>=3.7.4.3 in /opt/conda/envs/uniflow/lib/python3.10/site-packages (from huggingface-hub<1.0,>=0.19.3->transformers) (4.8.0)\n",
      "Requirement already satisfied: sympy in /opt/conda/envs/uniflow/lib/python3.10/site-packages (from torch>=1.10.0->accelerate) (1.11.1)\n",
      "Requirement already satisfied: networkx in /opt/conda/envs/uniflow/lib/python3.10/site-packages (from torch>=1.10.0->accelerate) (3.0rc1)\n",
      "Requirement already satisfied: jinja2 in /opt/conda/envs/uniflow/lib/python3.10/site-packages (from torch>=1.10.0->accelerate) (3.1.2)\n",
      "Requirement already satisfied: nvidia-cuda-nvrtc-cu12==12.1.105 in /opt/conda/envs/uniflow/lib/python3.10/site-packages (from torch>=1.10.0->accelerate) (12.1.105)\n",
      "Requirement already satisfied: nvidia-cuda-runtime-cu12==12.1.105 in /opt/conda/envs/uniflow/lib/python3.10/site-packages (from torch>=1.10.0->accelerate) (12.1.105)\n",
      "Requirement already satisfied: nvidia-cuda-cupti-cu12==12.1.105 in /opt/conda/envs/uniflow/lib/python3.10/site-packages (from torch>=1.10.0->accelerate) (12.1.105)\n",
      "Requirement already satisfied: nvidia-cudnn-cu12==8.9.2.26 in /opt/conda/envs/uniflow/lib/python3.10/site-packages (from torch>=1.10.0->accelerate) (8.9.2.26)\n",
      "Requirement already satisfied: nvidia-cublas-cu12==12.1.3.1 in /opt/conda/envs/uniflow/lib/python3.10/site-packages (from torch>=1.10.0->accelerate) (12.1.3.1)\n",
      "Requirement already satisfied: nvidia-cufft-cu12==11.0.2.54 in /opt/conda/envs/uniflow/lib/python3.10/site-packages (from torch>=1.10.0->accelerate) (11.0.2.54)\n",
      "Requirement already satisfied: nvidia-curand-cu12==10.3.2.106 in /opt/conda/envs/uniflow/lib/python3.10/site-packages (from torch>=1.10.0->accelerate) (10.3.2.106)\n",
      "Requirement already satisfied: nvidia-cusolver-cu12==11.4.5.107 in /opt/conda/envs/uniflow/lib/python3.10/site-packages (from torch>=1.10.0->accelerate) (11.4.5.107)\n",
      "Requirement already satisfied: nvidia-cusparse-cu12==12.1.0.106 in /opt/conda/envs/uniflow/lib/python3.10/site-packages (from torch>=1.10.0->accelerate) (12.1.0.106)\n",
      "Requirement already satisfied: nvidia-nccl-cu12==2.19.3 in /opt/conda/envs/uniflow/lib/python3.10/site-packages (from torch>=1.10.0->accelerate) (2.19.3)\n",
      "Requirement already satisfied: nvidia-nvtx-cu12==12.1.105 in /opt/conda/envs/uniflow/lib/python3.10/site-packages (from torch>=1.10.0->accelerate) (12.1.105)\n",
      "Requirement already satisfied: pytorch-triton==2.2.0+e28a256d71 in /opt/conda/envs/uniflow/lib/python3.10/site-packages (from torch>=1.10.0->accelerate) (2.2.0+e28a256d71)\n",
      "Requirement already satisfied: nvidia-nvjitlink-cu12 in /opt/conda/envs/uniflow/lib/python3.10/site-packages (from nvidia-cusolver-cu12==11.4.5.107->torch>=1.10.0->accelerate) (12.1.105)\n",
      "Requirement already satisfied: charset-normalizer<4,>=2 in /opt/conda/envs/uniflow/lib/python3.10/site-packages (from requests->transformers) (3.3.2)\n",
      "Requirement already satisfied: idna<4,>=2.5 in /opt/conda/envs/uniflow/lib/python3.10/site-packages (from requests->transformers) (3.6)\n",
      "Requirement already satisfied: urllib3<3,>=1.21.1 in /opt/conda/envs/uniflow/lib/python3.10/site-packages (from requests->transformers) (2.1.0)\n",
      "Requirement already satisfied: certifi>=2017.4.17 in /opt/conda/envs/uniflow/lib/python3.10/site-packages (from requests->transformers) (2023.11.17)\n",
      "Requirement already satisfied: MarkupSafe>=2.0 in /opt/conda/envs/uniflow/lib/python3.10/site-packages (from jinja2->torch>=1.10.0->accelerate) (2.1.3)\n",
      "Requirement already satisfied: mpmath>=0.19 in /opt/conda/envs/uniflow/lib/python3.10/site-packages (from sympy->torch>=1.10.0->accelerate) (1.2.1)\n"
     ]
    }
   ],
   "source": [
    "!{sys.executable} -m pip install -q transformers accelerate bitsandbytes scipy"
   ]
  },
  {
   "cell_type": "markdown",
   "metadata": {},
   "source": [
    "### Import dependency"
   ]
  },
  {
   "cell_type": "code",
   "execution_count": 3,
   "metadata": {},
   "outputs": [
    {
     "data": {
      "text/plain": [
       "False"
      ]
     },
     "execution_count": 3,
     "metadata": {},
     "output_type": "execute_result"
    }
   ],
   "source": [
    "from dotenv import load_dotenv\n",
    "from IPython.display import display\n",
    "\n",
    "from uniflow.flow.client import TransformClient\n",
    "from uniflow.flow.config import TransformHuggingFaceConfig, HuggingfaceModelConfig\n",
    "from uniflow.op.prompt import PromptTemplate, Context\n",
    "\n",
    "load_dotenv()"
   ]
  },
  {
   "cell_type": "markdown",
   "metadata": {},
   "source": [
    "### Prepare sample prompts\n",
    "\n",
    "First, we need to demonstrate sample prompts for LLM, those include instruction and sample json format. We do this by giving a sample instruction and list of `Context` examples to the `PromptTemplate` class."
   ]
  },
  {
   "cell_type": "markdown",
   "metadata": {},
   "source": [
    "Here is the function `generate_QA_text`:\n",
    "\n",
    "**Function: generate_QA_text**\n",
    "\n",
    "**Description:**\n",
    "Generates question-and-answer (QA) texts based on a given `QA_set` object and the specified number of QA pairs.\n",
    "\n",
    "**Parameters:**\n",
    "- *QA_set*: An object representing the QA set. No limitation for the number of QA sets for each context. The data structure can be found [below](#ds-example)\n",
    "- *number_QAs*: The number of QA pairs to generate, contained in the question and answer sentence(s) required for the `Context` object.\n",
    "\n",
    "**Output:**\n",
    "Returns a tuple containing the context, question text, and answer text in the specified format achieving the optimal performance."
   ]
  },
  {
   "cell_type": "code",
   "execution_count": 4,
   "metadata": {},
   "outputs": [],
   "source": [
    "def generate_QA_text(QA_set, number_QAs):\n",
    "    context = QA_set[\"Context\"]\n",
    "    QAs = QA_set[\"QAs\"]\n",
    "\n",
    "    # Initialize question and answer texts\n",
    "    question_text = \"\"\n",
    "    answer_text = \"\"\n",
    "\n",
    "    for i in range(number_QAs):\n",
    "        qa = QAs[i % len(QAs)]\n",
    "        question_text += f\"Question {i+1}: {qa['Question']} \"\n",
    "        answer_text += f\"Answer {i+1}: {qa['Answer']} \"\n",
    "\n",
    "    # Remove trailing spaces\n",
    "    question_text = question_text.strip()\n",
    "    answer_text = answer_text.strip()\n",
    "\n",
    "    return context, question_text, answer_text"
   ]
  },
  {
   "cell_type": "markdown",
   "metadata": {},
   "source": [
    "<a id=\"number-qas\"></a>\n",
    "To tailor the experience to your specific needs, adjust the `number_QAs` parameter in the following code cell. This parameter allows you to define the number of question-and-answer (Q&A) pairs you wish to work with. The available options for number_QAs are 1, 3, or 5, based on our testing environment. \n",
    "\n",
    "If increasing `number_QAs`, please ensure your system has sufficient GPU RAM, as our examples were running on a 24 GB GPU."
   ]
  },
  {
   "cell_type": "code",
   "execution_count": 5,
   "metadata": {},
   "outputs": [],
   "source": [
    "# Modify the number of Q&A sets as desired\n",
    "number_QAs = 5  # Set the value to 1, 3, or 5 as needed"
   ]
  },
  {
   "cell_type": "markdown",
   "metadata": {},
   "source": [
    "Then, you can define the deatils of `sample_examples`.\n",
    "\n",
    "If increasing the complexity of `sample_examples`, please ensure your system has sufficient GPU RAM, as our examples were running on a 24 GB GPU.\n",
    "<a id=\"ds-example\"></a>"
   ]
  },
  {
   "cell_type": "code",
   "execution_count": 6,
   "metadata": {},
   "outputs": [
    {
     "name": "stdout",
     "output_type": "stream",
     "text": [
      "Sample_instruction:\n",
      "Generate 5 question(s) and the corresponding answer(s) based on the context. Following the format of the examples below to include context, question, and answer in the response. \n",
      "\n",
      "Sample_examples:\n",
      "[Context(context='The quick brown fox jumps over the lazy dog.', question='Question 1: What is the color of the fox?; Question 2: What is the color of the dog?; Question 3: What does the fox jump over?; Question 4: What is the color of the fox?; Question 5: What is the color of the dog?;', answer='Answer 1: Brown; Answer 2: Black; Answer 3: Dog; Answer 4: Brown; Answer 5: Black;'),\n",
      " Context(context='Snoopy can be selfish, but loves his owner, Charlie Brown.', question=\"Question 1: How does Snoopy sometimes behave?; Question 2: How does Snoopy feel about his owner?; Question 3: What is the name of Snoopy's owner?; Question 4: How does Snoopy sometimes behave?; Question 5: How does Snoopy feel about his owner?;\", answer='Answer 1: Selfish; Answer 2: Loves; Answer 3: Charlie Brown; Answer 4: Selfish; Answer 5: Loves;')]\n"
     ]
    }
   ],
   "source": [
    "from pprint import pprint\n",
    "\n",
    "sample_instruction = \"\"\"Generate {} question(s) and the corresponding answer(s) based on the context. Following \\\n",
    "the format of the examples below to include context, question, and answer in the response.\"\"\".format(number_QAs)\n",
    "\n",
    "# Define the QA sets\n",
    "QA_set1 = {\n",
    "    \"Context\": \"The quick brown fox jumps over the lazy dog.\",\n",
    "    \"QAs\": [\n",
    "        {\"Question\": \"What is the color of the fox?;\", \"Answer\": \"Brown;\"},\n",
    "        {\"Question\": \"What is the color of the dog?;\", \"Answer\": \"Black;\"},\n",
    "        {\"Question\": \"What does the fox jump over?;\", \"Answer\": \"Dog;\"},\n",
    "    ],\n",
    "}\n",
    "\n",
    "QA_set2 = {\n",
    "    \"Context\": \"Snoopy can be selfish, but loves his owner, Charlie Brown.\",\n",
    "    \"QAs\": [\n",
    "        {\"Question\": \"How does Snoopy sometimes behave?;\", \"Answer\": \"Selfish;\"},\n",
    "        {\"Question\": \"How does Snoopy feel about his owner?;\", \"Answer\": \"Loves;\"},\n",
    "        {\n",
    "            \"Question\": \"What is the name of Snoopy's owner?;\",\n",
    "            \"Answer\": \"Charlie Brown;\",\n",
    "        },\n",
    "    ],\n",
    "}\n",
    "\n",
    "QA_set1_C, QA_set1_Q, QA_set1_A = generate_QA_text(QA_set1, number_QAs)\n",
    "QA_set2_C, QA_set2_Q, QA_set2_A = generate_QA_text(QA_set2, number_QAs)\n",
    "\n",
    "sample_examples = [\n",
    "        Context(\n",
    "            context=QA_set1_C,\n",
    "            question=QA_set1_Q,\n",
    "            answer=QA_set1_A\n",
    "        ),\n",
    "        Context(\n",
    "            context=QA_set2_C,\n",
    "            question=QA_set2_Q,\n",
    "            answer=QA_set2_A\n",
    "        )\n",
    "]\n",
    "\n",
    "guided_prompt = PromptTemplate(\n",
    "    instruction=sample_instruction,\n",
    "    few_shot_prompt=sample_examples\n",
    ")\n",
    "\n",
    "print(\"Sample_instruction:\")\n",
    "print(sample_instruction, '\\n')\n",
    "print(\"Sample_examples:\")\n",
    "pprint(sample_examples)"
   ]
  },
  {
   "cell_type": "markdown",
   "metadata": {},
   "source": [
    "Second, we craft some dummy sample raw text strings. Below, we build a dataset with 400 text strings."
   ]
  },
  {
   "cell_type": "markdown",
   "metadata": {},
   "source": [
    "If increasing the complexity of `raw_context_input`, please ensure your system has sufficient GPU RAM, as our examples were running on a 24 GB GPU."
   ]
  },
  {
   "cell_type": "code",
   "execution_count": 7,
   "metadata": {},
   "outputs": [
    {
     "name": "stdout",
     "output_type": "stream",
     "text": [
      "sample size of raw context:  400\n"
     ]
    }
   ],
   "source": [
    "raw_context_input = [\n",
    "    \"\"\"We believe our success depends upon our capabilities in areas such as design, research and development, \\\n",
    "production and marketing and is supported and protected by our intellectual property rights, such as \\\n",
    "trademarks, utility and design patents, copyrights, and trade secrets, among others. We have followed a policy \\\n",
    "of applying for and registering intellectual property rights in the United States and select foreign countries \\\n",
    "on trademarks, inventions, innovations and designs that we deem valuable. W e also continue to vigorously \\\n",
    "protect our intellectual property, including trademarks, patents and trade secrets against third-party \\\n",
    "infringement and misappropriation.\"\"\",\n",
    "    \"\"\"In 1948, Claude E. Shannon published A Mathematical Theory of Communication (Shannon, 1948) \\\n",
    "establishing the theory of information. In his article, Shannon introduced the concept of information entropy \\\n",
    "for the first time. We will begin our journey here.\"\"\",\n",
    "    \"\"\"The chain rule states that the derivative of a composite function (a function composed of another \\\n",
    "function) is equal to the derivative of the outer function multiplied by the derivative of the inner function.\\\n",
    "Mathematically, it can be written as: \\(\\frac{d}{dx}g(h(x)) = \\frac{dg}{dh}(h(x))\\cdot \\frac{dh}{dx}(x)\\).\"\"\",\n",
    "    \"\"\"Hypothesis testing involves making a claim about a population parameter based on sample data, and then \\\n",
    "conducting a test to determine whether this claim is supported or rejected. This typically involves \\\n",
    "calculating a test statistic, determining a significance level, and comparing the calculated value to a \\\n",
    "critical value to obtain a p-value. \"\"\"\n",
    "]\n",
    "\n",
    "raw_context_input_400 = raw_context_input * 100\n",
    "\n",
    "print(\"sample size of raw context: \", len(raw_context_input_400))"
   ]
  },
  {
   "cell_type": "markdown",
   "metadata": {},
   "source": [
    "Next, for the given raw text strings `raw_context_input` above, we convert them to the `Context` class to be processed by `uniflow`."
   ]
  },
  {
   "cell_type": "code",
   "execution_count": 8,
   "metadata": {},
   "outputs": [
    {
     "name": "stdout",
     "output_type": "stream",
     "text": [
      "sample size of processed input data:  400\n"
     ]
    },
    {
     "data": {
      "text/plain": [
       "[Context(context='We believe our success depends upon our capabilities in areas such as design, research and development, production and marketing and is supported and protected by our intellectual property rights, such as trademarks, utility and design patents, copyrights, and trade secrets, among others. We have followed a policy of applying for and registering intellectual property rights in the United States and select foreign countries on trademarks, inventions, innovations and designs that we deem valuable. W e also continue to vigorously protect our intellectual property, including trademarks, patents and trade secrets against third-party infringement and misappropriation.'),\n",
       " Context(context='In 1948, Claude E. Shannon published A Mathematical Theory of Communication (Shannon, 1948) establishing the theory of information. In his article, Shannon introduced the concept of information entropy for the first time. We will begin our journey here.')]"
      ]
     },
     "execution_count": 8,
     "metadata": {},
     "output_type": "execute_result"
    }
   ],
   "source": [
    "\n",
    "input_data = [\n",
    "    Context(context=data)\n",
    "    for data in raw_context_input_400\n",
    "]\n",
    "\n",
    "print(\"sample size of processed input data: \", len(input_data))\n",
    "\n",
    "input_data[:2]\n"
   ]
  },
  {
   "cell_type": "markdown",
   "metadata": {},
   "source": [
    "### Use LLM to generate data\n",
    "\n",
    "In this example, we will use the [HuggingfaceModelConfig](https://github.com/CambioML/uniflow/blob/main/uniflow/model/config.py#L39)'s default LLM to generate questions and answers. Let's import the config and client of this model.\n",
    "\n",
    "Here, we pass in our `guided_prompt` to the `HuggingfaceConfig` to use our customized instructions and examples, instead of the `uniflow` default ones.\n",
    "\n",
    "Note, base on your GPU memory, you can set your optimal `batch_size` below. (We attached our `batch_size` benchmarking results in the appendix of this notebook.)"
   ]
  },
  {
   "cell_type": "code",
   "execution_count": 9,
   "metadata": {},
   "outputs": [
    {
     "name": "stdout",
     "output_type": "stream",
     "text": [
      "batch size: 64\n"
     ]
    },
    {
     "name": "stderr",
     "output_type": "stream",
     "text": [
      "/opt/conda/envs/uniflow/lib/python3.10/site-packages/transformers/utils/generic.py:441: UserWarning: torch.utils._pytree._register_pytree_node is deprecated. Please use torch.utils._pytree.register_pytree_node instead.\n",
      "  _torch_pytree._register_pytree_node(\n",
      "/opt/conda/envs/uniflow/lib/python3.10/site-packages/transformers/utils/generic.py:309: UserWarning: torch.utils._pytree._register_pytree_node is deprecated. Please use torch.utils._pytree.register_pytree_node instead.\n",
      "  _torch_pytree._register_pytree_node(\n"
     ]
    },
    {
     "data": {
      "application/vnd.jupyter.widget-view+json": {
       "model_id": "d8b669443ea94b96a543c297ea5718bf",
       "version_major": 2,
       "version_minor": 0
      },
      "text/plain": [
       "Loading checkpoint shards:   0%|          | 0/2 [00:00<?, ?it/s]"
      ]
     },
     "metadata": {},
     "output_type": "display_data"
    }
   ],
   "source": [
    "current_batch_size = 128 if number_QAs == 1 else 64\n",
    "print(\"batch size:\", current_batch_size)\n",
    "\n",
    "config = TransformHuggingFaceConfig(\n",
    "    prompt_template=guided_prompt,\n",
    "    model_config=HuggingfaceModelConfig(batch_size=current_batch_size))\n",
    "client = TransformClient(config)"
   ]
  },
  {
   "cell_type": "markdown",
   "metadata": {},
   "source": [
    "Now we call the `run` method on the `client` object to execute the question-answer generation operation on the data shown above."
   ]
  },
  {
   "cell_type": "code",
   "execution_count": 10,
   "metadata": {},
   "outputs": [
    {
     "data": {
      "application/vnd.jupyter.widget-view+json": {
       "model_id": "9109eceff1614c0bbcc7a5dd745e4f5f",
       "version_major": 2,
       "version_minor": 0
      },
      "text/plain": [
       "  0%|          | 0/7 [00:00<?, ?it/s]"
      ]
     },
     "metadata": {},
     "output_type": "display_data"
    },
    {
     "name": "stderr",
     "output_type": "stream",
     "text": [
      "/opt/conda/envs/uniflow/lib/python3.10/site-packages/bitsandbytes/nn/modules.py:226: UserWarning: Input type into Linear4bit is torch.float16, but bnb_4bit_compute_type=torch.float32 (default). This will lead to slow inference or training speed.\n",
      "  warnings.warn(f'Input type into Linear4bit is torch.float16, but bnb_4bit_compute_type=torch.float32 (default). This will lead to slow inference or training speed.')\n"
     ]
    }
   ],
   "source": [
    "output = client.run(input_data)"
   ]
  },
  {
   "cell_type": "markdown",
   "metadata": {},
   "source": [
    "### Process the output\n",
    "\n",
    "Let's take a look of the generated output. We need to do a little postprocessing on the raw output."
   ]
  },
  {
   "cell_type": "code",
   "execution_count": 11,
   "metadata": {},
   "outputs": [
    {
     "name": "stdout",
     "output_type": "stream",
     "text": [
      "{'context': ' We believe our success depends upon our capabilities in areas '\n",
      "            'such as design, research and development, production and '\n",
      "            'marketing and is supported and protected by our intellectual '\n",
      "            'property rights, such as trademarks, utility and design patents, '\n",
      "            'copyrights, and trade secrets, among others. We have followed a '\n",
      "            'policy of applying for and registering intellectual property '\n",
      "            'rights in the United States and select foreign countries on '\n",
      "            'trademarks, inventions, innovations and designs that we deem '\n",
      "            'valuable. W e also continue to vigorously protect our '\n",
      "            'intellectual property, including trademarks, patents and trade '\n",
      "            'secrets against third-party infringement and misappropriation.\\n',\n",
      " 'question': ' Question 1: What are some important factors for your success? ; '\n",
      "             'Question 2: What kind of intellectual property rights do you '\n",
      "             'hold? ; Question 3: Why do you apply for and register '\n",
      "             'intellectual property rights? ; Question 4: What kind of '\n",
      "             'intellectual property rights do you hold? ; Question 5: How do '\n",
      "             'you protect your intellectual property?\\n',\n",
      " 'answer': ' Answer 1: Design, Research and Development, Production and '\n",
      "           'Marketing; Answer 2: Trademarks, Utility and Design Patents, '\n",
      "           'Copyrights, Trade Secrets; Answer 3: To support and protect them; '\n",
      "           'Answer 4: Trademarks, Inventions, Innovations and Designs; Answer '\n",
      "           '5: Vigorously protecting them against third-party infringement and '\n",
      "           'misappropriation.'}\n"
     ]
    }
   ],
   "source": [
    "import re\n",
    "\n",
    "keywords = [\"context:\", \"question:\", \"answer:\"]\n",
    "pattern = '|'.join(map(re.escape, keywords))\n",
    "\n",
    "o = output[0]['output'][0]['response'][0] ## we only postprocess the first output\n",
    "segments = [segment for segment in re.split(pattern, o) if segment.strip()]\n",
    "result = {\n",
    "    \"context\": segments[-3],\n",
    "    \"question\": segments[-2],\n",
    "    \"answer\": segments[-1]\n",
    "}\n",
    "\n",
    "pprint(result, sort_dicts=False)"
   ]
  },
  {
   "cell_type": "markdown",
   "metadata": {},
   "source": [
    "Congrats! Your question answers from the given knowledge context are generated!\n",
    "\n",
    "\n",
    "---\n",
    "\n",
    "\n",
    "## Appendix\n",
    "\n",
    "We benchmarked to see the optimal `batch_size` for the `HuggingfaceModelConfig` flow. The answer is \"It depends on your data token length, your GPU memory, your LLM size, etc.\" In the following experiment, we use a GPU with 24G memory and a quantized LLM (2G). We still use the above 400 raw data strings `raw_context_input_400`.\n",
    "\n",
    "\n",
    "Here are the results:\n",
    "\n",
    "### number_QAs = 1\n",
    "- batch_size = 128\n",
    "    100%|██████████| 4/4 [03:57<00:00, 53.21s/it]\n",
    "- batch_size = 64\n",
    "    100%|██████████| 7/7 [05:01<00:00, 39.79s/it]\n",
    "- batch_size = 4\n",
    "    100%|██████████| 100/100 [39:00<00:00, 23.40s/it]\n",
    "- batch_size = 1\n",
    "    100%|██████████| 400/400 [18:54<00:00, 2.54s/it]\n",
    "\n",
    "<hr/>\n",
    "\n",
    "### number_QAs = 3\n",
    "- batch_size = 128\n",
    "    OOM\n",
    "- batch_size = 64\n",
    "    100%|██████████| 7/7 [12:09<00:00, 96.75s/it]\n",
    "- batch_size = 4\n",
    "    100%|██████████| 100/100 [1:32:57<00:00, 55.77s/it]\n",
    "- batch_size = 1\n",
    "    100%|██████████| 400/400 [31:01<00:00, 4.80s/it]\n",
    "\n",
    "<hr/>\n",
    "\n",
    "### number_QAs = 5\n",
    "- batch_size = 128\n",
    "    OOM\n",
    "- batch_size = 64\n",
    "    100%|██████████| 7/7 [17:36<00:00, 139.58s/it]\n",
    "- batch_size = 4\n",
    "    100%|██████████| 100/100 [2:21:25<00:00, 84.85s/it]\n",
    "- batch_size = 1\n",
    "    100%|██████████| 400/400 [47:10<00:00, 7.03s/it]"
   ]
  }
 ],
 "metadata": {
  "kernelspec": {
   "display_name": "Python 3 (ipykernel)",
   "language": "python",
   "name": "python3"
  },
  "language_info": {
   "codemirror_mode": {
    "name": "ipython",
    "version": 3
   },
   "file_extension": ".py",
   "mimetype": "text/x-python",
   "name": "python",
   "nbconvert_exporter": "python",
   "pygments_lexer": "ipython3",
   "version": "3.10.13"
  }
 },
 "nbformat": 4,
 "nbformat_minor": 4
}
