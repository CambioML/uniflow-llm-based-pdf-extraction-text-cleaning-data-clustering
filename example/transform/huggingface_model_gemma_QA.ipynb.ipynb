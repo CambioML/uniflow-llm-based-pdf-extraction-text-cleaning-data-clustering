{
 "cells": [
  {
   "cell_type": "markdown",
   "id": "78c52d4f-e076-471a-b711-076e5d176fee",
   "metadata": {},
   "source": [
    "# Using Open-source HuggingFace Models (Based on Gemma-7b-it) to Generate QAs from Raw Data in JSON format\n",
    "\n",
    "In this example, we will show you how to generate question-answers (QAs) from given text strings using open-source Huggingface models **using [Gemma-7b-it](https://huggingface.co/google/gemma-7b-it)** via uniflow's [HuggingFaceModelFlow](https://github.com/CambioML/uniflow/blob/main/uniflow/flow/model_flow.py#L86).\n",
    "\n",
    "### Before running the code\n",
    "\n",
    "You will need to `uniflow` conda environment to run this notebook. You can set up the environment following the instruction: https://github.com/CambioML/uniflow/tree/main#installation.\n",
    "\n",
    "Next, you will need a valid Huggingface Token to access the Gemma model. Once you have the token, set it as the environment variable `HF_token` within a `.env` file in the root directory of this repository.\n",
    "\n",
    "### Update system path"
   ]
  },
  {
   "cell_type": "code",
   "execution_count": 1,
   "id": "aa1dcf25-e694-4e4d-b449-3851ad03b2f3",
   "metadata": {},
   "outputs": [],
   "source": [
    "%reload_ext autoreload\n",
    "%autoreload 2\n",
    "\n",
    "import sys\n",
    "\n",
    "sys.path.append(\".\")\n",
    "sys.path.append(\"..\")\n",
    "sys.path.append(\"../..\")"
   ]
  },
  {
   "cell_type": "markdown",
   "id": "868a7956-af63-4f18-9299-c43293ba1fa1",
   "metadata": {},
   "source": [
    "### Install libraries"
   ]
  },
  {
   "cell_type": "code",
   "execution_count": 2,
   "id": "ed29a309-bf91-4582-996a-29374df894b2",
   "metadata": {},
   "outputs": [],
   "source": [
    "!{sys.executable} -m pip install -q transformers accelerate bitsandbytes scipy tiktoken"
   ]
  },
  {
   "cell_type": "markdown",
   "id": "69523656-4791-40d3-84d7-4818e3669e42",
   "metadata": {},
   "source": [
    "### Import dependency"
   ]
  },
  {
   "cell_type": "code",
   "execution_count": 12,
   "id": "c24454fc-615b-4a2e-8950-1d0d7497784c",
   "metadata": {},
   "outputs": [
    {
     "data": {
      "text/plain": [
       "True"
      ]
     },
     "execution_count": 12,
     "metadata": {},
     "output_type": "execute_result"
    }
   ],
   "source": [
    "from IPython.display import Markdown, display\n",
    "\n",
    "from dotenv import load_dotenv\n",
    "from uniflow.flow.flow_factory import FlowFactory\n",
    "from uniflow.flow.client import TransformClient\n",
    "from uniflow.flow.config import HuggingfaceModelConfig, TransformQAHuggingFaceJsonFormatConfig\n",
    "from uniflow.flow.config import GemmaTransformConfig\n",
    "from uniflow.op.prompt import Context\n",
    "from uniflow.op.prompt import PromptTemplate\n",
    "from pprint import pprint\n",
    "import time\n",
    "\n",
    "load_dotenv()"
   ]
  },
  {
   "cell_type": "markdown",
   "id": "4bd10644-3089-45c3-8f36-a6b5dc37a3f4",
   "metadata": {},
   "source": [
    "### Prepare sample prompts\n",
    "\n",
    "First, we need to demonstrate sample prompts for LLM, those include instruction and sample json format. We do this by giving a sample instruction and list of `Context` examples to the `PromptTemplate` class. Let's create raw text for context."
   ]
  },
  {
   "cell_type": "code",
   "execution_count": 4,
   "id": "0fc570b3-88a9-477c-8623-dfd70aa1f930",
   "metadata": {},
   "outputs": [],
   "source": [
    "raw_context_input = [\n",
    "    \"\"\"We believe our success depends upon our capabilities in areas such as design, research and development, \\\n",
    "production and marketing and is supported and protected by our intellectual property rights, such as \\\n",
    "trademarks, utility and design patents, copyrights, and trade secrets, among others. We have followed a policy \\\n",
    "of applying for and registering intellectual property rights in the United States and select foreign countries \\\n",
    "on trademarks, inventions, innovations and designs that we deem valuable. W e also continue to vigorously \\\n",
    "protect our intellectual property, including trademarks, patents and trade secrets against third-party \\\n",
    "infringement and misappropriation.\"\"\",\n",
    "    \"\"\"Snoopy can be selfish, gluttonous, and lazy at times, and occasionally mocks his owner, Charlie Brown. \n",
    "But on the whole, he shows great love, care, and loyalty for his owner (even though he cannot even remember \n",
    "his name and always refers to him as \"the round-headed kid\"). In the 1990s comic strips, he is obsessed \n",
    "with cookies, particularly the chocolate-chip variety. This, and other instances in which he indulges in large \n",
    "chocolate-based meals and snacks, indicate that chocolate is not poisonous to Snoopy, the way it is for real dogs.\"\"\",\n",
    "    \"\"\"The chain rule states that the derivative of a composite function (a function composed of another \\\n",
    "function) is equal to the derivative of the outer function multiplied by the derivative of the inner function.\\\n",
    "Mathematically, it can be written as: \\(\\frac{d}{dx}g(h(x)) = \\frac{dg}{dh}(h(x))\\cdot \\frac{dh}{dx}(x)\\).\"\"\"\n",
    "]\n",
    "\n",
    "raw_context_input = raw_context_input"
   ]
  },
  {
   "cell_type": "markdown",
   "id": "3606645d-1dfa-4449-8fb6-3ca17c337241",
   "metadata": {},
   "source": [
    "Next, for the given raw text strings `raw_context_input` above, we convert them to the `Context` class to be processed by `uniflow`."
   ]
  },
  {
   "cell_type": "code",
   "execution_count": 5,
   "id": "049a36b8-cf88-4953-901f-5b00e8c1db08",
   "metadata": {},
   "outputs": [
    {
     "name": "stdout",
     "output_type": "stream",
     "text": [
      "sample size of processed input data:  3\n",
      "\n",
      "Example uniflow context data:\n",
      "[Context(context='We believe our success depends upon our capabilities in areas such as design, research and development, production and marketing and is supported and protected by our intellectual property rights, such as trademarks, utility and design patents, copyrights, and trade secrets, among others. We have followed a policy of applying for and registering intellectual property rights in the United States and select foreign countries on trademarks, inventions, innovations and designs that we deem valuable. W e also continue to vigorously protect our intellectual property, including trademarks, patents and trade secrets against third-party infringement and misappropriation.'),\n",
      " Context(context='Snoopy can be selfish, gluttonous, and lazy at times, and occasionally mocks his owner, Charlie Brown. \\nBut on the whole, he shows great love, care, and loyalty for his owner (even though he cannot even remember \\nhis name and always refers to him as \"the round-headed kid\"). In the 1990s comic strips, he is obsessed \\nwith cookies, particularly the chocolate-chip variety. This, and other instances in which he indulges in large \\nchocolate-based meals and snacks, indicate that chocolate is not poisonous to Snoopy, the way it is for real dogs.'),\n",
      " Context(context='The chain rule states that the derivative of a composite function (a function composed of another function) is equal to the derivative of the outer function multiplied by the derivative of the inner function.Mathematically, it can be written as: \\\\(\\x0crac{d}{dx}g(h(x)) = \\x0crac{dg}{dh}(h(x))\\\\cdot \\x0crac{dh}{dx}(x)\\\\).')]\n"
     ]
    }
   ],
   "source": [
    "\n",
    "input_data = [\n",
    "    Context(context=data)\n",
    "    for data in raw_context_input\n",
    "]\n",
    "\n",
    "print(\"sample size of processed input data: \", len(input_data))\n",
    "\n",
    "print(\"\\nExample uniflow context data:\")\n",
    "pprint(input_data[:3])\n"
   ]
  },
  {
   "cell_type": "markdown",
   "id": "5cf1951f-b5e5-4fae-9f03-8f981cee8c2d",
   "metadata": {},
   "source": [
    "### Use LLM to generate data\n",
    "\n",
    "In this example, we will use the [GemmaTransformConfig](https://github.com/CambioML/uniflow/blob/main/uniflow/flow/config.py)'s default LLM to generate questions and answers. Let's import the config and client of this model.\n",
    "\n",
    "Here in this example, we use define our own `PromptTemplate` to the `GemmaTransformConfig`, but you can use your default instructions and examples instead if you want.\n"
   ]
  },
  {
   "cell_type": "code",
   "execution_count": 6,
   "id": "0be2ca63-1708-440b-9709-6798d9076b8a",
   "metadata": {},
   "outputs": [],
   "source": [
    "guided_prompt = PromptTemplate(\n",
    "        instruction=\"Generate one question and its corresponding answer based on context. Following the format and structure of the examples below to include the same context, question, and answer in the response.\",\n",
    "        few_shot_prompt=[\n",
    "            Context(\n",
    "                context=\"In 1948, Claude E. Shannon published A Mathematical Theory of\\nCommunication (Shannon, 1948) establishing the theory of\\ninformation. In his article, Shannon introduced the concept of\\ninformation entropy for the first time. We will begin our journey here.\",\n",
    "                question=\"Who published A Mathematical Theory of Communication in 1948?\",\n",
    "                answer=\"Claude E. Shannon.\",\n",
    "            )\n",
    "        ]\n",
    ")"
   ]
  },
  {
   "cell_type": "code",
   "execution_count": 7,
   "id": "2a228817-3905-4453-a4f8-51b5784eb5ec",
   "metadata": {},
   "outputs": [
    {
     "name": "stderr",
     "output_type": "stream",
     "text": [
      "The `load_in_4bit` and `load_in_8bit` arguments are deprecated and will be removed in the future versions. Please, pass a `BitsAndBytesConfig` object in `quantization_config` argument instead.\n",
      "Loading checkpoint shards: 100%|██████████| 4/4 [00:05<00:00,  1.26s/it]\n"
     ]
    }
   ],
   "source": [
    "config = GemmaTransformConfig(\n",
    "    prompt_template=guided_prompt,\n",
    ")\n",
    "\n",
    "client = TransformClient(config)"
   ]
  },
  {
   "cell_type": "markdown",
   "id": "598ebcf1-c4a1-4c41-8ee1-df6cb8c9e5ba",
   "metadata": {},
   "source": [
    "Now we call the `run` method on the `client` object to execute the question-answer generation operation on the data shown above."
   ]
  },
  {
   "cell_type": "code",
   "execution_count": 8,
   "id": "cdc5d5bf-17c6-4d07-b90b-5e4525b1f219",
   "metadata": {},
   "outputs": [
    {
     "name": "stderr",
     "output_type": "stream",
     "text": [
      "  0%|          | 0/1 [00:00<?, ?it/s]/opt/conda/envs/uniflow/lib/python3.10/site-packages/transformers/generation/configuration_utils.py:492: UserWarning: `do_sample` is set to `False`. However, `temperature` is set to `0.0` -- this flag is only used in sample-based generation modes. You should set `do_sample=True` or unset `temperature`.\n",
      "  warnings.warn(\n"
     ]
    },
    {
     "name": "stdout",
     "output_type": "stream",
     "text": [
      "['<bos><start_of_turn>user\\ninstruction: Generate one question and its corresponding answer based on context. Following the format and structure of the examples below to include the same context, question, and answer in the response.\\ncontext: In 1948, Claude E. Shannon published A Mathematical Theory of\\nCommunication (Shannon, 1948) establishing the theory of\\ninformation. In his article, Shannon introduced the concept of\\ninformation entropy for the first time. We will begin our journey here.\\nquestion: Who published A Mathematical Theory of Communication in 1948?\\nanswer: Claude E. Shannon.\\ncurrent context: We believe our success depends upon our capabilities in areas such as design, research and development, production and marketing and is supported and protected by our intellectual property rights, such as trademarks, utility and design patents, copyrights, and trade secrets, among others. We have followed a policy of applying for and registering intellectual property rights in the United States and select foreign countries on trademarks, inventions, innovations and designs that we deem valuable. W e also continue to vigorously protect our intellectual property, including trademarks, patents and trade secrets against third-party infringement and misappropriation.<end_of_turn>\\n<start_of_turn>model\\n', '<bos><start_of_turn>user\\ninstruction: Generate one question and its corresponding answer based on context. Following the format and structure of the examples below to include the same context, question, and answer in the response.\\ncontext: In 1948, Claude E. Shannon published A Mathematical Theory of\\nCommunication (Shannon, 1948) establishing the theory of\\ninformation. In his article, Shannon introduced the concept of\\ninformation entropy for the first time. We will begin our journey here.\\nquestion: Who published A Mathematical Theory of Communication in 1948?\\nanswer: Claude E. Shannon.\\ncurrent context: Snoopy can be selfish, gluttonous, and lazy at times, and occasionally mocks his owner, Charlie Brown. \\nBut on the whole, he shows great love, care, and loyalty for his owner (even though he cannot even remember \\nhis name and always refers to him as \"the round-headed kid\"). In the 1990s comic strips, he is obsessed \\nwith cookies, particularly the chocolate-chip variety. This, and other instances in which he indulges in large \\nchocolate-based meals and snacks, indicate that chocolate is not poisonous to Snoopy, the way it is for real dogs.<end_of_turn>\\n<start_of_turn>model\\n', '<bos><start_of_turn>user\\ninstruction: Generate one question and its corresponding answer based on context. Following the format and structure of the examples below to include the same context, question, and answer in the response.\\ncontext: In 1948, Claude E. Shannon published A Mathematical Theory of\\nCommunication (Shannon, 1948) establishing the theory of\\ninformation. In his article, Shannon introduced the concept of\\ninformation entropy for the first time. We will begin our journey here.\\nquestion: Who published A Mathematical Theory of Communication in 1948?\\nanswer: Claude E. Shannon.\\ncurrent context: The chain rule states that the derivative of a composite function (a function composed of another function) is equal to the derivative of the outer function multiplied by the derivative of the inner function.Mathematically, it can be written as: \\\\(\\x0crac{d}{dx}g(h(x)) = \\x0crac{dg}{dh}(h(x))\\\\cdot \\x0crac{dh}{dx}(x)\\\\).<end_of_turn>\\n<start_of_turn>model\\n']\n"
     ]
    },
    {
     "name": "stderr",
     "output_type": "stream",
     "text": [
      "100%|██████████| 1/1 [00:25<00:00, 25.44s/it]\n"
     ]
    }
   ],
   "source": [
    "outputs = client.run(input_data)"
   ]
  },
  {
   "cell_type": "markdown",
   "id": "a80ac819-26fa-4bd9-a423-6f52f0f7c58a",
   "metadata": {},
   "source": [
    "### Process the output\n",
    "\n",
    "Let's take a look of the generated output, which is already a list of JSON"
   ]
  },
  {
   "cell_type": "code",
   "execution_count": 16,
   "id": "bee02e62-433c-4cc6-b882-900d9e88d881",
   "metadata": {},
   "outputs": [
    {
     "name": "stdout",
     "output_type": "stream",
     "text": [
      "Sample output:\n",
      "('instruction: Generate one question and its corresponding answer based on '\n",
      " 'context. Following the format and structure of the examples below to include '\n",
      " 'the same context, question, and answer in the response.\\n'\n",
      " 'context: In 1948, Claude E. Shannon published A Mathematical Theory of\\n'\n",
      " 'Communication (Shannon, 1948) establishing the theory of\\n'\n",
      " 'information. In his article, Shannon introduced the concept of\\n'\n",
      " 'information entropy for the first time. We will begin our journey here.\\n'\n",
      " 'question: Who published A Mathematical Theory of Communication in 1948?\\n'\n",
      " 'answer: Claude E. Shannon.\\n'\n",
      " 'current context: Snoopy can be selfish, gluttonous, and lazy at times, and '\n",
      " 'occasionally mocks his owner, Charlie Brown. \\n'\n",
      " 'But on the whole, he shows great love, care, and loyalty for his owner (even '\n",
      " 'though he cannot even remember \\n'\n",
      " 'his name and always refers to him as \"the round-headed kid\"). In the 1990s '\n",
      " 'comic strips, he is obsessed \\n'\n",
      " 'with cookies, particularly the chocolate-chip variety. This, and other '\n",
      " 'instances in which he indulges in large \\n'\n",
      " 'chocolate-based meals and snacks, indicate that chocolate is not poisonous '\n",
      " 'to Snoopy, the way it is for real dogs.\\n'\n",
      " '\\n'\n",
      " \"**Question:** What does a passage describe about snoop'S relationship with \"\n",
      " 'food specifically chocolates\\n'\n",
      " '\\n'\n",
      " ' **Answer**: The text describes Snoop’ s obsession over Chocolate Cookies  '\n",
      " 'and indicates this treat isn t harmful like actual dog poison')\n"
     ]
    }
   ],
   "source": [
    "print(\"Sample output:\")\n",
    "\n",
    "pprint(outputs[0]['output'][0]['response'][1])"
   ]
  },
  {
   "cell_type": "code",
   "execution_count": 17,
   "id": "16eef53c",
   "metadata": {},
   "outputs": [
    {
     "name": "stdout",
     "output_type": "stream",
     "text": [
      "Current Context: We believe our success depends upon our capabilities in areas such as design, research and development, production and marketing and is supported and protected by our intellectual property rights, such as trademarks, utility and design patents, copyrights, and trade secrets, among others. We have followed a policy of applying for and registering intellectual property rights in the United States and select foreign countries on trademarks, inventions, innovations and designs that we deem valuable. W e also continue to vigorously protect our intellectual property, including trademarks, patents and trade secrets against third-party infringement and misappropriation.\n",
      "\n",
      "**\n",
      "Question: ** What does current text suggest about protection IP Rights related with company's assets\n",
      "Answer: The provided texts suggests  that Company has implemented policies designed specifically aimed at protecting their Intellectual Property(IP )Rights which includes trademark,utility & Design Patents,,copyrights&trade Secrets.The organization actively applies foe registration Of these right US And selected Foreign Countries while ensuring vigorous enforcement mechanisms are put into place To safeguard them Against Infringement or Mis appropriation from Third parties.. This strategy safeguards companies\n"
     ]
    }
   ],
   "source": [
    "text = outputs[0]['output'][0]['response'][0]\n",
    "\n",
    "import re\n",
    "\n",
    "def extract_last_qa(text):\n",
    "    # Regular expression to match the last current context, question, and answer\n",
    "    pattern = re.compile(\n",
    "        r'(?i)current context:\\s*(.*?)\\s*(?:\\*\\*?Question\\*\\*?:|question:)\\s*(.*?)\\s*(?:\\*\\*?Answer\\*\\*?:|answer:)\\s*(.*?)\\s*(?=\\Z|\\n\\n)',\n",
    "        re.DOTALL\n",
    "    )\n",
    "\n",
    "    # Find all matches\n",
    "    matches = pattern.findall(text)\n",
    "\n",
    "    # Return the last match, if any\n",
    "    if matches:\n",
    "        last_match = matches[-1]\n",
    "        return {\n",
    "            'current_context': last_match[0].strip(),\n",
    "            'question': last_match[1].strip(),\n",
    "            'answer': last_match[2].strip()\n",
    "        }\n",
    "    else:\n",
    "        return None\n",
    "\n",
    "\n",
    "result = extract_last_qa(text)\n",
    "if result:\n",
    "    print(\"Current Context:\", result['current_context'])\n",
    "    print(\"Question:\", result['question'])\n",
    "    print(\"Answer:\", result['answer'])\n",
    "else:\n",
    "    print(\"No question and answer found.\")\n"
   ]
  },
  {
   "cell_type": "markdown",
   "id": "bae7a846-8b7f-49c9-8b68-14863b43a068",
   "metadata": {},
   "source": [
    "## End of the notebook\n",
    "\n",
    "Check more Uniflow use cases in the [example folder](https://github.com/CambioML/uniflow/tree/main/example/model#examples)!\n",
    "\n",
    "<a href=\"https://www.cambioml.com/\" title=\"Title\">\n",
    "    <img src=\"../image/cambioml_logo_large.png\" style=\"height: 100px; display: block; margin-left: auto; margin-right: auto;\"/>\n",
    "</a>"
   ]
  }
 ],
 "metadata": {
  "kernelspec": {
   "display_name": "Python 3 (ipykernel)",
   "language": "python",
   "name": "python3"
  },
  "language_info": {
   "codemirror_mode": {
    "name": "ipython",
    "version": 3
   },
   "file_extension": ".py",
   "mimetype": "text/x-python",
   "name": "python",
   "nbconvert_exporter": "python",
   "pygments_lexer": "ipython3",
   "version": "3.10.13"
  }
 },
 "nbformat": 4,
 "nbformat_minor": 5
}
