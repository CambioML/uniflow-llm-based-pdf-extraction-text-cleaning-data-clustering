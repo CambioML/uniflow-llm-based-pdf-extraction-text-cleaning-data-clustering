{
 "cells": [
  {
   "cell_type": "markdown",
   "id": "7cbc4c4a",
   "metadata": {},
   "source": [
    "# Example of generating summaries for a 10K\n",
    "In this example, we will show you how to generate page summaries from a pdf using OpenAI's models via `uniflow`'s [OpenAIJsonModelFlow](https://github.com/CambioML/uniflow/blob/main/uniflow/flow/model_flow.py#L125).\n",
    "\n",
    "For this example, we're using a [10K from Nike](https://investors.nike.com/investors/news-events-and-reports/).\n",
    "\n",
    "### Before running the code\n",
    "\n",
    "You will need to `uniflow` conda environment to run this notebook. You can set up the environment following the instruction: https://github.com/CambioML/uniflow/tree/main#installation.\n",
    "\n",
    "Next, you will need a valid [OpenAI API key](https://platform.openai.com/api-keys) to run the code. Once you have the key, set it as the environment variable `OPENAI_API_KEY` within a `.env` file in the root directory of this repository. For more details, see this [instruction](https://github.com/CambioML/uniflow/tree/main#api-keys)\n",
    "\n",
    "Finally, we are storing the Nike 10K in the `data\\raw_input` directory as \"nike-10k-2023.pdf\". You can download the file from [here](https://s1.q4cdn.com/806093406/files/doc_downloads/2023/414759-1-_5_Nike-NPS-Combo_Form-10-K_WR.pdf).\n",
    "\n",
    "### Update system path"
   ]
  },
  {
   "cell_type": "code",
   "execution_count": 1,
   "metadata": {},
   "outputs": [],
   "source": [
    "%reload_ext autoreload\n",
    "%autoreload 2\n",
    "\n",
    "import sys\n",
    "\n",
    "sys.path.append(\".\")\n",
    "sys.path.append(\"..\")\n",
    "sys.path.append(\"../..\")"
   ]
  },
  {
   "cell_type": "markdown",
   "metadata": {},
   "source": [
    "### Install helper packages"
   ]
  },
  {
   "cell_type": "code",
   "execution_count": 2,
   "metadata": {},
   "outputs": [
    {
     "name": "stdout",
     "output_type": "stream",
     "text": [
      "Looking in indexes: https://pypi.tuna.tsinghua.edu.cn/simple\n",
      "Requirement already satisfied: langchain in d:\\anaconda\\envs\\uniflow\\lib\\site-packages (0.0.351)\n",
      "Requirement already satisfied: pandas in d:\\anaconda\\envs\\uniflow\\lib\\site-packages (2.1.4)\n",
      "Requirement already satisfied: pypdf in d:\\anaconda\\envs\\uniflow\\lib\\site-packages (3.17.3)\n",
      "Requirement already satisfied: PyYAML>=5.3 in d:\\anaconda\\envs\\uniflow\\lib\\site-packages (from langchain) (6.0.1)\n",
      "Requirement already satisfied: SQLAlchemy<3,>=1.4 in d:\\anaconda\\envs\\uniflow\\lib\\site-packages (from langchain) (2.0.23)\n",
      "Requirement already satisfied: aiohttp<4.0.0,>=3.8.3 in d:\\anaconda\\envs\\uniflow\\lib\\site-packages (from langchain) (3.9.1)\n",
      "Requirement already satisfied: async-timeout<5.0.0,>=4.0.0 in d:\\anaconda\\envs\\uniflow\\lib\\site-packages (from langchain) (4.0.3)\n",
      "Requirement already satisfied: dataclasses-json<0.7,>=0.5.7 in d:\\anaconda\\envs\\uniflow\\lib\\site-packages (from langchain) (0.6.3)\n",
      "Requirement already satisfied: jsonpatch<2.0,>=1.33 in d:\\anaconda\\envs\\uniflow\\lib\\site-packages (from langchain) (1.33)\n",
      "Requirement already satisfied: langchain-community<0.1,>=0.0.2 in d:\\anaconda\\envs\\uniflow\\lib\\site-packages (from langchain) (0.0.4)\n",
      "Requirement already satisfied: langchain-core<0.2,>=0.1 in d:\\anaconda\\envs\\uniflow\\lib\\site-packages (from langchain) (0.1.2)\n",
      "Requirement already satisfied: langsmith<0.1.0,>=0.0.70 in d:\\anaconda\\envs\\uniflow\\lib\\site-packages (from langchain) (0.0.72)\n",
      "Requirement already satisfied: numpy<2,>=1 in d:\\anaconda\\envs\\uniflow\\lib\\site-packages (from langchain) (1.26.2)\n",
      "Requirement already satisfied: pydantic<3,>=1 in d:\\anaconda\\envs\\uniflow\\lib\\site-packages (from langchain) (2.5.2)\n",
      "Requirement already satisfied: requests<3,>=2 in d:\\anaconda\\envs\\uniflow\\lib\\site-packages (from langchain) (2.31.0)\n",
      "Requirement already satisfied: tenacity<9.0.0,>=8.1.0 in d:\\anaconda\\envs\\uniflow\\lib\\site-packages (from langchain) (8.2.3)\n",
      "Requirement already satisfied: python-dateutil>=2.8.2 in d:\\anaconda\\envs\\uniflow\\lib\\site-packages (from pandas) (2.8.2)\n",
      "Requirement already satisfied: pytz>=2020.1 in d:\\anaconda\\envs\\uniflow\\lib\\site-packages (from pandas) (2023.3.post1)\n",
      "Requirement already satisfied: tzdata>=2022.1 in d:\\anaconda\\envs\\uniflow\\lib\\site-packages (from pandas) (2023.3)\n",
      "Requirement already satisfied: attrs>=17.3.0 in d:\\anaconda\\envs\\uniflow\\lib\\site-packages (from aiohttp<4.0.0,>=3.8.3->langchain) (23.1.0)\n",
      "Requirement already satisfied: multidict<7.0,>=4.5 in d:\\anaconda\\envs\\uniflow\\lib\\site-packages (from aiohttp<4.0.0,>=3.8.3->langchain) (6.0.4)\n",
      "Requirement already satisfied: yarl<2.0,>=1.0 in d:\\anaconda\\envs\\uniflow\\lib\\site-packages (from aiohttp<4.0.0,>=3.8.3->langchain) (1.9.4)\n",
      "Requirement already satisfied: frozenlist>=1.1.1 in d:\\anaconda\\envs\\uniflow\\lib\\site-packages (from aiohttp<4.0.0,>=3.8.3->langchain) (1.4.1)\n",
      "Requirement already satisfied: aiosignal>=1.1.2 in d:\\anaconda\\envs\\uniflow\\lib\\site-packages (from aiohttp<4.0.0,>=3.8.3->langchain) (1.3.1)\n",
      "Requirement already satisfied: marshmallow<4.0.0,>=3.18.0 in d:\\anaconda\\envs\\uniflow\\lib\\site-packages (from dataclasses-json<0.7,>=0.5.7->langchain) (3.20.1)\n",
      "Requirement already satisfied: typing-inspect<1,>=0.4.0 in d:\\anaconda\\envs\\uniflow\\lib\\site-packages (from dataclasses-json<0.7,>=0.5.7->langchain) (0.9.0)\n",
      "Requirement already satisfied: jsonpointer>=1.9 in d:\\anaconda\\envs\\uniflow\\lib\\site-packages (from jsonpatch<2.0,>=1.33->langchain) (2.4)\n",
      "Requirement already satisfied: anyio<5,>=3 in d:\\anaconda\\envs\\uniflow\\lib\\site-packages (from langchain-core<0.2,>=0.1->langchain) (4.2.0)\n",
      "Requirement already satisfied: packaging<24.0,>=23.2 in d:\\anaconda\\envs\\uniflow\\lib\\site-packages (from langchain-core<0.2,>=0.1->langchain) (23.2)\n",
      "Requirement already satisfied: annotated-types>=0.4.0 in d:\\anaconda\\envs\\uniflow\\lib\\site-packages (from pydantic<3,>=1->langchain) (0.6.0)\n",
      "Requirement already satisfied: pydantic-core==2.14.5 in d:\\anaconda\\envs\\uniflow\\lib\\site-packages (from pydantic<3,>=1->langchain) (2.14.5)\n",
      "Requirement already satisfied: typing-extensions>=4.6.1 in d:\\anaconda\\envs\\uniflow\\lib\\site-packages (from pydantic<3,>=1->langchain) (4.9.0)\n",
      "Requirement already satisfied: six>=1.5 in d:\\anaconda\\envs\\uniflow\\lib\\site-packages (from python-dateutil>=2.8.2->pandas) (1.16.0)\n",
      "Requirement already satisfied: charset-normalizer<4,>=2 in d:\\anaconda\\envs\\uniflow\\lib\\site-packages (from requests<3,>=2->langchain) (3.3.2)\n",
      "Requirement already satisfied: idna<4,>=2.5 in d:\\anaconda\\envs\\uniflow\\lib\\site-packages (from requests<3,>=2->langchain) (3.6)\n",
      "Requirement already satisfied: urllib3<3,>=1.21.1 in d:\\anaconda\\envs\\uniflow\\lib\\site-packages (from requests<3,>=2->langchain) (2.1.0)\n",
      "Requirement already satisfied: certifi>=2017.4.17 in d:\\anaconda\\envs\\uniflow\\lib\\site-packages (from requests<3,>=2->langchain) (2023.11.17)\n",
      "Requirement already satisfied: greenlet!=0.4.17 in d:\\anaconda\\envs\\uniflow\\lib\\site-packages (from SQLAlchemy<3,>=1.4->langchain) (3.0.2)\n",
      "Requirement already satisfied: sniffio>=1.1 in d:\\anaconda\\envs\\uniflow\\lib\\site-packages (from anyio<5,>=3->langchain-core<0.2,>=0.1->langchain) (1.3.0)\n",
      "Requirement already satisfied: exceptiongroup>=1.0.2 in d:\\anaconda\\envs\\uniflow\\lib\\site-packages (from anyio<5,>=3->langchain-core<0.2,>=0.1->langchain) (1.2.0)\n",
      "Requirement already satisfied: mypy-extensions>=0.3.0 in d:\\anaconda\\envs\\uniflow\\lib\\site-packages (from typing-inspect<1,>=0.4.0->dataclasses-json<0.7,>=0.5.7->langchain) (1.0.0)\n"
     ]
    }
   ],
   "source": [
    "!{sys.executable} -m pip install -q langchain pandas pypdf"
   ]
  },
  {
   "cell_type": "markdown",
   "metadata": {},
   "source": [
    "### Import dependencies"
   ]
  },
  {
   "cell_type": "code",
   "execution_count": 3,
   "id": "8d84dd70",
   "metadata": {},
   "outputs": [
    {
     "data": {
      "text/plain": [
       "True"
      ]
     },
     "execution_count": 3,
     "metadata": {},
     "output_type": "execute_result"
    }
   ],
   "source": [
    "from dotenv import load_dotenv\n",
    "import os\n",
    "import pandas as pd\n",
    "from uniflow.flow.client import TransformClient\n",
    "from uniflow.flow.config import TransformOpenAIConfig\n",
    "from uniflow.op.model.model_config import OpenAIModelConfig\n",
    "from langchain.document_loaders import PyPDFLoader\n",
    "from uniflow.op.prompt import Context, PromptTemplate\n",
    "\n",
    "load_dotenv()\n"
   ]
  },
  {
   "cell_type": "markdown",
   "id": "cb677037",
   "metadata": {},
   "source": [
    "### Prepare the input data\n",
    "First, we need to pre-process the PDF to get text chunks that we can feed into the model. We will use `PyPDFLoader` from langchain."
   ]
  },
  {
   "cell_type": "code",
   "execution_count": 4,
   "id": "a707ef78",
   "metadata": {},
   "outputs": [],
   "source": [
    "pdf_file = \"nike-10k-2023.pdf\""
   ]
  },
  {
   "cell_type": "markdown",
   "id": "4b177df1",
   "metadata": {},
   "source": [
    "##### Set current directory and input data directory."
   ]
  },
  {
   "cell_type": "code",
   "execution_count": 5,
   "id": "092b355a",
   "metadata": {},
   "outputs": [],
   "source": [
    "dir_cur = os.getcwd()\n",
    "input_file = os.path.join(f\"{dir_cur}/data/raw_input/\", pdf_file)"
   ]
  },
  {
   "cell_type": "markdown",
   "metadata": {},
   "source": [
    "##### Load and split the pdf"
   ]
  },
  {
   "cell_type": "code",
   "execution_count": 6,
   "metadata": {},
   "outputs": [],
   "source": [
    "loader = PyPDFLoader(input_file)\n",
    "pages = loader.load_and_split()\n",
    "page_contents = [page.page_content for page in pages]"
   ]
  },
  {
   "cell_type": "markdown",
   "metadata": {},
   "source": [
    "### Prepare sample prompts\n",
    "\n",
    "First, we need to demonstrate sample prompts for LLM. Because we are not generating the default questions and answers, we need to have a custom `instruction` and custom `examples`, which we configure in the `PromptTemplate` class.\n",
    "\n",
    "First, we give a custom `instruction` to the `PromptTemplate`. This ensures we are instructing the LLM to generate summaries instead of the default questions and answers.\n",
    "\n",
    "Next, we give a sample list of `Context` examples to the `PromptTemplate` class. We pass in a custom `summary` property into our `Context` objects. This is an example summary based on the `context`."
   ]
  },
  {
   "cell_type": "code",
   "execution_count": 7,
   "metadata": {},
   "outputs": [],
   "source": [
    "guided_prompt = PromptTemplate(\n",
    "    instruction=\"Generate a one sentence summary based on the last context below. Follow the format of the examples below to include context and summary in the response\",\n",
    "    few_shot_prompt=[\n",
    "        Context(\n",
    "            context=\"When you're operating on the maker's schedule, meetings are a disaster. A single meeting can blow a whole afternoon, by breaking it into two pieces each too small to do anything hard in. Plus you have to remember to go to the meeting. That's no problem for someone on the manager's schedule. There's always something coming on the next hour; the only question is what. But when someone on the maker's schedule has a meeting, they have to think about it.\",\n",
    "            summary=\"Meetings disrupt the productivity of those following a maker's schedule, dividing their time into impractical segments, while those on a manager's schedule are accustomed to a continuous flow of tasks.\",\n",
    "        ),\n",
    "    ],\n",
    ")"
   ]
  },
  {
   "cell_type": "markdown",
   "metadata": {},
   "source": [
    "Next, for the given `page_contents` above, we convert them to the `Context` class to be processed by `uniflow`."
   ]
  },
  {
   "cell_type": "code",
   "execution_count": 8,
   "metadata": {},
   "outputs": [
    {
     "data": {
      "text/plain": [
       "[Context(context='We also offer interactive consumer services and experiences as well as digital products through our digital platforms, including \\nfitness and activity apps; sport, fitness and wellness content; and digital services and features in retail stores that enhance the \\nconsumer experience.\\nSALES AND MARKETING\\nWe experience moderate fluctuations in aggregate sales volume during the year. Historically, revenues in the first and fourth \\nfiscal quarters have slightly exceeded those in the second and third fiscal quarters.  However, the mix of product sales may vary \\nconsiderably as a result of changes in seasonal and geographic demand for particular types of footwear , apparel and equipment, \\nas well as other macroeconomic, strategic, operating and logistics-related factors.\\nBecause NIKE is a consume', summary=''),\n",
       " Context(context=\"INTERNATIONAL MARKETS\\nFor fiscal 2023, non-U.S. NIKE Brand and Converse sales accounted for approximately 57% of total revenues, compared to 60% \\nand 61% for fiscal 2022 and fiscal 2021, respectively. We sell our products to retail accounts through our own NIKE Direct \\noperations and through a mix of independent distributors, licensees and sales representatives around the world. W e sell to \\nthousands of retail accounts and ship products from 67 distribution centers outside of the United States. Refer to Item 2. \\nProperties for further information on distribution facilities outside of the United States. During fiscal 2023, NIKE's three largest \\ncustomers outside of the United States accounted for approximately 14% of total non-U.S. sales.\\nIn addition to NIKE-owned and Converse-owned digita\", summary=''),\n",
       " Context(context='footwear production. For fiscal 2023, factories in Vietnam, Indonesia and China manufactured approximately 50%, 27% and 18% \\nof total NIKE Brand footwear, respectively. For fiscal 2023, four footwear contract manufacturers each accounted for greater than \\n10% of footwear production and in the aggregate accounted for approximately 58% of NIKE Brand footwear production.\\nAs of May 31, 2023, our contract manufacturers operated 291 finished goods apparel factories located in 31 countries. For fiscal \\n2023, NIKE Brand apparel finished goods were manufactured by 55 contract manufacturers, many of which operate multiple \\nfactories. The largest single finished goods apparel factory accounted for approximately 8% of total fiscal 2023 NIKE Brand \\napparel production. For fiscal 2023, factories in Viet', summary=''),\n",
       " Context(context=\"of total NIKE Brand apparel, respectively. For fiscal 2023, one apparel contract manufacturer accounted for more than 10% of \\napparel production, and the top five contract manufacturers in the aggregate accounted for approximately 52% of NIKE Brand \\napparel production.\\nNIKE's contract manufacturers buy raw materials for the manufacturing of our footwear, apparel and equipment products. Most \\nraw materials are available and purchased by those contract manufacturers in the countries where manufacturing takes place. \\nThe principal materials used in our footwear products are natural and synthetic rubber , plastic compounds, foam cushioning \\nmaterials, natural and synthetic leather, nylon, polyester and natural fiber textiles, as well as polyurethane films used to make \\nNIKE Air-Sole cushioning\", summary=''),\n",
       " Context(context='We monitor protectionist trends and developments throughout the world that may materially impact our industry, and we engage \\nin administrative and judicial processes to mitigate trade restrictions. W e are actively monitoring actions that may result in \\nadditional anti-dumping measures and could affect our industry. We are also monitoring for and advocating against other \\nimpediments that may limit or delay customs clearance for imports of footwear , apparel and equipment. NIKE also advocates for \\ntrade liberalization for footwear and apparel in a number of bilateral and multilateral free trade agreements. Changes in, and \\nresponses to, U.S. trade policies, including the imposition of tariffs or penalties on imported goods or retaliatory measures by \\nother countries, have negatively affec', summary=''),\n",
       " Context(context='Our international operations are also subject to compliance with the U.S . Foreign Corrupt Practices Act (the \"FCPA\"), and other \\nanti-bribery laws applicable to our operations. We source a significant portion of our products from, and have important consumer \\nmarkets, outside of the United States. We have an ethics and compliance program to address compliance with the FCPA and \\nsimilar laws by us, our employees, agents, suppliers and other partners.  Refer to Item 1A. Risk Factors for additional information \\non risks relating to our international operations.\\nCOMPETITION\\nThe athletic footwear, apparel and equipment industry is highly competitive on a worldwide basis. We compete internationally with \\na significant number of athletic and leisure footwear companies, athletic and leisure appar', summary=''),\n",
       " Context(context='devices, and related software applications. These patents expire at various times.\\nWe believe our success depends upon our capabilities in areas such as design, research and development, production and \\nmarketing and is supported and protected by our intellectual property rights, such as trademarks, utility and design patents, \\ncopyrights, and trade secrets, among others. \\nWe have followed a policy of applying for and registering intellectual property rights in the United States and select foreign \\ncountries on trademarks, inventions, innovations and designs that we deem valuable. W e also continue to vigorously protect our \\nintellectual property, including trademarks, patents and trade secrets against third-party infringement and misappropriation.\\n2023 FORM 10-K   5', summary=''),\n",
       " Context(context=\"HUMAN CAPITAL RESOURCES\\nAt NIKE, we consider the strength and effective management of our workforce to be essential to the ongoing success of our \\nbusiness. We believe that it is important to attract, develop and retain a diverse and engaged workforce at all levels of our \\nbusiness and that such a workforce fosters creativity and accelerates innovation. W e are focused on building an increasingly \\ndiverse talent pipeline that reflects our consumers, athletes and the communities we serve.\\nCULTURE \\nEach employee shapes NIKE's culture through behaviors and practices. This starts with our Maxims, which represent our core \\nvalues and, along with our Code of Conduct, feature the fundamental behaviors that help anchor , inform and guide us and apply \\nto all employees. Our mission is to bring insp\", summary=''),\n",
       " Context(context='information and consultation on certain subsidiary decisions) or by organizations similar to a union. In certain E uropean countries, \\nwe are required by local law to enter into, and/or comply with, industry-wide or national collective bargaining agreements. NIK E \\nhas never experienced a material interruption of operations due to labor disagreements.\\nDIVERSITY, EQUITY AND INCLUSION\\nDiversity, equity and inclusion (\"DE&I\") is a strategic priority for NIKE and we are committed to having an increasingly diverse \\nteam and culture. We aim to foster an inclusive and accessible workplace through recruitment, development and retention of \\ndiverse talent with the goal of expanding representation across all dimensions of diversity over the long term. W e remain \\ncommitted to the targets announced i', summary=''),\n",
       " Context(context=\"Our DE&I focus extends beyond our workforce and includes our communities, which we support in a number of ways. We have \\ncommitted to investments that aim to address racial inequality and improve diversity and representation in our communities. W e \\nalso are leveraging our global scale to accelerate business diversity , including investing in business training programs for women \\nand increasing the proportion of services supplied by minority-owned businesses.\\nCOMPENSATION AND BENEFITS \\nNIKE's total rewards are intended to be competitive and equitable, meet the diverse needs of our global teammates and reinforce \\nour values. We are committed to providing comprehensive, competitive and equitable pay and benefits to our employees, and we \\nhave invested, and aim to continue to invest, in our e\", summary='')]"
      ]
     },
     "execution_count": 8,
     "metadata": {},
     "output_type": "execute_result"
    }
   ],
   "source": [
    "data = [ Context(context=p[:800], summary=\"\") for p in page_contents[6:16] if len(p) > 200 ]\n",
    "data"
   ]
  },
  {
   "cell_type": "markdown",
   "metadata": {},
   "source": [
    "### Use LLM to generate data\n",
    "\n",
    "In this example, we will use the [OpenAIModelConfig](https://github.com/CambioML/uniflow/blob/main/uniflow/model/config.py#L17)'s default LLM to generate questions and answers.\n",
    "\n",
    "Here, we pass in our `guided_prompt` to the `TransformOpenAIConfig` to use our customized instructions and examples, instead of the `uniflow` default ones.\n",
    "\n",
    "We also want to get the response in the `json` format instead of the `text` default, so we set the `response_format` to `json_object`."
   ]
  },
  {
   "cell_type": "code",
   "execution_count": 9,
   "metadata": {},
   "outputs": [],
   "source": [
    "config = TransformOpenAIConfig(\n",
    "    prompt_template=guided_prompt,\n",
    "    model_config=OpenAIModelConfig(response_format={\"type\": \"json_object\"}),\n",
    ")\n",
    "client = TransformClient(config)"
   ]
  },
  {
   "cell_type": "markdown",
   "metadata": {},
   "source": [
    "Now we call the `run` method on the `client` object to execute the question-answer generation operation on the data shown above."
   ]
  },
  {
   "cell_type": "code",
   "execution_count": 10,
   "metadata": {},
   "outputs": [
    {
     "data": {
      "application/vnd.jupyter.widget-view+json": {
       "model_id": "0e88434f73244cfaa423337efc552c8a",
       "version_major": 2,
       "version_minor": 0
      },
      "text/plain": [
       "  0%|          | 0/10 [00:00<?, ?it/s]"
      ]
     },
     "metadata": {},
     "output_type": "display_data"
    }
   ],
   "source": [
    "output = client.run(data)"
   ]
  },
  {
   "cell_type": "markdown",
   "metadata": {},
   "source": [
    "### Process the output\n",
    "\n",
    "Let's take a look of the generated output. We need to do a little postprocessing on the raw output."
   ]
  },
  {
   "cell_type": "code",
   "execution_count": 11,
   "metadata": {},
   "outputs": [
    {
     "data": {
      "text/html": [
       "<style type=\"text/css\">\n",
       "#T_0a28b th {\n",
       "  text-align: left;\n",
       "}\n",
       "#T_0a28b_row0_col0, #T_0a28b_row0_col1, #T_0a28b_row1_col0, #T_0a28b_row1_col1, #T_0a28b_row2_col0, #T_0a28b_row2_col1, #T_0a28b_row3_col0, #T_0a28b_row3_col1, #T_0a28b_row4_col0, #T_0a28b_row4_col1, #T_0a28b_row5_col0, #T_0a28b_row5_col1, #T_0a28b_row6_col0, #T_0a28b_row6_col1, #T_0a28b_row7_col0, #T_0a28b_row7_col1, #T_0a28b_row8_col0, #T_0a28b_row8_col1, #T_0a28b_row9_col0, #T_0a28b_row9_col1 {\n",
       "  text-align: left;\n",
       "}\n",
       "</style>\n",
       "<table id=\"T_0a28b\">\n",
       "  <thead>\n",
       "    <tr>\n",
       "      <th class=\"blank level0\" >&nbsp;</th>\n",
       "      <th id=\"T_0a28b_level0_col0\" class=\"col_heading level0 col0\" >Context</th>\n",
       "      <th id=\"T_0a28b_level0_col1\" class=\"col_heading level0 col1\" >Summaries</th>\n",
       "    </tr>\n",
       "  </thead>\n",
       "  <tbody>\n",
       "    <tr>\n",
       "      <th id=\"T_0a28b_level0_row0\" class=\"row_heading level0 row0\" >0</th>\n",
       "      <td id=\"T_0a28b_row0_col0\" class=\"data row0 col0\" >We also offer interactive consumer services and experiences as well as digital products through our digital platforms, including \n",
       "fitness and activity apps; sport, fitness and wellness content; and digital services and features in retail stores that enhance the \n",
       "consumer experience.\n",
       "SALES AND MARKETING\n",
       "We experience moderate fluctuations in aggregate sales volume during the year. Historically, revenues in the first and fourth \n",
       "fiscal quarters have slightly exceeded those in the second and third fiscal quarters.  However, the mix of product sales may vary \n",
       "considerably as a result of changes in seasonal and geographic demand for particular types of footwear , apparel and equipment, \n",
       "as well as other macroeconomic, strategic, operating and logistics-related factors.\n",
       "Because NIKE is a consume</td>\n",
       "      <td id=\"T_0a28b_row0_col1\" class=\"data row0 col1\" >Nike experiences moderate fluctuations in sales volume throughout the year, with higher revenues in the first and fourth fiscal quarters, and varying mix of product sales driven by seasonal and geographic demand as well as other factors.</td>\n",
       "    </tr>\n",
       "    <tr>\n",
       "      <th id=\"T_0a28b_level0_row1\" class=\"row_heading level0 row1\" >1</th>\n",
       "      <td id=\"T_0a28b_row1_col0\" class=\"data row1 col0\" >INTERNATIONAL MARKETS\n",
       "For fiscal 2023, non-U.S. NIKE Brand and Converse sales accounted for approximately 57% of total revenues, compared to 60% \n",
       "and 61% for fiscal 2022 and fiscal 2021, respectively. We sell our products to retail accounts through our own NIKE Direct \n",
       "operations and through a mix of independent distributors, licensees and sales representatives around the world. W e sell to \n",
       "thousands of retail accounts and ship products from 67 distribution centers outside of the United States. Refer to Item 2. \n",
       "Properties for further information on distribution facilities outside of the United States. During fiscal 2023, NIKE's three largest \n",
       "customers outside of the United States accounted for approximately 14% of total non-U.S. sales.\n",
       "In addition to NIKE-owned and Converse-owned digita</td>\n",
       "      <td id=\"T_0a28b_row1_col1\" class=\"data row1 col1\" >In fiscal 2023, non-U.S. NIKE Brand and Converse sales made up 57% of total revenues, down from 60% and 61% in fiscal 2022 and fiscal 2021, with a distribution network that includes thousands of retail accounts and 67 distribution centers outside of the United States.</td>\n",
       "    </tr>\n",
       "    <tr>\n",
       "      <th id=\"T_0a28b_level0_row2\" class=\"row_heading level0 row2\" >2</th>\n",
       "      <td id=\"T_0a28b_row2_col0\" class=\"data row2 col0\" >footwear production. For fiscal 2023, factories in Vietnam, Indonesia and China manufactured approximately 50%, 27% and 18% \n",
       "of total NIKE Brand footwear, respectively. For fiscal 2023, four footwear contract manufacturers each accounted for greater than \n",
       "10% of footwear production and in the aggregate accounted for approximately 58% of NIKE Brand footwear production.\n",
       "As of May 31, 2023, our contract manufacturers operated 291 finished goods apparel factories located in 31 countries. For fiscal \n",
       "2023, NIKE Brand apparel finished goods were manufactured by 55 contract manufacturers, many of which operate multiple \n",
       "factories. The largest single finished goods apparel factory accounted for approximately 8% of total fiscal 2023 NIKE Brand \n",
       "apparel production. For fiscal 2023, factories in Viet</td>\n",
       "      <td id=\"T_0a28b_row2_col1\" class=\"data row2 col1\" >NIKE's footwear and apparel are primarily manufactured in Vietnam, Indonesia, and China, with a handful of contract manufacturers accounting for a significant portion of production.</td>\n",
       "    </tr>\n",
       "    <tr>\n",
       "      <th id=\"T_0a28b_level0_row3\" class=\"row_heading level0 row3\" >3</th>\n",
       "      <td id=\"T_0a28b_row3_col0\" class=\"data row3 col0\" >of total NIKE Brand apparel, respectively. For fiscal 2023, one apparel contract manufacturer accounted for more than 10% of \n",
       "apparel production, and the top five contract manufacturers in the aggregate accounted for approximately 52% of NIKE Brand \n",
       "apparel production.\n",
       "NIKE's contract manufacturers buy raw materials for the manufacturing of our footwear, apparel and equipment products. Most \n",
       "raw materials are available and purchased by those contract manufacturers in the countries where manufacturing takes place. \n",
       "The principal materials used in our footwear products are natural and synthetic rubber , plastic compounds, foam cushioning \n",
       "materials, natural and synthetic leather, nylon, polyester and natural fiber textiles, as well as polyurethane films used to make \n",
       "NIKE Air-Sole cushioning</td>\n",
       "      <td id=\"T_0a28b_row3_col1\" class=\"data row3 col1\" >NIKE relies on contract manufacturers for the production of its apparel and footwear, with a few key manufacturers accounting for significant portions of their production.</td>\n",
       "    </tr>\n",
       "    <tr>\n",
       "      <th id=\"T_0a28b_level0_row4\" class=\"row_heading level0 row4\" >4</th>\n",
       "      <td id=\"T_0a28b_row4_col0\" class=\"data row4 col0\" >We monitor protectionist trends and developments throughout the world that may materially impact our industry, and we engage \n",
       "in administrative and judicial processes to mitigate trade restrictions. W e are actively monitoring actions that may result in \n",
       "additional anti-dumping measures and could affect our industry. We are also monitoring for and advocating against other \n",
       "impediments that may limit or delay customs clearance for imports of footwear , apparel and equipment. NIKE also advocates for \n",
       "trade liberalization for footwear and apparel in a number of bilateral and multilateral free trade agreements. Changes in, and \n",
       "responses to, U.S. trade policies, including the imposition of tariffs or penalties on imported goods or retaliatory measures by \n",
       "other countries, have negatively affec</td>\n",
       "      <td id=\"T_0a28b_row4_col1\" class=\"data row4 col1\" >NIKE is closely monitoring protectionist trends and engaging in processes to mitigate trade restrictions that could impact the industry, advocating for trade liberalization and monitoring U.S. trade policies and their effects on imported goods.</td>\n",
       "    </tr>\n",
       "    <tr>\n",
       "      <th id=\"T_0a28b_level0_row5\" class=\"row_heading level0 row5\" >5</th>\n",
       "      <td id=\"T_0a28b_row5_col0\" class=\"data row5 col0\" >Our international operations are also subject to compliance with the U.S . Foreign Corrupt Practices Act (the \"FCPA\"), and other \n",
       "anti-bribery laws applicable to our operations. We source a significant portion of our products from, and have important consumer \n",
       "markets, outside of the United States. We have an ethics and compliance program to address compliance with the FCPA and \n",
       "similar laws by us, our employees, agents, suppliers and other partners.  Refer to Item 1A. Risk Factors for additional information \n",
       "on risks relating to our international operations.\n",
       "COMPETITION\n",
       "The athletic footwear, apparel and equipment industry is highly competitive on a worldwide basis. We compete internationally with \n",
       "a significant number of athletic and leisure footwear companies, athletic and leisure appar</td>\n",
       "      <td id=\"T_0a28b_row5_col1\" class=\"data row5 col1\" >Our international operations require compliance with the U.S. Foreign Corrupt Practices Act and other anti-bribery laws, and we face significant competition in the global athletic footwear, apparel, and equipment industry.</td>\n",
       "    </tr>\n",
       "    <tr>\n",
       "      <th id=\"T_0a28b_level0_row6\" class=\"row_heading level0 row6\" >6</th>\n",
       "      <td id=\"T_0a28b_row6_col0\" class=\"data row6 col0\" >devices, and related software applications. These patents expire at various times.\n",
       "We believe our success depends upon our capabilities in areas such as design, research and development, production and \n",
       "marketing and is supported and protected by our intellectual property rights, such as trademarks, utility and design patents, \n",
       "copyrights, and trade secrets, among others. \n",
       "We have followed a policy of applying for and registering intellectual property rights in the United States and select foreign \n",
       "countries on trademarks, inventions, innovations and designs that we deem valuable. W e also continue to vigorously protect our \n",
       "intellectual property, including trademarks, patents and trade secrets against third-party infringement and misappropriation.\n",
       "2023 FORM 10-K   5</td>\n",
       "      <td id=\"T_0a28b_row6_col1\" class=\"data row6 col1\" >Intellectual property rights, including trademarks, patents, and trade secrets, are essential for our success and are vigorously protected against infringement and misappropriation.</td>\n",
       "    </tr>\n",
       "    <tr>\n",
       "      <th id=\"T_0a28b_level0_row7\" class=\"row_heading level0 row7\" >7</th>\n",
       "      <td id=\"T_0a28b_row7_col0\" class=\"data row7 col0\" >HUMAN CAPITAL RESOURCES\n",
       "At NIKE, we consider the strength and effective management of our workforce to be essential to the ongoing success of our \n",
       "business. We believe that it is important to attract, develop and retain a diverse and engaged workforce at all levels of our \n",
       "business and that such a workforce fosters creativity and accelerates innovation. W e are focused on building an increasingly \n",
       "diverse talent pipeline that reflects our consumers, athletes and the communities we serve.\n",
       "CULTURE \n",
       "Each employee shapes NIKE's culture through behaviors and practices. This starts with our Maxims, which represent our core \n",
       "values and, along with our Code of Conduct, feature the fundamental behaviors that help anchor , inform and guide us and apply \n",
       "to all employees. Our mission is to bring insp</td>\n",
       "      <td id=\"T_0a28b_row7_col1\" class=\"data row7 col1\" >Nike places a strong emphasis on the strength and effective management of its workforce, aiming to attract, develop, and retain a diverse and engaged workforce, while also focusing on building a diverse talent pipeline that reflects the consumers, athletes, and communities they serve.</td>\n",
       "    </tr>\n",
       "    <tr>\n",
       "      <th id=\"T_0a28b_level0_row8\" class=\"row_heading level0 row8\" >8</th>\n",
       "      <td id=\"T_0a28b_row8_col0\" class=\"data row8 col0\" >information and consultation on certain subsidiary decisions) or by organizations similar to a union. In certain European countries, we are required by local law to enter into, and/or comply with, industry-wide or national collective bargaining agreements. NIKE has never experienced a material interruption of operations due to labor disagreements.\n",
       "DIVERSITY, EQUITY AND INCLUSION\n",
       "Diversity, equity and inclusion (\"DE&I\") is a strategic priority for NIKE and we are committed to having an increasingly diverse team and culture. We aim to foster an inclusive and accessible workplace through recruitment, development and retention of diverse talent with the goal of expanding representation across all dimensions of diversity over the long term. W e remain committed to the targets announced i</td>\n",
       "      <td id=\"T_0a28b_row8_col1\" class=\"data row8 col1\" >NIKE is committed to diversity, equity, and inclusion as a strategic priority, aiming to foster an inclusive and accessible workplace while complying with labor laws and collective bargaining agreements in certain European countries.</td>\n",
       "    </tr>\n",
       "    <tr>\n",
       "      <th id=\"T_0a28b_level0_row9\" class=\"row_heading level0 row9\" >9</th>\n",
       "      <td id=\"T_0a28b_row9_col0\" class=\"data row9 col0\" >Our DE&I focus extends beyond our workforce and includes our communities, which we support in a number of ways. We have \n",
       "committed to investments that aim to address racial inequality and improve diversity and representation in our communities. W e \n",
       "also are leveraging our global scale to accelerate business diversity , including investing in business training programs for women \n",
       "and increasing the proportion of services supplied by minority-owned businesses.\n",
       "COMPENSATION AND BENEFITS \n",
       "NIKE's total rewards are intended to be competitive and equitable, meet the diverse needs of our global teammates and reinforce \n",
       "our values. We are committed to providing comprehensive, competitive and equitable pay and benefits to our employees, and we \n",
       "have invested, and aim to continue to invest, in our e</td>\n",
       "      <td id=\"T_0a28b_row9_col1\" class=\"data row9 col1\" >NIKE is committed to addressing racial inequality, improving diversity and representation, and investing in business training programs for women and minority-owned businesses, while providing comprehensive and equitable compensation and benefits to their employees.</td>\n",
       "    </tr>\n",
       "  </tbody>\n",
       "</table>\n"
      ],
      "text/plain": [
       "<pandas.io.formats.style.Styler at 0x22c4f01a650>"
      ]
     },
     "execution_count": 11,
     "metadata": {},
     "output_type": "execute_result"
    }
   ],
   "source": [
    "# Extracting context, question, and answer into a DataFrame\n",
    "contexts = []\n",
    "summaries = []\n",
    "\n",
    "for item in output:\n",
    "    for i in item.get('output', []):\n",
    "        for response in i.get('response', []):\n",
    "            if any(key not in response for key in ['context', 'summary']):\n",
    "                print(\"Missing context or summary in response:\", response)\n",
    "                continue\n",
    "            contexts.append(response['context'])\n",
    "            summaries.append(response['summary'])\n",
    "\n",
    "# Set display options\n",
    "pd.set_option('display.max_colwidth', None)\n",
    "pd.set_option('display.width', 1000)\n",
    "\n",
    "df = pd.DataFrame({\n",
    "    'Context': contexts,\n",
    "    'Summaries': summaries,\n",
    "})\n",
    "\n",
    "styled_df = df.style.set_properties(**{'text-align': 'left'}).set_table_styles([{\n",
    "    'selector': 'th',\n",
    "    'props': [('text-align', 'left')]\n",
    "}])\n",
    "styled_df"
   ]
  },
  {
   "cell_type": "markdown",
   "metadata": {},
   "source": [
    "Finally, we can save the output to a csv file."
   ]
  },
  {
   "cell_type": "code",
   "execution_count": 12,
   "id": "72a570e6",
   "metadata": {},
   "outputs": [],
   "source": [
    "output_dir = 'data/output'\n",
    "\n",
    "if not os.path.exists(output_dir):\n",
    "    os.makedirs(output_dir)\n",
    "\n",
    "df.to_csv(f\"{output_dir}/Nike_10k_Summaries.csv\", index=False)"
   ]
  }
 ],
 "metadata": {
  "kernelspec": {
   "display_name": "self-instruct-ft",
   "language": "python",
   "name": "python3"
  },
  "language_info": {
   "codemirror_mode": {
    "name": "ipython",
    "version": 3
   },
   "file_extension": ".py",
   "mimetype": "text/x-python",
   "name": "python",
   "nbconvert_exporter": "python",
   "pygments_lexer": "ipython3",
   "version": "3.10.13"
  }
 },
 "nbformat": 4,
 "nbformat_minor": 5
}
